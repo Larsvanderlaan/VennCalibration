{
 "cells": [
  {
   "cell_type": "code",
   "execution_count": 1,
   "id": "ccd3f183-09b2-46cf-af37-6627600de161",
   "metadata": {
    "collapsed": true,
    "jupyter": {
     "outputs_hidden": true,
     "source_hidden": true
    },
    "scrolled": true
   },
   "outputs": [
    {
     "name": "stdout",
     "output_type": "stream",
     "text": [
      "Requirement already satisfied: numpy in /usr/local/Cellar/jupyterlab/4.2.3/libexec/lib/python3.12/site-packages (1.26.4)\n",
      "Collecting numpy\n",
      "  Using cached numpy-2.1.1-cp312-cp312-macosx_14_0_x86_64.whl.metadata (60 kB)\n",
      "Requirement already satisfied: torch in /usr/local/Cellar/jupyterlab/4.2.3/libexec/lib/python3.12/site-packages (2.2.2)\n",
      "Requirement already satisfied: filelock in /usr/local/Cellar/jupyterlab/4.2.3/libexec/lib/python3.12/site-packages (from torch) (3.15.4)\n",
      "Requirement already satisfied: typing-extensions>=4.8.0 in /usr/local/Cellar/jupyterlab/4.2.3/libexec/lib/python3.12/site-packages (from torch) (4.12.2)\n",
      "Requirement already satisfied: sympy in /usr/local/Cellar/jupyterlab/4.2.3/libexec/lib/python3.12/site-packages (from torch) (1.13.2)\n",
      "Requirement already satisfied: networkx in /usr/local/Cellar/jupyterlab/4.2.3/libexec/lib/python3.12/site-packages (from torch) (3.3)\n",
      "Requirement already satisfied: jinja2 in /usr/local/Cellar/jupyterlab/4.2.3/libexec/lib/python3.12/site-packages (from torch) (3.1.4)\n",
      "Requirement already satisfied: fsspec in /usr/local/Cellar/jupyterlab/4.2.3/libexec/lib/python3.12/site-packages (from torch) (2024.6.1)\n",
      "Requirement already satisfied: MarkupSafe>=2.0 in /usr/local/Cellar/jupyterlab/4.2.3/libexec/lib/python3.12/site-packages (from jinja2->torch) (2.1.5)\n",
      "Requirement already satisfied: mpmath<1.4,>=1.1.0 in /usr/local/Cellar/jupyterlab/4.2.3/libexec/lib/python3.12/site-packages (from sympy->torch) (1.3.0)\n",
      "Using cached numpy-2.1.1-cp312-cp312-macosx_14_0_x86_64.whl (6.6 MB)\n",
      "Installing collected packages: numpy\n",
      "  Attempting uninstall: numpy\n",
      "    Found existing installation: numpy 1.26.4\n",
      "    Uninstalling numpy-1.26.4:\n",
      "      Successfully uninstalled numpy-1.26.4\n"
     ]
    },
    {
     "name": "stderr",
     "output_type": "stream",
     "text": [
      "\u001b[31mERROR: pip's dependency resolver does not currently take into account all the packages that are installed. This behaviour is the source of the following dependency conflicts.\n",
      "scipy 1.11.4 requires numpy<1.28.0,>=1.21.6, but you have numpy 2.1.1 which is incompatible.\u001b[0m\u001b[31m\n",
      "\u001b[0m"
     ]
    },
    {
     "name": "stdout",
     "output_type": "stream",
     "text": [
      "Successfully installed numpy-2.1.1\n",
      "Requirement already satisfied: pandas in /usr/local/Cellar/jupyterlab/4.2.3/libexec/lib/python3.12/site-packages (2.2.2)\n",
      "Requirement already satisfied: numpy>=1.26.0 in /usr/local/Cellar/jupyterlab/4.2.3/libexec/lib/python3.12/site-packages (from pandas) (2.1.1)\n",
      "Requirement already satisfied: python-dateutil>=2.8.2 in /usr/local/Cellar/jupyterlab/4.2.3/libexec/lib/python3.12/site-packages (from pandas) (2.9.0.post0)\n",
      "Requirement already satisfied: pytz>=2020.1 in /usr/local/Cellar/jupyterlab/4.2.3/libexec/lib/python3.12/site-packages (from pandas) (2024.1)\n",
      "Requirement already satisfied: tzdata>=2022.7 in /usr/local/Cellar/jupyterlab/4.2.3/libexec/lib/python3.12/site-packages (from pandas) (2024.1)\n",
      "Requirement already satisfied: six>=1.5 in /usr/local/Cellar/jupyterlab/4.2.3/libexec/lib/python3.12/site-packages (from python-dateutil>=2.8.2->pandas) (1.16.0)\n",
      "Requirement already satisfied: scikit-learn in /usr/local/Cellar/jupyterlab/4.2.3/libexec/lib/python3.12/site-packages (1.5.1)\n",
      "Requirement already satisfied: numpy>=1.19.5 in /usr/local/Cellar/jupyterlab/4.2.3/libexec/lib/python3.12/site-packages (from scikit-learn) (2.1.1)\n",
      "Requirement already satisfied: scipy>=1.6.0 in /usr/local/Cellar/jupyterlab/4.2.3/libexec/lib/python3.12/site-packages (from scikit-learn) (1.11.4)\n",
      "Requirement already satisfied: joblib>=1.2.0 in /usr/local/Cellar/jupyterlab/4.2.3/libexec/lib/python3.12/site-packages (from scikit-learn) (1.4.2)\n",
      "Requirement already satisfied: threadpoolctl>=3.1.0 in /usr/local/Cellar/jupyterlab/4.2.3/libexec/lib/python3.12/site-packages (from scikit-learn) (3.5.0)\n",
      "Collecting numpy>=1.19.5 (from scikit-learn)\n",
      "  Using cached numpy-1.26.4-cp312-cp312-macosx_10_9_x86_64.whl.metadata (61 kB)\n",
      "Using cached numpy-1.26.4-cp312-cp312-macosx_10_9_x86_64.whl (20.3 MB)\n",
      "Installing collected packages: numpy\n",
      "  Attempting uninstall: numpy\n",
      "    Found existing installation: numpy 2.1.1\n",
      "    Uninstalling numpy-2.1.1:\n",
      "      Successfully uninstalled numpy-2.1.1\n"
     ]
    },
    {
     "name": "stderr",
     "output_type": "stream",
     "text": [
      "\u001b[31mERROR: pip's dependency resolver does not currently take into account all the packages that are installed. This behaviour is the source of the following dependency conflicts.\n",
      "sklearn-quantile 0.1.0 requires numpy>=2, but you have numpy 1.26.4 which is incompatible.\u001b[0m\u001b[31m\n",
      "\u001b[0m"
     ]
    },
    {
     "name": "stdout",
     "output_type": "stream",
     "text": [
      "Successfully installed numpy-1.26.4\n",
      "Requirement already satisfied: matplotlib in /usr/local/Cellar/jupyterlab/4.2.3/libexec/lib/python3.12/site-packages (3.9.1.post1)\n",
      "Requirement already satisfied: contourpy>=1.0.1 in /usr/local/Cellar/jupyterlab/4.2.3/libexec/lib/python3.12/site-packages (from matplotlib) (1.2.1)\n",
      "Requirement already satisfied: cycler>=0.10 in /usr/local/Cellar/jupyterlab/4.2.3/libexec/lib/python3.12/site-packages (from matplotlib) (0.12.1)\n",
      "Requirement already satisfied: fonttools>=4.22.0 in /usr/local/Cellar/jupyterlab/4.2.3/libexec/lib/python3.12/site-packages (from matplotlib) (4.53.1)\n",
      "Requirement already satisfied: kiwisolver>=1.3.1 in /usr/local/Cellar/jupyterlab/4.2.3/libexec/lib/python3.12/site-packages (from matplotlib) (1.4.5)\n",
      "Requirement already satisfied: numpy>=1.23 in /usr/local/Cellar/jupyterlab/4.2.3/libexec/lib/python3.12/site-packages (from matplotlib) (1.26.4)\n",
      "Requirement already satisfied: packaging>=20.0 in /usr/local/Cellar/jupyterlab/4.2.3/libexec/lib/python3.12/site-packages (from matplotlib) (24.1)\n",
      "Requirement already satisfied: pillow>=8 in /usr/local/Cellar/jupyterlab/4.2.3/libexec/lib/python3.12/site-packages (from matplotlib) (10.4.0)\n",
      "Requirement already satisfied: pyparsing>=2.3.1 in /usr/local/Cellar/jupyterlab/4.2.3/libexec/lib/python3.12/site-packages (from matplotlib) (3.1.2)\n",
      "Requirement already satisfied: python-dateutil>=2.7 in /usr/local/Cellar/jupyterlab/4.2.3/libexec/lib/python3.12/site-packages (from matplotlib) (2.9.0.post0)\n",
      "Requirement already satisfied: six>=1.5 in /usr/local/Cellar/jupyterlab/4.2.3/libexec/lib/python3.12/site-packages (from python-dateutil>=2.7->matplotlib) (1.16.0)\n",
      "Requirement already satisfied: xgboost in /usr/local/lib/python3.12/site-packages (2.1.0)\n",
      "Requirement already satisfied: numpy in /usr/local/Cellar/jupyterlab/4.2.3/libexec/lib/python3.12/site-packages (from xgboost) (1.26.4)\n",
      "Requirement already satisfied: scipy in /usr/local/Cellar/jupyterlab/4.2.3/libexec/lib/python3.12/site-packages (from xgboost) (1.11.4)\n",
      "Requirement already satisfied: statsmodels in /usr/local/Cellar/jupyterlab/4.2.3/libexec/lib/python3.12/site-packages (0.14.2)\n",
      "Requirement already satisfied: numpy>=1.22.3 in /usr/local/Cellar/jupyterlab/4.2.3/libexec/lib/python3.12/site-packages (from statsmodels) (1.26.4)\n",
      "Requirement already satisfied: scipy!=1.9.2,>=1.8 in /usr/local/Cellar/jupyterlab/4.2.3/libexec/lib/python3.12/site-packages (from statsmodels) (1.11.4)\n",
      "Requirement already satisfied: pandas!=2.1.0,>=1.4 in /usr/local/Cellar/jupyterlab/4.2.3/libexec/lib/python3.12/site-packages (from statsmodels) (2.2.2)\n",
      "Requirement already satisfied: patsy>=0.5.6 in /usr/local/Cellar/jupyterlab/4.2.3/libexec/lib/python3.12/site-packages (from statsmodels) (0.5.6)\n",
      "Requirement already satisfied: packaging>=21.3 in /usr/local/Cellar/jupyterlab/4.2.3/libexec/lib/python3.12/site-packages (from statsmodels) (24.1)\n",
      "Requirement already satisfied: python-dateutil>=2.8.2 in /usr/local/Cellar/jupyterlab/4.2.3/libexec/lib/python3.12/site-packages (from pandas!=2.1.0,>=1.4->statsmodels) (2.9.0.post0)\n",
      "Requirement already satisfied: pytz>=2020.1 in /usr/local/Cellar/jupyterlab/4.2.3/libexec/lib/python3.12/site-packages (from pandas!=2.1.0,>=1.4->statsmodels) (2024.1)\n",
      "Requirement already satisfied: tzdata>=2022.7 in /usr/local/Cellar/jupyterlab/4.2.3/libexec/lib/python3.12/site-packages (from pandas!=2.1.0,>=1.4->statsmodels) (2024.1)\n",
      "Requirement already satisfied: six in /usr/local/Cellar/jupyterlab/4.2.3/libexec/lib/python3.12/site-packages (from patsy>=0.5.6->statsmodels) (1.16.0)\n",
      "Requirement already satisfied: cvxpy in /usr/local/Cellar/jupyterlab/4.2.3/libexec/lib/python3.12/site-packages (1.5.2)\n",
      "Requirement already satisfied: osqp>=0.6.2 in /usr/local/Cellar/jupyterlab/4.2.3/libexec/lib/python3.12/site-packages (from cvxpy) (0.6.7.post1)\n",
      "Requirement already satisfied: ecos>=2 in /usr/local/Cellar/jupyterlab/4.2.3/libexec/lib/python3.12/site-packages (from cvxpy) (2.0.14)\n",
      "Requirement already satisfied: clarabel>=0.5.0 in /usr/local/Cellar/jupyterlab/4.2.3/libexec/lib/python3.12/site-packages (from cvxpy) (0.9.0)\n",
      "Requirement already satisfied: scs>=3.2.4.post1 in /usr/local/Cellar/jupyterlab/4.2.3/libexec/lib/python3.12/site-packages (from cvxpy) (3.2.6)\n",
      "Requirement already satisfied: numpy>=1.15 in /usr/local/Cellar/jupyterlab/4.2.3/libexec/lib/python3.12/site-packages (from cvxpy) (1.26.4)\n",
      "Requirement already satisfied: scipy>=1.1.0 in /usr/local/Cellar/jupyterlab/4.2.3/libexec/lib/python3.12/site-packages (from cvxpy) (1.11.4)\n",
      "Requirement already satisfied: qdldl in /usr/local/Cellar/jupyterlab/4.2.3/libexec/lib/python3.12/site-packages (from osqp>=0.6.2->cvxpy) (0.1.7.post4)\n",
      "Requirement already satisfied: Mapie in /usr/local/Cellar/jupyterlab/4.2.3/libexec/lib/python3.12/site-packages (0.8.6)\n",
      "Requirement already satisfied: scikit-learn in /usr/local/Cellar/jupyterlab/4.2.3/libexec/lib/python3.12/site-packages (from Mapie) (1.5.1)\n",
      "Requirement already satisfied: scipy in /usr/local/Cellar/jupyterlab/4.2.3/libexec/lib/python3.12/site-packages (from Mapie) (1.11.4)\n",
      "Requirement already satisfied: numpy>=1.21 in /usr/local/Cellar/jupyterlab/4.2.3/libexec/lib/python3.12/site-packages (from Mapie) (1.26.4)\n",
      "Requirement already satisfied: packaging in /usr/local/Cellar/jupyterlab/4.2.3/libexec/lib/python3.12/site-packages (from Mapie) (24.1)\n",
      "Requirement already satisfied: joblib>=1.2.0 in /usr/local/Cellar/jupyterlab/4.2.3/libexec/lib/python3.12/site-packages (from scikit-learn->Mapie) (1.4.2)\n",
      "Requirement already satisfied: threadpoolctl>=3.1.0 in /usr/local/Cellar/jupyterlab/4.2.3/libexec/lib/python3.12/site-packages (from scikit-learn->Mapie) (3.5.0)\n"
     ]
    }
   ],
   "source": [
    "\n",
    "import subprocess\n",
    "import sys\n",
    " \n",
    "\n",
    "\n",
    "def install(package):\n",
    "    subprocess.check_call([sys.executable, \"-m\", \"pip\", \"install\", package])\n",
    "\n",
    " \n",
    "subprocess.check_call([sys.executable, \"-m\", \"pip\", \"install\", \"--upgrade\", \"numpy\", \"torch\"])\n",
    " \n",
    "install(\"pandas\")\n",
    "install(\"scikit-learn\")\n",
    "install(\"matplotlib\")\n",
    "install(\"xgboost\")\n",
    "install(\"statsmodels\")\n",
    "install(\"cvxpy\")\n",
    "install(\"Mapie\")"
   ]
  },
  {
   "cell_type": "code",
   "execution_count": 20,
   "id": "24066623-7f13-4d9b-b483-327829f1a74e",
   "metadata": {},
   "outputs": [],
   "source": [
    "import xgboost as xgb\n",
    "from sklearn.model_selection import GridSearchCV, train_test_split\n",
    "from sklearn.datasets import make_regression\n",
    "from sklearn.metrics import mean_squared_error\n",
    "import os \n",
    "import matplotlib.pyplot as plt\n",
    "import numpy as np\n",
    "import pandas as pd\n",
    "import math\n",
    "import random\n",
    "from data_analysis.data_analysis_utils import *\n",
    "\n",
    "\n",
    "from data_analysis.datasets.datasets import GetDataset\n",
    "\n",
    "\n",
    "from VennCalibration.VennQuantilePredictor import *\n",
    "from VennCalibration.quantile_regression import *\n",
    "from VennCalibration.CQR import *\n",
    "\n",
    "\n",
    "def prepare_data(data_name, base_path, random_state=3, p_train=0.5, p_cal=0.3, log_transform_y = False):\n",
    "    \"\"\"\n",
    "    Load data, preprocess features, and split into train, calibration, and test sets.\n",
    "\n",
    "    Parameters:\n",
    "    - filepath (str): Path to the CSV file containing the data.\n",
    "    - random_state (int): Seed used by the random number generator for reproducibility.\n",
    "    - p_train (float): Proportion of data to be used for training.\n",
    "    - p_cal (float): Proportion of data to be used for calibration.\n",
    "    - p_test (float): Proportion of data to be used for testing.\n",
    "    - response_column (str): Name of the column to be used as the response variable.\n",
    "\n",
    "    Returns:\n",
    "    - X_train (np.ndarray): Features for the training set.\n",
    "    - y_train (np.ndarray): Response for the training set.\n",
    "    - X_cal (np.ndarray): Features for the calibration set.\n",
    "    - y_cal (np.ndarray): Response for the calibration set.\n",
    "    - X_test (np.ndarray): Features for the test set.\n",
    "    - y_test (np.ndarray): Response for the test set.\n",
    "    \"\"\"\n",
    "\n",
    "    p_test= 1 - p_train -p_cal\n",
    "    # Load data\n",
    "    X,y = GetDataset(data_name , base_path)\n",
    "    y = np.array(y).reshape(-1)\n",
    "\n",
    "\n",
    "    if log_transform_y:\n",
    "      y = np.log(1 + y)\n",
    "\n",
    "    # Split data into train, calibration, and test sets\n",
    "    X_train, X_test, y_train, y_test = train_test_split(X, y, test_size=1 - p_train, random_state=random_state)\n",
    "    X_cal, X_test, y_cal, y_test = train_test_split(X_test, y_test, test_size=p_test / (p_cal + p_test), random_state=random_state)\n",
    "\n",
    "    return X_train, y_train, X_cal, y_cal, X_test, y_test\n",
    "\n",
    "\n",
    "\n",
    "\n",
    "\n",
    "def run_conformal_analysis(data_name, base_path, random_state=10, p_train=0.5, p_cal=0.3, alpha = 0.1, log_transform_y = False):\n",
    "\n",
    "    # Import external utilities (make sure this module is available in your path)\n",
    "\n",
    "\n",
    "\n",
    "    X_train, y_train, X_cal, y_cal, X_test, y_test = prepare_data(data_name, \n",
    "                                                                  base_path,\n",
    "        random_state=random_state,\n",
    "        p_train=p_train, p_cal=p_cal,\n",
    "        log_transform_y=log_transform_y)\n",
    "\n",
    "\n",
    "\n",
    "    # venn prediction\n",
    "    predictor_venn, VQP = conformal_venn_prediction(X_train, y_train, X_cal, y_cal, alpha = alpha, return_model = True)\n",
    "    y_median_venn, interval_venn, threshold_venn = predictor_venn(X_test)\n",
    "    quantile_uncalibrated = VQP.predict_score_quantile(X_test, calibrate=False)\n",
    "    quantile_uncalibrated_cal = VQP.predict_score_quantile(X_cal, calibrate=False)\n",
    "\n",
    "    interval_uncalibrated = np.vstack([y_median_venn - quantile_uncalibrated, y_median_venn + quantile_uncalibrated]).T\n",
    "\n",
    "    y_median_cal, _, _ = predictor_venn(X_cal)\n",
    "    \n",
    "\n",
    "    def CQR_symmetric(quantile_uncalibrated_cal, y_median_cal, y_cal, alpha):\n",
    "        n = len(y_cal)  # Number of calibration samples\n",
    "        # Adjust alpha for finite sample size\n",
    "        print(alpha)\n",
    "        alpha_adjusted = alpha * (1 + 1 / n)\n",
    "        # Compute the adjustment term\n",
    "        adjustments = np.abs(y_median_cal - y_cal) - quantile_uncalibrated_cal\n",
    "        adjustment_term = np.quantile(adjustments, 1 - alpha_adjusted)\n",
    "        print(np.mean(quantile_uncalibrated_cal + adjustment_term <= np.abs(y_median_cal - y_cal)))\n",
    "        return adjustment_term\n",
    "    adjustment_term = CQR_symmetric(quantile_uncalibrated_cal, y_median_cal, y_cal, alpha)\n",
    "    interval_cqr_symmetric = np.vstack([y_median_venn - quantile_uncalibrated - adjustment_term, y_median_venn + quantile_uncalibrated + adjustment_term]).T\n",
    " \n",
    "\n",
    "    # Mondrian venn prediction with 10 bins\n",
    "    predictor_mondrian = conformal_venn_prediction(X_train, y_train, X_cal, y_cal, alpha = alpha, quantile_calibrator = quantile_calibrator_histogram, calibrator_params = {\"num_bin\" : 5})\n",
    "    _, interval_mondrian_5, _ = predictor_mondrian(X_test)\n",
    "\n",
    "    predictor_mondrian = conformal_venn_prediction(X_train, y_train, X_cal, y_cal, alpha = alpha, quantile_calibrator = quantile_calibrator_histogram, calibrator_params = {\"num_bin\" : 10})\n",
    "    _, interval_mondrian_10, _ = predictor_mondrian(X_test)\n",
    "    \n",
    "    # CQR baseline\n",
    "    predictor_cqr = CQR(X_train, y_train, X_cal, y_cal, alpha = alpha)\n",
    "    _, interval_cqr = predictor_cqr(X_test) \n",
    "\n",
    "\n",
    "    # Compute unconditional CP\n",
    "    predictor_marginal = conformal_venn_prediction(X_train, y_train, X_cal, y_cal, alpha = alpha, quantile_calibrator = quantile_calibrator_histogram, calibrator_params = {\"num_bin\" : 1})\n",
    "    _, intervals_uncond, _ = predictor_marginal(X_test)\n",
    "\n",
    " \n",
    "    results = {\n",
    "        \"Method\": [],\n",
    "        \"Coverage (marginal)\": [],\n",
    "        \"Average Width\": [],\n",
    "        \"Calibration Error\": [],\n",
    "        \"coverage_by_bin\": [],\n",
    "        \"weights_by_bin\": []\n",
    "    }\n",
    "    names = [\"Uncalibrated\", \"Venn-Abers\",  \"Marginal\", \"CQR (symmetric)\", \"CQR\", \"Venn-Mondrian (5 bins)\", \"Venn-Mondrian (10 bins)\"]\n",
    "    methods = [interval_uncalibrated, interval_venn, intervals_uncond, interval_cqr_symmetric, interval_cqr, interval_mondrian_5, interval_mondrian_10]\n",
    "\n",
    "    for method, name in zip(methods, names):\n",
    "\n",
    "        # marginal coverage\n",
    "        marginal_coverage, width = compute_coverage(method, y_test, boolean=None)\n",
    "        \n",
    "        # coverage by bin\n",
    "        coverage_info_by_bin = calculate_coverage_in_bins(threshold_venn, method, y_test)\n",
    "        bin_ids = np.array([item[0] for item in coverage_info_by_bin]).reshape(-1)\n",
    "        weights_by_bin = np.mean([np.mean(threshold_venn == bin_id)  for bin_id in bin_ids])\n",
    "        weights_by_bin = weights_by_bin / np.mean(weights_by_bin)\n",
    "        coverage_by_bin = np.array([item[2] for item in coverage_info_by_bin]).reshape(-1)\n",
    "        calibration_error = np.mean(weights_by_bin * (np.maximum((1 - alpha) - coverage_by_bin, 0) )) \n",
    "        \n",
    "        results[\"Method\"].append(name)\n",
    "        results[\"Coverage (marginal)\"].append(np.mean(marginal_coverage))\n",
    "        results[\"Average Width\"].append(np.mean(width))\n",
    "        results[\"Calibration Error\"].append(np.mean(calibration_error))\n",
    "        results[\"coverage_by_bin\"].append(coverage_info_by_bin)\n",
    "        results[\"weights_by_bin\"].append(weights_by_bin)\n",
    "\n",
    "    df = pd.DataFrame(results)\n",
    "    df = df.map(lambda x: float(f\"{x:.3g}\") if isinstance(x, (int, float)) else x)\n",
    "    df = df.map(lambda x: f'{x:g}' if isinstance(x, (int, float)) else x)\n",
    "\n",
    "    return df\n",
    "    \n",
    "    # Output the table in LaTeX format\n",
    "     \n",
    "    #print(df.to_latex(index=False))\n",
    "\n",
    "    \n",
    " "
   ]
  },
  {
   "cell_type": "code",
   "execution_count": 21,
   "id": "326c487a-f755-4a8e-9017-83e67d9e8223",
   "metadata": {
    "scrolled": true
   },
   "outputs": [
    {
     "name": "stdout",
     "output_type": "stream",
     "text": [
      "0.1\n",
      "0.1001531393568147\n"
     ]
    },
    {
     "name": "stderr",
     "output_type": "stream",
     "text": [
      "/Users/larsvanderlaan/repos/VennCalibration/myenv2/lib/python3.13/site-packages/mapie/utils.py:620: UserWarning: WARNING: The predictions are ill-sorted.\n",
      "  warnings.warn(\n",
      "/Users/larsvanderlaan/repos/VennCalibration/myenv2/lib/python3.13/site-packages/mapie/utils.py:620: UserWarning: WARNING: The predictions are ill-sorted.\n",
      "  warnings.warn(\n"
     ]
    },
    {
     "name": "stdout",
     "output_type": "stream",
     "text": [
      "0.1\n",
      "0.1001531393568147\n"
     ]
    },
    {
     "name": "stderr",
     "output_type": "stream",
     "text": [
      "/Users/larsvanderlaan/repos/VennCalibration/myenv2/lib/python3.13/site-packages/mapie/utils.py:620: UserWarning: WARNING: The predictions are ill-sorted.\n",
      "  warnings.warn(\n",
      "/Users/larsvanderlaan/repos/VennCalibration/myenv2/lib/python3.13/site-packages/mapie/utils.py:620: UserWarning: WARNING: The predictions are ill-sorted.\n",
      "  warnings.warn(\n"
     ]
    },
    {
     "name": "stdout",
     "output_type": "stream",
     "text": [
      "0.1\n",
      "0.1001531393568147\n"
     ]
    },
    {
     "name": "stderr",
     "output_type": "stream",
     "text": [
      "/Users/larsvanderlaan/repos/VennCalibration/myenv2/lib/python3.13/site-packages/mapie/utils.py:620: UserWarning: WARNING: The predictions are ill-sorted.\n",
      "  warnings.warn(\n",
      "/Users/larsvanderlaan/repos/VennCalibration/myenv2/lib/python3.13/site-packages/mapie/utils.py:620: UserWarning: WARNING: The predictions are ill-sorted.\n",
      "  warnings.warn(\n"
     ]
    },
    {
     "name": "stdout",
     "output_type": "stream",
     "text": [
      "0.1\n",
      "0.1001531393568147\n"
     ]
    },
    {
     "name": "stderr",
     "output_type": "stream",
     "text": [
      "/Users/larsvanderlaan/repos/VennCalibration/myenv2/lib/python3.13/site-packages/mapie/utils.py:620: UserWarning: WARNING: The predictions are ill-sorted.\n",
      "  warnings.warn(\n",
      "/Users/larsvanderlaan/repos/VennCalibration/myenv2/lib/python3.13/site-packages/mapie/utils.py:620: UserWarning: WARNING: The predictions are ill-sorted.\n",
      "  warnings.warn(\n"
     ]
    },
    {
     "name": "stdout",
     "output_type": "stream",
     "text": [
      "0.1\n",
      "0.1001531393568147\n"
     ]
    },
    {
     "name": "stderr",
     "output_type": "stream",
     "text": [
      "/Users/larsvanderlaan/repos/VennCalibration/myenv2/lib/python3.13/site-packages/mapie/utils.py:620: UserWarning: WARNING: The predictions are ill-sorted.\n",
      "  warnings.warn(\n",
      "/Users/larsvanderlaan/repos/VennCalibration/myenv2/lib/python3.13/site-packages/mapie/utils.py:620: UserWarning: WARNING: The predictions are ill-sorted.\n",
      "  warnings.warn(\n"
     ]
    },
    {
     "name": "stdout",
     "output_type": "stream",
     "text": [
      "0.1\n",
      "0.1001531393568147\n"
     ]
    },
    {
     "name": "stderr",
     "output_type": "stream",
     "text": [
      "/Users/larsvanderlaan/repos/VennCalibration/myenv2/lib/python3.13/site-packages/mapie/utils.py:620: UserWarning: WARNING: The predictions are ill-sorted.\n",
      "  warnings.warn(\n",
      "/Users/larsvanderlaan/repos/VennCalibration/myenv2/lib/python3.13/site-packages/mapie/utils.py:620: UserWarning: WARNING: The predictions are ill-sorted.\n",
      "  warnings.warn(\n"
     ]
    },
    {
     "name": "stdout",
     "output_type": "stream",
     "text": [
      "0.1\n",
      "0.1001531393568147\n"
     ]
    },
    {
     "name": "stderr",
     "output_type": "stream",
     "text": [
      "/Users/larsvanderlaan/repos/VennCalibration/myenv2/lib/python3.13/site-packages/mapie/utils.py:620: UserWarning: WARNING: The predictions are ill-sorted.\n",
      "  warnings.warn(\n",
      "/Users/larsvanderlaan/repos/VennCalibration/myenv2/lib/python3.13/site-packages/mapie/utils.py:620: UserWarning: WARNING: The predictions are ill-sorted.\n",
      "  warnings.warn(\n"
     ]
    },
    {
     "name": "stdout",
     "output_type": "stream",
     "text": [
      "0.1\n",
      "0.1001531393568147\n"
     ]
    },
    {
     "name": "stderr",
     "output_type": "stream",
     "text": [
      "/Users/larsvanderlaan/repos/VennCalibration/myenv2/lib/python3.13/site-packages/mapie/utils.py:620: UserWarning: WARNING: The predictions are ill-sorted.\n",
      "  warnings.warn(\n",
      "/Users/larsvanderlaan/repos/VennCalibration/myenv2/lib/python3.13/site-packages/mapie/utils.py:620: UserWarning: WARNING: The predictions are ill-sorted.\n",
      "  warnings.warn(\n"
     ]
    },
    {
     "name": "stdout",
     "output_type": "stream",
     "text": [
      "0.1\n",
      "0.1001531393568147\n"
     ]
    },
    {
     "name": "stderr",
     "output_type": "stream",
     "text": [
      "/Users/larsvanderlaan/repos/VennCalibration/myenv2/lib/python3.13/site-packages/mapie/utils.py:620: UserWarning: WARNING: The predictions are ill-sorted.\n",
      "  warnings.warn(\n",
      "/Users/larsvanderlaan/repos/VennCalibration/myenv2/lib/python3.13/site-packages/mapie/utils.py:620: UserWarning: WARNING: The predictions are ill-sorted.\n",
      "  warnings.warn(\n"
     ]
    },
    {
     "name": "stdout",
     "output_type": "stream",
     "text": [
      "0.1\n",
      "0.1001531393568147\n"
     ]
    },
    {
     "name": "stderr",
     "output_type": "stream",
     "text": [
      "/Users/larsvanderlaan/repos/VennCalibration/myenv2/lib/python3.13/site-packages/mapie/utils.py:620: UserWarning: WARNING: The predictions are ill-sorted.\n",
      "  warnings.warn(\n",
      "/Users/larsvanderlaan/repos/VennCalibration/myenv2/lib/python3.13/site-packages/mapie/utils.py:620: UserWarning: WARNING: The predictions are ill-sorted.\n",
      "  warnings.warn(\n"
     ]
    },
    {
     "name": "stdout",
     "output_type": "stream",
     "text": [
      "0.1\n",
      "0.1001531393568147\n"
     ]
    },
    {
     "name": "stderr",
     "output_type": "stream",
     "text": [
      "/Users/larsvanderlaan/repos/VennCalibration/myenv2/lib/python3.13/site-packages/mapie/utils.py:620: UserWarning: WARNING: The predictions are ill-sorted.\n",
      "  warnings.warn(\n",
      "/Users/larsvanderlaan/repos/VennCalibration/myenv2/lib/python3.13/site-packages/mapie/utils.py:620: UserWarning: WARNING: The predictions are ill-sorted.\n",
      "  warnings.warn(\n"
     ]
    },
    {
     "name": "stdout",
     "output_type": "stream",
     "text": [
      "0.1\n",
      "0.1001531393568147\n"
     ]
    },
    {
     "name": "stderr",
     "output_type": "stream",
     "text": [
      "/Users/larsvanderlaan/repos/VennCalibration/myenv2/lib/python3.13/site-packages/mapie/utils.py:620: UserWarning: WARNING: The predictions are ill-sorted.\n",
      "  warnings.warn(\n",
      "/Users/larsvanderlaan/repos/VennCalibration/myenv2/lib/python3.13/site-packages/mapie/utils.py:620: UserWarning: WARNING: The predictions are ill-sorted.\n",
      "  warnings.warn(\n"
     ]
    },
    {
     "name": "stdout",
     "output_type": "stream",
     "text": [
      "0.1\n",
      "0.1001531393568147\n"
     ]
    },
    {
     "name": "stderr",
     "output_type": "stream",
     "text": [
      "/Users/larsvanderlaan/repos/VennCalibration/myenv2/lib/python3.13/site-packages/mapie/utils.py:620: UserWarning: WARNING: The predictions are ill-sorted.\n",
      "  warnings.warn(\n",
      "/Users/larsvanderlaan/repos/VennCalibration/myenv2/lib/python3.13/site-packages/mapie/utils.py:620: UserWarning: WARNING: The predictions are ill-sorted.\n",
      "  warnings.warn(\n"
     ]
    },
    {
     "name": "stdout",
     "output_type": "stream",
     "text": [
      "0.1\n",
      "0.1001531393568147\n"
     ]
    },
    {
     "name": "stderr",
     "output_type": "stream",
     "text": [
      "/Users/larsvanderlaan/repos/VennCalibration/myenv2/lib/python3.13/site-packages/mapie/utils.py:620: UserWarning: WARNING: The predictions are ill-sorted.\n",
      "  warnings.warn(\n",
      "/Users/larsvanderlaan/repos/VennCalibration/myenv2/lib/python3.13/site-packages/mapie/utils.py:620: UserWarning: WARNING: The predictions are ill-sorted.\n",
      "  warnings.warn(\n"
     ]
    },
    {
     "name": "stdout",
     "output_type": "stream",
     "text": [
      "0.1\n",
      "0.1001531393568147\n"
     ]
    },
    {
     "name": "stderr",
     "output_type": "stream",
     "text": [
      "/Users/larsvanderlaan/repos/VennCalibration/myenv2/lib/python3.13/site-packages/mapie/utils.py:620: UserWarning: WARNING: The predictions are ill-sorted.\n",
      "  warnings.warn(\n",
      "/Users/larsvanderlaan/repos/VennCalibration/myenv2/lib/python3.13/site-packages/mapie/utils.py:620: UserWarning: WARNING: The predictions are ill-sorted.\n",
      "  warnings.warn(\n"
     ]
    },
    {
     "name": "stdout",
     "output_type": "stream",
     "text": [
      "0.1\n",
      "0.1001531393568147\n"
     ]
    },
    {
     "name": "stderr",
     "output_type": "stream",
     "text": [
      "/Users/larsvanderlaan/repos/VennCalibration/myenv2/lib/python3.13/site-packages/mapie/utils.py:620: UserWarning: WARNING: The predictions are ill-sorted.\n",
      "  warnings.warn(\n",
      "/Users/larsvanderlaan/repos/VennCalibration/myenv2/lib/python3.13/site-packages/mapie/utils.py:620: UserWarning: WARNING: The predictions are ill-sorted.\n",
      "  warnings.warn(\n"
     ]
    },
    {
     "name": "stdout",
     "output_type": "stream",
     "text": [
      "0.1\n",
      "0.1001531393568147\n"
     ]
    },
    {
     "name": "stderr",
     "output_type": "stream",
     "text": [
      "/Users/larsvanderlaan/repos/VennCalibration/myenv2/lib/python3.13/site-packages/mapie/utils.py:620: UserWarning: WARNING: The predictions are ill-sorted.\n",
      "  warnings.warn(\n",
      "/Users/larsvanderlaan/repos/VennCalibration/myenv2/lib/python3.13/site-packages/mapie/utils.py:620: UserWarning: WARNING: The predictions are ill-sorted.\n",
      "  warnings.warn(\n"
     ]
    },
    {
     "name": "stdout",
     "output_type": "stream",
     "text": [
      "0.1\n",
      "0.1001531393568147\n"
     ]
    },
    {
     "name": "stderr",
     "output_type": "stream",
     "text": [
      "/Users/larsvanderlaan/repos/VennCalibration/myenv2/lib/python3.13/site-packages/mapie/utils.py:620: UserWarning: WARNING: The predictions are ill-sorted.\n",
      "  warnings.warn(\n",
      "/Users/larsvanderlaan/repos/VennCalibration/myenv2/lib/python3.13/site-packages/mapie/utils.py:620: UserWarning: WARNING: The predictions are ill-sorted.\n",
      "  warnings.warn(\n"
     ]
    },
    {
     "name": "stdout",
     "output_type": "stream",
     "text": [
      "0.1\n",
      "0.1001531393568147\n"
     ]
    },
    {
     "name": "stderr",
     "output_type": "stream",
     "text": [
      "/Users/larsvanderlaan/repos/VennCalibration/myenv2/lib/python3.13/site-packages/mapie/utils.py:620: UserWarning: WARNING: The predictions are ill-sorted.\n",
      "  warnings.warn(\n",
      "/Users/larsvanderlaan/repos/VennCalibration/myenv2/lib/python3.13/site-packages/mapie/utils.py:620: UserWarning: WARNING: The predictions are ill-sorted.\n",
      "  warnings.warn(\n"
     ]
    },
    {
     "name": "stdout",
     "output_type": "stream",
     "text": [
      "0.1\n",
      "0.1001531393568147\n"
     ]
    },
    {
     "name": "stderr",
     "output_type": "stream",
     "text": [
      "/Users/larsvanderlaan/repos/VennCalibration/myenv2/lib/python3.13/site-packages/mapie/utils.py:620: UserWarning: WARNING: The predictions are ill-sorted.\n",
      "  warnings.warn(\n",
      "/Users/larsvanderlaan/repos/VennCalibration/myenv2/lib/python3.13/site-packages/mapie/utils.py:620: UserWarning: WARNING: The predictions are ill-sorted.\n",
      "  warnings.warn(\n"
     ]
    },
    {
     "name": "stdout",
     "output_type": "stream",
     "text": [
      "0.1\n",
      "0.1001531393568147\n"
     ]
    },
    {
     "name": "stderr",
     "output_type": "stream",
     "text": [
      "/Users/larsvanderlaan/repos/VennCalibration/myenv2/lib/python3.13/site-packages/mapie/utils.py:620: UserWarning: WARNING: The predictions are ill-sorted.\n",
      "  warnings.warn(\n",
      "/Users/larsvanderlaan/repos/VennCalibration/myenv2/lib/python3.13/site-packages/mapie/utils.py:620: UserWarning: WARNING: The predictions are ill-sorted.\n",
      "  warnings.warn(\n"
     ]
    },
    {
     "name": "stdout",
     "output_type": "stream",
     "text": [
      "0.1\n",
      "0.1001531393568147\n"
     ]
    },
    {
     "name": "stderr",
     "output_type": "stream",
     "text": [
      "/Users/larsvanderlaan/repos/VennCalibration/myenv2/lib/python3.13/site-packages/mapie/utils.py:620: UserWarning: WARNING: The predictions are ill-sorted.\n",
      "  warnings.warn(\n",
      "/Users/larsvanderlaan/repos/VennCalibration/myenv2/lib/python3.13/site-packages/mapie/utils.py:620: UserWarning: WARNING: The predictions are ill-sorted.\n",
      "  warnings.warn(\n"
     ]
    },
    {
     "name": "stdout",
     "output_type": "stream",
     "text": [
      "0.1\n",
      "0.1001531393568147\n"
     ]
    },
    {
     "name": "stderr",
     "output_type": "stream",
     "text": [
      "/Users/larsvanderlaan/repos/VennCalibration/myenv2/lib/python3.13/site-packages/mapie/utils.py:620: UserWarning: WARNING: The predictions are ill-sorted.\n",
      "  warnings.warn(\n",
      "/Users/larsvanderlaan/repos/VennCalibration/myenv2/lib/python3.13/site-packages/mapie/utils.py:620: UserWarning: WARNING: The predictions are ill-sorted.\n",
      "  warnings.warn(\n"
     ]
    },
    {
     "name": "stdout",
     "output_type": "stream",
     "text": [
      "0.1\n",
      "0.1001531393568147\n"
     ]
    },
    {
     "name": "stderr",
     "output_type": "stream",
     "text": [
      "/Users/larsvanderlaan/repos/VennCalibration/myenv2/lib/python3.13/site-packages/mapie/utils.py:620: UserWarning: WARNING: The predictions are ill-sorted.\n",
      "  warnings.warn(\n",
      "/Users/larsvanderlaan/repos/VennCalibration/myenv2/lib/python3.13/site-packages/mapie/utils.py:620: UserWarning: WARNING: The predictions are ill-sorted.\n",
      "  warnings.warn(\n"
     ]
    },
    {
     "name": "stdout",
     "output_type": "stream",
     "text": [
      "0.1\n",
      "0.1001531393568147\n"
     ]
    },
    {
     "name": "stderr",
     "output_type": "stream",
     "text": [
      "/Users/larsvanderlaan/repos/VennCalibration/myenv2/lib/python3.13/site-packages/mapie/utils.py:620: UserWarning: WARNING: The predictions are ill-sorted.\n",
      "  warnings.warn(\n",
      "/Users/larsvanderlaan/repos/VennCalibration/myenv2/lib/python3.13/site-packages/mapie/utils.py:620: UserWarning: WARNING: The predictions are ill-sorted.\n",
      "  warnings.warn(\n"
     ]
    },
    {
     "name": "stdout",
     "output_type": "stream",
     "text": [
      "0.1\n",
      "0.1001531393568147\n"
     ]
    },
    {
     "name": "stderr",
     "output_type": "stream",
     "text": [
      "/Users/larsvanderlaan/repos/VennCalibration/myenv2/lib/python3.13/site-packages/mapie/utils.py:620: UserWarning: WARNING: The predictions are ill-sorted.\n",
      "  warnings.warn(\n",
      "/Users/larsvanderlaan/repos/VennCalibration/myenv2/lib/python3.13/site-packages/mapie/utils.py:620: UserWarning: WARNING: The predictions are ill-sorted.\n",
      "  warnings.warn(\n"
     ]
    },
    {
     "name": "stdout",
     "output_type": "stream",
     "text": [
      "0.1\n",
      "0.1001531393568147\n"
     ]
    },
    {
     "name": "stderr",
     "output_type": "stream",
     "text": [
      "/Users/larsvanderlaan/repos/VennCalibration/myenv2/lib/python3.13/site-packages/mapie/utils.py:620: UserWarning: WARNING: The predictions are ill-sorted.\n",
      "  warnings.warn(\n",
      "/Users/larsvanderlaan/repos/VennCalibration/myenv2/lib/python3.13/site-packages/mapie/utils.py:620: UserWarning: WARNING: The predictions are ill-sorted.\n",
      "  warnings.warn(\n"
     ]
    },
    {
     "name": "stdout",
     "output_type": "stream",
     "text": [
      "0.1\n",
      "0.1001531393568147\n"
     ]
    },
    {
     "name": "stderr",
     "output_type": "stream",
     "text": [
      "/Users/larsvanderlaan/repos/VennCalibration/myenv2/lib/python3.13/site-packages/mapie/utils.py:620: UserWarning: WARNING: The predictions are ill-sorted.\n",
      "  warnings.warn(\n",
      "/Users/larsvanderlaan/repos/VennCalibration/myenv2/lib/python3.13/site-packages/mapie/utils.py:620: UserWarning: WARNING: The predictions are ill-sorted.\n",
      "  warnings.warn(\n"
     ]
    },
    {
     "name": "stdout",
     "output_type": "stream",
     "text": [
      "0.1\n",
      "0.1001531393568147\n"
     ]
    },
    {
     "name": "stderr",
     "output_type": "stream",
     "text": [
      "/Users/larsvanderlaan/repos/VennCalibration/myenv2/lib/python3.13/site-packages/mapie/utils.py:620: UserWarning: WARNING: The predictions are ill-sorted.\n",
      "  warnings.warn(\n",
      "/Users/larsvanderlaan/repos/VennCalibration/myenv2/lib/python3.13/site-packages/mapie/utils.py:620: UserWarning: WARNING: The predictions are ill-sorted.\n",
      "  warnings.warn(\n"
     ]
    },
    {
     "name": "stdout",
     "output_type": "stream",
     "text": [
      "0.1\n",
      "0.1001531393568147\n"
     ]
    },
    {
     "name": "stderr",
     "output_type": "stream",
     "text": [
      "/Users/larsvanderlaan/repos/VennCalibration/myenv2/lib/python3.13/site-packages/mapie/utils.py:620: UserWarning: WARNING: The predictions are ill-sorted.\n",
      "  warnings.warn(\n",
      "/Users/larsvanderlaan/repos/VennCalibration/myenv2/lib/python3.13/site-packages/mapie/utils.py:620: UserWarning: WARNING: The predictions are ill-sorted.\n",
      "  warnings.warn(\n"
     ]
    },
    {
     "name": "stdout",
     "output_type": "stream",
     "text": [
      "0.1\n",
      "0.1001531393568147\n"
     ]
    },
    {
     "name": "stderr",
     "output_type": "stream",
     "text": [
      "/Users/larsvanderlaan/repos/VennCalibration/myenv2/lib/python3.13/site-packages/mapie/utils.py:620: UserWarning: WARNING: The predictions are ill-sorted.\n",
      "  warnings.warn(\n",
      "/Users/larsvanderlaan/repos/VennCalibration/myenv2/lib/python3.13/site-packages/mapie/utils.py:620: UserWarning: WARNING: The predictions are ill-sorted.\n",
      "  warnings.warn(\n"
     ]
    },
    {
     "name": "stdout",
     "output_type": "stream",
     "text": [
      "0.1\n",
      "0.1001531393568147\n"
     ]
    },
    {
     "name": "stderr",
     "output_type": "stream",
     "text": [
      "/Users/larsvanderlaan/repos/VennCalibration/myenv2/lib/python3.13/site-packages/mapie/utils.py:620: UserWarning: WARNING: The predictions are ill-sorted.\n",
      "  warnings.warn(\n",
      "/Users/larsvanderlaan/repos/VennCalibration/myenv2/lib/python3.13/site-packages/mapie/utils.py:620: UserWarning: WARNING: The predictions are ill-sorted.\n",
      "  warnings.warn(\n"
     ]
    },
    {
     "name": "stdout",
     "output_type": "stream",
     "text": [
      "0.1\n",
      "0.1001531393568147\n"
     ]
    },
    {
     "name": "stderr",
     "output_type": "stream",
     "text": [
      "/Users/larsvanderlaan/repos/VennCalibration/myenv2/lib/python3.13/site-packages/mapie/utils.py:620: UserWarning: WARNING: The predictions are ill-sorted.\n",
      "  warnings.warn(\n",
      "/Users/larsvanderlaan/repos/VennCalibration/myenv2/lib/python3.13/site-packages/mapie/utils.py:620: UserWarning: WARNING: The predictions are ill-sorted.\n",
      "  warnings.warn(\n"
     ]
    },
    {
     "name": "stdout",
     "output_type": "stream",
     "text": [
      "0.1\n",
      "0.1001531393568147\n"
     ]
    },
    {
     "name": "stderr",
     "output_type": "stream",
     "text": [
      "/Users/larsvanderlaan/repos/VennCalibration/myenv2/lib/python3.13/site-packages/mapie/utils.py:620: UserWarning: WARNING: The predictions are ill-sorted.\n",
      "  warnings.warn(\n",
      "/Users/larsvanderlaan/repos/VennCalibration/myenv2/lib/python3.13/site-packages/mapie/utils.py:620: UserWarning: WARNING: The predictions are ill-sorted.\n",
      "  warnings.warn(\n"
     ]
    },
    {
     "name": "stdout",
     "output_type": "stream",
     "text": [
      "0.1\n",
      "0.1001531393568147\n"
     ]
    },
    {
     "name": "stderr",
     "output_type": "stream",
     "text": [
      "/Users/larsvanderlaan/repos/VennCalibration/myenv2/lib/python3.13/site-packages/mapie/utils.py:620: UserWarning: WARNING: The predictions are ill-sorted.\n",
      "  warnings.warn(\n",
      "/Users/larsvanderlaan/repos/VennCalibration/myenv2/lib/python3.13/site-packages/mapie/utils.py:620: UserWarning: WARNING: The predictions are ill-sorted.\n",
      "  warnings.warn(\n"
     ]
    },
    {
     "name": "stdout",
     "output_type": "stream",
     "text": [
      "0.1\n",
      "0.1001531393568147\n"
     ]
    },
    {
     "name": "stderr",
     "output_type": "stream",
     "text": [
      "/Users/larsvanderlaan/repos/VennCalibration/myenv2/lib/python3.13/site-packages/mapie/utils.py:620: UserWarning: WARNING: The predictions are ill-sorted.\n",
      "  warnings.warn(\n",
      "/Users/larsvanderlaan/repos/VennCalibration/myenv2/lib/python3.13/site-packages/mapie/utils.py:620: UserWarning: WARNING: The predictions are ill-sorted.\n",
      "  warnings.warn(\n"
     ]
    },
    {
     "name": "stdout",
     "output_type": "stream",
     "text": [
      "0.1\n",
      "0.1001531393568147\n"
     ]
    },
    {
     "name": "stderr",
     "output_type": "stream",
     "text": [
      "/Users/larsvanderlaan/repos/VennCalibration/myenv2/lib/python3.13/site-packages/mapie/utils.py:620: UserWarning: WARNING: The predictions are ill-sorted.\n",
      "  warnings.warn(\n",
      "/Users/larsvanderlaan/repos/VennCalibration/myenv2/lib/python3.13/site-packages/mapie/utils.py:620: UserWarning: WARNING: The predictions are ill-sorted.\n",
      "  warnings.warn(\n"
     ]
    },
    {
     "name": "stdout",
     "output_type": "stream",
     "text": [
      "0.1\n",
      "0.1001531393568147\n"
     ]
    },
    {
     "name": "stderr",
     "output_type": "stream",
     "text": [
      "/Users/larsvanderlaan/repos/VennCalibration/myenv2/lib/python3.13/site-packages/mapie/utils.py:620: UserWarning: WARNING: The predictions are ill-sorted.\n",
      "  warnings.warn(\n",
      "/Users/larsvanderlaan/repos/VennCalibration/myenv2/lib/python3.13/site-packages/mapie/utils.py:620: UserWarning: WARNING: The predictions are ill-sorted.\n",
      "  warnings.warn(\n"
     ]
    },
    {
     "name": "stdout",
     "output_type": "stream",
     "text": [
      "0.1\n",
      "0.1001531393568147\n"
     ]
    },
    {
     "name": "stderr",
     "output_type": "stream",
     "text": [
      "/Users/larsvanderlaan/repos/VennCalibration/myenv2/lib/python3.13/site-packages/mapie/utils.py:620: UserWarning: WARNING: The predictions are ill-sorted.\n",
      "  warnings.warn(\n",
      "/Users/larsvanderlaan/repos/VennCalibration/myenv2/lib/python3.13/site-packages/mapie/utils.py:620: UserWarning: WARNING: The predictions are ill-sorted.\n",
      "  warnings.warn(\n"
     ]
    },
    {
     "name": "stdout",
     "output_type": "stream",
     "text": [
      "0.1\n",
      "0.1001531393568147\n"
     ]
    },
    {
     "name": "stderr",
     "output_type": "stream",
     "text": [
      "/Users/larsvanderlaan/repos/VennCalibration/myenv2/lib/python3.13/site-packages/mapie/utils.py:620: UserWarning: WARNING: The predictions are ill-sorted.\n",
      "  warnings.warn(\n",
      "/Users/larsvanderlaan/repos/VennCalibration/myenv2/lib/python3.13/site-packages/mapie/utils.py:620: UserWarning: WARNING: The predictions are ill-sorted.\n",
      "  warnings.warn(\n"
     ]
    },
    {
     "name": "stdout",
     "output_type": "stream",
     "text": [
      "0.1\n",
      "0.1001531393568147\n"
     ]
    },
    {
     "name": "stderr",
     "output_type": "stream",
     "text": [
      "/Users/larsvanderlaan/repos/VennCalibration/myenv2/lib/python3.13/site-packages/mapie/utils.py:620: UserWarning: WARNING: The predictions are ill-sorted.\n",
      "  warnings.warn(\n",
      "/Users/larsvanderlaan/repos/VennCalibration/myenv2/lib/python3.13/site-packages/mapie/utils.py:620: UserWarning: WARNING: The predictions are ill-sorted.\n",
      "  warnings.warn(\n"
     ]
    },
    {
     "name": "stdout",
     "output_type": "stream",
     "text": [
      "0.1\n",
      "0.1001531393568147\n"
     ]
    },
    {
     "name": "stderr",
     "output_type": "stream",
     "text": [
      "/Users/larsvanderlaan/repos/VennCalibration/myenv2/lib/python3.13/site-packages/mapie/utils.py:620: UserWarning: WARNING: The predictions are ill-sorted.\n",
      "  warnings.warn(\n",
      "/Users/larsvanderlaan/repos/VennCalibration/myenv2/lib/python3.13/site-packages/mapie/utils.py:620: UserWarning: WARNING: The predictions are ill-sorted.\n",
      "  warnings.warn(\n"
     ]
    },
    {
     "name": "stdout",
     "output_type": "stream",
     "text": [
      "0.1\n",
      "0.1001531393568147\n"
     ]
    },
    {
     "name": "stderr",
     "output_type": "stream",
     "text": [
      "/Users/larsvanderlaan/repos/VennCalibration/myenv2/lib/python3.13/site-packages/mapie/utils.py:620: UserWarning: WARNING: The predictions are ill-sorted.\n",
      "  warnings.warn(\n",
      "/Users/larsvanderlaan/repos/VennCalibration/myenv2/lib/python3.13/site-packages/mapie/utils.py:620: UserWarning: WARNING: The predictions are ill-sorted.\n",
      "  warnings.warn(\n"
     ]
    },
    {
     "name": "stdout",
     "output_type": "stream",
     "text": [
      "0.1\n",
      "0.1001531393568147\n"
     ]
    },
    {
     "name": "stderr",
     "output_type": "stream",
     "text": [
      "/Users/larsvanderlaan/repos/VennCalibration/myenv2/lib/python3.13/site-packages/mapie/utils.py:620: UserWarning: WARNING: The predictions are ill-sorted.\n",
      "  warnings.warn(\n",
      "/Users/larsvanderlaan/repos/VennCalibration/myenv2/lib/python3.13/site-packages/mapie/utils.py:620: UserWarning: WARNING: The predictions are ill-sorted.\n",
      "  warnings.warn(\n"
     ]
    },
    {
     "name": "stdout",
     "output_type": "stream",
     "text": [
      "0.1\n",
      "0.1001531393568147\n"
     ]
    },
    {
     "name": "stderr",
     "output_type": "stream",
     "text": [
      "/Users/larsvanderlaan/repos/VennCalibration/myenv2/lib/python3.13/site-packages/mapie/utils.py:620: UserWarning: WARNING: The predictions are ill-sorted.\n",
      "  warnings.warn(\n",
      "/Users/larsvanderlaan/repos/VennCalibration/myenv2/lib/python3.13/site-packages/mapie/utils.py:620: UserWarning: WARNING: The predictions are ill-sorted.\n",
      "  warnings.warn(\n"
     ]
    },
    {
     "name": "stdout",
     "output_type": "stream",
     "text": [
      "0.1\n",
      "0.1001531393568147\n"
     ]
    },
    {
     "name": "stderr",
     "output_type": "stream",
     "text": [
      "/Users/larsvanderlaan/repos/VennCalibration/myenv2/lib/python3.13/site-packages/mapie/utils.py:620: UserWarning: WARNING: The predictions are ill-sorted.\n",
      "  warnings.warn(\n",
      "/Users/larsvanderlaan/repos/VennCalibration/myenv2/lib/python3.13/site-packages/mapie/utils.py:620: UserWarning: WARNING: The predictions are ill-sorted.\n",
      "  warnings.warn(\n"
     ]
    },
    {
     "name": "stdout",
     "output_type": "stream",
     "text": [
      "0.1\n",
      "0.1001531393568147\n"
     ]
    },
    {
     "name": "stderr",
     "output_type": "stream",
     "text": [
      "/Users/larsvanderlaan/repos/VennCalibration/myenv2/lib/python3.13/site-packages/mapie/utils.py:620: UserWarning: WARNING: The predictions are ill-sorted.\n",
      "  warnings.warn(\n",
      "/Users/larsvanderlaan/repos/VennCalibration/myenv2/lib/python3.13/site-packages/mapie/utils.py:620: UserWarning: WARNING: The predictions are ill-sorted.\n",
      "  warnings.warn(\n"
     ]
    },
    {
     "name": "stdout",
     "output_type": "stream",
     "text": [
      "0.1\n",
      "0.1001531393568147\n"
     ]
    },
    {
     "name": "stderr",
     "output_type": "stream",
     "text": [
      "/Users/larsvanderlaan/repos/VennCalibration/myenv2/lib/python3.13/site-packages/mapie/utils.py:620: UserWarning: WARNING: The predictions are ill-sorted.\n",
      "  warnings.warn(\n",
      "/Users/larsvanderlaan/repos/VennCalibration/myenv2/lib/python3.13/site-packages/mapie/utils.py:620: UserWarning: WARNING: The predictions are ill-sorted.\n",
      "  warnings.warn(\n"
     ]
    },
    {
     "name": "stdout",
     "output_type": "stream",
     "text": [
      "0.1\n",
      "0.1001531393568147\n"
     ]
    },
    {
     "name": "stderr",
     "output_type": "stream",
     "text": [
      "/Users/larsvanderlaan/repos/VennCalibration/myenv2/lib/python3.13/site-packages/mapie/utils.py:620: UserWarning: WARNING: The predictions are ill-sorted.\n",
      "  warnings.warn(\n",
      "/Users/larsvanderlaan/repos/VennCalibration/myenv2/lib/python3.13/site-packages/mapie/utils.py:620: UserWarning: WARNING: The predictions are ill-sorted.\n",
      "  warnings.warn(\n"
     ]
    },
    {
     "name": "stdout",
     "output_type": "stream",
     "text": [
      "0.1\n",
      "0.1001531393568147\n"
     ]
    },
    {
     "name": "stderr",
     "output_type": "stream",
     "text": [
      "/Users/larsvanderlaan/repos/VennCalibration/myenv2/lib/python3.13/site-packages/mapie/utils.py:620: UserWarning: WARNING: The predictions are ill-sorted.\n",
      "  warnings.warn(\n",
      "/Users/larsvanderlaan/repos/VennCalibration/myenv2/lib/python3.13/site-packages/mapie/utils.py:620: UserWarning: WARNING: The predictions are ill-sorted.\n",
      "  warnings.warn(\n"
     ]
    },
    {
     "name": "stdout",
     "output_type": "stream",
     "text": [
      "0.1\n",
      "0.1001531393568147\n"
     ]
    },
    {
     "name": "stderr",
     "output_type": "stream",
     "text": [
      "/Users/larsvanderlaan/repos/VennCalibration/myenv2/lib/python3.13/site-packages/mapie/utils.py:620: UserWarning: WARNING: The predictions are ill-sorted.\n",
      "  warnings.warn(\n",
      "/Users/larsvanderlaan/repos/VennCalibration/myenv2/lib/python3.13/site-packages/mapie/utils.py:620: UserWarning: WARNING: The predictions are ill-sorted.\n",
      "  warnings.warn(\n"
     ]
    },
    {
     "name": "stdout",
     "output_type": "stream",
     "text": [
      "0.1\n",
      "0.1001531393568147\n"
     ]
    },
    {
     "name": "stderr",
     "output_type": "stream",
     "text": [
      "/Users/larsvanderlaan/repos/VennCalibration/myenv2/lib/python3.13/site-packages/mapie/utils.py:620: UserWarning: WARNING: The predictions are ill-sorted.\n",
      "  warnings.warn(\n",
      "/Users/larsvanderlaan/repos/VennCalibration/myenv2/lib/python3.13/site-packages/mapie/utils.py:620: UserWarning: WARNING: The predictions are ill-sorted.\n",
      "  warnings.warn(\n"
     ]
    },
    {
     "name": "stdout",
     "output_type": "stream",
     "text": [
      "0.1\n",
      "0.1001531393568147\n"
     ]
    },
    {
     "name": "stderr",
     "output_type": "stream",
     "text": [
      "/Users/larsvanderlaan/repos/VennCalibration/myenv2/lib/python3.13/site-packages/mapie/utils.py:620: UserWarning: WARNING: The predictions are ill-sorted.\n",
      "  warnings.warn(\n",
      "/Users/larsvanderlaan/repos/VennCalibration/myenv2/lib/python3.13/site-packages/mapie/utils.py:620: UserWarning: WARNING: The predictions are ill-sorted.\n",
      "  warnings.warn(\n"
     ]
    },
    {
     "name": "stdout",
     "output_type": "stream",
     "text": [
      "0.1\n",
      "0.1001531393568147\n"
     ]
    },
    {
     "name": "stderr",
     "output_type": "stream",
     "text": [
      "/Users/larsvanderlaan/repos/VennCalibration/myenv2/lib/python3.13/site-packages/mapie/utils.py:620: UserWarning: WARNING: The predictions are ill-sorted.\n",
      "  warnings.warn(\n",
      "/Users/larsvanderlaan/repos/VennCalibration/myenv2/lib/python3.13/site-packages/mapie/utils.py:620: UserWarning: WARNING: The predictions are ill-sorted.\n",
      "  warnings.warn(\n"
     ]
    },
    {
     "name": "stdout",
     "output_type": "stream",
     "text": [
      "0.1\n",
      "0.1001531393568147\n"
     ]
    },
    {
     "name": "stderr",
     "output_type": "stream",
     "text": [
      "/Users/larsvanderlaan/repos/VennCalibration/myenv2/lib/python3.13/site-packages/mapie/utils.py:620: UserWarning: WARNING: The predictions are ill-sorted.\n",
      "  warnings.warn(\n",
      "/Users/larsvanderlaan/repos/VennCalibration/myenv2/lib/python3.13/site-packages/mapie/utils.py:620: UserWarning: WARNING: The predictions are ill-sorted.\n",
      "  warnings.warn(\n"
     ]
    },
    {
     "name": "stdout",
     "output_type": "stream",
     "text": [
      "0.1\n",
      "0.1001531393568147\n"
     ]
    },
    {
     "name": "stderr",
     "output_type": "stream",
     "text": [
      "/Users/larsvanderlaan/repos/VennCalibration/myenv2/lib/python3.13/site-packages/mapie/utils.py:620: UserWarning: WARNING: The predictions are ill-sorted.\n",
      "  warnings.warn(\n",
      "/Users/larsvanderlaan/repos/VennCalibration/myenv2/lib/python3.13/site-packages/mapie/utils.py:620: UserWarning: WARNING: The predictions are ill-sorted.\n",
      "  warnings.warn(\n"
     ]
    },
    {
     "name": "stdout",
     "output_type": "stream",
     "text": [
      "0.1\n",
      "0.1001531393568147\n"
     ]
    },
    {
     "name": "stderr",
     "output_type": "stream",
     "text": [
      "/Users/larsvanderlaan/repos/VennCalibration/myenv2/lib/python3.13/site-packages/mapie/utils.py:620: UserWarning: WARNING: The predictions are ill-sorted.\n",
      "  warnings.warn(\n",
      "/Users/larsvanderlaan/repos/VennCalibration/myenv2/lib/python3.13/site-packages/mapie/utils.py:620: UserWarning: WARNING: The predictions are ill-sorted.\n",
      "  warnings.warn(\n"
     ]
    },
    {
     "name": "stdout",
     "output_type": "stream",
     "text": [
      "0.1\n",
      "0.1001531393568147\n"
     ]
    },
    {
     "name": "stderr",
     "output_type": "stream",
     "text": [
      "/Users/larsvanderlaan/repos/VennCalibration/myenv2/lib/python3.13/site-packages/mapie/utils.py:620: UserWarning: WARNING: The predictions are ill-sorted.\n",
      "  warnings.warn(\n",
      "/Users/larsvanderlaan/repos/VennCalibration/myenv2/lib/python3.13/site-packages/mapie/utils.py:620: UserWarning: WARNING: The predictions are ill-sorted.\n",
      "  warnings.warn(\n"
     ]
    },
    {
     "name": "stdout",
     "output_type": "stream",
     "text": [
      "0.1\n",
      "0.1001531393568147\n"
     ]
    },
    {
     "name": "stderr",
     "output_type": "stream",
     "text": [
      "/Users/larsvanderlaan/repos/VennCalibration/myenv2/lib/python3.13/site-packages/mapie/utils.py:620: UserWarning: WARNING: The predictions are ill-sorted.\n",
      "  warnings.warn(\n",
      "/Users/larsvanderlaan/repos/VennCalibration/myenv2/lib/python3.13/site-packages/mapie/utils.py:620: UserWarning: WARNING: The predictions are ill-sorted.\n",
      "  warnings.warn(\n"
     ]
    },
    {
     "name": "stdout",
     "output_type": "stream",
     "text": [
      "0.1\n",
      "0.1001531393568147\n"
     ]
    },
    {
     "name": "stderr",
     "output_type": "stream",
     "text": [
      "/Users/larsvanderlaan/repos/VennCalibration/myenv2/lib/python3.13/site-packages/mapie/utils.py:620: UserWarning: WARNING: The predictions are ill-sorted.\n",
      "  warnings.warn(\n",
      "/Users/larsvanderlaan/repos/VennCalibration/myenv2/lib/python3.13/site-packages/mapie/utils.py:620: UserWarning: WARNING: The predictions are ill-sorted.\n",
      "  warnings.warn(\n"
     ]
    },
    {
     "name": "stdout",
     "output_type": "stream",
     "text": [
      "0.1\n",
      "0.1001531393568147\n"
     ]
    },
    {
     "name": "stderr",
     "output_type": "stream",
     "text": [
      "/Users/larsvanderlaan/repos/VennCalibration/myenv2/lib/python3.13/site-packages/mapie/utils.py:620: UserWarning: WARNING: The predictions are ill-sorted.\n",
      "  warnings.warn(\n",
      "/Users/larsvanderlaan/repos/VennCalibration/myenv2/lib/python3.13/site-packages/mapie/utils.py:620: UserWarning: WARNING: The predictions are ill-sorted.\n",
      "  warnings.warn(\n"
     ]
    },
    {
     "name": "stdout",
     "output_type": "stream",
     "text": [
      "0.1\n",
      "0.1001531393568147\n"
     ]
    },
    {
     "name": "stderr",
     "output_type": "stream",
     "text": [
      "/Users/larsvanderlaan/repos/VennCalibration/myenv2/lib/python3.13/site-packages/mapie/utils.py:620: UserWarning: WARNING: The predictions are ill-sorted.\n",
      "  warnings.warn(\n",
      "/Users/larsvanderlaan/repos/VennCalibration/myenv2/lib/python3.13/site-packages/mapie/utils.py:620: UserWarning: WARNING: The predictions are ill-sorted.\n",
      "  warnings.warn(\n"
     ]
    },
    {
     "name": "stdout",
     "output_type": "stream",
     "text": [
      "0.1\n",
      "0.1001531393568147\n"
     ]
    },
    {
     "name": "stderr",
     "output_type": "stream",
     "text": [
      "/Users/larsvanderlaan/repos/VennCalibration/myenv2/lib/python3.13/site-packages/mapie/utils.py:620: UserWarning: WARNING: The predictions are ill-sorted.\n",
      "  warnings.warn(\n",
      "/Users/larsvanderlaan/repos/VennCalibration/myenv2/lib/python3.13/site-packages/mapie/utils.py:620: UserWarning: WARNING: The predictions are ill-sorted.\n",
      "  warnings.warn(\n"
     ]
    },
    {
     "name": "stdout",
     "output_type": "stream",
     "text": [
      "0.1\n",
      "0.1001531393568147\n"
     ]
    },
    {
     "name": "stderr",
     "output_type": "stream",
     "text": [
      "/Users/larsvanderlaan/repos/VennCalibration/myenv2/lib/python3.13/site-packages/mapie/utils.py:620: UserWarning: WARNING: The predictions are ill-sorted.\n",
      "  warnings.warn(\n",
      "/Users/larsvanderlaan/repos/VennCalibration/myenv2/lib/python3.13/site-packages/mapie/utils.py:620: UserWarning: WARNING: The predictions are ill-sorted.\n",
      "  warnings.warn(\n"
     ]
    },
    {
     "name": "stdout",
     "output_type": "stream",
     "text": [
      "0.1\n",
      "0.1001531393568147\n"
     ]
    },
    {
     "name": "stderr",
     "output_type": "stream",
     "text": [
      "/Users/larsvanderlaan/repos/VennCalibration/myenv2/lib/python3.13/site-packages/mapie/utils.py:620: UserWarning: WARNING: The predictions are ill-sorted.\n",
      "  warnings.warn(\n",
      "/Users/larsvanderlaan/repos/VennCalibration/myenv2/lib/python3.13/site-packages/mapie/utils.py:620: UserWarning: WARNING: The predictions are ill-sorted.\n",
      "  warnings.warn(\n"
     ]
    },
    {
     "name": "stdout",
     "output_type": "stream",
     "text": [
      "0.1\n",
      "0.1001531393568147\n"
     ]
    },
    {
     "name": "stderr",
     "output_type": "stream",
     "text": [
      "/Users/larsvanderlaan/repos/VennCalibration/myenv2/lib/python3.13/site-packages/mapie/utils.py:620: UserWarning: WARNING: The predictions are ill-sorted.\n",
      "  warnings.warn(\n",
      "/Users/larsvanderlaan/repos/VennCalibration/myenv2/lib/python3.13/site-packages/mapie/utils.py:620: UserWarning: WARNING: The predictions are ill-sorted.\n",
      "  warnings.warn(\n"
     ]
    },
    {
     "name": "stdout",
     "output_type": "stream",
     "text": [
      "0.1\n",
      "0.1001531393568147\n"
     ]
    },
    {
     "name": "stderr",
     "output_type": "stream",
     "text": [
      "/Users/larsvanderlaan/repos/VennCalibration/myenv2/lib/python3.13/site-packages/mapie/utils.py:620: UserWarning: WARNING: The predictions are ill-sorted.\n",
      "  warnings.warn(\n",
      "/Users/larsvanderlaan/repos/VennCalibration/myenv2/lib/python3.13/site-packages/mapie/utils.py:620: UserWarning: WARNING: The predictions are ill-sorted.\n",
      "  warnings.warn(\n"
     ]
    },
    {
     "name": "stdout",
     "output_type": "stream",
     "text": [
      "0.1\n",
      "0.1001531393568147\n"
     ]
    },
    {
     "name": "stderr",
     "output_type": "stream",
     "text": [
      "/Users/larsvanderlaan/repos/VennCalibration/myenv2/lib/python3.13/site-packages/mapie/utils.py:620: UserWarning: WARNING: The predictions are ill-sorted.\n",
      "  warnings.warn(\n",
      "/Users/larsvanderlaan/repos/VennCalibration/myenv2/lib/python3.13/site-packages/mapie/utils.py:620: UserWarning: WARNING: The predictions are ill-sorted.\n",
      "  warnings.warn(\n"
     ]
    },
    {
     "name": "stdout",
     "output_type": "stream",
     "text": [
      "0.1\n",
      "0.1001531393568147\n"
     ]
    },
    {
     "name": "stderr",
     "output_type": "stream",
     "text": [
      "/Users/larsvanderlaan/repos/VennCalibration/myenv2/lib/python3.13/site-packages/mapie/utils.py:620: UserWarning: WARNING: The predictions are ill-sorted.\n",
      "  warnings.warn(\n",
      "/Users/larsvanderlaan/repos/VennCalibration/myenv2/lib/python3.13/site-packages/mapie/utils.py:620: UserWarning: WARNING: The predictions are ill-sorted.\n",
      "  warnings.warn(\n"
     ]
    },
    {
     "name": "stdout",
     "output_type": "stream",
     "text": [
      "0.1\n",
      "0.1001531393568147\n"
     ]
    },
    {
     "name": "stderr",
     "output_type": "stream",
     "text": [
      "/Users/larsvanderlaan/repos/VennCalibration/myenv2/lib/python3.13/site-packages/mapie/utils.py:620: UserWarning: WARNING: The predictions are ill-sorted.\n",
      "  warnings.warn(\n",
      "/Users/larsvanderlaan/repos/VennCalibration/myenv2/lib/python3.13/site-packages/mapie/utils.py:620: UserWarning: WARNING: The predictions are ill-sorted.\n",
      "  warnings.warn(\n"
     ]
    },
    {
     "name": "stdout",
     "output_type": "stream",
     "text": [
      "0.1\n",
      "0.1001531393568147\n"
     ]
    },
    {
     "name": "stderr",
     "output_type": "stream",
     "text": [
      "/Users/larsvanderlaan/repos/VennCalibration/myenv2/lib/python3.13/site-packages/mapie/utils.py:620: UserWarning: WARNING: The predictions are ill-sorted.\n",
      "  warnings.warn(\n",
      "/Users/larsvanderlaan/repos/VennCalibration/myenv2/lib/python3.13/site-packages/mapie/utils.py:620: UserWarning: WARNING: The predictions are ill-sorted.\n",
      "  warnings.warn(\n"
     ]
    },
    {
     "name": "stdout",
     "output_type": "stream",
     "text": [
      "0.1\n",
      "0.1001531393568147\n"
     ]
    },
    {
     "name": "stderr",
     "output_type": "stream",
     "text": [
      "/Users/larsvanderlaan/repos/VennCalibration/myenv2/lib/python3.13/site-packages/mapie/utils.py:620: UserWarning: WARNING: The predictions are ill-sorted.\n",
      "  warnings.warn(\n",
      "/Users/larsvanderlaan/repos/VennCalibration/myenv2/lib/python3.13/site-packages/mapie/utils.py:620: UserWarning: WARNING: The predictions are ill-sorted.\n",
      "  warnings.warn(\n"
     ]
    },
    {
     "name": "stdout",
     "output_type": "stream",
     "text": [
      "0.1\n",
      "0.1001531393568147\n"
     ]
    },
    {
     "name": "stderr",
     "output_type": "stream",
     "text": [
      "/Users/larsvanderlaan/repos/VennCalibration/myenv2/lib/python3.13/site-packages/mapie/utils.py:620: UserWarning: WARNING: The predictions are ill-sorted.\n",
      "  warnings.warn(\n",
      "/Users/larsvanderlaan/repos/VennCalibration/myenv2/lib/python3.13/site-packages/mapie/utils.py:620: UserWarning: WARNING: The predictions are ill-sorted.\n",
      "  warnings.warn(\n"
     ]
    },
    {
     "name": "stdout",
     "output_type": "stream",
     "text": [
      "0.1\n",
      "0.1001531393568147\n"
     ]
    },
    {
     "name": "stderr",
     "output_type": "stream",
     "text": [
      "/Users/larsvanderlaan/repos/VennCalibration/myenv2/lib/python3.13/site-packages/mapie/utils.py:620: UserWarning: WARNING: The predictions are ill-sorted.\n",
      "  warnings.warn(\n",
      "/Users/larsvanderlaan/repos/VennCalibration/myenv2/lib/python3.13/site-packages/mapie/utils.py:620: UserWarning: WARNING: The predictions are ill-sorted.\n",
      "  warnings.warn(\n"
     ]
    },
    {
     "name": "stdout",
     "output_type": "stream",
     "text": [
      "0.1\n",
      "0.1001531393568147\n"
     ]
    },
    {
     "name": "stderr",
     "output_type": "stream",
     "text": [
      "/Users/larsvanderlaan/repos/VennCalibration/myenv2/lib/python3.13/site-packages/mapie/utils.py:620: UserWarning: WARNING: The predictions are ill-sorted.\n",
      "  warnings.warn(\n",
      "/Users/larsvanderlaan/repos/VennCalibration/myenv2/lib/python3.13/site-packages/mapie/utils.py:620: UserWarning: WARNING: The predictions are ill-sorted.\n",
      "  warnings.warn(\n"
     ]
    },
    {
     "name": "stdout",
     "output_type": "stream",
     "text": [
      "0.1\n",
      "0.1001531393568147\n"
     ]
    },
    {
     "name": "stderr",
     "output_type": "stream",
     "text": [
      "/Users/larsvanderlaan/repos/VennCalibration/myenv2/lib/python3.13/site-packages/mapie/utils.py:620: UserWarning: WARNING: The predictions are ill-sorted.\n",
      "  warnings.warn(\n",
      "/Users/larsvanderlaan/repos/VennCalibration/myenv2/lib/python3.13/site-packages/mapie/utils.py:620: UserWarning: WARNING: The predictions are ill-sorted.\n",
      "  warnings.warn(\n"
     ]
    },
    {
     "name": "stdout",
     "output_type": "stream",
     "text": [
      "0.1\n",
      "0.1001531393568147\n"
     ]
    },
    {
     "name": "stderr",
     "output_type": "stream",
     "text": [
      "/Users/larsvanderlaan/repos/VennCalibration/myenv2/lib/python3.13/site-packages/mapie/utils.py:620: UserWarning: WARNING: The predictions are ill-sorted.\n",
      "  warnings.warn(\n",
      "/Users/larsvanderlaan/repos/VennCalibration/myenv2/lib/python3.13/site-packages/mapie/utils.py:620: UserWarning: WARNING: The predictions are ill-sorted.\n",
      "  warnings.warn(\n"
     ]
    },
    {
     "name": "stdout",
     "output_type": "stream",
     "text": [
      "0.1\n",
      "0.1001531393568147\n"
     ]
    },
    {
     "name": "stderr",
     "output_type": "stream",
     "text": [
      "/Users/larsvanderlaan/repos/VennCalibration/myenv2/lib/python3.13/site-packages/mapie/utils.py:620: UserWarning: WARNING: The predictions are ill-sorted.\n",
      "  warnings.warn(\n",
      "/Users/larsvanderlaan/repos/VennCalibration/myenv2/lib/python3.13/site-packages/mapie/utils.py:620: UserWarning: WARNING: The predictions are ill-sorted.\n",
      "  warnings.warn(\n"
     ]
    },
    {
     "name": "stdout",
     "output_type": "stream",
     "text": [
      "0.1\n",
      "0.1001531393568147\n"
     ]
    },
    {
     "name": "stderr",
     "output_type": "stream",
     "text": [
      "/Users/larsvanderlaan/repos/VennCalibration/myenv2/lib/python3.13/site-packages/mapie/utils.py:620: UserWarning: WARNING: The predictions are ill-sorted.\n",
      "  warnings.warn(\n",
      "/Users/larsvanderlaan/repos/VennCalibration/myenv2/lib/python3.13/site-packages/mapie/utils.py:620: UserWarning: WARNING: The predictions are ill-sorted.\n",
      "  warnings.warn(\n"
     ]
    },
    {
     "name": "stdout",
     "output_type": "stream",
     "text": [
      "0.1\n",
      "0.1001531393568147\n"
     ]
    },
    {
     "name": "stderr",
     "output_type": "stream",
     "text": [
      "/Users/larsvanderlaan/repos/VennCalibration/myenv2/lib/python3.13/site-packages/mapie/utils.py:620: UserWarning: WARNING: The predictions are ill-sorted.\n",
      "  warnings.warn(\n",
      "/Users/larsvanderlaan/repos/VennCalibration/myenv2/lib/python3.13/site-packages/mapie/utils.py:620: UserWarning: WARNING: The predictions are ill-sorted.\n",
      "  warnings.warn(\n"
     ]
    },
    {
     "name": "stdout",
     "output_type": "stream",
     "text": [
      "0.1\n",
      "0.1001531393568147\n"
     ]
    },
    {
     "name": "stderr",
     "output_type": "stream",
     "text": [
      "/Users/larsvanderlaan/repos/VennCalibration/myenv2/lib/python3.13/site-packages/mapie/utils.py:620: UserWarning: WARNING: The predictions are ill-sorted.\n",
      "  warnings.warn(\n",
      "/Users/larsvanderlaan/repos/VennCalibration/myenv2/lib/python3.13/site-packages/mapie/utils.py:620: UserWarning: WARNING: The predictions are ill-sorted.\n",
      "  warnings.warn(\n"
     ]
    },
    {
     "name": "stdout",
     "output_type": "stream",
     "text": [
      "0.1\n",
      "0.1001531393568147\n"
     ]
    },
    {
     "name": "stderr",
     "output_type": "stream",
     "text": [
      "/Users/larsvanderlaan/repos/VennCalibration/myenv2/lib/python3.13/site-packages/mapie/utils.py:620: UserWarning: WARNING: The predictions are ill-sorted.\n",
      "  warnings.warn(\n",
      "/Users/larsvanderlaan/repos/VennCalibration/myenv2/lib/python3.13/site-packages/mapie/utils.py:620: UserWarning: WARNING: The predictions are ill-sorted.\n",
      "  warnings.warn(\n"
     ]
    },
    {
     "name": "stdout",
     "output_type": "stream",
     "text": [
      "0.1\n",
      "0.1001531393568147\n"
     ]
    },
    {
     "name": "stderr",
     "output_type": "stream",
     "text": [
      "/Users/larsvanderlaan/repos/VennCalibration/myenv2/lib/python3.13/site-packages/mapie/utils.py:620: UserWarning: WARNING: The predictions are ill-sorted.\n",
      "  warnings.warn(\n",
      "/Users/larsvanderlaan/repos/VennCalibration/myenv2/lib/python3.13/site-packages/mapie/utils.py:620: UserWarning: WARNING: The predictions are ill-sorted.\n",
      "  warnings.warn(\n"
     ]
    },
    {
     "name": "stdout",
     "output_type": "stream",
     "text": [
      "0.1\n",
      "0.1001531393568147\n"
     ]
    },
    {
     "name": "stderr",
     "output_type": "stream",
     "text": [
      "/Users/larsvanderlaan/repos/VennCalibration/myenv2/lib/python3.13/site-packages/mapie/utils.py:620: UserWarning: WARNING: The predictions are ill-sorted.\n",
      "  warnings.warn(\n",
      "/Users/larsvanderlaan/repos/VennCalibration/myenv2/lib/python3.13/site-packages/mapie/utils.py:620: UserWarning: WARNING: The predictions are ill-sorted.\n",
      "  warnings.warn(\n"
     ]
    },
    {
     "name": "stdout",
     "output_type": "stream",
     "text": [
      "0.1\n",
      "0.1001531393568147\n"
     ]
    },
    {
     "name": "stderr",
     "output_type": "stream",
     "text": [
      "/Users/larsvanderlaan/repos/VennCalibration/myenv2/lib/python3.13/site-packages/mapie/utils.py:620: UserWarning: WARNING: The predictions are ill-sorted.\n",
      "  warnings.warn(\n",
      "/Users/larsvanderlaan/repos/VennCalibration/myenv2/lib/python3.13/site-packages/mapie/utils.py:620: UserWarning: WARNING: The predictions are ill-sorted.\n",
      "  warnings.warn(\n"
     ]
    },
    {
     "name": "stdout",
     "output_type": "stream",
     "text": [
      "0.1\n",
      "0.1001531393568147\n"
     ]
    },
    {
     "name": "stderr",
     "output_type": "stream",
     "text": [
      "/Users/larsvanderlaan/repos/VennCalibration/myenv2/lib/python3.13/site-packages/mapie/utils.py:620: UserWarning: WARNING: The predictions are ill-sorted.\n",
      "  warnings.warn(\n",
      "/Users/larsvanderlaan/repos/VennCalibration/myenv2/lib/python3.13/site-packages/mapie/utils.py:620: UserWarning: WARNING: The predictions are ill-sorted.\n",
      "  warnings.warn(\n"
     ]
    },
    {
     "name": "stdout",
     "output_type": "stream",
     "text": [
      "0.1\n",
      "0.1001531393568147\n"
     ]
    },
    {
     "name": "stderr",
     "output_type": "stream",
     "text": [
      "/Users/larsvanderlaan/repos/VennCalibration/myenv2/lib/python3.13/site-packages/mapie/utils.py:620: UserWarning: WARNING: The predictions are ill-sorted.\n",
      "  warnings.warn(\n",
      "/Users/larsvanderlaan/repos/VennCalibration/myenv2/lib/python3.13/site-packages/mapie/utils.py:620: UserWarning: WARNING: The predictions are ill-sorted.\n",
      "  warnings.warn(\n"
     ]
    },
    {
     "name": "stdout",
     "output_type": "stream",
     "text": [
      "0.1\n",
      "0.1001531393568147\n"
     ]
    },
    {
     "name": "stderr",
     "output_type": "stream",
     "text": [
      "/Users/larsvanderlaan/repos/VennCalibration/myenv2/lib/python3.13/site-packages/mapie/utils.py:620: UserWarning: WARNING: The predictions are ill-sorted.\n",
      "  warnings.warn(\n",
      "/Users/larsvanderlaan/repos/VennCalibration/myenv2/lib/python3.13/site-packages/mapie/utils.py:620: UserWarning: WARNING: The predictions are ill-sorted.\n",
      "  warnings.warn(\n"
     ]
    },
    {
     "name": "stdout",
     "output_type": "stream",
     "text": [
      "0.1\n",
      "0.1001531393568147\n"
     ]
    },
    {
     "name": "stderr",
     "output_type": "stream",
     "text": [
      "/Users/larsvanderlaan/repos/VennCalibration/myenv2/lib/python3.13/site-packages/mapie/utils.py:620: UserWarning: WARNING: The predictions are ill-sorted.\n",
      "  warnings.warn(\n",
      "/Users/larsvanderlaan/repos/VennCalibration/myenv2/lib/python3.13/site-packages/mapie/utils.py:620: UserWarning: WARNING: The predictions are ill-sorted.\n",
      "  warnings.warn(\n"
     ]
    },
    {
     "name": "stdout",
     "output_type": "stream",
     "text": [
      "0.1\n",
      "0.1001531393568147\n"
     ]
    },
    {
     "name": "stderr",
     "output_type": "stream",
     "text": [
      "/Users/larsvanderlaan/repos/VennCalibration/myenv2/lib/python3.13/site-packages/mapie/utils.py:620: UserWarning: WARNING: The predictions are ill-sorted.\n",
      "  warnings.warn(\n",
      "/Users/larsvanderlaan/repos/VennCalibration/myenv2/lib/python3.13/site-packages/mapie/utils.py:620: UserWarning: WARNING: The predictions are ill-sorted.\n",
      "  warnings.warn(\n"
     ]
    },
    {
     "name": "stdout",
     "output_type": "stream",
     "text": [
      "0.1\n",
      "0.1001531393568147\n"
     ]
    },
    {
     "name": "stderr",
     "output_type": "stream",
     "text": [
      "/Users/larsvanderlaan/repos/VennCalibration/myenv2/lib/python3.13/site-packages/mapie/utils.py:620: UserWarning: WARNING: The predictions are ill-sorted.\n",
      "  warnings.warn(\n",
      "/Users/larsvanderlaan/repos/VennCalibration/myenv2/lib/python3.13/site-packages/mapie/utils.py:620: UserWarning: WARNING: The predictions are ill-sorted.\n",
      "  warnings.warn(\n"
     ]
    },
    {
     "name": "stdout",
     "output_type": "stream",
     "text": [
      "0.1\n",
      "0.1001531393568147\n"
     ]
    },
    {
     "name": "stderr",
     "output_type": "stream",
     "text": [
      "/Users/larsvanderlaan/repos/VennCalibration/myenv2/lib/python3.13/site-packages/mapie/utils.py:620: UserWarning: WARNING: The predictions are ill-sorted.\n",
      "  warnings.warn(\n",
      "/Users/larsvanderlaan/repos/VennCalibration/myenv2/lib/python3.13/site-packages/mapie/utils.py:620: UserWarning: WARNING: The predictions are ill-sorted.\n",
      "  warnings.warn(\n"
     ]
    },
    {
     "name": "stdout",
     "output_type": "stream",
     "text": [
      "0.1\n",
      "0.1001531393568147\n"
     ]
    },
    {
     "name": "stderr",
     "output_type": "stream",
     "text": [
      "/Users/larsvanderlaan/repos/VennCalibration/myenv2/lib/python3.13/site-packages/mapie/utils.py:620: UserWarning: WARNING: The predictions are ill-sorted.\n",
      "  warnings.warn(\n",
      "/Users/larsvanderlaan/repos/VennCalibration/myenv2/lib/python3.13/site-packages/mapie/utils.py:620: UserWarning: WARNING: The predictions are ill-sorted.\n",
      "  warnings.warn(\n"
     ]
    },
    {
     "name": "stdout",
     "output_type": "stream",
     "text": [
      "0.1\n",
      "0.1001531393568147\n"
     ]
    },
    {
     "name": "stderr",
     "output_type": "stream",
     "text": [
      "/Users/larsvanderlaan/repos/VennCalibration/myenv2/lib/python3.13/site-packages/mapie/utils.py:620: UserWarning: WARNING: The predictions are ill-sorted.\n",
      "  warnings.warn(\n",
      "/Users/larsvanderlaan/repos/VennCalibration/myenv2/lib/python3.13/site-packages/mapie/utils.py:620: UserWarning: WARNING: The predictions are ill-sorted.\n",
      "  warnings.warn(\n"
     ]
    },
    {
     "name": "stdout",
     "output_type": "stream",
     "text": [
      "0.1\n",
      "0.1001531393568147\n"
     ]
    },
    {
     "name": "stderr",
     "output_type": "stream",
     "text": [
      "/Users/larsvanderlaan/repos/VennCalibration/myenv2/lib/python3.13/site-packages/mapie/utils.py:620: UserWarning: WARNING: The predictions are ill-sorted.\n",
      "  warnings.warn(\n",
      "/Users/larsvanderlaan/repos/VennCalibration/myenv2/lib/python3.13/site-packages/mapie/utils.py:620: UserWarning: WARNING: The predictions are ill-sorted.\n",
      "  warnings.warn(\n"
     ]
    },
    {
     "name": "stdout",
     "output_type": "stream",
     "text": [
      "0.1\n",
      "0.1001531393568147\n"
     ]
    },
    {
     "name": "stderr",
     "output_type": "stream",
     "text": [
      "/Users/larsvanderlaan/repos/VennCalibration/myenv2/lib/python3.13/site-packages/mapie/utils.py:620: UserWarning: WARNING: The predictions are ill-sorted.\n",
      "  warnings.warn(\n",
      "/Users/larsvanderlaan/repos/VennCalibration/myenv2/lib/python3.13/site-packages/mapie/utils.py:620: UserWarning: WARNING: The predictions are ill-sorted.\n",
      "  warnings.warn(\n"
     ]
    },
    {
     "name": "stdout",
     "output_type": "stream",
     "text": [
      "0.1\n",
      "0.1001531393568147\n"
     ]
    },
    {
     "name": "stderr",
     "output_type": "stream",
     "text": [
      "/Users/larsvanderlaan/repos/VennCalibration/myenv2/lib/python3.13/site-packages/mapie/utils.py:620: UserWarning: WARNING: The predictions are ill-sorted.\n",
      "  warnings.warn(\n",
      "/Users/larsvanderlaan/repos/VennCalibration/myenv2/lib/python3.13/site-packages/mapie/utils.py:620: UserWarning: WARNING: The predictions are ill-sorted.\n",
      "  warnings.warn(\n"
     ]
    },
    {
     "name": "stdout",
     "output_type": "stream",
     "text": [
      "0.1\n",
      "0.1001531393568147\n"
     ]
    },
    {
     "name": "stderr",
     "output_type": "stream",
     "text": [
      "/Users/larsvanderlaan/repos/VennCalibration/myenv2/lib/python3.13/site-packages/mapie/utils.py:620: UserWarning: WARNING: The predictions are ill-sorted.\n",
      "  warnings.warn(\n",
      "/Users/larsvanderlaan/repos/VennCalibration/myenv2/lib/python3.13/site-packages/mapie/utils.py:620: UserWarning: WARNING: The predictions are ill-sorted.\n",
      "  warnings.warn(\n"
     ]
    },
    {
     "name": "stdout",
     "output_type": "stream",
     "text": [
      "0.1\n",
      "0.1001531393568147\n"
     ]
    },
    {
     "name": "stderr",
     "output_type": "stream",
     "text": [
      "/Users/larsvanderlaan/repos/VennCalibration/myenv2/lib/python3.13/site-packages/mapie/utils.py:620: UserWarning: WARNING: The predictions are ill-sorted.\n",
      "  warnings.warn(\n",
      "/Users/larsvanderlaan/repos/VennCalibration/myenv2/lib/python3.13/site-packages/mapie/utils.py:620: UserWarning: WARNING: The predictions are ill-sorted.\n",
      "  warnings.warn(\n"
     ]
    },
    {
     "name": "stdout",
     "output_type": "stream",
     "text": [
      "0.1\n",
      "0.1001531393568147\n"
     ]
    },
    {
     "name": "stderr",
     "output_type": "stream",
     "text": [
      "/Users/larsvanderlaan/repos/VennCalibration/myenv2/lib/python3.13/site-packages/mapie/utils.py:620: UserWarning: WARNING: The predictions are ill-sorted.\n",
      "  warnings.warn(\n",
      "/Users/larsvanderlaan/repos/VennCalibration/myenv2/lib/python3.13/site-packages/mapie/utils.py:620: UserWarning: WARNING: The predictions are ill-sorted.\n",
      "  warnings.warn(\n"
     ]
    },
    {
     "name": "stdout",
     "output_type": "stream",
     "text": [
      "0.1\n",
      "0.10000728916101757\n"
     ]
    },
    {
     "name": "stderr",
     "output_type": "stream",
     "text": [
      "/Users/larsvanderlaan/repos/VennCalibration/myenv2/lib/python3.13/site-packages/mapie/utils.py:620: UserWarning: WARNING: The predictions are ill-sorted.\n",
      "  warnings.warn(\n",
      "/Users/larsvanderlaan/repos/VennCalibration/myenv2/lib/python3.13/site-packages/mapie/utils.py:620: UserWarning: WARNING: The predictions are ill-sorted.\n",
      "  warnings.warn(\n"
     ]
    },
    {
     "name": "stdout",
     "output_type": "stream",
     "text": [
      "0.1\n",
      "0.10000728916101757\n"
     ]
    },
    {
     "name": "stderr",
     "output_type": "stream",
     "text": [
      "/Users/larsvanderlaan/repos/VennCalibration/myenv2/lib/python3.13/site-packages/mapie/utils.py:620: UserWarning: WARNING: The predictions are ill-sorted.\n",
      "  warnings.warn(\n",
      "/Users/larsvanderlaan/repos/VennCalibration/myenv2/lib/python3.13/site-packages/mapie/utils.py:620: UserWarning: WARNING: The predictions are ill-sorted.\n",
      "  warnings.warn(\n"
     ]
    },
    {
     "name": "stdout",
     "output_type": "stream",
     "text": [
      "0.1\n",
      "0.10008018077119324\n"
     ]
    },
    {
     "name": "stderr",
     "output_type": "stream",
     "text": [
      "/Users/larsvanderlaan/repos/VennCalibration/myenv2/lib/python3.13/site-packages/mapie/utils.py:620: UserWarning: WARNING: The predictions are ill-sorted.\n",
      "  warnings.warn(\n",
      "/Users/larsvanderlaan/repos/VennCalibration/myenv2/lib/python3.13/site-packages/mapie/utils.py:620: UserWarning: WARNING: The predictions are ill-sorted.\n",
      "  warnings.warn(\n"
     ]
    },
    {
     "name": "stdout",
     "output_type": "stream",
     "text": [
      "0.1\n",
      "0.10000728916101757\n"
     ]
    },
    {
     "name": "stderr",
     "output_type": "stream",
     "text": [
      "/Users/larsvanderlaan/repos/VennCalibration/myenv2/lib/python3.13/site-packages/mapie/utils.py:620: UserWarning: WARNING: The predictions are ill-sorted.\n",
      "  warnings.warn(\n",
      "/Users/larsvanderlaan/repos/VennCalibration/myenv2/lib/python3.13/site-packages/mapie/utils.py:620: UserWarning: WARNING: The predictions are ill-sorted.\n",
      "  warnings.warn(\n"
     ]
    },
    {
     "name": "stdout",
     "output_type": "stream",
     "text": [
      "0.1\n",
      "0.10000728916101757\n"
     ]
    },
    {
     "name": "stderr",
     "output_type": "stream",
     "text": [
      "/Users/larsvanderlaan/repos/VennCalibration/myenv2/lib/python3.13/site-packages/mapie/utils.py:620: UserWarning: WARNING: The predictions are ill-sorted.\n",
      "  warnings.warn(\n",
      "/Users/larsvanderlaan/repos/VennCalibration/myenv2/lib/python3.13/site-packages/mapie/utils.py:620: UserWarning: WARNING: The predictions are ill-sorted.\n",
      "  warnings.warn(\n"
     ]
    },
    {
     "name": "stdout",
     "output_type": "stream",
     "text": [
      "0.1\n",
      "0.10000728916101757\n"
     ]
    },
    {
     "name": "stderr",
     "output_type": "stream",
     "text": [
      "/Users/larsvanderlaan/repos/VennCalibration/myenv2/lib/python3.13/site-packages/mapie/utils.py:620: UserWarning: WARNING: The predictions are ill-sorted.\n",
      "  warnings.warn(\n",
      "/Users/larsvanderlaan/repos/VennCalibration/myenv2/lib/python3.13/site-packages/mapie/utils.py:620: UserWarning: WARNING: The predictions are ill-sorted.\n",
      "  warnings.warn(\n"
     ]
    },
    {
     "name": "stdout",
     "output_type": "stream",
     "text": [
      "0.1\n",
      "0.10000728916101757\n"
     ]
    },
    {
     "name": "stderr",
     "output_type": "stream",
     "text": [
      "/Users/larsvanderlaan/repos/VennCalibration/myenv2/lib/python3.13/site-packages/mapie/utils.py:620: UserWarning: WARNING: The predictions are ill-sorted.\n",
      "  warnings.warn(\n",
      "/Users/larsvanderlaan/repos/VennCalibration/myenv2/lib/python3.13/site-packages/mapie/utils.py:620: UserWarning: WARNING: The predictions are ill-sorted.\n",
      "  warnings.warn(\n"
     ]
    },
    {
     "name": "stdout",
     "output_type": "stream",
     "text": [
      "0.1\n",
      "0.10000728916101757\n"
     ]
    },
    {
     "name": "stderr",
     "output_type": "stream",
     "text": [
      "/Users/larsvanderlaan/repos/VennCalibration/myenv2/lib/python3.13/site-packages/mapie/utils.py:620: UserWarning: WARNING: The predictions are ill-sorted.\n",
      "  warnings.warn(\n",
      "/Users/larsvanderlaan/repos/VennCalibration/myenv2/lib/python3.13/site-packages/mapie/utils.py:620: UserWarning: WARNING: The predictions are ill-sorted.\n",
      "  warnings.warn(\n"
     ]
    },
    {
     "name": "stdout",
     "output_type": "stream",
     "text": [
      "0.1\n",
      "0.10000728916101757\n"
     ]
    },
    {
     "name": "stderr",
     "output_type": "stream",
     "text": [
      "/Users/larsvanderlaan/repos/VennCalibration/myenv2/lib/python3.13/site-packages/mapie/utils.py:620: UserWarning: WARNING: The predictions are ill-sorted.\n",
      "  warnings.warn(\n",
      "/Users/larsvanderlaan/repos/VennCalibration/myenv2/lib/python3.13/site-packages/mapie/utils.py:620: UserWarning: WARNING: The predictions are ill-sorted.\n",
      "  warnings.warn(\n"
     ]
    },
    {
     "name": "stdout",
     "output_type": "stream",
     "text": [
      "0.1\n",
      "0.10000728916101757\n"
     ]
    },
    {
     "name": "stderr",
     "output_type": "stream",
     "text": [
      "/Users/larsvanderlaan/repos/VennCalibration/myenv2/lib/python3.13/site-packages/mapie/utils.py:620: UserWarning: WARNING: The predictions are ill-sorted.\n",
      "  warnings.warn(\n",
      "/Users/larsvanderlaan/repos/VennCalibration/myenv2/lib/python3.13/site-packages/mapie/utils.py:620: UserWarning: WARNING: The predictions are ill-sorted.\n",
      "  warnings.warn(\n"
     ]
    },
    {
     "name": "stdout",
     "output_type": "stream",
     "text": [
      "0.1\n",
      "0.10000728916101757\n"
     ]
    },
    {
     "name": "stderr",
     "output_type": "stream",
     "text": [
      "/Users/larsvanderlaan/repos/VennCalibration/myenv2/lib/python3.13/site-packages/mapie/utils.py:620: UserWarning: WARNING: The predictions are ill-sorted.\n",
      "  warnings.warn(\n",
      "/Users/larsvanderlaan/repos/VennCalibration/myenv2/lib/python3.13/site-packages/mapie/utils.py:620: UserWarning: WARNING: The predictions are ill-sorted.\n",
      "  warnings.warn(\n"
     ]
    },
    {
     "name": "stdout",
     "output_type": "stream",
     "text": [
      "0.1\n",
      "0.10000728916101757\n"
     ]
    },
    {
     "name": "stderr",
     "output_type": "stream",
     "text": [
      "/Users/larsvanderlaan/repos/VennCalibration/myenv2/lib/python3.13/site-packages/mapie/utils.py:620: UserWarning: WARNING: The predictions are ill-sorted.\n",
      "  warnings.warn(\n",
      "/Users/larsvanderlaan/repos/VennCalibration/myenv2/lib/python3.13/site-packages/mapie/utils.py:620: UserWarning: WARNING: The predictions are ill-sorted.\n",
      "  warnings.warn(\n"
     ]
    },
    {
     "name": "stdout",
     "output_type": "stream",
     "text": [
      "0.1\n",
      "0.10000728916101757\n"
     ]
    },
    {
     "name": "stderr",
     "output_type": "stream",
     "text": [
      "/Users/larsvanderlaan/repos/VennCalibration/myenv2/lib/python3.13/site-packages/mapie/utils.py:620: UserWarning: WARNING: The predictions are ill-sorted.\n",
      "  warnings.warn(\n",
      "/Users/larsvanderlaan/repos/VennCalibration/myenv2/lib/python3.13/site-packages/mapie/utils.py:620: UserWarning: WARNING: The predictions are ill-sorted.\n",
      "  warnings.warn(\n"
     ]
    },
    {
     "name": "stdout",
     "output_type": "stream",
     "text": [
      "0.1\n",
      "0.10000728916101757\n"
     ]
    },
    {
     "name": "stderr",
     "output_type": "stream",
     "text": [
      "/Users/larsvanderlaan/repos/VennCalibration/myenv2/lib/python3.13/site-packages/mapie/utils.py:620: UserWarning: WARNING: The predictions are ill-sorted.\n",
      "  warnings.warn(\n",
      "/Users/larsvanderlaan/repos/VennCalibration/myenv2/lib/python3.13/site-packages/mapie/utils.py:620: UserWarning: WARNING: The predictions are ill-sorted.\n",
      "  warnings.warn(\n"
     ]
    },
    {
     "name": "stdout",
     "output_type": "stream",
     "text": [
      "0.1\n",
      "0.10000728916101757\n"
     ]
    },
    {
     "name": "stderr",
     "output_type": "stream",
     "text": [
      "/Users/larsvanderlaan/repos/VennCalibration/myenv2/lib/python3.13/site-packages/mapie/utils.py:620: UserWarning: WARNING: The predictions are ill-sorted.\n",
      "  warnings.warn(\n",
      "/Users/larsvanderlaan/repos/VennCalibration/myenv2/lib/python3.13/site-packages/mapie/utils.py:620: UserWarning: WARNING: The predictions are ill-sorted.\n",
      "  warnings.warn(\n"
     ]
    },
    {
     "name": "stdout",
     "output_type": "stream",
     "text": [
      "0.1\n",
      "0.10000728916101757\n"
     ]
    },
    {
     "name": "stderr",
     "output_type": "stream",
     "text": [
      "/Users/larsvanderlaan/repos/VennCalibration/myenv2/lib/python3.13/site-packages/mapie/utils.py:620: UserWarning: WARNING: The predictions are ill-sorted.\n",
      "  warnings.warn(\n",
      "/Users/larsvanderlaan/repos/VennCalibration/myenv2/lib/python3.13/site-packages/mapie/utils.py:620: UserWarning: WARNING: The predictions are ill-sorted.\n",
      "  warnings.warn(\n"
     ]
    },
    {
     "name": "stdout",
     "output_type": "stream",
     "text": [
      "0.1\n",
      "0.10000728916101757\n"
     ]
    },
    {
     "name": "stderr",
     "output_type": "stream",
     "text": [
      "/Users/larsvanderlaan/repos/VennCalibration/myenv2/lib/python3.13/site-packages/mapie/utils.py:620: UserWarning: WARNING: The predictions are ill-sorted.\n",
      "  warnings.warn(\n",
      "/Users/larsvanderlaan/repos/VennCalibration/myenv2/lib/python3.13/site-packages/mapie/utils.py:620: UserWarning: WARNING: The predictions are ill-sorted.\n",
      "  warnings.warn(\n"
     ]
    },
    {
     "name": "stdout",
     "output_type": "stream",
     "text": [
      "0.1\n",
      "0.10000728916101757\n"
     ]
    },
    {
     "name": "stderr",
     "output_type": "stream",
     "text": [
      "/Users/larsvanderlaan/repos/VennCalibration/myenv2/lib/python3.13/site-packages/mapie/utils.py:620: UserWarning: WARNING: The predictions are ill-sorted.\n",
      "  warnings.warn(\n",
      "/Users/larsvanderlaan/repos/VennCalibration/myenv2/lib/python3.13/site-packages/mapie/utils.py:620: UserWarning: WARNING: The predictions are ill-sorted.\n",
      "  warnings.warn(\n"
     ]
    },
    {
     "name": "stdout",
     "output_type": "stream",
     "text": [
      "0.1\n",
      "0.10000728916101757\n"
     ]
    },
    {
     "name": "stderr",
     "output_type": "stream",
     "text": [
      "/Users/larsvanderlaan/repos/VennCalibration/myenv2/lib/python3.13/site-packages/mapie/utils.py:620: UserWarning: WARNING: The predictions are ill-sorted.\n",
      "  warnings.warn(\n",
      "/Users/larsvanderlaan/repos/VennCalibration/myenv2/lib/python3.13/site-packages/mapie/utils.py:620: UserWarning: WARNING: The predictions are ill-sorted.\n",
      "  warnings.warn(\n"
     ]
    },
    {
     "name": "stdout",
     "output_type": "stream",
     "text": [
      "0.1\n",
      "0.10000728916101757\n"
     ]
    },
    {
     "name": "stderr",
     "output_type": "stream",
     "text": [
      "/Users/larsvanderlaan/repos/VennCalibration/myenv2/lib/python3.13/site-packages/mapie/utils.py:620: UserWarning: WARNING: The predictions are ill-sorted.\n",
      "  warnings.warn(\n",
      "/Users/larsvanderlaan/repos/VennCalibration/myenv2/lib/python3.13/site-packages/mapie/utils.py:620: UserWarning: WARNING: The predictions are ill-sorted.\n",
      "  warnings.warn(\n"
     ]
    },
    {
     "name": "stdout",
     "output_type": "stream",
     "text": [
      "0.1\n",
      "0.10000728916101757\n"
     ]
    },
    {
     "name": "stderr",
     "output_type": "stream",
     "text": [
      "/Users/larsvanderlaan/repos/VennCalibration/myenv2/lib/python3.13/site-packages/mapie/utils.py:620: UserWarning: WARNING: The predictions are ill-sorted.\n",
      "  warnings.warn(\n",
      "/Users/larsvanderlaan/repos/VennCalibration/myenv2/lib/python3.13/site-packages/mapie/utils.py:620: UserWarning: WARNING: The predictions are ill-sorted.\n",
      "  warnings.warn(\n"
     ]
    },
    {
     "name": "stdout",
     "output_type": "stream",
     "text": [
      "0.1\n",
      "0.10000728916101757\n"
     ]
    },
    {
     "name": "stderr",
     "output_type": "stream",
     "text": [
      "/Users/larsvanderlaan/repos/VennCalibration/myenv2/lib/python3.13/site-packages/mapie/utils.py:620: UserWarning: WARNING: The predictions are ill-sorted.\n",
      "  warnings.warn(\n",
      "/Users/larsvanderlaan/repos/VennCalibration/myenv2/lib/python3.13/site-packages/mapie/utils.py:620: UserWarning: WARNING: The predictions are ill-sorted.\n",
      "  warnings.warn(\n"
     ]
    },
    {
     "name": "stdout",
     "output_type": "stream",
     "text": [
      "0.1\n",
      "0.10000728916101757\n"
     ]
    },
    {
     "name": "stderr",
     "output_type": "stream",
     "text": [
      "/Users/larsvanderlaan/repos/VennCalibration/myenv2/lib/python3.13/site-packages/mapie/utils.py:620: UserWarning: WARNING: The predictions are ill-sorted.\n",
      "  warnings.warn(\n",
      "/Users/larsvanderlaan/repos/VennCalibration/myenv2/lib/python3.13/site-packages/mapie/utils.py:620: UserWarning: WARNING: The predictions are ill-sorted.\n",
      "  warnings.warn(\n"
     ]
    },
    {
     "name": "stdout",
     "output_type": "stream",
     "text": [
      "0.1\n",
      "0.10000728916101757\n"
     ]
    },
    {
     "name": "stderr",
     "output_type": "stream",
     "text": [
      "/Users/larsvanderlaan/repos/VennCalibration/myenv2/lib/python3.13/site-packages/mapie/utils.py:620: UserWarning: WARNING: The predictions are ill-sorted.\n",
      "  warnings.warn(\n",
      "/Users/larsvanderlaan/repos/VennCalibration/myenv2/lib/python3.13/site-packages/mapie/utils.py:620: UserWarning: WARNING: The predictions are ill-sorted.\n",
      "  warnings.warn(\n"
     ]
    },
    {
     "name": "stdout",
     "output_type": "stream",
     "text": [
      "0.1\n",
      "0.10000728916101757\n"
     ]
    },
    {
     "name": "stderr",
     "output_type": "stream",
     "text": [
      "/Users/larsvanderlaan/repos/VennCalibration/myenv2/lib/python3.13/site-packages/mapie/utils.py:620: UserWarning: WARNING: The predictions are ill-sorted.\n",
      "  warnings.warn(\n",
      "/Users/larsvanderlaan/repos/VennCalibration/myenv2/lib/python3.13/site-packages/mapie/utils.py:620: UserWarning: WARNING: The predictions are ill-sorted.\n",
      "  warnings.warn(\n"
     ]
    },
    {
     "name": "stdout",
     "output_type": "stream",
     "text": [
      "0.1\n",
      "0.10000728916101757\n"
     ]
    },
    {
     "name": "stderr",
     "output_type": "stream",
     "text": [
      "/Users/larsvanderlaan/repos/VennCalibration/myenv2/lib/python3.13/site-packages/mapie/utils.py:620: UserWarning: WARNING: The predictions are ill-sorted.\n",
      "  warnings.warn(\n",
      "/Users/larsvanderlaan/repos/VennCalibration/myenv2/lib/python3.13/site-packages/mapie/utils.py:620: UserWarning: WARNING: The predictions are ill-sorted.\n",
      "  warnings.warn(\n"
     ]
    },
    {
     "name": "stdout",
     "output_type": "stream",
     "text": [
      "0.1\n",
      "0.10000728916101757\n"
     ]
    },
    {
     "name": "stderr",
     "output_type": "stream",
     "text": [
      "/Users/larsvanderlaan/repos/VennCalibration/myenv2/lib/python3.13/site-packages/mapie/utils.py:620: UserWarning: WARNING: The predictions are ill-sorted.\n",
      "  warnings.warn(\n",
      "/Users/larsvanderlaan/repos/VennCalibration/myenv2/lib/python3.13/site-packages/mapie/utils.py:620: UserWarning: WARNING: The predictions are ill-sorted.\n",
      "  warnings.warn(\n"
     ]
    },
    {
     "name": "stdout",
     "output_type": "stream",
     "text": [
      "0.1\n",
      "0.10000728916101757\n"
     ]
    },
    {
     "name": "stderr",
     "output_type": "stream",
     "text": [
      "/Users/larsvanderlaan/repos/VennCalibration/myenv2/lib/python3.13/site-packages/mapie/utils.py:620: UserWarning: WARNING: The predictions are ill-sorted.\n",
      "  warnings.warn(\n",
      "/Users/larsvanderlaan/repos/VennCalibration/myenv2/lib/python3.13/site-packages/mapie/utils.py:620: UserWarning: WARNING: The predictions are ill-sorted.\n",
      "  warnings.warn(\n"
     ]
    },
    {
     "name": "stdout",
     "output_type": "stream",
     "text": [
      "0.1\n",
      "0.10000728916101757\n"
     ]
    },
    {
     "name": "stderr",
     "output_type": "stream",
     "text": [
      "/Users/larsvanderlaan/repos/VennCalibration/myenv2/lib/python3.13/site-packages/mapie/utils.py:620: UserWarning: WARNING: The predictions are ill-sorted.\n",
      "  warnings.warn(\n",
      "/Users/larsvanderlaan/repos/VennCalibration/myenv2/lib/python3.13/site-packages/mapie/utils.py:620: UserWarning: WARNING: The predictions are ill-sorted.\n",
      "  warnings.warn(\n"
     ]
    },
    {
     "name": "stdout",
     "output_type": "stream",
     "text": [
      "0.1\n",
      "0.10000728916101757\n"
     ]
    },
    {
     "name": "stderr",
     "output_type": "stream",
     "text": [
      "/Users/larsvanderlaan/repos/VennCalibration/myenv2/lib/python3.13/site-packages/mapie/utils.py:620: UserWarning: WARNING: The predictions are ill-sorted.\n",
      "  warnings.warn(\n",
      "/Users/larsvanderlaan/repos/VennCalibration/myenv2/lib/python3.13/site-packages/mapie/utils.py:620: UserWarning: WARNING: The predictions are ill-sorted.\n",
      "  warnings.warn(\n"
     ]
    },
    {
     "name": "stdout",
     "output_type": "stream",
     "text": [
      "0.1\n",
      "0.10000728916101757\n"
     ]
    },
    {
     "name": "stderr",
     "output_type": "stream",
     "text": [
      "/Users/larsvanderlaan/repos/VennCalibration/myenv2/lib/python3.13/site-packages/mapie/utils.py:620: UserWarning: WARNING: The predictions are ill-sorted.\n",
      "  warnings.warn(\n",
      "/Users/larsvanderlaan/repos/VennCalibration/myenv2/lib/python3.13/site-packages/mapie/utils.py:620: UserWarning: WARNING: The predictions are ill-sorted.\n",
      "  warnings.warn(\n"
     ]
    },
    {
     "name": "stdout",
     "output_type": "stream",
     "text": [
      "0.1\n",
      "0.10000728916101757\n"
     ]
    },
    {
     "name": "stderr",
     "output_type": "stream",
     "text": [
      "/Users/larsvanderlaan/repos/VennCalibration/myenv2/lib/python3.13/site-packages/mapie/utils.py:620: UserWarning: WARNING: The predictions are ill-sorted.\n",
      "  warnings.warn(\n",
      "/Users/larsvanderlaan/repos/VennCalibration/myenv2/lib/python3.13/site-packages/mapie/utils.py:620: UserWarning: WARNING: The predictions are ill-sorted.\n",
      "  warnings.warn(\n"
     ]
    },
    {
     "name": "stdout",
     "output_type": "stream",
     "text": [
      "0.1\n",
      "0.10000728916101757\n"
     ]
    },
    {
     "name": "stderr",
     "output_type": "stream",
     "text": [
      "/Users/larsvanderlaan/repos/VennCalibration/myenv2/lib/python3.13/site-packages/mapie/utils.py:620: UserWarning: WARNING: The predictions are ill-sorted.\n",
      "  warnings.warn(\n",
      "/Users/larsvanderlaan/repos/VennCalibration/myenv2/lib/python3.13/site-packages/mapie/utils.py:620: UserWarning: WARNING: The predictions are ill-sorted.\n",
      "  warnings.warn(\n"
     ]
    },
    {
     "name": "stdout",
     "output_type": "stream",
     "text": [
      "0.1\n",
      "0.10000728916101757\n"
     ]
    },
    {
     "name": "stderr",
     "output_type": "stream",
     "text": [
      "/Users/larsvanderlaan/repos/VennCalibration/myenv2/lib/python3.13/site-packages/mapie/utils.py:620: UserWarning: WARNING: The predictions are ill-sorted.\n",
      "  warnings.warn(\n",
      "/Users/larsvanderlaan/repos/VennCalibration/myenv2/lib/python3.13/site-packages/mapie/utils.py:620: UserWarning: WARNING: The predictions are ill-sorted.\n",
      "  warnings.warn(\n"
     ]
    },
    {
     "name": "stdout",
     "output_type": "stream",
     "text": [
      "0.1\n",
      "0.10000728916101757\n"
     ]
    },
    {
     "name": "stderr",
     "output_type": "stream",
     "text": [
      "/Users/larsvanderlaan/repos/VennCalibration/myenv2/lib/python3.13/site-packages/mapie/utils.py:620: UserWarning: WARNING: The predictions are ill-sorted.\n",
      "  warnings.warn(\n",
      "/Users/larsvanderlaan/repos/VennCalibration/myenv2/lib/python3.13/site-packages/mapie/utils.py:620: UserWarning: WARNING: The predictions are ill-sorted.\n",
      "  warnings.warn(\n"
     ]
    },
    {
     "name": "stdout",
     "output_type": "stream",
     "text": [
      "0.1\n",
      "0.10000728916101757\n"
     ]
    },
    {
     "name": "stderr",
     "output_type": "stream",
     "text": [
      "/Users/larsvanderlaan/repos/VennCalibration/myenv2/lib/python3.13/site-packages/mapie/utils.py:620: UserWarning: WARNING: The predictions are ill-sorted.\n",
      "  warnings.warn(\n",
      "/Users/larsvanderlaan/repos/VennCalibration/myenv2/lib/python3.13/site-packages/mapie/utils.py:620: UserWarning: WARNING: The predictions are ill-sorted.\n",
      "  warnings.warn(\n"
     ]
    },
    {
     "name": "stdout",
     "output_type": "stream",
     "text": [
      "0.1\n",
      "0.10000728916101757\n"
     ]
    },
    {
     "name": "stderr",
     "output_type": "stream",
     "text": [
      "/Users/larsvanderlaan/repos/VennCalibration/myenv2/lib/python3.13/site-packages/mapie/utils.py:620: UserWarning: WARNING: The predictions are ill-sorted.\n",
      "  warnings.warn(\n",
      "/Users/larsvanderlaan/repos/VennCalibration/myenv2/lib/python3.13/site-packages/mapie/utils.py:620: UserWarning: WARNING: The predictions are ill-sorted.\n",
      "  warnings.warn(\n"
     ]
    },
    {
     "name": "stdout",
     "output_type": "stream",
     "text": [
      "0.1\n",
      "0.10000728916101757\n"
     ]
    },
    {
     "name": "stderr",
     "output_type": "stream",
     "text": [
      "/Users/larsvanderlaan/repos/VennCalibration/myenv2/lib/python3.13/site-packages/mapie/utils.py:620: UserWarning: WARNING: The predictions are ill-sorted.\n",
      "  warnings.warn(\n",
      "/Users/larsvanderlaan/repos/VennCalibration/myenv2/lib/python3.13/site-packages/mapie/utils.py:620: UserWarning: WARNING: The predictions are ill-sorted.\n",
      "  warnings.warn(\n"
     ]
    },
    {
     "name": "stdout",
     "output_type": "stream",
     "text": [
      "0.1\n",
      "0.10000728916101757\n"
     ]
    },
    {
     "name": "stderr",
     "output_type": "stream",
     "text": [
      "/Users/larsvanderlaan/repos/VennCalibration/myenv2/lib/python3.13/site-packages/mapie/utils.py:620: UserWarning: WARNING: The predictions are ill-sorted.\n",
      "  warnings.warn(\n",
      "/Users/larsvanderlaan/repos/VennCalibration/myenv2/lib/python3.13/site-packages/mapie/utils.py:620: UserWarning: WARNING: The predictions are ill-sorted.\n",
      "  warnings.warn(\n"
     ]
    },
    {
     "name": "stdout",
     "output_type": "stream",
     "text": [
      "0.1\n",
      "0.10000728916101757\n"
     ]
    },
    {
     "name": "stderr",
     "output_type": "stream",
     "text": [
      "/Users/larsvanderlaan/repos/VennCalibration/myenv2/lib/python3.13/site-packages/mapie/utils.py:620: UserWarning: WARNING: The predictions are ill-sorted.\n",
      "  warnings.warn(\n",
      "/Users/larsvanderlaan/repos/VennCalibration/myenv2/lib/python3.13/site-packages/mapie/utils.py:620: UserWarning: WARNING: The predictions are ill-sorted.\n",
      "  warnings.warn(\n"
     ]
    },
    {
     "name": "stdout",
     "output_type": "stream",
     "text": [
      "0.1\n",
      "0.10000728916101757\n"
     ]
    },
    {
     "name": "stderr",
     "output_type": "stream",
     "text": [
      "/Users/larsvanderlaan/repos/VennCalibration/myenv2/lib/python3.13/site-packages/mapie/utils.py:620: UserWarning: WARNING: The predictions are ill-sorted.\n",
      "  warnings.warn(\n",
      "/Users/larsvanderlaan/repos/VennCalibration/myenv2/lib/python3.13/site-packages/mapie/utils.py:620: UserWarning: WARNING: The predictions are ill-sorted.\n",
      "  warnings.warn(\n"
     ]
    },
    {
     "name": "stdout",
     "output_type": "stream",
     "text": [
      "0.1\n",
      "0.10000728916101757\n"
     ]
    },
    {
     "name": "stderr",
     "output_type": "stream",
     "text": [
      "/Users/larsvanderlaan/repos/VennCalibration/myenv2/lib/python3.13/site-packages/mapie/utils.py:620: UserWarning: WARNING: The predictions are ill-sorted.\n",
      "  warnings.warn(\n",
      "/Users/larsvanderlaan/repos/VennCalibration/myenv2/lib/python3.13/site-packages/mapie/utils.py:620: UserWarning: WARNING: The predictions are ill-sorted.\n",
      "  warnings.warn(\n"
     ]
    },
    {
     "name": "stdout",
     "output_type": "stream",
     "text": [
      "0.1\n",
      "0.10000728916101757\n"
     ]
    },
    {
     "name": "stderr",
     "output_type": "stream",
     "text": [
      "/Users/larsvanderlaan/repos/VennCalibration/myenv2/lib/python3.13/site-packages/mapie/utils.py:620: UserWarning: WARNING: The predictions are ill-sorted.\n",
      "  warnings.warn(\n",
      "/Users/larsvanderlaan/repos/VennCalibration/myenv2/lib/python3.13/site-packages/mapie/utils.py:620: UserWarning: WARNING: The predictions are ill-sorted.\n",
      "  warnings.warn(\n"
     ]
    },
    {
     "name": "stdout",
     "output_type": "stream",
     "text": [
      "0.1\n",
      "0.10000728916101757\n"
     ]
    },
    {
     "name": "stderr",
     "output_type": "stream",
     "text": [
      "/Users/larsvanderlaan/repos/VennCalibration/myenv2/lib/python3.13/site-packages/mapie/utils.py:620: UserWarning: WARNING: The predictions are ill-sorted.\n",
      "  warnings.warn(\n",
      "/Users/larsvanderlaan/repos/VennCalibration/myenv2/lib/python3.13/site-packages/mapie/utils.py:620: UserWarning: WARNING: The predictions are ill-sorted.\n",
      "  warnings.warn(\n"
     ]
    },
    {
     "name": "stdout",
     "output_type": "stream",
     "text": [
      "0.1\n",
      "0.10000728916101757\n"
     ]
    },
    {
     "name": "stderr",
     "output_type": "stream",
     "text": [
      "/Users/larsvanderlaan/repos/VennCalibration/myenv2/lib/python3.13/site-packages/mapie/utils.py:620: UserWarning: WARNING: The predictions are ill-sorted.\n",
      "  warnings.warn(\n",
      "/Users/larsvanderlaan/repos/VennCalibration/myenv2/lib/python3.13/site-packages/mapie/utils.py:620: UserWarning: WARNING: The predictions are ill-sorted.\n",
      "  warnings.warn(\n"
     ]
    },
    {
     "name": "stdout",
     "output_type": "stream",
     "text": [
      "0.1\n",
      "0.10000728916101757\n"
     ]
    },
    {
     "name": "stderr",
     "output_type": "stream",
     "text": [
      "/Users/larsvanderlaan/repos/VennCalibration/myenv2/lib/python3.13/site-packages/mapie/utils.py:620: UserWarning: WARNING: The predictions are ill-sorted.\n",
      "  warnings.warn(\n",
      "/Users/larsvanderlaan/repos/VennCalibration/myenv2/lib/python3.13/site-packages/mapie/utils.py:620: UserWarning: WARNING: The predictions are ill-sorted.\n",
      "  warnings.warn(\n"
     ]
    },
    {
     "name": "stdout",
     "output_type": "stream",
     "text": [
      "0.1\n",
      "0.10000728916101757\n"
     ]
    },
    {
     "name": "stderr",
     "output_type": "stream",
     "text": [
      "/Users/larsvanderlaan/repos/VennCalibration/myenv2/lib/python3.13/site-packages/mapie/utils.py:620: UserWarning: WARNING: The predictions are ill-sorted.\n",
      "  warnings.warn(\n",
      "/Users/larsvanderlaan/repos/VennCalibration/myenv2/lib/python3.13/site-packages/mapie/utils.py:620: UserWarning: WARNING: The predictions are ill-sorted.\n",
      "  warnings.warn(\n"
     ]
    },
    {
     "name": "stdout",
     "output_type": "stream",
     "text": [
      "0.1\n",
      "0.10000728916101757\n"
     ]
    },
    {
     "name": "stderr",
     "output_type": "stream",
     "text": [
      "/Users/larsvanderlaan/repos/VennCalibration/myenv2/lib/python3.13/site-packages/mapie/utils.py:620: UserWarning: WARNING: The predictions are ill-sorted.\n",
      "  warnings.warn(\n",
      "/Users/larsvanderlaan/repos/VennCalibration/myenv2/lib/python3.13/site-packages/mapie/utils.py:620: UserWarning: WARNING: The predictions are ill-sorted.\n",
      "  warnings.warn(\n"
     ]
    },
    {
     "name": "stdout",
     "output_type": "stream",
     "text": [
      "0.1\n",
      "0.10000728916101757\n"
     ]
    },
    {
     "name": "stderr",
     "output_type": "stream",
     "text": [
      "/Users/larsvanderlaan/repos/VennCalibration/myenv2/lib/python3.13/site-packages/mapie/utils.py:620: UserWarning: WARNING: The predictions are ill-sorted.\n",
      "  warnings.warn(\n",
      "/Users/larsvanderlaan/repos/VennCalibration/myenv2/lib/python3.13/site-packages/mapie/utils.py:620: UserWarning: WARNING: The predictions are ill-sorted.\n",
      "  warnings.warn(\n"
     ]
    },
    {
     "name": "stdout",
     "output_type": "stream",
     "text": [
      "0.1\n",
      "0.10000728916101757\n"
     ]
    },
    {
     "name": "stderr",
     "output_type": "stream",
     "text": [
      "/Users/larsvanderlaan/repos/VennCalibration/myenv2/lib/python3.13/site-packages/mapie/utils.py:620: UserWarning: WARNING: The predictions are ill-sorted.\n",
      "  warnings.warn(\n",
      "/Users/larsvanderlaan/repos/VennCalibration/myenv2/lib/python3.13/site-packages/mapie/utils.py:620: UserWarning: WARNING: The predictions are ill-sorted.\n",
      "  warnings.warn(\n"
     ]
    },
    {
     "name": "stdout",
     "output_type": "stream",
     "text": [
      "0.1\n",
      "0.10000728916101757\n"
     ]
    },
    {
     "name": "stderr",
     "output_type": "stream",
     "text": [
      "/Users/larsvanderlaan/repos/VennCalibration/myenv2/lib/python3.13/site-packages/mapie/utils.py:620: UserWarning: WARNING: The predictions are ill-sorted.\n",
      "  warnings.warn(\n",
      "/Users/larsvanderlaan/repos/VennCalibration/myenv2/lib/python3.13/site-packages/mapie/utils.py:620: UserWarning: WARNING: The predictions are ill-sorted.\n",
      "  warnings.warn(\n"
     ]
    },
    {
     "name": "stdout",
     "output_type": "stream",
     "text": [
      "0.1\n",
      "0.10000728916101757\n"
     ]
    },
    {
     "name": "stderr",
     "output_type": "stream",
     "text": [
      "/Users/larsvanderlaan/repos/VennCalibration/myenv2/lib/python3.13/site-packages/mapie/utils.py:620: UserWarning: WARNING: The predictions are ill-sorted.\n",
      "  warnings.warn(\n",
      "/Users/larsvanderlaan/repos/VennCalibration/myenv2/lib/python3.13/site-packages/mapie/utils.py:620: UserWarning: WARNING: The predictions are ill-sorted.\n",
      "  warnings.warn(\n"
     ]
    },
    {
     "name": "stdout",
     "output_type": "stream",
     "text": [
      "0.1\n",
      "0.10000728916101757\n"
     ]
    },
    {
     "name": "stderr",
     "output_type": "stream",
     "text": [
      "/Users/larsvanderlaan/repos/VennCalibration/myenv2/lib/python3.13/site-packages/mapie/utils.py:620: UserWarning: WARNING: The predictions are ill-sorted.\n",
      "  warnings.warn(\n",
      "/Users/larsvanderlaan/repos/VennCalibration/myenv2/lib/python3.13/site-packages/mapie/utils.py:620: UserWarning: WARNING: The predictions are ill-sorted.\n",
      "  warnings.warn(\n"
     ]
    },
    {
     "name": "stdout",
     "output_type": "stream",
     "text": [
      "0.1\n",
      "0.10000728916101757\n"
     ]
    },
    {
     "name": "stderr",
     "output_type": "stream",
     "text": [
      "/Users/larsvanderlaan/repos/VennCalibration/myenv2/lib/python3.13/site-packages/mapie/utils.py:620: UserWarning: WARNING: The predictions are ill-sorted.\n",
      "  warnings.warn(\n",
      "/Users/larsvanderlaan/repos/VennCalibration/myenv2/lib/python3.13/site-packages/mapie/utils.py:620: UserWarning: WARNING: The predictions are ill-sorted.\n",
      "  warnings.warn(\n"
     ]
    },
    {
     "name": "stdout",
     "output_type": "stream",
     "text": [
      "0.1\n",
      "0.10000728916101757\n"
     ]
    },
    {
     "name": "stderr",
     "output_type": "stream",
     "text": [
      "/Users/larsvanderlaan/repos/VennCalibration/myenv2/lib/python3.13/site-packages/mapie/utils.py:620: UserWarning: WARNING: The predictions are ill-sorted.\n",
      "  warnings.warn(\n",
      "/Users/larsvanderlaan/repos/VennCalibration/myenv2/lib/python3.13/site-packages/mapie/utils.py:620: UserWarning: WARNING: The predictions are ill-sorted.\n",
      "  warnings.warn(\n"
     ]
    },
    {
     "name": "stdout",
     "output_type": "stream",
     "text": [
      "0.1\n",
      "0.10000728916101757\n"
     ]
    },
    {
     "name": "stderr",
     "output_type": "stream",
     "text": [
      "/Users/larsvanderlaan/repos/VennCalibration/myenv2/lib/python3.13/site-packages/mapie/utils.py:620: UserWarning: WARNING: The predictions are ill-sorted.\n",
      "  warnings.warn(\n",
      "/Users/larsvanderlaan/repos/VennCalibration/myenv2/lib/python3.13/site-packages/mapie/utils.py:620: UserWarning: WARNING: The predictions are ill-sorted.\n",
      "  warnings.warn(\n"
     ]
    },
    {
     "name": "stdout",
     "output_type": "stream",
     "text": [
      "0.1\n",
      "0.10000728916101757\n"
     ]
    },
    {
     "name": "stderr",
     "output_type": "stream",
     "text": [
      "/Users/larsvanderlaan/repos/VennCalibration/myenv2/lib/python3.13/site-packages/mapie/utils.py:620: UserWarning: WARNING: The predictions are ill-sorted.\n",
      "  warnings.warn(\n",
      "/Users/larsvanderlaan/repos/VennCalibration/myenv2/lib/python3.13/site-packages/mapie/utils.py:620: UserWarning: WARNING: The predictions are ill-sorted.\n",
      "  warnings.warn(\n"
     ]
    },
    {
     "name": "stdout",
     "output_type": "stream",
     "text": [
      "0.1\n",
      "0.10000728916101757\n"
     ]
    },
    {
     "name": "stderr",
     "output_type": "stream",
     "text": [
      "/Users/larsvanderlaan/repos/VennCalibration/myenv2/lib/python3.13/site-packages/mapie/utils.py:620: UserWarning: WARNING: The predictions are ill-sorted.\n",
      "  warnings.warn(\n",
      "/Users/larsvanderlaan/repos/VennCalibration/myenv2/lib/python3.13/site-packages/mapie/utils.py:620: UserWarning: WARNING: The predictions are ill-sorted.\n",
      "  warnings.warn(\n"
     ]
    },
    {
     "name": "stdout",
     "output_type": "stream",
     "text": [
      "0.1\n",
      "0.10000728916101757\n"
     ]
    },
    {
     "name": "stderr",
     "output_type": "stream",
     "text": [
      "/Users/larsvanderlaan/repos/VennCalibration/myenv2/lib/python3.13/site-packages/mapie/utils.py:620: UserWarning: WARNING: The predictions are ill-sorted.\n",
      "  warnings.warn(\n",
      "/Users/larsvanderlaan/repos/VennCalibration/myenv2/lib/python3.13/site-packages/mapie/utils.py:620: UserWarning: WARNING: The predictions are ill-sorted.\n",
      "  warnings.warn(\n"
     ]
    },
    {
     "name": "stdout",
     "output_type": "stream",
     "text": [
      "0.1\n",
      "0.10000728916101757\n"
     ]
    },
    {
     "name": "stderr",
     "output_type": "stream",
     "text": [
      "/Users/larsvanderlaan/repos/VennCalibration/myenv2/lib/python3.13/site-packages/mapie/utils.py:620: UserWarning: WARNING: The predictions are ill-sorted.\n",
      "  warnings.warn(\n",
      "/Users/larsvanderlaan/repos/VennCalibration/myenv2/lib/python3.13/site-packages/mapie/utils.py:620: UserWarning: WARNING: The predictions are ill-sorted.\n",
      "  warnings.warn(\n"
     ]
    },
    {
     "name": "stdout",
     "output_type": "stream",
     "text": [
      "0.1\n",
      "0.10000728916101757\n"
     ]
    },
    {
     "name": "stderr",
     "output_type": "stream",
     "text": [
      "/Users/larsvanderlaan/repos/VennCalibration/myenv2/lib/python3.13/site-packages/mapie/utils.py:620: UserWarning: WARNING: The predictions are ill-sorted.\n",
      "  warnings.warn(\n",
      "/Users/larsvanderlaan/repos/VennCalibration/myenv2/lib/python3.13/site-packages/mapie/utils.py:620: UserWarning: WARNING: The predictions are ill-sorted.\n",
      "  warnings.warn(\n"
     ]
    },
    {
     "name": "stdout",
     "output_type": "stream",
     "text": [
      "0.1\n",
      "0.10000728916101757\n"
     ]
    },
    {
     "name": "stderr",
     "output_type": "stream",
     "text": [
      "/Users/larsvanderlaan/repos/VennCalibration/myenv2/lib/python3.13/site-packages/mapie/utils.py:620: UserWarning: WARNING: The predictions are ill-sorted.\n",
      "  warnings.warn(\n",
      "/Users/larsvanderlaan/repos/VennCalibration/myenv2/lib/python3.13/site-packages/mapie/utils.py:620: UserWarning: WARNING: The predictions are ill-sorted.\n",
      "  warnings.warn(\n"
     ]
    },
    {
     "name": "stdout",
     "output_type": "stream",
     "text": [
      "0.1\n",
      "0.10000728916101757\n"
     ]
    },
    {
     "name": "stderr",
     "output_type": "stream",
     "text": [
      "/Users/larsvanderlaan/repos/VennCalibration/myenv2/lib/python3.13/site-packages/mapie/utils.py:620: UserWarning: WARNING: The predictions are ill-sorted.\n",
      "  warnings.warn(\n",
      "/Users/larsvanderlaan/repos/VennCalibration/myenv2/lib/python3.13/site-packages/mapie/utils.py:620: UserWarning: WARNING: The predictions are ill-sorted.\n",
      "  warnings.warn(\n"
     ]
    },
    {
     "name": "stdout",
     "output_type": "stream",
     "text": [
      "0.1\n",
      "0.10000728916101757\n"
     ]
    },
    {
     "name": "stderr",
     "output_type": "stream",
     "text": [
      "/Users/larsvanderlaan/repos/VennCalibration/myenv2/lib/python3.13/site-packages/mapie/utils.py:620: UserWarning: WARNING: The predictions are ill-sorted.\n",
      "  warnings.warn(\n",
      "/Users/larsvanderlaan/repos/VennCalibration/myenv2/lib/python3.13/site-packages/mapie/utils.py:620: UserWarning: WARNING: The predictions are ill-sorted.\n",
      "  warnings.warn(\n"
     ]
    },
    {
     "name": "stdout",
     "output_type": "stream",
     "text": [
      "0.1\n",
      "0.10000728916101757\n"
     ]
    },
    {
     "name": "stderr",
     "output_type": "stream",
     "text": [
      "/Users/larsvanderlaan/repos/VennCalibration/myenv2/lib/python3.13/site-packages/mapie/utils.py:620: UserWarning: WARNING: The predictions are ill-sorted.\n",
      "  warnings.warn(\n",
      "/Users/larsvanderlaan/repos/VennCalibration/myenv2/lib/python3.13/site-packages/mapie/utils.py:620: UserWarning: WARNING: The predictions are ill-sorted.\n",
      "  warnings.warn(\n"
     ]
    },
    {
     "name": "stdout",
     "output_type": "stream",
     "text": [
      "0.1\n",
      "0.10000728916101757\n"
     ]
    },
    {
     "name": "stderr",
     "output_type": "stream",
     "text": [
      "/Users/larsvanderlaan/repos/VennCalibration/myenv2/lib/python3.13/site-packages/mapie/utils.py:620: UserWarning: WARNING: The predictions are ill-sorted.\n",
      "  warnings.warn(\n",
      "/Users/larsvanderlaan/repos/VennCalibration/myenv2/lib/python3.13/site-packages/mapie/utils.py:620: UserWarning: WARNING: The predictions are ill-sorted.\n",
      "  warnings.warn(\n"
     ]
    },
    {
     "name": "stdout",
     "output_type": "stream",
     "text": [
      "0.1\n",
      "0.10000728916101757\n"
     ]
    },
    {
     "name": "stderr",
     "output_type": "stream",
     "text": [
      "/Users/larsvanderlaan/repos/VennCalibration/myenv2/lib/python3.13/site-packages/mapie/utils.py:620: UserWarning: WARNING: The predictions are ill-sorted.\n",
      "  warnings.warn(\n",
      "/Users/larsvanderlaan/repos/VennCalibration/myenv2/lib/python3.13/site-packages/mapie/utils.py:620: UserWarning: WARNING: The predictions are ill-sorted.\n",
      "  warnings.warn(\n"
     ]
    },
    {
     "name": "stdout",
     "output_type": "stream",
     "text": [
      "0.1\n",
      "0.10000728916101757\n"
     ]
    },
    {
     "name": "stderr",
     "output_type": "stream",
     "text": [
      "/Users/larsvanderlaan/repos/VennCalibration/myenv2/lib/python3.13/site-packages/mapie/utils.py:620: UserWarning: WARNING: The predictions are ill-sorted.\n",
      "  warnings.warn(\n",
      "/Users/larsvanderlaan/repos/VennCalibration/myenv2/lib/python3.13/site-packages/mapie/utils.py:620: UserWarning: WARNING: The predictions are ill-sorted.\n",
      "  warnings.warn(\n"
     ]
    },
    {
     "name": "stdout",
     "output_type": "stream",
     "text": [
      "0.1\n",
      "0.10000728916101757\n"
     ]
    },
    {
     "name": "stderr",
     "output_type": "stream",
     "text": [
      "/Users/larsvanderlaan/repos/VennCalibration/myenv2/lib/python3.13/site-packages/mapie/utils.py:620: UserWarning: WARNING: The predictions are ill-sorted.\n",
      "  warnings.warn(\n",
      "/Users/larsvanderlaan/repos/VennCalibration/myenv2/lib/python3.13/site-packages/mapie/utils.py:620: UserWarning: WARNING: The predictions are ill-sorted.\n",
      "  warnings.warn(\n"
     ]
    },
    {
     "name": "stdout",
     "output_type": "stream",
     "text": [
      "0.1\n",
      "0.10000728916101757\n"
     ]
    },
    {
     "name": "stderr",
     "output_type": "stream",
     "text": [
      "/Users/larsvanderlaan/repos/VennCalibration/myenv2/lib/python3.13/site-packages/mapie/utils.py:620: UserWarning: WARNING: The predictions are ill-sorted.\n",
      "  warnings.warn(\n",
      "/Users/larsvanderlaan/repos/VennCalibration/myenv2/lib/python3.13/site-packages/mapie/utils.py:620: UserWarning: WARNING: The predictions are ill-sorted.\n",
      "  warnings.warn(\n"
     ]
    },
    {
     "name": "stdout",
     "output_type": "stream",
     "text": [
      "0.1\n",
      "0.10000728916101757\n"
     ]
    },
    {
     "name": "stderr",
     "output_type": "stream",
     "text": [
      "/Users/larsvanderlaan/repos/VennCalibration/myenv2/lib/python3.13/site-packages/mapie/utils.py:620: UserWarning: WARNING: The predictions are ill-sorted.\n",
      "  warnings.warn(\n",
      "/Users/larsvanderlaan/repos/VennCalibration/myenv2/lib/python3.13/site-packages/mapie/utils.py:620: UserWarning: WARNING: The predictions are ill-sorted.\n",
      "  warnings.warn(\n"
     ]
    },
    {
     "name": "stdout",
     "output_type": "stream",
     "text": [
      "0.1\n",
      "0.10000728916101757\n"
     ]
    },
    {
     "name": "stderr",
     "output_type": "stream",
     "text": [
      "/Users/larsvanderlaan/repos/VennCalibration/myenv2/lib/python3.13/site-packages/mapie/utils.py:620: UserWarning: WARNING: The predictions are ill-sorted.\n",
      "  warnings.warn(\n",
      "/Users/larsvanderlaan/repos/VennCalibration/myenv2/lib/python3.13/site-packages/mapie/utils.py:620: UserWarning: WARNING: The predictions are ill-sorted.\n",
      "  warnings.warn(\n"
     ]
    },
    {
     "name": "stdout",
     "output_type": "stream",
     "text": [
      "0.1\n",
      "0.10000728916101757\n"
     ]
    },
    {
     "name": "stderr",
     "output_type": "stream",
     "text": [
      "/Users/larsvanderlaan/repos/VennCalibration/myenv2/lib/python3.13/site-packages/mapie/utils.py:620: UserWarning: WARNING: The predictions are ill-sorted.\n",
      "  warnings.warn(\n",
      "/Users/larsvanderlaan/repos/VennCalibration/myenv2/lib/python3.13/site-packages/mapie/utils.py:620: UserWarning: WARNING: The predictions are ill-sorted.\n",
      "  warnings.warn(\n"
     ]
    },
    {
     "name": "stdout",
     "output_type": "stream",
     "text": [
      "0.1\n",
      "0.10000728916101757\n"
     ]
    },
    {
     "name": "stderr",
     "output_type": "stream",
     "text": [
      "/Users/larsvanderlaan/repos/VennCalibration/myenv2/lib/python3.13/site-packages/mapie/utils.py:620: UserWarning: WARNING: The predictions are ill-sorted.\n",
      "  warnings.warn(\n",
      "/Users/larsvanderlaan/repos/VennCalibration/myenv2/lib/python3.13/site-packages/mapie/utils.py:620: UserWarning: WARNING: The predictions are ill-sorted.\n",
      "  warnings.warn(\n"
     ]
    },
    {
     "name": "stdout",
     "output_type": "stream",
     "text": [
      "0.1\n",
      "0.10000728916101757\n"
     ]
    },
    {
     "name": "stderr",
     "output_type": "stream",
     "text": [
      "/Users/larsvanderlaan/repos/VennCalibration/myenv2/lib/python3.13/site-packages/mapie/utils.py:620: UserWarning: WARNING: The predictions are ill-sorted.\n",
      "  warnings.warn(\n",
      "/Users/larsvanderlaan/repos/VennCalibration/myenv2/lib/python3.13/site-packages/mapie/utils.py:620: UserWarning: WARNING: The predictions are ill-sorted.\n",
      "  warnings.warn(\n"
     ]
    },
    {
     "name": "stdout",
     "output_type": "stream",
     "text": [
      "0.1\n",
      "0.10000728916101757\n"
     ]
    },
    {
     "name": "stderr",
     "output_type": "stream",
     "text": [
      "/Users/larsvanderlaan/repos/VennCalibration/myenv2/lib/python3.13/site-packages/mapie/utils.py:620: UserWarning: WARNING: The predictions are ill-sorted.\n",
      "  warnings.warn(\n",
      "/Users/larsvanderlaan/repos/VennCalibration/myenv2/lib/python3.13/site-packages/mapie/utils.py:620: UserWarning: WARNING: The predictions are ill-sorted.\n",
      "  warnings.warn(\n"
     ]
    },
    {
     "name": "stdout",
     "output_type": "stream",
     "text": [
      "0.1\n",
      "0.10000728916101757\n"
     ]
    },
    {
     "name": "stderr",
     "output_type": "stream",
     "text": [
      "/Users/larsvanderlaan/repos/VennCalibration/myenv2/lib/python3.13/site-packages/mapie/utils.py:620: UserWarning: WARNING: The predictions are ill-sorted.\n",
      "  warnings.warn(\n",
      "/Users/larsvanderlaan/repos/VennCalibration/myenv2/lib/python3.13/site-packages/mapie/utils.py:620: UserWarning: WARNING: The predictions are ill-sorted.\n",
      "  warnings.warn(\n"
     ]
    },
    {
     "name": "stdout",
     "output_type": "stream",
     "text": [
      "0.1\n",
      "0.10000728916101757\n"
     ]
    },
    {
     "name": "stderr",
     "output_type": "stream",
     "text": [
      "/Users/larsvanderlaan/repos/VennCalibration/myenv2/lib/python3.13/site-packages/mapie/utils.py:620: UserWarning: WARNING: The predictions are ill-sorted.\n",
      "  warnings.warn(\n",
      "/Users/larsvanderlaan/repos/VennCalibration/myenv2/lib/python3.13/site-packages/mapie/utils.py:620: UserWarning: WARNING: The predictions are ill-sorted.\n",
      "  warnings.warn(\n"
     ]
    },
    {
     "name": "stdout",
     "output_type": "stream",
     "text": [
      "0.1\n",
      "0.10000728916101757\n"
     ]
    },
    {
     "name": "stderr",
     "output_type": "stream",
     "text": [
      "/Users/larsvanderlaan/repos/VennCalibration/myenv2/lib/python3.13/site-packages/mapie/utils.py:620: UserWarning: WARNING: The predictions are ill-sorted.\n",
      "  warnings.warn(\n",
      "/Users/larsvanderlaan/repos/VennCalibration/myenv2/lib/python3.13/site-packages/mapie/utils.py:620: UserWarning: WARNING: The predictions are ill-sorted.\n",
      "  warnings.warn(\n"
     ]
    },
    {
     "name": "stdout",
     "output_type": "stream",
     "text": [
      "0.1\n",
      "0.10000728916101757\n"
     ]
    },
    {
     "name": "stderr",
     "output_type": "stream",
     "text": [
      "/Users/larsvanderlaan/repos/VennCalibration/myenv2/lib/python3.13/site-packages/mapie/utils.py:620: UserWarning: WARNING: The predictions are ill-sorted.\n",
      "  warnings.warn(\n",
      "/Users/larsvanderlaan/repos/VennCalibration/myenv2/lib/python3.13/site-packages/mapie/utils.py:620: UserWarning: WARNING: The predictions are ill-sorted.\n",
      "  warnings.warn(\n"
     ]
    },
    {
     "name": "stdout",
     "output_type": "stream",
     "text": [
      "0.1\n",
      "0.10000728916101757\n"
     ]
    },
    {
     "name": "stderr",
     "output_type": "stream",
     "text": [
      "/Users/larsvanderlaan/repos/VennCalibration/myenv2/lib/python3.13/site-packages/mapie/utils.py:620: UserWarning: WARNING: The predictions are ill-sorted.\n",
      "  warnings.warn(\n",
      "/Users/larsvanderlaan/repos/VennCalibration/myenv2/lib/python3.13/site-packages/mapie/utils.py:620: UserWarning: WARNING: The predictions are ill-sorted.\n",
      "  warnings.warn(\n"
     ]
    },
    {
     "name": "stdout",
     "output_type": "stream",
     "text": [
      "0.1\n",
      "0.10000728916101757\n"
     ]
    },
    {
     "name": "stderr",
     "output_type": "stream",
     "text": [
      "/Users/larsvanderlaan/repos/VennCalibration/myenv2/lib/python3.13/site-packages/mapie/utils.py:620: UserWarning: WARNING: The predictions are ill-sorted.\n",
      "  warnings.warn(\n",
      "/Users/larsvanderlaan/repos/VennCalibration/myenv2/lib/python3.13/site-packages/mapie/utils.py:620: UserWarning: WARNING: The predictions are ill-sorted.\n",
      "  warnings.warn(\n"
     ]
    },
    {
     "name": "stdout",
     "output_type": "stream",
     "text": [
      "0.1\n",
      "0.10000728916101757\n"
     ]
    },
    {
     "name": "stderr",
     "output_type": "stream",
     "text": [
      "/Users/larsvanderlaan/repos/VennCalibration/myenv2/lib/python3.13/site-packages/mapie/utils.py:620: UserWarning: WARNING: The predictions are ill-sorted.\n",
      "  warnings.warn(\n",
      "/Users/larsvanderlaan/repos/VennCalibration/myenv2/lib/python3.13/site-packages/mapie/utils.py:620: UserWarning: WARNING: The predictions are ill-sorted.\n",
      "  warnings.warn(\n"
     ]
    },
    {
     "name": "stdout",
     "output_type": "stream",
     "text": [
      "0.1\n",
      "0.10000728916101757\n"
     ]
    },
    {
     "name": "stderr",
     "output_type": "stream",
     "text": [
      "/Users/larsvanderlaan/repos/VennCalibration/myenv2/lib/python3.13/site-packages/mapie/utils.py:620: UserWarning: WARNING: The predictions are ill-sorted.\n",
      "  warnings.warn(\n",
      "/Users/larsvanderlaan/repos/VennCalibration/myenv2/lib/python3.13/site-packages/mapie/utils.py:620: UserWarning: WARNING: The predictions are ill-sorted.\n",
      "  warnings.warn(\n"
     ]
    },
    {
     "name": "stdout",
     "output_type": "stream",
     "text": [
      "0.1\n",
      "0.10000728916101757\n"
     ]
    },
    {
     "name": "stderr",
     "output_type": "stream",
     "text": [
      "/Users/larsvanderlaan/repos/VennCalibration/myenv2/lib/python3.13/site-packages/mapie/utils.py:620: UserWarning: WARNING: The predictions are ill-sorted.\n",
      "  warnings.warn(\n",
      "/Users/larsvanderlaan/repos/VennCalibration/myenv2/lib/python3.13/site-packages/mapie/utils.py:620: UserWarning: WARNING: The predictions are ill-sorted.\n",
      "  warnings.warn(\n"
     ]
    },
    {
     "name": "stdout",
     "output_type": "stream",
     "text": [
      "0.1\n",
      "0.10000728916101757\n"
     ]
    },
    {
     "name": "stderr",
     "output_type": "stream",
     "text": [
      "/Users/larsvanderlaan/repos/VennCalibration/myenv2/lib/python3.13/site-packages/mapie/utils.py:620: UserWarning: WARNING: The predictions are ill-sorted.\n",
      "  warnings.warn(\n",
      "/Users/larsvanderlaan/repos/VennCalibration/myenv2/lib/python3.13/site-packages/mapie/utils.py:620: UserWarning: WARNING: The predictions are ill-sorted.\n",
      "  warnings.warn(\n"
     ]
    },
    {
     "name": "stdout",
     "output_type": "stream",
     "text": [
      "0.1\n",
      "0.10000728916101757\n"
     ]
    },
    {
     "name": "stderr",
     "output_type": "stream",
     "text": [
      "/Users/larsvanderlaan/repos/VennCalibration/myenv2/lib/python3.13/site-packages/mapie/utils.py:620: UserWarning: WARNING: The predictions are ill-sorted.\n",
      "  warnings.warn(\n",
      "/Users/larsvanderlaan/repos/VennCalibration/myenv2/lib/python3.13/site-packages/mapie/utils.py:620: UserWarning: WARNING: The predictions are ill-sorted.\n",
      "  warnings.warn(\n"
     ]
    },
    {
     "name": "stdout",
     "output_type": "stream",
     "text": [
      "0.1\n",
      "0.10000728916101757\n"
     ]
    },
    {
     "name": "stderr",
     "output_type": "stream",
     "text": [
      "/Users/larsvanderlaan/repos/VennCalibration/myenv2/lib/python3.13/site-packages/mapie/utils.py:620: UserWarning: WARNING: The predictions are ill-sorted.\n",
      "  warnings.warn(\n",
      "/Users/larsvanderlaan/repos/VennCalibration/myenv2/lib/python3.13/site-packages/mapie/utils.py:620: UserWarning: WARNING: The predictions are ill-sorted.\n",
      "  warnings.warn(\n"
     ]
    },
    {
     "name": "stdout",
     "output_type": "stream",
     "text": [
      "0.1\n",
      "0.10000728916101757\n"
     ]
    },
    {
     "name": "stderr",
     "output_type": "stream",
     "text": [
      "/Users/larsvanderlaan/repos/VennCalibration/myenv2/lib/python3.13/site-packages/mapie/utils.py:620: UserWarning: WARNING: The predictions are ill-sorted.\n",
      "  warnings.warn(\n",
      "/Users/larsvanderlaan/repos/VennCalibration/myenv2/lib/python3.13/site-packages/mapie/utils.py:620: UserWarning: WARNING: The predictions are ill-sorted.\n",
      "  warnings.warn(\n"
     ]
    },
    {
     "name": "stdout",
     "output_type": "stream",
     "text": [
      "0.1\n",
      "0.10000728916101757\n"
     ]
    },
    {
     "name": "stderr",
     "output_type": "stream",
     "text": [
      "/Users/larsvanderlaan/repos/VennCalibration/myenv2/lib/python3.13/site-packages/mapie/utils.py:620: UserWarning: WARNING: The predictions are ill-sorted.\n",
      "  warnings.warn(\n",
      "/Users/larsvanderlaan/repos/VennCalibration/myenv2/lib/python3.13/site-packages/mapie/utils.py:620: UserWarning: WARNING: The predictions are ill-sorted.\n",
      "  warnings.warn(\n"
     ]
    },
    {
     "name": "stdout",
     "output_type": "stream",
     "text": [
      "0.1\n",
      "0.10000728916101757\n"
     ]
    },
    {
     "name": "stderr",
     "output_type": "stream",
     "text": [
      "/Users/larsvanderlaan/repos/VennCalibration/myenv2/lib/python3.13/site-packages/mapie/utils.py:620: UserWarning: WARNING: The predictions are ill-sorted.\n",
      "  warnings.warn(\n",
      "/Users/larsvanderlaan/repos/VennCalibration/myenv2/lib/python3.13/site-packages/mapie/utils.py:620: UserWarning: WARNING: The predictions are ill-sorted.\n",
      "  warnings.warn(\n"
     ]
    },
    {
     "name": "stdout",
     "output_type": "stream",
     "text": [
      "0.1\n",
      "0.10000728916101757\n"
     ]
    },
    {
     "name": "stderr",
     "output_type": "stream",
     "text": [
      "/Users/larsvanderlaan/repos/VennCalibration/myenv2/lib/python3.13/site-packages/mapie/utils.py:620: UserWarning: WARNING: The predictions are ill-sorted.\n",
      "  warnings.warn(\n",
      "/Users/larsvanderlaan/repos/VennCalibration/myenv2/lib/python3.13/site-packages/mapie/utils.py:620: UserWarning: WARNING: The predictions are ill-sorted.\n",
      "  warnings.warn(\n"
     ]
    },
    {
     "name": "stdout",
     "output_type": "stream",
     "text": [
      "0.1\n",
      "0.10000728916101757\n"
     ]
    },
    {
     "name": "stderr",
     "output_type": "stream",
     "text": [
      "/Users/larsvanderlaan/repos/VennCalibration/myenv2/lib/python3.13/site-packages/mapie/utils.py:620: UserWarning: WARNING: The predictions are ill-sorted.\n",
      "  warnings.warn(\n",
      "/Users/larsvanderlaan/repos/VennCalibration/myenv2/lib/python3.13/site-packages/mapie/utils.py:620: UserWarning: WARNING: The predictions are ill-sorted.\n",
      "  warnings.warn(\n"
     ]
    },
    {
     "name": "stdout",
     "output_type": "stream",
     "text": [
      "0.1\n",
      "0.10000728916101757\n"
     ]
    },
    {
     "name": "stderr",
     "output_type": "stream",
     "text": [
      "/Users/larsvanderlaan/repos/VennCalibration/myenv2/lib/python3.13/site-packages/mapie/utils.py:620: UserWarning: WARNING: The predictions are ill-sorted.\n",
      "  warnings.warn(\n",
      "/Users/larsvanderlaan/repos/VennCalibration/myenv2/lib/python3.13/site-packages/mapie/utils.py:620: UserWarning: WARNING: The predictions are ill-sorted.\n",
      "  warnings.warn(\n"
     ]
    },
    {
     "name": "stdout",
     "output_type": "stream",
     "text": [
      "0.1\n",
      "0.10000728916101757\n"
     ]
    },
    {
     "name": "stderr",
     "output_type": "stream",
     "text": [
      "/Users/larsvanderlaan/repos/VennCalibration/myenv2/lib/python3.13/site-packages/mapie/utils.py:620: UserWarning: WARNING: The predictions are ill-sorted.\n",
      "  warnings.warn(\n",
      "/Users/larsvanderlaan/repos/VennCalibration/myenv2/lib/python3.13/site-packages/mapie/utils.py:620: UserWarning: WARNING: The predictions are ill-sorted.\n",
      "  warnings.warn(\n"
     ]
    },
    {
     "name": "stdout",
     "output_type": "stream",
     "text": [
      "0.1\n",
      "0.10000728916101757\n"
     ]
    },
    {
     "name": "stderr",
     "output_type": "stream",
     "text": [
      "/Users/larsvanderlaan/repos/VennCalibration/myenv2/lib/python3.13/site-packages/mapie/utils.py:620: UserWarning: WARNING: The predictions are ill-sorted.\n",
      "  warnings.warn(\n",
      "/Users/larsvanderlaan/repos/VennCalibration/myenv2/lib/python3.13/site-packages/mapie/utils.py:620: UserWarning: WARNING: The predictions are ill-sorted.\n",
      "  warnings.warn(\n"
     ]
    },
    {
     "name": "stdout",
     "output_type": "stream",
     "text": [
      "0.1\n",
      "0.10000728916101757\n"
     ]
    },
    {
     "name": "stderr",
     "output_type": "stream",
     "text": [
      "/Users/larsvanderlaan/repos/VennCalibration/myenv2/lib/python3.13/site-packages/mapie/utils.py:620: UserWarning: WARNING: The predictions are ill-sorted.\n",
      "  warnings.warn(\n",
      "/Users/larsvanderlaan/repos/VennCalibration/myenv2/lib/python3.13/site-packages/mapie/utils.py:620: UserWarning: WARNING: The predictions are ill-sorted.\n",
      "  warnings.warn(\n"
     ]
    },
    {
     "name": "stdout",
     "output_type": "stream",
     "text": [
      "0.1\n",
      "0.10000728916101757\n"
     ]
    },
    {
     "name": "stderr",
     "output_type": "stream",
     "text": [
      "/Users/larsvanderlaan/repos/VennCalibration/myenv2/lib/python3.13/site-packages/mapie/utils.py:620: UserWarning: WARNING: The predictions are ill-sorted.\n",
      "  warnings.warn(\n",
      "/Users/larsvanderlaan/repos/VennCalibration/myenv2/lib/python3.13/site-packages/mapie/utils.py:620: UserWarning: WARNING: The predictions are ill-sorted.\n",
      "  warnings.warn(\n"
     ]
    },
    {
     "name": "stdout",
     "output_type": "stream",
     "text": [
      "0.1\n",
      "0.10000728916101757\n"
     ]
    },
    {
     "name": "stderr",
     "output_type": "stream",
     "text": [
      "/Users/larsvanderlaan/repos/VennCalibration/myenv2/lib/python3.13/site-packages/mapie/utils.py:620: UserWarning: WARNING: The predictions are ill-sorted.\n",
      "  warnings.warn(\n",
      "/Users/larsvanderlaan/repos/VennCalibration/myenv2/lib/python3.13/site-packages/mapie/utils.py:620: UserWarning: WARNING: The predictions are ill-sorted.\n",
      "  warnings.warn(\n"
     ]
    },
    {
     "name": "stdout",
     "output_type": "stream",
     "text": [
      "0.1\n",
      "0.10000728916101757\n"
     ]
    },
    {
     "name": "stderr",
     "output_type": "stream",
     "text": [
      "/Users/larsvanderlaan/repos/VennCalibration/myenv2/lib/python3.13/site-packages/mapie/utils.py:620: UserWarning: WARNING: The predictions are ill-sorted.\n",
      "  warnings.warn(\n",
      "/Users/larsvanderlaan/repos/VennCalibration/myenv2/lib/python3.13/site-packages/mapie/utils.py:620: UserWarning: WARNING: The predictions are ill-sorted.\n",
      "  warnings.warn(\n"
     ]
    },
    {
     "name": "stdout",
     "output_type": "stream",
     "text": [
      "0.1\n",
      "0.10030864197530864\n",
      "0.1\n",
      "0.10030864197530864\n",
      "0.1\n",
      "0.10030864197530864\n",
      "0.1\n",
      "0.10030864197530864\n",
      "0.1\n",
      "0.10030864197530864\n",
      "0.1\n",
      "0.10030864197530864\n",
      "0.1\n",
      "0.10030864197530864\n",
      "0.1\n",
      "0.10030864197530864\n",
      "0.1\n",
      "0.10030864197530864\n",
      "0.1\n",
      "0.10030864197530864\n",
      "0.1\n",
      "0.10030864197530864\n",
      "0.1\n",
      "0.10030864197530864\n",
      "0.1\n",
      "0.10030864197530864\n",
      "0.1\n",
      "0.10030864197530864\n",
      "0.1\n",
      "0.10030864197530864\n",
      "0.1\n",
      "0.10030864197530864\n",
      "0.1\n",
      "0.10030864197530864\n",
      "0.1\n",
      "0.10030864197530864\n",
      "0.1\n",
      "0.10030864197530864\n"
     ]
    },
    {
     "name": "stderr",
     "output_type": "stream",
     "text": [
      "/Users/larsvanderlaan/repos/VennCalibration/myenv2/lib/python3.13/site-packages/mapie/utils.py:620: UserWarning: WARNING: The predictions are ill-sorted.\n",
      "  warnings.warn(\n"
     ]
    },
    {
     "name": "stdout",
     "output_type": "stream",
     "text": [
      "0.1\n",
      "0.10030864197530864\n",
      "0.1\n",
      "0.10030864197530864\n",
      "0.1\n",
      "0.10030864197530864\n",
      "0.1\n",
      "0.10030864197530864\n",
      "0.1\n",
      "0.10030864197530864\n",
      "0.1\n",
      "0.10030864197530864\n",
      "0.1\n",
      "0.10030864197530864\n",
      "0.1\n",
      "0.10030864197530864\n",
      "0.1\n",
      "0.10030864197530864\n",
      "0.1\n",
      "0.10030864197530864\n",
      "0.1\n",
      "0.10030864197530864\n",
      "0.1\n",
      "0.10030864197530864\n",
      "0.1\n",
      "0.10030864197530864\n"
     ]
    },
    {
     "name": "stderr",
     "output_type": "stream",
     "text": [
      "/Users/larsvanderlaan/repos/VennCalibration/myenv2/lib/python3.13/site-packages/mapie/utils.py:620: UserWarning: WARNING: The predictions are ill-sorted.\n",
      "  warnings.warn(\n",
      "/Users/larsvanderlaan/repos/VennCalibration/myenv2/lib/python3.13/site-packages/mapie/utils.py:620: UserWarning: WARNING: The predictions are ill-sorted.\n",
      "  warnings.warn(\n"
     ]
    },
    {
     "name": "stdout",
     "output_type": "stream",
     "text": [
      "0.1\n",
      "0.10030864197530864\n",
      "0.1\n",
      "0.10030864197530864\n"
     ]
    },
    {
     "name": "stderr",
     "output_type": "stream",
     "text": [
      "/Users/larsvanderlaan/repos/VennCalibration/myenv2/lib/python3.13/site-packages/mapie/utils.py:620: UserWarning: WARNING: The predictions are ill-sorted.\n",
      "  warnings.warn(\n"
     ]
    },
    {
     "name": "stdout",
     "output_type": "stream",
     "text": [
      "0.1\n",
      "0.10030864197530864\n",
      "0.1\n",
      "0.10030864197530864\n",
      "0.1\n",
      "0.10030864197530864\n"
     ]
    },
    {
     "name": "stderr",
     "output_type": "stream",
     "text": [
      "/Users/larsvanderlaan/repos/VennCalibration/myenv2/lib/python3.13/site-packages/mapie/utils.py:620: UserWarning: WARNING: The predictions are ill-sorted.\n",
      "  warnings.warn(\n"
     ]
    },
    {
     "name": "stdout",
     "output_type": "stream",
     "text": [
      "0.1\n",
      "0.10030864197530864\n",
      "0.1\n",
      "0.10030864197530864\n",
      "0.1\n",
      "0.10030864197530864\n"
     ]
    },
    {
     "name": "stderr",
     "output_type": "stream",
     "text": [
      "/Users/larsvanderlaan/repos/VennCalibration/myenv2/lib/python3.13/site-packages/mapie/utils.py:620: UserWarning: WARNING: The predictions are ill-sorted.\n",
      "  warnings.warn(\n"
     ]
    },
    {
     "name": "stdout",
     "output_type": "stream",
     "text": [
      "0.1\n",
      "0.10030864197530864\n",
      "0.1\n",
      "0.10030864197530864\n",
      "0.1\n",
      "0.10030864197530864\n",
      "0.1\n",
      "0.10030864197530864\n",
      "0.1\n",
      "0.10030864197530864\n",
      "0.1\n",
      "0.10030864197530864\n",
      "0.1\n",
      "0.10030864197530864\n",
      "0.1\n",
      "0.10030864197530864\n",
      "0.1\n",
      "0.10030864197530864\n",
      "0.1\n",
      "0.10030864197530864\n",
      "0.1\n",
      "0.10030864197530864\n",
      "0.1\n",
      "0.10030864197530864\n",
      "0.1\n",
      "0.10030864197530864\n",
      "0.1\n",
      "0.10030864197530864\n",
      "0.1\n",
      "0.10030864197530864\n",
      "0.1\n",
      "0.10030864197530864\n"
     ]
    },
    {
     "name": "stderr",
     "output_type": "stream",
     "text": [
      "/Users/larsvanderlaan/repos/VennCalibration/myenv2/lib/python3.13/site-packages/mapie/utils.py:620: UserWarning: WARNING: The predictions are ill-sorted.\n",
      "  warnings.warn(\n"
     ]
    },
    {
     "name": "stdout",
     "output_type": "stream",
     "text": [
      "0.1\n",
      "0.10030864197530864\n",
      "0.1\n",
      "0.10030864197530864\n",
      "0.1\n",
      "0.10030864197530864\n",
      "0.1\n",
      "0.10030864197530864\n",
      "0.1\n",
      "0.10030864197530864\n",
      "0.1\n",
      "0.10030864197530864\n"
     ]
    },
    {
     "name": "stderr",
     "output_type": "stream",
     "text": [
      "/Users/larsvanderlaan/repos/VennCalibration/myenv2/lib/python3.13/site-packages/mapie/utils.py:620: UserWarning: WARNING: The predictions are ill-sorted.\n",
      "  warnings.warn(\n"
     ]
    },
    {
     "name": "stdout",
     "output_type": "stream",
     "text": [
      "0.1\n",
      "0.10030864197530864\n",
      "0.1\n",
      "0.10030864197530864\n",
      "0.1\n",
      "0.10030864197530864\n"
     ]
    },
    {
     "name": "stderr",
     "output_type": "stream",
     "text": [
      "/Users/larsvanderlaan/repos/VennCalibration/myenv2/lib/python3.13/site-packages/mapie/utils.py:620: UserWarning: WARNING: The predictions are ill-sorted.\n",
      "  warnings.warn(\n"
     ]
    },
    {
     "name": "stdout",
     "output_type": "stream",
     "text": [
      "0.1\n",
      "0.10030864197530864\n",
      "0.1\n",
      "0.10030864197530864\n",
      "0.1\n",
      "0.10030864197530864\n",
      "0.1\n",
      "0.10030864197530864\n",
      "0.1\n",
      "0.10030864197530864\n",
      "0.1\n",
      "0.10030864197530864\n",
      "0.1\n",
      "0.10030864197530864\n",
      "0.1\n",
      "0.10030864197530864\n",
      "0.1\n",
      "0.10030864197530864\n",
      "0.1\n",
      "0.10030864197530864\n",
      "0.1\n",
      "0.10030864197530864\n",
      "0.1\n",
      "0.10030864197530864\n",
      "0.1\n",
      "0.10030864197530864\n",
      "0.1\n",
      "0.10030864197530864\n",
      "0.1\n",
      "0.10030864197530864\n"
     ]
    },
    {
     "name": "stderr",
     "output_type": "stream",
     "text": [
      "/Users/larsvanderlaan/repos/VennCalibration/myenv2/lib/python3.13/site-packages/mapie/utils.py:620: UserWarning: WARNING: The predictions are ill-sorted.\n",
      "  warnings.warn(\n"
     ]
    },
    {
     "name": "stdout",
     "output_type": "stream",
     "text": [
      "0.1\n",
      "0.10030864197530864\n",
      "0.1\n",
      "0.10030864197530864\n",
      "0.1\n",
      "0.10030864197530864\n",
      "0.1\n",
      "0.10030864197530864\n"
     ]
    },
    {
     "name": "stderr",
     "output_type": "stream",
     "text": [
      "/Users/larsvanderlaan/repos/VennCalibration/myenv2/lib/python3.13/site-packages/mapie/utils.py:620: UserWarning: WARNING: The predictions are ill-sorted.\n",
      "  warnings.warn(\n",
      "/Users/larsvanderlaan/repos/VennCalibration/myenv2/lib/python3.13/site-packages/mapie/utils.py:620: UserWarning: WARNING: The predictions are ill-sorted.\n",
      "  warnings.warn(\n"
     ]
    },
    {
     "name": "stdout",
     "output_type": "stream",
     "text": [
      "0.1\n",
      "0.10030864197530864\n",
      "0.1\n",
      "0.10030864197530864\n",
      "0.1\n",
      "0.10030864197530864\n",
      "0.1\n",
      "0.10030864197530864\n",
      "0.1\n",
      "0.10030864197530864\n",
      "0.1\n",
      "0.10030864197530864\n",
      "0.1\n",
      "0.10030864197530864\n",
      "0.1\n",
      "0.10030864197530864\n",
      "0.1\n",
      "0.10030864197530864\n",
      "0.1\n",
      "0.10030864197530864\n",
      "0.1\n",
      "0.10030864197530864\n",
      "0.1\n",
      "0.10030864197530864\n",
      "0.1\n",
      "0.10030864197530864\n"
     ]
    },
    {
     "name": "stderr",
     "output_type": "stream",
     "text": [
      "/Users/larsvanderlaan/repos/VennCalibration/myenv2/lib/python3.13/site-packages/mapie/utils.py:620: UserWarning: WARNING: The predictions are ill-sorted.\n",
      "  warnings.warn(\n",
      "/Users/larsvanderlaan/repos/VennCalibration/myenv2/lib/python3.13/site-packages/mapie/utils.py:620: UserWarning: WARNING: The predictions are ill-sorted.\n",
      "  warnings.warn(\n"
     ]
    },
    {
     "name": "stdout",
     "output_type": "stream",
     "text": [
      "0.1\n",
      "0.10030864197530864\n",
      "0.1\n",
      "0.10030864197530864\n"
     ]
    },
    {
     "name": "stderr",
     "output_type": "stream",
     "text": [
      "/Users/larsvanderlaan/repos/VennCalibration/myenv2/lib/python3.13/site-packages/mapie/utils.py:620: UserWarning: WARNING: The predictions are ill-sorted.\n",
      "  warnings.warn(\n"
     ]
    },
    {
     "name": "stdout",
     "output_type": "stream",
     "text": [
      "0.1\n",
      "0.10030864197530864\n",
      "0.1\n",
      "0.10008517887563884\n"
     ]
    },
    {
     "name": "stderr",
     "output_type": "stream",
     "text": [
      "/Users/larsvanderlaan/repos/VennCalibration/myenv2/lib/python3.13/site-packages/mapie/utils.py:620: UserWarning: WARNING: The predictions are ill-sorted.\n",
      "  warnings.warn(\n",
      "/Users/larsvanderlaan/repos/VennCalibration/myenv2/lib/python3.13/site-packages/mapie/utils.py:620: UserWarning: WARNING: The predictions are ill-sorted.\n",
      "  warnings.warn(\n"
     ]
    },
    {
     "name": "stdout",
     "output_type": "stream",
     "text": [
      "0.1\n",
      "0.10008517887563884\n"
     ]
    },
    {
     "name": "stderr",
     "output_type": "stream",
     "text": [
      "/Users/larsvanderlaan/repos/VennCalibration/myenv2/lib/python3.13/site-packages/mapie/utils.py:620: UserWarning: WARNING: The predictions are ill-sorted.\n",
      "  warnings.warn(\n",
      "/Users/larsvanderlaan/repos/VennCalibration/myenv2/lib/python3.13/site-packages/mapie/utils.py:620: UserWarning: WARNING: The predictions are ill-sorted.\n",
      "  warnings.warn(\n"
     ]
    },
    {
     "name": "stdout",
     "output_type": "stream",
     "text": [
      "0.1\n",
      "0.10008517887563884\n"
     ]
    },
    {
     "name": "stderr",
     "output_type": "stream",
     "text": [
      "/Users/larsvanderlaan/repos/VennCalibration/myenv2/lib/python3.13/site-packages/mapie/utils.py:620: UserWarning: WARNING: The predictions are ill-sorted.\n",
      "  warnings.warn(\n",
      "/Users/larsvanderlaan/repos/VennCalibration/myenv2/lib/python3.13/site-packages/mapie/utils.py:620: UserWarning: WARNING: The predictions are ill-sorted.\n",
      "  warnings.warn(\n"
     ]
    },
    {
     "name": "stdout",
     "output_type": "stream",
     "text": [
      "0.1\n",
      "0.10008517887563884\n"
     ]
    },
    {
     "name": "stderr",
     "output_type": "stream",
     "text": [
      "/Users/larsvanderlaan/repos/VennCalibration/myenv2/lib/python3.13/site-packages/mapie/utils.py:620: UserWarning: WARNING: The predictions are ill-sorted.\n",
      "  warnings.warn(\n",
      "/Users/larsvanderlaan/repos/VennCalibration/myenv2/lib/python3.13/site-packages/mapie/utils.py:620: UserWarning: WARNING: The predictions are ill-sorted.\n",
      "  warnings.warn(\n"
     ]
    },
    {
     "name": "stdout",
     "output_type": "stream",
     "text": [
      "0.1\n",
      "0.10008517887563884\n"
     ]
    },
    {
     "name": "stderr",
     "output_type": "stream",
     "text": [
      "/Users/larsvanderlaan/repos/VennCalibration/myenv2/lib/python3.13/site-packages/mapie/utils.py:620: UserWarning: WARNING: The predictions are ill-sorted.\n",
      "  warnings.warn(\n",
      "/Users/larsvanderlaan/repos/VennCalibration/myenv2/lib/python3.13/site-packages/mapie/utils.py:620: UserWarning: WARNING: The predictions are ill-sorted.\n",
      "  warnings.warn(\n"
     ]
    },
    {
     "name": "stdout",
     "output_type": "stream",
     "text": [
      "0.1\n",
      "0.10008517887563884\n"
     ]
    },
    {
     "name": "stderr",
     "output_type": "stream",
     "text": [
      "/Users/larsvanderlaan/repos/VennCalibration/myenv2/lib/python3.13/site-packages/mapie/utils.py:620: UserWarning: WARNING: The predictions are ill-sorted.\n",
      "  warnings.warn(\n",
      "/Users/larsvanderlaan/repos/VennCalibration/myenv2/lib/python3.13/site-packages/mapie/utils.py:620: UserWarning: WARNING: The predictions are ill-sorted.\n",
      "  warnings.warn(\n"
     ]
    },
    {
     "name": "stdout",
     "output_type": "stream",
     "text": [
      "0.1\n",
      "0.10008517887563884\n"
     ]
    },
    {
     "name": "stderr",
     "output_type": "stream",
     "text": [
      "/Users/larsvanderlaan/repos/VennCalibration/myenv2/lib/python3.13/site-packages/mapie/utils.py:620: UserWarning: WARNING: The predictions are ill-sorted.\n",
      "  warnings.warn(\n",
      "/Users/larsvanderlaan/repos/VennCalibration/myenv2/lib/python3.13/site-packages/mapie/utils.py:620: UserWarning: WARNING: The predictions are ill-sorted.\n",
      "  warnings.warn(\n"
     ]
    },
    {
     "name": "stdout",
     "output_type": "stream",
     "text": [
      "0.1\n",
      "0.10008517887563884\n"
     ]
    },
    {
     "name": "stderr",
     "output_type": "stream",
     "text": [
      "/Users/larsvanderlaan/repos/VennCalibration/myenv2/lib/python3.13/site-packages/mapie/utils.py:620: UserWarning: WARNING: The predictions are ill-sorted.\n",
      "  warnings.warn(\n",
      "/Users/larsvanderlaan/repos/VennCalibration/myenv2/lib/python3.13/site-packages/mapie/utils.py:620: UserWarning: WARNING: The predictions are ill-sorted.\n",
      "  warnings.warn(\n"
     ]
    },
    {
     "name": "stdout",
     "output_type": "stream",
     "text": [
      "0.1\n",
      "0.10008517887563884\n"
     ]
    },
    {
     "name": "stderr",
     "output_type": "stream",
     "text": [
      "/Users/larsvanderlaan/repos/VennCalibration/myenv2/lib/python3.13/site-packages/mapie/utils.py:620: UserWarning: WARNING: The predictions are ill-sorted.\n",
      "  warnings.warn(\n",
      "/Users/larsvanderlaan/repos/VennCalibration/myenv2/lib/python3.13/site-packages/mapie/utils.py:620: UserWarning: WARNING: The predictions are ill-sorted.\n",
      "  warnings.warn(\n"
     ]
    },
    {
     "name": "stdout",
     "output_type": "stream",
     "text": [
      "0.1\n",
      "0.10008517887563884\n"
     ]
    },
    {
     "name": "stderr",
     "output_type": "stream",
     "text": [
      "/Users/larsvanderlaan/repos/VennCalibration/myenv2/lib/python3.13/site-packages/mapie/utils.py:620: UserWarning: WARNING: The predictions are ill-sorted.\n",
      "  warnings.warn(\n",
      "/Users/larsvanderlaan/repos/VennCalibration/myenv2/lib/python3.13/site-packages/mapie/utils.py:620: UserWarning: WARNING: The predictions are ill-sorted.\n",
      "  warnings.warn(\n"
     ]
    },
    {
     "name": "stdout",
     "output_type": "stream",
     "text": [
      "0.1\n",
      "0.10008517887563884\n"
     ]
    },
    {
     "name": "stderr",
     "output_type": "stream",
     "text": [
      "/Users/larsvanderlaan/repos/VennCalibration/myenv2/lib/python3.13/site-packages/mapie/utils.py:620: UserWarning: WARNING: The predictions are ill-sorted.\n",
      "  warnings.warn(\n",
      "/Users/larsvanderlaan/repos/VennCalibration/myenv2/lib/python3.13/site-packages/mapie/utils.py:620: UserWarning: WARNING: The predictions are ill-sorted.\n",
      "  warnings.warn(\n"
     ]
    },
    {
     "name": "stdout",
     "output_type": "stream",
     "text": [
      "0.1\n",
      "0.10008517887563884\n"
     ]
    },
    {
     "name": "stderr",
     "output_type": "stream",
     "text": [
      "/Users/larsvanderlaan/repos/VennCalibration/myenv2/lib/python3.13/site-packages/mapie/utils.py:620: UserWarning: WARNING: The predictions are ill-sorted.\n",
      "  warnings.warn(\n",
      "/Users/larsvanderlaan/repos/VennCalibration/myenv2/lib/python3.13/site-packages/mapie/utils.py:620: UserWarning: WARNING: The predictions are ill-sorted.\n",
      "  warnings.warn(\n"
     ]
    },
    {
     "name": "stdout",
     "output_type": "stream",
     "text": [
      "0.1\n",
      "0.10008517887563884\n"
     ]
    },
    {
     "name": "stderr",
     "output_type": "stream",
     "text": [
      "/Users/larsvanderlaan/repos/VennCalibration/myenv2/lib/python3.13/site-packages/mapie/utils.py:620: UserWarning: WARNING: The predictions are ill-sorted.\n",
      "  warnings.warn(\n",
      "/Users/larsvanderlaan/repos/VennCalibration/myenv2/lib/python3.13/site-packages/mapie/utils.py:620: UserWarning: WARNING: The predictions are ill-sorted.\n",
      "  warnings.warn(\n"
     ]
    },
    {
     "name": "stdout",
     "output_type": "stream",
     "text": [
      "0.1\n",
      "0.10008517887563884\n"
     ]
    },
    {
     "name": "stderr",
     "output_type": "stream",
     "text": [
      "/Users/larsvanderlaan/repos/VennCalibration/myenv2/lib/python3.13/site-packages/mapie/utils.py:620: UserWarning: WARNING: The predictions are ill-sorted.\n",
      "  warnings.warn(\n",
      "/Users/larsvanderlaan/repos/VennCalibration/myenv2/lib/python3.13/site-packages/mapie/utils.py:620: UserWarning: WARNING: The predictions are ill-sorted.\n",
      "  warnings.warn(\n"
     ]
    },
    {
     "name": "stdout",
     "output_type": "stream",
     "text": [
      "0.1\n",
      "0.10008517887563884\n"
     ]
    },
    {
     "name": "stderr",
     "output_type": "stream",
     "text": [
      "/Users/larsvanderlaan/repos/VennCalibration/myenv2/lib/python3.13/site-packages/mapie/utils.py:620: UserWarning: WARNING: The predictions are ill-sorted.\n",
      "  warnings.warn(\n",
      "/Users/larsvanderlaan/repos/VennCalibration/myenv2/lib/python3.13/site-packages/mapie/utils.py:620: UserWarning: WARNING: The predictions are ill-sorted.\n",
      "  warnings.warn(\n"
     ]
    },
    {
     "name": "stdout",
     "output_type": "stream",
     "text": [
      "0.1\n",
      "0.10008517887563884\n"
     ]
    },
    {
     "name": "stderr",
     "output_type": "stream",
     "text": [
      "/Users/larsvanderlaan/repos/VennCalibration/myenv2/lib/python3.13/site-packages/mapie/utils.py:620: UserWarning: WARNING: The predictions are ill-sorted.\n",
      "  warnings.warn(\n",
      "/Users/larsvanderlaan/repos/VennCalibration/myenv2/lib/python3.13/site-packages/mapie/utils.py:620: UserWarning: WARNING: The predictions are ill-sorted.\n",
      "  warnings.warn(\n"
     ]
    },
    {
     "name": "stdout",
     "output_type": "stream",
     "text": [
      "0.1\n",
      "0.10008517887563884\n"
     ]
    },
    {
     "name": "stderr",
     "output_type": "stream",
     "text": [
      "/Users/larsvanderlaan/repos/VennCalibration/myenv2/lib/python3.13/site-packages/mapie/utils.py:620: UserWarning: WARNING: The predictions are ill-sorted.\n",
      "  warnings.warn(\n",
      "/Users/larsvanderlaan/repos/VennCalibration/myenv2/lib/python3.13/site-packages/mapie/utils.py:620: UserWarning: WARNING: The predictions are ill-sorted.\n",
      "  warnings.warn(\n"
     ]
    },
    {
     "name": "stdout",
     "output_type": "stream",
     "text": [
      "0.1\n",
      "0.10008517887563884\n"
     ]
    },
    {
     "name": "stderr",
     "output_type": "stream",
     "text": [
      "/Users/larsvanderlaan/repos/VennCalibration/myenv2/lib/python3.13/site-packages/mapie/utils.py:620: UserWarning: WARNING: The predictions are ill-sorted.\n",
      "  warnings.warn(\n",
      "/Users/larsvanderlaan/repos/VennCalibration/myenv2/lib/python3.13/site-packages/mapie/utils.py:620: UserWarning: WARNING: The predictions are ill-sorted.\n",
      "  warnings.warn(\n"
     ]
    },
    {
     "name": "stdout",
     "output_type": "stream",
     "text": [
      "0.1\n",
      "0.10008517887563884\n"
     ]
    },
    {
     "name": "stderr",
     "output_type": "stream",
     "text": [
      "/Users/larsvanderlaan/repos/VennCalibration/myenv2/lib/python3.13/site-packages/mapie/utils.py:620: UserWarning: WARNING: The predictions are ill-sorted.\n",
      "  warnings.warn(\n",
      "/Users/larsvanderlaan/repos/VennCalibration/myenv2/lib/python3.13/site-packages/mapie/utils.py:620: UserWarning: WARNING: The predictions are ill-sorted.\n",
      "  warnings.warn(\n"
     ]
    },
    {
     "name": "stdout",
     "output_type": "stream",
     "text": [
      "0.1\n",
      "0.10008517887563884\n"
     ]
    },
    {
     "name": "stderr",
     "output_type": "stream",
     "text": [
      "/Users/larsvanderlaan/repos/VennCalibration/myenv2/lib/python3.13/site-packages/mapie/utils.py:620: UserWarning: WARNING: The predictions are ill-sorted.\n",
      "  warnings.warn(\n",
      "/Users/larsvanderlaan/repos/VennCalibration/myenv2/lib/python3.13/site-packages/mapie/utils.py:620: UserWarning: WARNING: The predictions are ill-sorted.\n",
      "  warnings.warn(\n"
     ]
    },
    {
     "name": "stdout",
     "output_type": "stream",
     "text": [
      "0.1\n",
      "0.10008517887563884\n"
     ]
    },
    {
     "name": "stderr",
     "output_type": "stream",
     "text": [
      "/Users/larsvanderlaan/repos/VennCalibration/myenv2/lib/python3.13/site-packages/mapie/utils.py:620: UserWarning: WARNING: The predictions are ill-sorted.\n",
      "  warnings.warn(\n",
      "/Users/larsvanderlaan/repos/VennCalibration/myenv2/lib/python3.13/site-packages/mapie/utils.py:620: UserWarning: WARNING: The predictions are ill-sorted.\n",
      "  warnings.warn(\n"
     ]
    },
    {
     "name": "stdout",
     "output_type": "stream",
     "text": [
      "0.1\n",
      "0.10008517887563884\n"
     ]
    },
    {
     "name": "stderr",
     "output_type": "stream",
     "text": [
      "/Users/larsvanderlaan/repos/VennCalibration/myenv2/lib/python3.13/site-packages/mapie/utils.py:620: UserWarning: WARNING: The predictions are ill-sorted.\n",
      "  warnings.warn(\n",
      "/Users/larsvanderlaan/repos/VennCalibration/myenv2/lib/python3.13/site-packages/mapie/utils.py:620: UserWarning: WARNING: The predictions are ill-sorted.\n",
      "  warnings.warn(\n"
     ]
    },
    {
     "name": "stdout",
     "output_type": "stream",
     "text": [
      "0.1\n",
      "0.10008517887563884\n"
     ]
    },
    {
     "name": "stderr",
     "output_type": "stream",
     "text": [
      "/Users/larsvanderlaan/repos/VennCalibration/myenv2/lib/python3.13/site-packages/mapie/utils.py:620: UserWarning: WARNING: The predictions are ill-sorted.\n",
      "  warnings.warn(\n",
      "/Users/larsvanderlaan/repos/VennCalibration/myenv2/lib/python3.13/site-packages/mapie/utils.py:620: UserWarning: WARNING: The predictions are ill-sorted.\n",
      "  warnings.warn(\n"
     ]
    },
    {
     "name": "stdout",
     "output_type": "stream",
     "text": [
      "0.1\n",
      "0.10008517887563884\n"
     ]
    },
    {
     "name": "stderr",
     "output_type": "stream",
     "text": [
      "/Users/larsvanderlaan/repos/VennCalibration/myenv2/lib/python3.13/site-packages/mapie/utils.py:620: UserWarning: WARNING: The predictions are ill-sorted.\n",
      "  warnings.warn(\n",
      "/Users/larsvanderlaan/repos/VennCalibration/myenv2/lib/python3.13/site-packages/mapie/utils.py:620: UserWarning: WARNING: The predictions are ill-sorted.\n",
      "  warnings.warn(\n"
     ]
    },
    {
     "name": "stdout",
     "output_type": "stream",
     "text": [
      "0.1\n",
      "0.10008517887563884\n"
     ]
    },
    {
     "name": "stderr",
     "output_type": "stream",
     "text": [
      "/Users/larsvanderlaan/repos/VennCalibration/myenv2/lib/python3.13/site-packages/mapie/utils.py:620: UserWarning: WARNING: The predictions are ill-sorted.\n",
      "  warnings.warn(\n",
      "/Users/larsvanderlaan/repos/VennCalibration/myenv2/lib/python3.13/site-packages/mapie/utils.py:620: UserWarning: WARNING: The predictions are ill-sorted.\n",
      "  warnings.warn(\n"
     ]
    },
    {
     "name": "stdout",
     "output_type": "stream",
     "text": [
      "0.1\n",
      "0.10008517887563884\n"
     ]
    },
    {
     "name": "stderr",
     "output_type": "stream",
     "text": [
      "/Users/larsvanderlaan/repos/VennCalibration/myenv2/lib/python3.13/site-packages/mapie/utils.py:620: UserWarning: WARNING: The predictions are ill-sorted.\n",
      "  warnings.warn(\n",
      "/Users/larsvanderlaan/repos/VennCalibration/myenv2/lib/python3.13/site-packages/mapie/utils.py:620: UserWarning: WARNING: The predictions are ill-sorted.\n",
      "  warnings.warn(\n"
     ]
    },
    {
     "name": "stdout",
     "output_type": "stream",
     "text": [
      "0.1\n",
      "0.10008517887563884\n"
     ]
    },
    {
     "name": "stderr",
     "output_type": "stream",
     "text": [
      "/Users/larsvanderlaan/repos/VennCalibration/myenv2/lib/python3.13/site-packages/mapie/utils.py:620: UserWarning: WARNING: The predictions are ill-sorted.\n",
      "  warnings.warn(\n",
      "/Users/larsvanderlaan/repos/VennCalibration/myenv2/lib/python3.13/site-packages/mapie/utils.py:620: UserWarning: WARNING: The predictions are ill-sorted.\n",
      "  warnings.warn(\n"
     ]
    },
    {
     "name": "stdout",
     "output_type": "stream",
     "text": [
      "0.1\n",
      "0.10008517887563884\n"
     ]
    },
    {
     "name": "stderr",
     "output_type": "stream",
     "text": [
      "/Users/larsvanderlaan/repos/VennCalibration/myenv2/lib/python3.13/site-packages/mapie/utils.py:620: UserWarning: WARNING: The predictions are ill-sorted.\n",
      "  warnings.warn(\n",
      "/Users/larsvanderlaan/repos/VennCalibration/myenv2/lib/python3.13/site-packages/mapie/utils.py:620: UserWarning: WARNING: The predictions are ill-sorted.\n",
      "  warnings.warn(\n"
     ]
    },
    {
     "name": "stdout",
     "output_type": "stream",
     "text": [
      "0.1\n",
      "0.10008517887563884\n"
     ]
    },
    {
     "name": "stderr",
     "output_type": "stream",
     "text": [
      "/Users/larsvanderlaan/repos/VennCalibration/myenv2/lib/python3.13/site-packages/mapie/utils.py:620: UserWarning: WARNING: The predictions are ill-sorted.\n",
      "  warnings.warn(\n",
      "/Users/larsvanderlaan/repos/VennCalibration/myenv2/lib/python3.13/site-packages/mapie/utils.py:620: UserWarning: WARNING: The predictions are ill-sorted.\n",
      "  warnings.warn(\n"
     ]
    },
    {
     "name": "stdout",
     "output_type": "stream",
     "text": [
      "0.1\n",
      "0.10008517887563884\n"
     ]
    },
    {
     "name": "stderr",
     "output_type": "stream",
     "text": [
      "/Users/larsvanderlaan/repos/VennCalibration/myenv2/lib/python3.13/site-packages/mapie/utils.py:620: UserWarning: WARNING: The predictions are ill-sorted.\n",
      "  warnings.warn(\n",
      "/Users/larsvanderlaan/repos/VennCalibration/myenv2/lib/python3.13/site-packages/mapie/utils.py:620: UserWarning: WARNING: The predictions are ill-sorted.\n",
      "  warnings.warn(\n"
     ]
    },
    {
     "name": "stdout",
     "output_type": "stream",
     "text": [
      "0.1\n",
      "0.10008517887563884\n"
     ]
    },
    {
     "name": "stderr",
     "output_type": "stream",
     "text": [
      "/Users/larsvanderlaan/repos/VennCalibration/myenv2/lib/python3.13/site-packages/mapie/utils.py:620: UserWarning: WARNING: The predictions are ill-sorted.\n",
      "  warnings.warn(\n",
      "/Users/larsvanderlaan/repos/VennCalibration/myenv2/lib/python3.13/site-packages/mapie/utils.py:620: UserWarning: WARNING: The predictions are ill-sorted.\n",
      "  warnings.warn(\n"
     ]
    },
    {
     "name": "stdout",
     "output_type": "stream",
     "text": [
      "0.1\n",
      "0.10008517887563884\n"
     ]
    },
    {
     "name": "stderr",
     "output_type": "stream",
     "text": [
      "/Users/larsvanderlaan/repos/VennCalibration/myenv2/lib/python3.13/site-packages/mapie/utils.py:620: UserWarning: WARNING: The predictions are ill-sorted.\n",
      "  warnings.warn(\n",
      "/Users/larsvanderlaan/repos/VennCalibration/myenv2/lib/python3.13/site-packages/mapie/utils.py:620: UserWarning: WARNING: The predictions are ill-sorted.\n",
      "  warnings.warn(\n"
     ]
    },
    {
     "name": "stdout",
     "output_type": "stream",
     "text": [
      "0.1\n",
      "0.10008517887563884\n"
     ]
    },
    {
     "name": "stderr",
     "output_type": "stream",
     "text": [
      "/Users/larsvanderlaan/repos/VennCalibration/myenv2/lib/python3.13/site-packages/mapie/utils.py:620: UserWarning: WARNING: The predictions are ill-sorted.\n",
      "  warnings.warn(\n",
      "/Users/larsvanderlaan/repos/VennCalibration/myenv2/lib/python3.13/site-packages/mapie/utils.py:620: UserWarning: WARNING: The predictions are ill-sorted.\n",
      "  warnings.warn(\n"
     ]
    },
    {
     "name": "stdout",
     "output_type": "stream",
     "text": [
      "0.1\n",
      "0.10008517887563884\n"
     ]
    },
    {
     "name": "stderr",
     "output_type": "stream",
     "text": [
      "/Users/larsvanderlaan/repos/VennCalibration/myenv2/lib/python3.13/site-packages/mapie/utils.py:620: UserWarning: WARNING: The predictions are ill-sorted.\n",
      "  warnings.warn(\n",
      "/Users/larsvanderlaan/repos/VennCalibration/myenv2/lib/python3.13/site-packages/mapie/utils.py:620: UserWarning: WARNING: The predictions are ill-sorted.\n",
      "  warnings.warn(\n"
     ]
    },
    {
     "name": "stdout",
     "output_type": "stream",
     "text": [
      "0.1\n",
      "0.10008517887563884\n"
     ]
    },
    {
     "name": "stderr",
     "output_type": "stream",
     "text": [
      "/Users/larsvanderlaan/repos/VennCalibration/myenv2/lib/python3.13/site-packages/mapie/utils.py:620: UserWarning: WARNING: The predictions are ill-sorted.\n",
      "  warnings.warn(\n",
      "/Users/larsvanderlaan/repos/VennCalibration/myenv2/lib/python3.13/site-packages/mapie/utils.py:620: UserWarning: WARNING: The predictions are ill-sorted.\n",
      "  warnings.warn(\n"
     ]
    },
    {
     "name": "stdout",
     "output_type": "stream",
     "text": [
      "0.1\n",
      "0.10008517887563884\n"
     ]
    },
    {
     "name": "stderr",
     "output_type": "stream",
     "text": [
      "/Users/larsvanderlaan/repos/VennCalibration/myenv2/lib/python3.13/site-packages/mapie/utils.py:620: UserWarning: WARNING: The predictions are ill-sorted.\n",
      "  warnings.warn(\n",
      "/Users/larsvanderlaan/repos/VennCalibration/myenv2/lib/python3.13/site-packages/mapie/utils.py:620: UserWarning: WARNING: The predictions are ill-sorted.\n",
      "  warnings.warn(\n"
     ]
    },
    {
     "name": "stdout",
     "output_type": "stream",
     "text": [
      "0.1\n",
      "0.10008517887563884\n"
     ]
    },
    {
     "name": "stderr",
     "output_type": "stream",
     "text": [
      "/Users/larsvanderlaan/repos/VennCalibration/myenv2/lib/python3.13/site-packages/mapie/utils.py:620: UserWarning: WARNING: The predictions are ill-sorted.\n",
      "  warnings.warn(\n",
      "/Users/larsvanderlaan/repos/VennCalibration/myenv2/lib/python3.13/site-packages/mapie/utils.py:620: UserWarning: WARNING: The predictions are ill-sorted.\n",
      "  warnings.warn(\n"
     ]
    },
    {
     "name": "stdout",
     "output_type": "stream",
     "text": [
      "0.1\n",
      "0.10008517887563884\n"
     ]
    },
    {
     "name": "stderr",
     "output_type": "stream",
     "text": [
      "/Users/larsvanderlaan/repos/VennCalibration/myenv2/lib/python3.13/site-packages/mapie/utils.py:620: UserWarning: WARNING: The predictions are ill-sorted.\n",
      "  warnings.warn(\n",
      "/Users/larsvanderlaan/repos/VennCalibration/myenv2/lib/python3.13/site-packages/mapie/utils.py:620: UserWarning: WARNING: The predictions are ill-sorted.\n",
      "  warnings.warn(\n"
     ]
    },
    {
     "name": "stdout",
     "output_type": "stream",
     "text": [
      "0.1\n",
      "0.10008517887563884\n"
     ]
    },
    {
     "name": "stderr",
     "output_type": "stream",
     "text": [
      "/Users/larsvanderlaan/repos/VennCalibration/myenv2/lib/python3.13/site-packages/mapie/utils.py:620: UserWarning: WARNING: The predictions are ill-sorted.\n",
      "  warnings.warn(\n",
      "/Users/larsvanderlaan/repos/VennCalibration/myenv2/lib/python3.13/site-packages/mapie/utils.py:620: UserWarning: WARNING: The predictions are ill-sorted.\n",
      "  warnings.warn(\n"
     ]
    },
    {
     "name": "stdout",
     "output_type": "stream",
     "text": [
      "0.1\n",
      "0.10008517887563884\n"
     ]
    },
    {
     "name": "stderr",
     "output_type": "stream",
     "text": [
      "/Users/larsvanderlaan/repos/VennCalibration/myenv2/lib/python3.13/site-packages/mapie/utils.py:620: UserWarning: WARNING: The predictions are ill-sorted.\n",
      "  warnings.warn(\n",
      "/Users/larsvanderlaan/repos/VennCalibration/myenv2/lib/python3.13/site-packages/mapie/utils.py:620: UserWarning: WARNING: The predictions are ill-sorted.\n",
      "  warnings.warn(\n"
     ]
    },
    {
     "name": "stdout",
     "output_type": "stream",
     "text": [
      "0.1\n",
      "0.10008517887563884\n"
     ]
    },
    {
     "name": "stderr",
     "output_type": "stream",
     "text": [
      "/Users/larsvanderlaan/repos/VennCalibration/myenv2/lib/python3.13/site-packages/mapie/utils.py:620: UserWarning: WARNING: The predictions are ill-sorted.\n",
      "  warnings.warn(\n",
      "/Users/larsvanderlaan/repos/VennCalibration/myenv2/lib/python3.13/site-packages/mapie/utils.py:620: UserWarning: WARNING: The predictions are ill-sorted.\n",
      "  warnings.warn(\n"
     ]
    },
    {
     "name": "stdout",
     "output_type": "stream",
     "text": [
      "0.1\n",
      "0.10008517887563884\n"
     ]
    },
    {
     "name": "stderr",
     "output_type": "stream",
     "text": [
      "/Users/larsvanderlaan/repos/VennCalibration/myenv2/lib/python3.13/site-packages/mapie/utils.py:620: UserWarning: WARNING: The predictions are ill-sorted.\n",
      "  warnings.warn(\n",
      "/Users/larsvanderlaan/repos/VennCalibration/myenv2/lib/python3.13/site-packages/mapie/utils.py:620: UserWarning: WARNING: The predictions are ill-sorted.\n",
      "  warnings.warn(\n"
     ]
    },
    {
     "name": "stdout",
     "output_type": "stream",
     "text": [
      "0.1\n",
      "0.10008517887563884\n"
     ]
    },
    {
     "name": "stderr",
     "output_type": "stream",
     "text": [
      "/Users/larsvanderlaan/repos/VennCalibration/myenv2/lib/python3.13/site-packages/mapie/utils.py:620: UserWarning: WARNING: The predictions are ill-sorted.\n",
      "  warnings.warn(\n",
      "/Users/larsvanderlaan/repos/VennCalibration/myenv2/lib/python3.13/site-packages/mapie/utils.py:620: UserWarning: WARNING: The predictions are ill-sorted.\n",
      "  warnings.warn(\n"
     ]
    },
    {
     "name": "stdout",
     "output_type": "stream",
     "text": [
      "0.1\n",
      "0.10008517887563884\n"
     ]
    },
    {
     "name": "stderr",
     "output_type": "stream",
     "text": [
      "/Users/larsvanderlaan/repos/VennCalibration/myenv2/lib/python3.13/site-packages/mapie/utils.py:620: UserWarning: WARNING: The predictions are ill-sorted.\n",
      "  warnings.warn(\n",
      "/Users/larsvanderlaan/repos/VennCalibration/myenv2/lib/python3.13/site-packages/mapie/utils.py:620: UserWarning: WARNING: The predictions are ill-sorted.\n",
      "  warnings.warn(\n"
     ]
    },
    {
     "name": "stdout",
     "output_type": "stream",
     "text": [
      "0.1\n",
      "0.10008517887563884\n"
     ]
    },
    {
     "name": "stderr",
     "output_type": "stream",
     "text": [
      "/Users/larsvanderlaan/repos/VennCalibration/myenv2/lib/python3.13/site-packages/mapie/utils.py:620: UserWarning: WARNING: The predictions are ill-sorted.\n",
      "  warnings.warn(\n",
      "/Users/larsvanderlaan/repos/VennCalibration/myenv2/lib/python3.13/site-packages/mapie/utils.py:620: UserWarning: WARNING: The predictions are ill-sorted.\n",
      "  warnings.warn(\n"
     ]
    },
    {
     "name": "stdout",
     "output_type": "stream",
     "text": [
      "0.1\n",
      "0.10008517887563884\n"
     ]
    },
    {
     "name": "stderr",
     "output_type": "stream",
     "text": [
      "/Users/larsvanderlaan/repos/VennCalibration/myenv2/lib/python3.13/site-packages/mapie/utils.py:620: UserWarning: WARNING: The predictions are ill-sorted.\n",
      "  warnings.warn(\n",
      "/Users/larsvanderlaan/repos/VennCalibration/myenv2/lib/python3.13/site-packages/mapie/utils.py:620: UserWarning: WARNING: The predictions are ill-sorted.\n",
      "  warnings.warn(\n"
     ]
    },
    {
     "name": "stdout",
     "output_type": "stream",
     "text": [
      "0.1\n",
      "0.10008517887563884\n"
     ]
    },
    {
     "name": "stderr",
     "output_type": "stream",
     "text": [
      "/Users/larsvanderlaan/repos/VennCalibration/myenv2/lib/python3.13/site-packages/mapie/utils.py:620: UserWarning: WARNING: The predictions are ill-sorted.\n",
      "  warnings.warn(\n",
      "/Users/larsvanderlaan/repos/VennCalibration/myenv2/lib/python3.13/site-packages/mapie/utils.py:620: UserWarning: WARNING: The predictions are ill-sorted.\n",
      "  warnings.warn(\n"
     ]
    },
    {
     "name": "stdout",
     "output_type": "stream",
     "text": [
      "0.1\n",
      "0.10008517887563884\n"
     ]
    },
    {
     "name": "stderr",
     "output_type": "stream",
     "text": [
      "/Users/larsvanderlaan/repos/VennCalibration/myenv2/lib/python3.13/site-packages/mapie/utils.py:620: UserWarning: WARNING: The predictions are ill-sorted.\n",
      "  warnings.warn(\n",
      "/Users/larsvanderlaan/repos/VennCalibration/myenv2/lib/python3.13/site-packages/mapie/utils.py:620: UserWarning: WARNING: The predictions are ill-sorted.\n",
      "  warnings.warn(\n"
     ]
    },
    {
     "name": "stdout",
     "output_type": "stream",
     "text": [
      "0.1\n",
      "0.10008517887563884\n"
     ]
    },
    {
     "name": "stderr",
     "output_type": "stream",
     "text": [
      "/Users/larsvanderlaan/repos/VennCalibration/myenv2/lib/python3.13/site-packages/mapie/utils.py:620: UserWarning: WARNING: The predictions are ill-sorted.\n",
      "  warnings.warn(\n",
      "/Users/larsvanderlaan/repos/VennCalibration/myenv2/lib/python3.13/site-packages/mapie/utils.py:620: UserWarning: WARNING: The predictions are ill-sorted.\n",
      "  warnings.warn(\n"
     ]
    },
    {
     "name": "stdout",
     "output_type": "stream",
     "text": [
      "0.1\n",
      "0.10008517887563884\n"
     ]
    },
    {
     "name": "stderr",
     "output_type": "stream",
     "text": [
      "/Users/larsvanderlaan/repos/VennCalibration/myenv2/lib/python3.13/site-packages/mapie/utils.py:620: UserWarning: WARNING: The predictions are ill-sorted.\n",
      "  warnings.warn(\n",
      "/Users/larsvanderlaan/repos/VennCalibration/myenv2/lib/python3.13/site-packages/mapie/utils.py:620: UserWarning: WARNING: The predictions are ill-sorted.\n",
      "  warnings.warn(\n"
     ]
    },
    {
     "name": "stdout",
     "output_type": "stream",
     "text": [
      "0.1\n",
      "0.10008517887563884\n"
     ]
    },
    {
     "name": "stderr",
     "output_type": "stream",
     "text": [
      "/Users/larsvanderlaan/repos/VennCalibration/myenv2/lib/python3.13/site-packages/mapie/utils.py:620: UserWarning: WARNING: The predictions are ill-sorted.\n",
      "  warnings.warn(\n",
      "/Users/larsvanderlaan/repos/VennCalibration/myenv2/lib/python3.13/site-packages/mapie/utils.py:620: UserWarning: WARNING: The predictions are ill-sorted.\n",
      "  warnings.warn(\n"
     ]
    },
    {
     "name": "stdout",
     "output_type": "stream",
     "text": [
      "0.1\n",
      "0.10008517887563884\n"
     ]
    },
    {
     "name": "stderr",
     "output_type": "stream",
     "text": [
      "/Users/larsvanderlaan/repos/VennCalibration/myenv2/lib/python3.13/site-packages/mapie/utils.py:620: UserWarning: WARNING: The predictions are ill-sorted.\n",
      "  warnings.warn(\n",
      "/Users/larsvanderlaan/repos/VennCalibration/myenv2/lib/python3.13/site-packages/mapie/utils.py:620: UserWarning: WARNING: The predictions are ill-sorted.\n",
      "  warnings.warn(\n"
     ]
    },
    {
     "name": "stdout",
     "output_type": "stream",
     "text": [
      "0.1\n",
      "0.10008517887563884\n"
     ]
    },
    {
     "name": "stderr",
     "output_type": "stream",
     "text": [
      "/Users/larsvanderlaan/repos/VennCalibration/myenv2/lib/python3.13/site-packages/mapie/utils.py:620: UserWarning: WARNING: The predictions are ill-sorted.\n",
      "  warnings.warn(\n",
      "/Users/larsvanderlaan/repos/VennCalibration/myenv2/lib/python3.13/site-packages/mapie/utils.py:620: UserWarning: WARNING: The predictions are ill-sorted.\n",
      "  warnings.warn(\n"
     ]
    },
    {
     "name": "stdout",
     "output_type": "stream",
     "text": [
      "0.1\n",
      "0.10008517887563884\n"
     ]
    },
    {
     "name": "stderr",
     "output_type": "stream",
     "text": [
      "/Users/larsvanderlaan/repos/VennCalibration/myenv2/lib/python3.13/site-packages/mapie/utils.py:620: UserWarning: WARNING: The predictions are ill-sorted.\n",
      "  warnings.warn(\n",
      "/Users/larsvanderlaan/repos/VennCalibration/myenv2/lib/python3.13/site-packages/mapie/utils.py:620: UserWarning: WARNING: The predictions are ill-sorted.\n",
      "  warnings.warn(\n"
     ]
    },
    {
     "name": "stdout",
     "output_type": "stream",
     "text": [
      "0.1\n",
      "0.10008517887563884\n"
     ]
    },
    {
     "name": "stderr",
     "output_type": "stream",
     "text": [
      "/Users/larsvanderlaan/repos/VennCalibration/myenv2/lib/python3.13/site-packages/mapie/utils.py:620: UserWarning: WARNING: The predictions are ill-sorted.\n",
      "  warnings.warn(\n",
      "/Users/larsvanderlaan/repos/VennCalibration/myenv2/lib/python3.13/site-packages/mapie/utils.py:620: UserWarning: WARNING: The predictions are ill-sorted.\n",
      "  warnings.warn(\n"
     ]
    },
    {
     "name": "stdout",
     "output_type": "stream",
     "text": [
      "0.1\n",
      "0.10008517887563884\n"
     ]
    },
    {
     "name": "stderr",
     "output_type": "stream",
     "text": [
      "/Users/larsvanderlaan/repos/VennCalibration/myenv2/lib/python3.13/site-packages/mapie/utils.py:620: UserWarning: WARNING: The predictions are ill-sorted.\n",
      "  warnings.warn(\n",
      "/Users/larsvanderlaan/repos/VennCalibration/myenv2/lib/python3.13/site-packages/mapie/utils.py:620: UserWarning: WARNING: The predictions are ill-sorted.\n",
      "  warnings.warn(\n"
     ]
    },
    {
     "name": "stdout",
     "output_type": "stream",
     "text": [
      "0.1\n",
      "0.10008517887563884\n"
     ]
    },
    {
     "name": "stderr",
     "output_type": "stream",
     "text": [
      "/Users/larsvanderlaan/repos/VennCalibration/myenv2/lib/python3.13/site-packages/mapie/utils.py:620: UserWarning: WARNING: The predictions are ill-sorted.\n",
      "  warnings.warn(\n",
      "/Users/larsvanderlaan/repos/VennCalibration/myenv2/lib/python3.13/site-packages/mapie/utils.py:620: UserWarning: WARNING: The predictions are ill-sorted.\n",
      "  warnings.warn(\n"
     ]
    },
    {
     "name": "stdout",
     "output_type": "stream",
     "text": [
      "0.1\n",
      "0.10008517887563884\n"
     ]
    },
    {
     "name": "stderr",
     "output_type": "stream",
     "text": [
      "/Users/larsvanderlaan/repos/VennCalibration/myenv2/lib/python3.13/site-packages/mapie/utils.py:620: UserWarning: WARNING: The predictions are ill-sorted.\n",
      "  warnings.warn(\n",
      "/Users/larsvanderlaan/repos/VennCalibration/myenv2/lib/python3.13/site-packages/mapie/utils.py:620: UserWarning: WARNING: The predictions are ill-sorted.\n",
      "  warnings.warn(\n"
     ]
    },
    {
     "name": "stdout",
     "output_type": "stream",
     "text": [
      "0.1\n",
      "0.10008517887563884\n"
     ]
    },
    {
     "name": "stderr",
     "output_type": "stream",
     "text": [
      "/Users/larsvanderlaan/repos/VennCalibration/myenv2/lib/python3.13/site-packages/mapie/utils.py:620: UserWarning: WARNING: The predictions are ill-sorted.\n",
      "  warnings.warn(\n",
      "/Users/larsvanderlaan/repos/VennCalibration/myenv2/lib/python3.13/site-packages/mapie/utils.py:620: UserWarning: WARNING: The predictions are ill-sorted.\n",
      "  warnings.warn(\n"
     ]
    },
    {
     "name": "stdout",
     "output_type": "stream",
     "text": [
      "0.1\n",
      "0.10008517887563884\n"
     ]
    },
    {
     "name": "stderr",
     "output_type": "stream",
     "text": [
      "/Users/larsvanderlaan/repos/VennCalibration/myenv2/lib/python3.13/site-packages/mapie/utils.py:620: UserWarning: WARNING: The predictions are ill-sorted.\n",
      "  warnings.warn(\n",
      "/Users/larsvanderlaan/repos/VennCalibration/myenv2/lib/python3.13/site-packages/mapie/utils.py:620: UserWarning: WARNING: The predictions are ill-sorted.\n",
      "  warnings.warn(\n"
     ]
    },
    {
     "name": "stdout",
     "output_type": "stream",
     "text": [
      "0.1\n",
      "0.10008517887563884\n"
     ]
    },
    {
     "name": "stderr",
     "output_type": "stream",
     "text": [
      "/Users/larsvanderlaan/repos/VennCalibration/myenv2/lib/python3.13/site-packages/mapie/utils.py:620: UserWarning: WARNING: The predictions are ill-sorted.\n",
      "  warnings.warn(\n",
      "/Users/larsvanderlaan/repos/VennCalibration/myenv2/lib/python3.13/site-packages/mapie/utils.py:620: UserWarning: WARNING: The predictions are ill-sorted.\n",
      "  warnings.warn(\n"
     ]
    },
    {
     "name": "stdout",
     "output_type": "stream",
     "text": [
      "0.1\n",
      "0.10008517887563884\n"
     ]
    },
    {
     "name": "stderr",
     "output_type": "stream",
     "text": [
      "/Users/larsvanderlaan/repos/VennCalibration/myenv2/lib/python3.13/site-packages/mapie/utils.py:620: UserWarning: WARNING: The predictions are ill-sorted.\n",
      "  warnings.warn(\n",
      "/Users/larsvanderlaan/repos/VennCalibration/myenv2/lib/python3.13/site-packages/mapie/utils.py:620: UserWarning: WARNING: The predictions are ill-sorted.\n",
      "  warnings.warn(\n"
     ]
    },
    {
     "name": "stdout",
     "output_type": "stream",
     "text": [
      "0.1\n",
      "0.10008517887563884\n"
     ]
    },
    {
     "name": "stderr",
     "output_type": "stream",
     "text": [
      "/Users/larsvanderlaan/repos/VennCalibration/myenv2/lib/python3.13/site-packages/mapie/utils.py:620: UserWarning: WARNING: The predictions are ill-sorted.\n",
      "  warnings.warn(\n",
      "/Users/larsvanderlaan/repos/VennCalibration/myenv2/lib/python3.13/site-packages/mapie/utils.py:620: UserWarning: WARNING: The predictions are ill-sorted.\n",
      "  warnings.warn(\n"
     ]
    },
    {
     "name": "stdout",
     "output_type": "stream",
     "text": [
      "0.1\n",
      "0.10008517887563884\n"
     ]
    },
    {
     "name": "stderr",
     "output_type": "stream",
     "text": [
      "/Users/larsvanderlaan/repos/VennCalibration/myenv2/lib/python3.13/site-packages/mapie/utils.py:620: UserWarning: WARNING: The predictions are ill-sorted.\n",
      "  warnings.warn(\n",
      "/Users/larsvanderlaan/repos/VennCalibration/myenv2/lib/python3.13/site-packages/mapie/utils.py:620: UserWarning: WARNING: The predictions are ill-sorted.\n",
      "  warnings.warn(\n"
     ]
    },
    {
     "name": "stdout",
     "output_type": "stream",
     "text": [
      "0.1\n",
      "0.10008517887563884\n"
     ]
    },
    {
     "name": "stderr",
     "output_type": "stream",
     "text": [
      "/Users/larsvanderlaan/repos/VennCalibration/myenv2/lib/python3.13/site-packages/mapie/utils.py:620: UserWarning: WARNING: The predictions are ill-sorted.\n",
      "  warnings.warn(\n",
      "/Users/larsvanderlaan/repos/VennCalibration/myenv2/lib/python3.13/site-packages/mapie/utils.py:620: UserWarning: WARNING: The predictions are ill-sorted.\n",
      "  warnings.warn(\n"
     ]
    },
    {
     "name": "stdout",
     "output_type": "stream",
     "text": [
      "0.1\n",
      "0.10008517887563884\n"
     ]
    },
    {
     "name": "stderr",
     "output_type": "stream",
     "text": [
      "/Users/larsvanderlaan/repos/VennCalibration/myenv2/lib/python3.13/site-packages/mapie/utils.py:620: UserWarning: WARNING: The predictions are ill-sorted.\n",
      "  warnings.warn(\n",
      "/Users/larsvanderlaan/repos/VennCalibration/myenv2/lib/python3.13/site-packages/mapie/utils.py:620: UserWarning: WARNING: The predictions are ill-sorted.\n",
      "  warnings.warn(\n"
     ]
    },
    {
     "name": "stdout",
     "output_type": "stream",
     "text": [
      "0.1\n",
      "0.10008517887563884\n"
     ]
    },
    {
     "name": "stderr",
     "output_type": "stream",
     "text": [
      "/Users/larsvanderlaan/repos/VennCalibration/myenv2/lib/python3.13/site-packages/mapie/utils.py:620: UserWarning: WARNING: The predictions are ill-sorted.\n",
      "  warnings.warn(\n",
      "/Users/larsvanderlaan/repos/VennCalibration/myenv2/lib/python3.13/site-packages/mapie/utils.py:620: UserWarning: WARNING: The predictions are ill-sorted.\n",
      "  warnings.warn(\n"
     ]
    },
    {
     "name": "stdout",
     "output_type": "stream",
     "text": [
      "0.1\n",
      "0.10008517887563884\n"
     ]
    },
    {
     "name": "stderr",
     "output_type": "stream",
     "text": [
      "/Users/larsvanderlaan/repos/VennCalibration/myenv2/lib/python3.13/site-packages/mapie/utils.py:620: UserWarning: WARNING: The predictions are ill-sorted.\n",
      "  warnings.warn(\n",
      "/Users/larsvanderlaan/repos/VennCalibration/myenv2/lib/python3.13/site-packages/mapie/utils.py:620: UserWarning: WARNING: The predictions are ill-sorted.\n",
      "  warnings.warn(\n"
     ]
    },
    {
     "name": "stdout",
     "output_type": "stream",
     "text": [
      "0.1\n",
      "0.10008517887563884\n"
     ]
    },
    {
     "name": "stderr",
     "output_type": "stream",
     "text": [
      "/Users/larsvanderlaan/repos/VennCalibration/myenv2/lib/python3.13/site-packages/mapie/utils.py:620: UserWarning: WARNING: The predictions are ill-sorted.\n",
      "  warnings.warn(\n",
      "/Users/larsvanderlaan/repos/VennCalibration/myenv2/lib/python3.13/site-packages/mapie/utils.py:620: UserWarning: WARNING: The predictions are ill-sorted.\n",
      "  warnings.warn(\n"
     ]
    },
    {
     "name": "stdout",
     "output_type": "stream",
     "text": [
      "0.1\n",
      "0.10008517887563884\n"
     ]
    },
    {
     "name": "stderr",
     "output_type": "stream",
     "text": [
      "/Users/larsvanderlaan/repos/VennCalibration/myenv2/lib/python3.13/site-packages/mapie/utils.py:620: UserWarning: WARNING: The predictions are ill-sorted.\n",
      "  warnings.warn(\n",
      "/Users/larsvanderlaan/repos/VennCalibration/myenv2/lib/python3.13/site-packages/mapie/utils.py:620: UserWarning: WARNING: The predictions are ill-sorted.\n",
      "  warnings.warn(\n"
     ]
    },
    {
     "name": "stdout",
     "output_type": "stream",
     "text": [
      "0.1\n",
      "0.10008517887563884\n"
     ]
    },
    {
     "name": "stderr",
     "output_type": "stream",
     "text": [
      "/Users/larsvanderlaan/repos/VennCalibration/myenv2/lib/python3.13/site-packages/mapie/utils.py:620: UserWarning: WARNING: The predictions are ill-sorted.\n",
      "  warnings.warn(\n",
      "/Users/larsvanderlaan/repos/VennCalibration/myenv2/lib/python3.13/site-packages/mapie/utils.py:620: UserWarning: WARNING: The predictions are ill-sorted.\n",
      "  warnings.warn(\n"
     ]
    },
    {
     "name": "stdout",
     "output_type": "stream",
     "text": [
      "0.1\n",
      "0.10008517887563884\n"
     ]
    },
    {
     "name": "stderr",
     "output_type": "stream",
     "text": [
      "/Users/larsvanderlaan/repos/VennCalibration/myenv2/lib/python3.13/site-packages/mapie/utils.py:620: UserWarning: WARNING: The predictions are ill-sorted.\n",
      "  warnings.warn(\n",
      "/Users/larsvanderlaan/repos/VennCalibration/myenv2/lib/python3.13/site-packages/mapie/utils.py:620: UserWarning: WARNING: The predictions are ill-sorted.\n",
      "  warnings.warn(\n"
     ]
    },
    {
     "name": "stdout",
     "output_type": "stream",
     "text": [
      "0.1\n",
      "0.10008517887563884\n"
     ]
    },
    {
     "name": "stderr",
     "output_type": "stream",
     "text": [
      "/Users/larsvanderlaan/repos/VennCalibration/myenv2/lib/python3.13/site-packages/mapie/utils.py:620: UserWarning: WARNING: The predictions are ill-sorted.\n",
      "  warnings.warn(\n",
      "/Users/larsvanderlaan/repos/VennCalibration/myenv2/lib/python3.13/site-packages/mapie/utils.py:620: UserWarning: WARNING: The predictions are ill-sorted.\n",
      "  warnings.warn(\n"
     ]
    },
    {
     "name": "stdout",
     "output_type": "stream",
     "text": [
      "0.1\n",
      "0.10008517887563884\n"
     ]
    },
    {
     "name": "stderr",
     "output_type": "stream",
     "text": [
      "/Users/larsvanderlaan/repos/VennCalibration/myenv2/lib/python3.13/site-packages/mapie/utils.py:620: UserWarning: WARNING: The predictions are ill-sorted.\n",
      "  warnings.warn(\n",
      "/Users/larsvanderlaan/repos/VennCalibration/myenv2/lib/python3.13/site-packages/mapie/utils.py:620: UserWarning: WARNING: The predictions are ill-sorted.\n",
      "  warnings.warn(\n"
     ]
    },
    {
     "name": "stdout",
     "output_type": "stream",
     "text": [
      "0.1\n",
      "0.10008517887563884\n"
     ]
    },
    {
     "name": "stderr",
     "output_type": "stream",
     "text": [
      "/Users/larsvanderlaan/repos/VennCalibration/myenv2/lib/python3.13/site-packages/mapie/utils.py:620: UserWarning: WARNING: The predictions are ill-sorted.\n",
      "  warnings.warn(\n",
      "/Users/larsvanderlaan/repos/VennCalibration/myenv2/lib/python3.13/site-packages/mapie/utils.py:620: UserWarning: WARNING: The predictions are ill-sorted.\n",
      "  warnings.warn(\n"
     ]
    },
    {
     "name": "stdout",
     "output_type": "stream",
     "text": [
      "0.1\n",
      "0.10008517887563884\n"
     ]
    },
    {
     "name": "stderr",
     "output_type": "stream",
     "text": [
      "/Users/larsvanderlaan/repos/VennCalibration/myenv2/lib/python3.13/site-packages/mapie/utils.py:620: UserWarning: WARNING: The predictions are ill-sorted.\n",
      "  warnings.warn(\n",
      "/Users/larsvanderlaan/repos/VennCalibration/myenv2/lib/python3.13/site-packages/mapie/utils.py:620: UserWarning: WARNING: The predictions are ill-sorted.\n",
      "  warnings.warn(\n"
     ]
    },
    {
     "name": "stdout",
     "output_type": "stream",
     "text": [
      "0.1\n",
      "0.10008517887563884\n"
     ]
    },
    {
     "name": "stderr",
     "output_type": "stream",
     "text": [
      "/Users/larsvanderlaan/repos/VennCalibration/myenv2/lib/python3.13/site-packages/mapie/utils.py:620: UserWarning: WARNING: The predictions are ill-sorted.\n",
      "  warnings.warn(\n",
      "/Users/larsvanderlaan/repos/VennCalibration/myenv2/lib/python3.13/site-packages/mapie/utils.py:620: UserWarning: WARNING: The predictions are ill-sorted.\n",
      "  warnings.warn(\n"
     ]
    },
    {
     "name": "stdout",
     "output_type": "stream",
     "text": [
      "0.1\n",
      "0.10008517887563884\n"
     ]
    },
    {
     "name": "stderr",
     "output_type": "stream",
     "text": [
      "/Users/larsvanderlaan/repos/VennCalibration/myenv2/lib/python3.13/site-packages/mapie/utils.py:620: UserWarning: WARNING: The predictions are ill-sorted.\n",
      "  warnings.warn(\n",
      "/Users/larsvanderlaan/repos/VennCalibration/myenv2/lib/python3.13/site-packages/mapie/utils.py:620: UserWarning: WARNING: The predictions are ill-sorted.\n",
      "  warnings.warn(\n"
     ]
    },
    {
     "name": "stdout",
     "output_type": "stream",
     "text": [
      "0.1\n",
      "0.10008517887563884\n"
     ]
    },
    {
     "name": "stderr",
     "output_type": "stream",
     "text": [
      "/Users/larsvanderlaan/repos/VennCalibration/myenv2/lib/python3.13/site-packages/mapie/utils.py:620: UserWarning: WARNING: The predictions are ill-sorted.\n",
      "  warnings.warn(\n",
      "/Users/larsvanderlaan/repos/VennCalibration/myenv2/lib/python3.13/site-packages/mapie/utils.py:620: UserWarning: WARNING: The predictions are ill-sorted.\n",
      "  warnings.warn(\n"
     ]
    },
    {
     "name": "stdout",
     "output_type": "stream",
     "text": [
      "0.1\n",
      "0.10008517887563884\n"
     ]
    },
    {
     "name": "stderr",
     "output_type": "stream",
     "text": [
      "/Users/larsvanderlaan/repos/VennCalibration/myenv2/lib/python3.13/site-packages/mapie/utils.py:620: UserWarning: WARNING: The predictions are ill-sorted.\n",
      "  warnings.warn(\n",
      "/Users/larsvanderlaan/repos/VennCalibration/myenv2/lib/python3.13/site-packages/mapie/utils.py:620: UserWarning: WARNING: The predictions are ill-sorted.\n",
      "  warnings.warn(\n"
     ]
    },
    {
     "name": "stdout",
     "output_type": "stream",
     "text": [
      "0.1\n",
      "0.10008517887563884\n"
     ]
    },
    {
     "name": "stderr",
     "output_type": "stream",
     "text": [
      "/Users/larsvanderlaan/repos/VennCalibration/myenv2/lib/python3.13/site-packages/mapie/utils.py:620: UserWarning: WARNING: The predictions are ill-sorted.\n",
      "  warnings.warn(\n",
      "/Users/larsvanderlaan/repos/VennCalibration/myenv2/lib/python3.13/site-packages/mapie/utils.py:620: UserWarning: WARNING: The predictions are ill-sorted.\n",
      "  warnings.warn(\n"
     ]
    },
    {
     "name": "stdout",
     "output_type": "stream",
     "text": [
      "0.1\n",
      "0.10008517887563884\n"
     ]
    },
    {
     "name": "stderr",
     "output_type": "stream",
     "text": [
      "/Users/larsvanderlaan/repos/VennCalibration/myenv2/lib/python3.13/site-packages/mapie/utils.py:620: UserWarning: WARNING: The predictions are ill-sorted.\n",
      "  warnings.warn(\n",
      "/Users/larsvanderlaan/repos/VennCalibration/myenv2/lib/python3.13/site-packages/mapie/utils.py:620: UserWarning: WARNING: The predictions are ill-sorted.\n",
      "  warnings.warn(\n"
     ]
    },
    {
     "name": "stdout",
     "output_type": "stream",
     "text": [
      "0.1\n",
      "0.10008517887563884\n"
     ]
    },
    {
     "name": "stderr",
     "output_type": "stream",
     "text": [
      "/Users/larsvanderlaan/repos/VennCalibration/myenv2/lib/python3.13/site-packages/mapie/utils.py:620: UserWarning: WARNING: The predictions are ill-sorted.\n",
      "  warnings.warn(\n",
      "/Users/larsvanderlaan/repos/VennCalibration/myenv2/lib/python3.13/site-packages/mapie/utils.py:620: UserWarning: WARNING: The predictions are ill-sorted.\n",
      "  warnings.warn(\n"
     ]
    },
    {
     "name": "stdout",
     "output_type": "stream",
     "text": [
      "0.1\n",
      "0.10008517887563884\n"
     ]
    },
    {
     "name": "stderr",
     "output_type": "stream",
     "text": [
      "/Users/larsvanderlaan/repos/VennCalibration/myenv2/lib/python3.13/site-packages/mapie/utils.py:620: UserWarning: WARNING: The predictions are ill-sorted.\n",
      "  warnings.warn(\n",
      "/Users/larsvanderlaan/repos/VennCalibration/myenv2/lib/python3.13/site-packages/mapie/utils.py:620: UserWarning: WARNING: The predictions are ill-sorted.\n",
      "  warnings.warn(\n"
     ]
    },
    {
     "name": "stdout",
     "output_type": "stream",
     "text": [
      "0.1\n",
      "0.10008517887563884\n"
     ]
    },
    {
     "name": "stderr",
     "output_type": "stream",
     "text": [
      "/Users/larsvanderlaan/repos/VennCalibration/myenv2/lib/python3.13/site-packages/mapie/utils.py:620: UserWarning: WARNING: The predictions are ill-sorted.\n",
      "  warnings.warn(\n",
      "/Users/larsvanderlaan/repos/VennCalibration/myenv2/lib/python3.13/site-packages/mapie/utils.py:620: UserWarning: WARNING: The predictions are ill-sorted.\n",
      "  warnings.warn(\n"
     ]
    },
    {
     "name": "stdout",
     "output_type": "stream",
     "text": [
      "0.1\n",
      "0.10008517887563884\n"
     ]
    },
    {
     "name": "stderr",
     "output_type": "stream",
     "text": [
      "/Users/larsvanderlaan/repos/VennCalibration/myenv2/lib/python3.13/site-packages/mapie/utils.py:620: UserWarning: WARNING: The predictions are ill-sorted.\n",
      "  warnings.warn(\n",
      "/Users/larsvanderlaan/repos/VennCalibration/myenv2/lib/python3.13/site-packages/mapie/utils.py:620: UserWarning: WARNING: The predictions are ill-sorted.\n",
      "  warnings.warn(\n"
     ]
    },
    {
     "name": "stdout",
     "output_type": "stream",
     "text": [
      "0.1\n",
      "0.10008517887563884\n"
     ]
    },
    {
     "name": "stderr",
     "output_type": "stream",
     "text": [
      "/Users/larsvanderlaan/repos/VennCalibration/myenv2/lib/python3.13/site-packages/mapie/utils.py:620: UserWarning: WARNING: The predictions are ill-sorted.\n",
      "  warnings.warn(\n",
      "/Users/larsvanderlaan/repos/VennCalibration/myenv2/lib/python3.13/site-packages/mapie/utils.py:620: UserWarning: WARNING: The predictions are ill-sorted.\n",
      "  warnings.warn(\n"
     ]
    },
    {
     "name": "stdout",
     "output_type": "stream",
     "text": [
      "0.1\n",
      "0.10008517887563884\n"
     ]
    },
    {
     "name": "stderr",
     "output_type": "stream",
     "text": [
      "/Users/larsvanderlaan/repos/VennCalibration/myenv2/lib/python3.13/site-packages/mapie/utils.py:620: UserWarning: WARNING: The predictions are ill-sorted.\n",
      "  warnings.warn(\n",
      "/Users/larsvanderlaan/repos/VennCalibration/myenv2/lib/python3.13/site-packages/mapie/utils.py:620: UserWarning: WARNING: The predictions are ill-sorted.\n",
      "  warnings.warn(\n"
     ]
    },
    {
     "name": "stdout",
     "output_type": "stream",
     "text": [
      "0.1\n",
      "0.10008517887563884\n"
     ]
    },
    {
     "name": "stderr",
     "output_type": "stream",
     "text": [
      "/Users/larsvanderlaan/repos/VennCalibration/myenv2/lib/python3.13/site-packages/mapie/utils.py:620: UserWarning: WARNING: The predictions are ill-sorted.\n",
      "  warnings.warn(\n",
      "/Users/larsvanderlaan/repos/VennCalibration/myenv2/lib/python3.13/site-packages/mapie/utils.py:620: UserWarning: WARNING: The predictions are ill-sorted.\n",
      "  warnings.warn(\n"
     ]
    },
    {
     "name": "stdout",
     "output_type": "stream",
     "text": [
      "0.1\n",
      "0.10008517887563884\n"
     ]
    },
    {
     "name": "stderr",
     "output_type": "stream",
     "text": [
      "/Users/larsvanderlaan/repos/VennCalibration/myenv2/lib/python3.13/site-packages/mapie/utils.py:620: UserWarning: WARNING: The predictions are ill-sorted.\n",
      "  warnings.warn(\n",
      "/Users/larsvanderlaan/repos/VennCalibration/myenv2/lib/python3.13/site-packages/mapie/utils.py:620: UserWarning: WARNING: The predictions are ill-sorted.\n",
      "  warnings.warn(\n"
     ]
    },
    {
     "name": "stdout",
     "output_type": "stream",
     "text": [
      "0.1\n",
      "0.10008517887563884\n"
     ]
    },
    {
     "name": "stderr",
     "output_type": "stream",
     "text": [
      "/Users/larsvanderlaan/repos/VennCalibration/myenv2/lib/python3.13/site-packages/mapie/utils.py:620: UserWarning: WARNING: The predictions are ill-sorted.\n",
      "  warnings.warn(\n",
      "/Users/larsvanderlaan/repos/VennCalibration/myenv2/lib/python3.13/site-packages/mapie/utils.py:620: UserWarning: WARNING: The predictions are ill-sorted.\n",
      "  warnings.warn(\n"
     ]
    },
    {
     "name": "stdout",
     "output_type": "stream",
     "text": [
      "0.1\n",
      "0.10008517887563884\n"
     ]
    },
    {
     "name": "stderr",
     "output_type": "stream",
     "text": [
      "/Users/larsvanderlaan/repos/VennCalibration/myenv2/lib/python3.13/site-packages/mapie/utils.py:620: UserWarning: WARNING: The predictions are ill-sorted.\n",
      "  warnings.warn(\n",
      "/Users/larsvanderlaan/repos/VennCalibration/myenv2/lib/python3.13/site-packages/mapie/utils.py:620: UserWarning: WARNING: The predictions are ill-sorted.\n",
      "  warnings.warn(\n"
     ]
    },
    {
     "name": "stdout",
     "output_type": "stream",
     "text": [
      "0.1\n",
      "0.10008517887563884\n"
     ]
    },
    {
     "name": "stderr",
     "output_type": "stream",
     "text": [
      "/Users/larsvanderlaan/repos/VennCalibration/myenv2/lib/python3.13/site-packages/mapie/utils.py:620: UserWarning: WARNING: The predictions are ill-sorted.\n",
      "  warnings.warn(\n",
      "/Users/larsvanderlaan/repos/VennCalibration/myenv2/lib/python3.13/site-packages/mapie/utils.py:620: UserWarning: WARNING: The predictions are ill-sorted.\n",
      "  warnings.warn(\n"
     ]
    },
    {
     "name": "stdout",
     "output_type": "stream",
     "text": [
      "0.1\n",
      "0.10008517887563884\n"
     ]
    },
    {
     "name": "stderr",
     "output_type": "stream",
     "text": [
      "/Users/larsvanderlaan/repos/VennCalibration/myenv2/lib/python3.13/site-packages/mapie/utils.py:620: UserWarning: WARNING: The predictions are ill-sorted.\n",
      "  warnings.warn(\n",
      "/Users/larsvanderlaan/repos/VennCalibration/myenv2/lib/python3.13/site-packages/mapie/utils.py:620: UserWarning: WARNING: The predictions are ill-sorted.\n",
      "  warnings.warn(\n"
     ]
    },
    {
     "name": "stdout",
     "output_type": "stream",
     "text": [
      "0.1\n",
      "0.10008517887563884\n"
     ]
    },
    {
     "name": "stderr",
     "output_type": "stream",
     "text": [
      "/Users/larsvanderlaan/repos/VennCalibration/myenv2/lib/python3.13/site-packages/mapie/utils.py:620: UserWarning: WARNING: The predictions are ill-sorted.\n",
      "  warnings.warn(\n",
      "/Users/larsvanderlaan/repos/VennCalibration/myenv2/lib/python3.13/site-packages/mapie/utils.py:620: UserWarning: WARNING: The predictions are ill-sorted.\n",
      "  warnings.warn(\n"
     ]
    },
    {
     "name": "stdout",
     "output_type": "stream",
     "text": [
      "0.1\n",
      "0.10008517887563884\n"
     ]
    },
    {
     "name": "stderr",
     "output_type": "stream",
     "text": [
      "/Users/larsvanderlaan/repos/VennCalibration/myenv2/lib/python3.13/site-packages/mapie/utils.py:620: UserWarning: WARNING: The predictions are ill-sorted.\n",
      "  warnings.warn(\n",
      "/Users/larsvanderlaan/repos/VennCalibration/myenv2/lib/python3.13/site-packages/mapie/utils.py:620: UserWarning: WARNING: The predictions are ill-sorted.\n",
      "  warnings.warn(\n"
     ]
    },
    {
     "name": "stdout",
     "output_type": "stream",
     "text": [
      "0.1\n",
      "0.10008517887563884\n"
     ]
    },
    {
     "name": "stderr",
     "output_type": "stream",
     "text": [
      "/Users/larsvanderlaan/repos/VennCalibration/myenv2/lib/python3.13/site-packages/mapie/utils.py:620: UserWarning: WARNING: The predictions are ill-sorted.\n",
      "  warnings.warn(\n",
      "/Users/larsvanderlaan/repos/VennCalibration/myenv2/lib/python3.13/site-packages/mapie/utils.py:620: UserWarning: WARNING: The predictions are ill-sorted.\n",
      "  warnings.warn(\n"
     ]
    },
    {
     "name": "stdout",
     "output_type": "stream",
     "text": [
      "0.1\n",
      "0.10008517887563884\n"
     ]
    },
    {
     "name": "stderr",
     "output_type": "stream",
     "text": [
      "/Users/larsvanderlaan/repos/VennCalibration/myenv2/lib/python3.13/site-packages/mapie/utils.py:620: UserWarning: WARNING: The predictions are ill-sorted.\n",
      "  warnings.warn(\n",
      "/Users/larsvanderlaan/repos/VennCalibration/myenv2/lib/python3.13/site-packages/mapie/utils.py:620: UserWarning: WARNING: The predictions are ill-sorted.\n",
      "  warnings.warn(\n"
     ]
    },
    {
     "name": "stdout",
     "output_type": "stream",
     "text": [
      "0.1\n",
      "0.10008517887563884\n"
     ]
    },
    {
     "name": "stderr",
     "output_type": "stream",
     "text": [
      "/Users/larsvanderlaan/repos/VennCalibration/myenv2/lib/python3.13/site-packages/mapie/utils.py:620: UserWarning: WARNING: The predictions are ill-sorted.\n",
      "  warnings.warn(\n",
      "/Users/larsvanderlaan/repos/VennCalibration/myenv2/lib/python3.13/site-packages/mapie/utils.py:620: UserWarning: WARNING: The predictions are ill-sorted.\n",
      "  warnings.warn(\n"
     ]
    },
    {
     "name": "stdout",
     "output_type": "stream",
     "text": [
      "0.1\n",
      "0.10008517887563884\n"
     ]
    },
    {
     "name": "stderr",
     "output_type": "stream",
     "text": [
      "/Users/larsvanderlaan/repos/VennCalibration/myenv2/lib/python3.13/site-packages/mapie/utils.py:620: UserWarning: WARNING: The predictions are ill-sorted.\n",
      "  warnings.warn(\n",
      "/Users/larsvanderlaan/repos/VennCalibration/myenv2/lib/python3.13/site-packages/mapie/utils.py:620: UserWarning: WARNING: The predictions are ill-sorted.\n",
      "  warnings.warn(\n"
     ]
    },
    {
     "name": "stdout",
     "output_type": "stream",
     "text": [
      "0.1\n",
      "0.10032362459546926\n"
     ]
    },
    {
     "name": "stderr",
     "output_type": "stream",
     "text": [
      "/Users/larsvanderlaan/repos/VennCalibration/myenv2/lib/python3.13/site-packages/mapie/utils.py:620: UserWarning: WARNING: The predictions are ill-sorted.\n",
      "  warnings.warn(\n"
     ]
    },
    {
     "name": "stdout",
     "output_type": "stream",
     "text": [
      "0.1\n",
      "0.10032362459546926\n"
     ]
    },
    {
     "name": "stderr",
     "output_type": "stream",
     "text": [
      "/Users/larsvanderlaan/repos/VennCalibration/myenv2/lib/python3.13/site-packages/mapie/utils.py:620: UserWarning: WARNING: The predictions are ill-sorted.\n",
      "  warnings.warn(\n",
      "/Users/larsvanderlaan/repos/VennCalibration/myenv2/lib/python3.13/site-packages/mapie/utils.py:620: UserWarning: WARNING: The predictions are ill-sorted.\n",
      "  warnings.warn(\n"
     ]
    },
    {
     "name": "stdout",
     "output_type": "stream",
     "text": [
      "0.1\n",
      "0.10032362459546926\n"
     ]
    },
    {
     "name": "stderr",
     "output_type": "stream",
     "text": [
      "/Users/larsvanderlaan/repos/VennCalibration/myenv2/lib/python3.13/site-packages/mapie/utils.py:620: UserWarning: WARNING: The predictions are ill-sorted.\n",
      "  warnings.warn(\n",
      "/Users/larsvanderlaan/repos/VennCalibration/myenv2/lib/python3.13/site-packages/mapie/utils.py:620: UserWarning: WARNING: The predictions are ill-sorted.\n",
      "  warnings.warn(\n"
     ]
    },
    {
     "name": "stdout",
     "output_type": "stream",
     "text": [
      "0.1\n",
      "0.10032362459546926\n"
     ]
    },
    {
     "name": "stderr",
     "output_type": "stream",
     "text": [
      "/Users/larsvanderlaan/repos/VennCalibration/myenv2/lib/python3.13/site-packages/mapie/utils.py:620: UserWarning: WARNING: The predictions are ill-sorted.\n",
      "  warnings.warn(\n",
      "/Users/larsvanderlaan/repos/VennCalibration/myenv2/lib/python3.13/site-packages/mapie/utils.py:620: UserWarning: WARNING: The predictions are ill-sorted.\n",
      "  warnings.warn(\n"
     ]
    },
    {
     "name": "stdout",
     "output_type": "stream",
     "text": [
      "0.1\n",
      "0.10032362459546926\n"
     ]
    },
    {
     "name": "stderr",
     "output_type": "stream",
     "text": [
      "/Users/larsvanderlaan/repos/VennCalibration/myenv2/lib/python3.13/site-packages/mapie/utils.py:620: UserWarning: WARNING: The predictions are ill-sorted.\n",
      "  warnings.warn(\n",
      "/Users/larsvanderlaan/repos/VennCalibration/myenv2/lib/python3.13/site-packages/mapie/utils.py:620: UserWarning: WARNING: The predictions are ill-sorted.\n",
      "  warnings.warn(\n"
     ]
    },
    {
     "name": "stdout",
     "output_type": "stream",
     "text": [
      "0.1\n",
      "0.10032362459546926\n"
     ]
    },
    {
     "name": "stderr",
     "output_type": "stream",
     "text": [
      "/Users/larsvanderlaan/repos/VennCalibration/myenv2/lib/python3.13/site-packages/mapie/utils.py:620: UserWarning: WARNING: The predictions are ill-sorted.\n",
      "  warnings.warn(\n",
      "/Users/larsvanderlaan/repos/VennCalibration/myenv2/lib/python3.13/site-packages/mapie/utils.py:620: UserWarning: WARNING: The predictions are ill-sorted.\n",
      "  warnings.warn(\n"
     ]
    },
    {
     "name": "stdout",
     "output_type": "stream",
     "text": [
      "0.1\n",
      "0.10032362459546926\n"
     ]
    },
    {
     "name": "stderr",
     "output_type": "stream",
     "text": [
      "/Users/larsvanderlaan/repos/VennCalibration/myenv2/lib/python3.13/site-packages/mapie/utils.py:620: UserWarning: WARNING: The predictions are ill-sorted.\n",
      "  warnings.warn(\n",
      "/Users/larsvanderlaan/repos/VennCalibration/myenv2/lib/python3.13/site-packages/mapie/utils.py:620: UserWarning: WARNING: The predictions are ill-sorted.\n",
      "  warnings.warn(\n"
     ]
    },
    {
     "name": "stdout",
     "output_type": "stream",
     "text": [
      "0.1\n",
      "0.10032362459546926\n"
     ]
    },
    {
     "name": "stderr",
     "output_type": "stream",
     "text": [
      "/Users/larsvanderlaan/repos/VennCalibration/myenv2/lib/python3.13/site-packages/mapie/utils.py:620: UserWarning: WARNING: The predictions are ill-sorted.\n",
      "  warnings.warn(\n",
      "/Users/larsvanderlaan/repos/VennCalibration/myenv2/lib/python3.13/site-packages/mapie/utils.py:620: UserWarning: WARNING: The predictions are ill-sorted.\n",
      "  warnings.warn(\n"
     ]
    },
    {
     "name": "stdout",
     "output_type": "stream",
     "text": [
      "0.1\n",
      "0.10032362459546926\n"
     ]
    },
    {
     "name": "stderr",
     "output_type": "stream",
     "text": [
      "/Users/larsvanderlaan/repos/VennCalibration/myenv2/lib/python3.13/site-packages/mapie/utils.py:620: UserWarning: WARNING: The predictions are ill-sorted.\n",
      "  warnings.warn(\n",
      "/Users/larsvanderlaan/repos/VennCalibration/myenv2/lib/python3.13/site-packages/mapie/utils.py:620: UserWarning: WARNING: The predictions are ill-sorted.\n",
      "  warnings.warn(\n"
     ]
    },
    {
     "name": "stdout",
     "output_type": "stream",
     "text": [
      "0.1\n",
      "0.10032362459546926\n"
     ]
    },
    {
     "name": "stderr",
     "output_type": "stream",
     "text": [
      "/Users/larsvanderlaan/repos/VennCalibration/myenv2/lib/python3.13/site-packages/mapie/utils.py:620: UserWarning: WARNING: The predictions are ill-sorted.\n",
      "  warnings.warn(\n",
      "/Users/larsvanderlaan/repos/VennCalibration/myenv2/lib/python3.13/site-packages/mapie/utils.py:620: UserWarning: WARNING: The predictions are ill-sorted.\n",
      "  warnings.warn(\n"
     ]
    },
    {
     "name": "stdout",
     "output_type": "stream",
     "text": [
      "0.1\n",
      "0.10032362459546926\n"
     ]
    },
    {
     "name": "stderr",
     "output_type": "stream",
     "text": [
      "/Users/larsvanderlaan/repos/VennCalibration/myenv2/lib/python3.13/site-packages/mapie/utils.py:620: UserWarning: WARNING: The predictions are ill-sorted.\n",
      "  warnings.warn(\n",
      "/Users/larsvanderlaan/repos/VennCalibration/myenv2/lib/python3.13/site-packages/mapie/utils.py:620: UserWarning: WARNING: The predictions are ill-sorted.\n",
      "  warnings.warn(\n"
     ]
    },
    {
     "name": "stdout",
     "output_type": "stream",
     "text": [
      "0.1\n",
      "0.10032362459546926\n"
     ]
    },
    {
     "name": "stderr",
     "output_type": "stream",
     "text": [
      "/Users/larsvanderlaan/repos/VennCalibration/myenv2/lib/python3.13/site-packages/mapie/utils.py:620: UserWarning: WARNING: The predictions are ill-sorted.\n",
      "  warnings.warn(\n",
      "/Users/larsvanderlaan/repos/VennCalibration/myenv2/lib/python3.13/site-packages/mapie/utils.py:620: UserWarning: WARNING: The predictions are ill-sorted.\n",
      "  warnings.warn(\n"
     ]
    },
    {
     "name": "stdout",
     "output_type": "stream",
     "text": [
      "0.1\n",
      "0.10032362459546926\n"
     ]
    },
    {
     "name": "stderr",
     "output_type": "stream",
     "text": [
      "/Users/larsvanderlaan/repos/VennCalibration/myenv2/lib/python3.13/site-packages/mapie/utils.py:620: UserWarning: WARNING: The predictions are ill-sorted.\n",
      "  warnings.warn(\n"
     ]
    },
    {
     "name": "stdout",
     "output_type": "stream",
     "text": [
      "0.1\n",
      "0.10032362459546926\n"
     ]
    },
    {
     "name": "stderr",
     "output_type": "stream",
     "text": [
      "/Users/larsvanderlaan/repos/VennCalibration/myenv2/lib/python3.13/site-packages/mapie/utils.py:620: UserWarning: WARNING: The predictions are ill-sorted.\n",
      "  warnings.warn(\n",
      "/Users/larsvanderlaan/repos/VennCalibration/myenv2/lib/python3.13/site-packages/mapie/utils.py:620: UserWarning: WARNING: The predictions are ill-sorted.\n",
      "  warnings.warn(\n"
     ]
    },
    {
     "name": "stdout",
     "output_type": "stream",
     "text": [
      "0.1\n",
      "0.10032362459546926\n"
     ]
    },
    {
     "name": "stderr",
     "output_type": "stream",
     "text": [
      "/Users/larsvanderlaan/repos/VennCalibration/myenv2/lib/python3.13/site-packages/mapie/utils.py:620: UserWarning: WARNING: The predictions are ill-sorted.\n",
      "  warnings.warn(\n",
      "/Users/larsvanderlaan/repos/VennCalibration/myenv2/lib/python3.13/site-packages/mapie/utils.py:620: UserWarning: WARNING: The predictions are ill-sorted.\n",
      "  warnings.warn(\n"
     ]
    },
    {
     "name": "stdout",
     "output_type": "stream",
     "text": [
      "0.1\n",
      "0.10032362459546926\n"
     ]
    },
    {
     "name": "stderr",
     "output_type": "stream",
     "text": [
      "/Users/larsvanderlaan/repos/VennCalibration/myenv2/lib/python3.13/site-packages/mapie/utils.py:620: UserWarning: WARNING: The predictions are ill-sorted.\n",
      "  warnings.warn(\n",
      "/Users/larsvanderlaan/repos/VennCalibration/myenv2/lib/python3.13/site-packages/mapie/utils.py:620: UserWarning: WARNING: The predictions are ill-sorted.\n",
      "  warnings.warn(\n"
     ]
    },
    {
     "name": "stdout",
     "output_type": "stream",
     "text": [
      "0.1\n",
      "0.10032362459546926\n"
     ]
    },
    {
     "name": "stderr",
     "output_type": "stream",
     "text": [
      "/Users/larsvanderlaan/repos/VennCalibration/myenv2/lib/python3.13/site-packages/mapie/utils.py:620: UserWarning: WARNING: The predictions are ill-sorted.\n",
      "  warnings.warn(\n",
      "/Users/larsvanderlaan/repos/VennCalibration/myenv2/lib/python3.13/site-packages/mapie/utils.py:620: UserWarning: WARNING: The predictions are ill-sorted.\n",
      "  warnings.warn(\n"
     ]
    },
    {
     "name": "stdout",
     "output_type": "stream",
     "text": [
      "0.1\n",
      "0.10032362459546926\n"
     ]
    },
    {
     "name": "stderr",
     "output_type": "stream",
     "text": [
      "/Users/larsvanderlaan/repos/VennCalibration/myenv2/lib/python3.13/site-packages/mapie/utils.py:620: UserWarning: WARNING: The predictions are ill-sorted.\n",
      "  warnings.warn(\n"
     ]
    },
    {
     "name": "stdout",
     "output_type": "stream",
     "text": [
      "0.1\n",
      "0.10032362459546926\n"
     ]
    },
    {
     "name": "stderr",
     "output_type": "stream",
     "text": [
      "/Users/larsvanderlaan/repos/VennCalibration/myenv2/lib/python3.13/site-packages/mapie/utils.py:620: UserWarning: WARNING: The predictions are ill-sorted.\n",
      "  warnings.warn(\n",
      "/Users/larsvanderlaan/repos/VennCalibration/myenv2/lib/python3.13/site-packages/mapie/utils.py:620: UserWarning: WARNING: The predictions are ill-sorted.\n",
      "  warnings.warn(\n"
     ]
    },
    {
     "name": "stdout",
     "output_type": "stream",
     "text": [
      "0.1\n",
      "0.10032362459546926\n"
     ]
    },
    {
     "name": "stderr",
     "output_type": "stream",
     "text": [
      "/Users/larsvanderlaan/repos/VennCalibration/myenv2/lib/python3.13/site-packages/mapie/utils.py:620: UserWarning: WARNING: The predictions are ill-sorted.\n",
      "  warnings.warn(\n",
      "/Users/larsvanderlaan/repos/VennCalibration/myenv2/lib/python3.13/site-packages/mapie/utils.py:620: UserWarning: WARNING: The predictions are ill-sorted.\n",
      "  warnings.warn(\n"
     ]
    },
    {
     "name": "stdout",
     "output_type": "stream",
     "text": [
      "0.1\n",
      "0.10032362459546926\n"
     ]
    },
    {
     "name": "stderr",
     "output_type": "stream",
     "text": [
      "/Users/larsvanderlaan/repos/VennCalibration/myenv2/lib/python3.13/site-packages/mapie/utils.py:620: UserWarning: WARNING: The predictions are ill-sorted.\n",
      "  warnings.warn(\n"
     ]
    },
    {
     "name": "stdout",
     "output_type": "stream",
     "text": [
      "0.1\n",
      "0.10032362459546926\n"
     ]
    },
    {
     "name": "stderr",
     "output_type": "stream",
     "text": [
      "/Users/larsvanderlaan/repos/VennCalibration/myenv2/lib/python3.13/site-packages/mapie/utils.py:620: UserWarning: WARNING: The predictions are ill-sorted.\n",
      "  warnings.warn(\n"
     ]
    },
    {
     "name": "stdout",
     "output_type": "stream",
     "text": [
      "0.1\n",
      "0.10032362459546926\n"
     ]
    },
    {
     "name": "stderr",
     "output_type": "stream",
     "text": [
      "/Users/larsvanderlaan/repos/VennCalibration/myenv2/lib/python3.13/site-packages/mapie/utils.py:620: UserWarning: WARNING: The predictions are ill-sorted.\n",
      "  warnings.warn(\n",
      "/Users/larsvanderlaan/repos/VennCalibration/myenv2/lib/python3.13/site-packages/mapie/utils.py:620: UserWarning: WARNING: The predictions are ill-sorted.\n",
      "  warnings.warn(\n"
     ]
    },
    {
     "name": "stdout",
     "output_type": "stream",
     "text": [
      "0.1\n",
      "0.10032362459546926\n"
     ]
    },
    {
     "name": "stderr",
     "output_type": "stream",
     "text": [
      "/Users/larsvanderlaan/repos/VennCalibration/myenv2/lib/python3.13/site-packages/mapie/utils.py:620: UserWarning: WARNING: The predictions are ill-sorted.\n",
      "  warnings.warn(\n",
      "/Users/larsvanderlaan/repos/VennCalibration/myenv2/lib/python3.13/site-packages/mapie/utils.py:620: UserWarning: WARNING: The predictions are ill-sorted.\n",
      "  warnings.warn(\n"
     ]
    },
    {
     "name": "stdout",
     "output_type": "stream",
     "text": [
      "0.1\n",
      "0.10032362459546926\n"
     ]
    },
    {
     "name": "stderr",
     "output_type": "stream",
     "text": [
      "/Users/larsvanderlaan/repos/VennCalibration/myenv2/lib/python3.13/site-packages/mapie/utils.py:620: UserWarning: WARNING: The predictions are ill-sorted.\n",
      "  warnings.warn(\n",
      "/Users/larsvanderlaan/repos/VennCalibration/myenv2/lib/python3.13/site-packages/mapie/utils.py:620: UserWarning: WARNING: The predictions are ill-sorted.\n",
      "  warnings.warn(\n"
     ]
    },
    {
     "name": "stdout",
     "output_type": "stream",
     "text": [
      "0.1\n",
      "0.10032362459546926\n"
     ]
    },
    {
     "name": "stderr",
     "output_type": "stream",
     "text": [
      "/Users/larsvanderlaan/repos/VennCalibration/myenv2/lib/python3.13/site-packages/mapie/utils.py:620: UserWarning: WARNING: The predictions are ill-sorted.\n",
      "  warnings.warn(\n",
      "/Users/larsvanderlaan/repos/VennCalibration/myenv2/lib/python3.13/site-packages/mapie/utils.py:620: UserWarning: WARNING: The predictions are ill-sorted.\n",
      "  warnings.warn(\n"
     ]
    },
    {
     "name": "stdout",
     "output_type": "stream",
     "text": [
      "0.1\n",
      "0.10032362459546926\n"
     ]
    },
    {
     "name": "stderr",
     "output_type": "stream",
     "text": [
      "/Users/larsvanderlaan/repos/VennCalibration/myenv2/lib/python3.13/site-packages/mapie/utils.py:620: UserWarning: WARNING: The predictions are ill-sorted.\n",
      "  warnings.warn(\n",
      "/Users/larsvanderlaan/repos/VennCalibration/myenv2/lib/python3.13/site-packages/mapie/utils.py:620: UserWarning: WARNING: The predictions are ill-sorted.\n",
      "  warnings.warn(\n"
     ]
    },
    {
     "name": "stdout",
     "output_type": "stream",
     "text": [
      "0.1\n",
      "0.10032362459546926\n"
     ]
    },
    {
     "name": "stderr",
     "output_type": "stream",
     "text": [
      "/Users/larsvanderlaan/repos/VennCalibration/myenv2/lib/python3.13/site-packages/mapie/utils.py:620: UserWarning: WARNING: The predictions are ill-sorted.\n",
      "  warnings.warn(\n",
      "/Users/larsvanderlaan/repos/VennCalibration/myenv2/lib/python3.13/site-packages/mapie/utils.py:620: UserWarning: WARNING: The predictions are ill-sorted.\n",
      "  warnings.warn(\n"
     ]
    },
    {
     "name": "stdout",
     "output_type": "stream",
     "text": [
      "0.1\n",
      "0.10032362459546926\n"
     ]
    },
    {
     "name": "stderr",
     "output_type": "stream",
     "text": [
      "/Users/larsvanderlaan/repos/VennCalibration/myenv2/lib/python3.13/site-packages/mapie/utils.py:620: UserWarning: WARNING: The predictions are ill-sorted.\n",
      "  warnings.warn(\n"
     ]
    },
    {
     "name": "stdout",
     "output_type": "stream",
     "text": [
      "0.1\n",
      "0.10032362459546926\n"
     ]
    },
    {
     "name": "stderr",
     "output_type": "stream",
     "text": [
      "/Users/larsvanderlaan/repos/VennCalibration/myenv2/lib/python3.13/site-packages/mapie/utils.py:620: UserWarning: WARNING: The predictions are ill-sorted.\n",
      "  warnings.warn(\n",
      "/Users/larsvanderlaan/repos/VennCalibration/myenv2/lib/python3.13/site-packages/mapie/utils.py:620: UserWarning: WARNING: The predictions are ill-sorted.\n",
      "  warnings.warn(\n"
     ]
    },
    {
     "name": "stdout",
     "output_type": "stream",
     "text": [
      "0.1\n",
      "0.10032362459546926\n"
     ]
    },
    {
     "name": "stderr",
     "output_type": "stream",
     "text": [
      "/Users/larsvanderlaan/repos/VennCalibration/myenv2/lib/python3.13/site-packages/mapie/utils.py:620: UserWarning: WARNING: The predictions are ill-sorted.\n",
      "  warnings.warn(\n"
     ]
    },
    {
     "name": "stdout",
     "output_type": "stream",
     "text": [
      "0.1\n",
      "0.10032362459546926\n"
     ]
    },
    {
     "name": "stderr",
     "output_type": "stream",
     "text": [
      "/Users/larsvanderlaan/repos/VennCalibration/myenv2/lib/python3.13/site-packages/mapie/utils.py:620: UserWarning: WARNING: The predictions are ill-sorted.\n",
      "  warnings.warn(\n",
      "/Users/larsvanderlaan/repos/VennCalibration/myenv2/lib/python3.13/site-packages/mapie/utils.py:620: UserWarning: WARNING: The predictions are ill-sorted.\n",
      "  warnings.warn(\n"
     ]
    },
    {
     "name": "stdout",
     "output_type": "stream",
     "text": [
      "0.1\n",
      "0.10032362459546926\n"
     ]
    },
    {
     "name": "stderr",
     "output_type": "stream",
     "text": [
      "/Users/larsvanderlaan/repos/VennCalibration/myenv2/lib/python3.13/site-packages/mapie/utils.py:620: UserWarning: WARNING: The predictions are ill-sorted.\n",
      "  warnings.warn(\n",
      "/Users/larsvanderlaan/repos/VennCalibration/myenv2/lib/python3.13/site-packages/mapie/utils.py:620: UserWarning: WARNING: The predictions are ill-sorted.\n",
      "  warnings.warn(\n"
     ]
    },
    {
     "name": "stdout",
     "output_type": "stream",
     "text": [
      "0.1\n",
      "0.10032362459546926\n"
     ]
    },
    {
     "name": "stderr",
     "output_type": "stream",
     "text": [
      "/Users/larsvanderlaan/repos/VennCalibration/myenv2/lib/python3.13/site-packages/mapie/utils.py:620: UserWarning: WARNING: The predictions are ill-sorted.\n",
      "  warnings.warn(\n"
     ]
    },
    {
     "name": "stdout",
     "output_type": "stream",
     "text": [
      "0.1\n",
      "0.10032362459546926\n"
     ]
    },
    {
     "name": "stderr",
     "output_type": "stream",
     "text": [
      "/Users/larsvanderlaan/repos/VennCalibration/myenv2/lib/python3.13/site-packages/mapie/utils.py:620: UserWarning: WARNING: The predictions are ill-sorted.\n",
      "  warnings.warn(\n"
     ]
    },
    {
     "name": "stdout",
     "output_type": "stream",
     "text": [
      "0.1\n",
      "0.10032362459546926\n"
     ]
    },
    {
     "name": "stderr",
     "output_type": "stream",
     "text": [
      "/Users/larsvanderlaan/repos/VennCalibration/myenv2/lib/python3.13/site-packages/mapie/utils.py:620: UserWarning: WARNING: The predictions are ill-sorted.\n",
      "  warnings.warn(\n",
      "/Users/larsvanderlaan/repos/VennCalibration/myenv2/lib/python3.13/site-packages/mapie/utils.py:620: UserWarning: WARNING: The predictions are ill-sorted.\n",
      "  warnings.warn(\n"
     ]
    },
    {
     "name": "stdout",
     "output_type": "stream",
     "text": [
      "0.1\n",
      "0.10032362459546926\n"
     ]
    },
    {
     "name": "stderr",
     "output_type": "stream",
     "text": [
      "/Users/larsvanderlaan/repos/VennCalibration/myenv2/lib/python3.13/site-packages/mapie/utils.py:620: UserWarning: WARNING: The predictions are ill-sorted.\n",
      "  warnings.warn(\n",
      "/Users/larsvanderlaan/repos/VennCalibration/myenv2/lib/python3.13/site-packages/mapie/utils.py:620: UserWarning: WARNING: The predictions are ill-sorted.\n",
      "  warnings.warn(\n"
     ]
    },
    {
     "name": "stdout",
     "output_type": "stream",
     "text": [
      "0.1\n",
      "0.10032362459546926\n"
     ]
    },
    {
     "name": "stderr",
     "output_type": "stream",
     "text": [
      "/Users/larsvanderlaan/repos/VennCalibration/myenv2/lib/python3.13/site-packages/mapie/utils.py:620: UserWarning: WARNING: The predictions are ill-sorted.\n",
      "  warnings.warn(\n",
      "/Users/larsvanderlaan/repos/VennCalibration/myenv2/lib/python3.13/site-packages/mapie/utils.py:620: UserWarning: WARNING: The predictions are ill-sorted.\n",
      "  warnings.warn(\n"
     ]
    },
    {
     "name": "stdout",
     "output_type": "stream",
     "text": [
      "0.1\n",
      "0.10032362459546926\n"
     ]
    },
    {
     "name": "stderr",
     "output_type": "stream",
     "text": [
      "/Users/larsvanderlaan/repos/VennCalibration/myenv2/lib/python3.13/site-packages/mapie/utils.py:620: UserWarning: WARNING: The predictions are ill-sorted.\n",
      "  warnings.warn(\n",
      "/Users/larsvanderlaan/repos/VennCalibration/myenv2/lib/python3.13/site-packages/mapie/utils.py:620: UserWarning: WARNING: The predictions are ill-sorted.\n",
      "  warnings.warn(\n"
     ]
    },
    {
     "name": "stdout",
     "output_type": "stream",
     "text": [
      "0.1\n",
      "0.10032362459546926\n"
     ]
    },
    {
     "name": "stderr",
     "output_type": "stream",
     "text": [
      "/Users/larsvanderlaan/repos/VennCalibration/myenv2/lib/python3.13/site-packages/mapie/utils.py:620: UserWarning: WARNING: The predictions are ill-sorted.\n",
      "  warnings.warn(\n",
      "/Users/larsvanderlaan/repos/VennCalibration/myenv2/lib/python3.13/site-packages/mapie/utils.py:620: UserWarning: WARNING: The predictions are ill-sorted.\n",
      "  warnings.warn(\n"
     ]
    },
    {
     "name": "stdout",
     "output_type": "stream",
     "text": [
      "0.1\n",
      "0.10032362459546926\n"
     ]
    },
    {
     "name": "stderr",
     "output_type": "stream",
     "text": [
      "/Users/larsvanderlaan/repos/VennCalibration/myenv2/lib/python3.13/site-packages/mapie/utils.py:620: UserWarning: WARNING: The predictions are ill-sorted.\n",
      "  warnings.warn(\n",
      "/Users/larsvanderlaan/repos/VennCalibration/myenv2/lib/python3.13/site-packages/mapie/utils.py:620: UserWarning: WARNING: The predictions are ill-sorted.\n",
      "  warnings.warn(\n"
     ]
    },
    {
     "name": "stdout",
     "output_type": "stream",
     "text": [
      "0.1\n",
      "0.10032362459546926\n"
     ]
    },
    {
     "name": "stderr",
     "output_type": "stream",
     "text": [
      "/Users/larsvanderlaan/repos/VennCalibration/myenv2/lib/python3.13/site-packages/mapie/utils.py:620: UserWarning: WARNING: The predictions are ill-sorted.\n",
      "  warnings.warn(\n",
      "/Users/larsvanderlaan/repos/VennCalibration/myenv2/lib/python3.13/site-packages/mapie/utils.py:620: UserWarning: WARNING: The predictions are ill-sorted.\n",
      "  warnings.warn(\n"
     ]
    },
    {
     "name": "stdout",
     "output_type": "stream",
     "text": [
      "0.1\n",
      "0.10032362459546926\n"
     ]
    },
    {
     "name": "stderr",
     "output_type": "stream",
     "text": [
      "/Users/larsvanderlaan/repos/VennCalibration/myenv2/lib/python3.13/site-packages/mapie/utils.py:620: UserWarning: WARNING: The predictions are ill-sorted.\n",
      "  warnings.warn(\n"
     ]
    },
    {
     "name": "stdout",
     "output_type": "stream",
     "text": [
      "0.1\n",
      "0.10032362459546926\n"
     ]
    },
    {
     "name": "stderr",
     "output_type": "stream",
     "text": [
      "/Users/larsvanderlaan/repos/VennCalibration/myenv2/lib/python3.13/site-packages/mapie/utils.py:620: UserWarning: WARNING: The predictions are ill-sorted.\n",
      "  warnings.warn(\n",
      "/Users/larsvanderlaan/repos/VennCalibration/myenv2/lib/python3.13/site-packages/mapie/utils.py:620: UserWarning: WARNING: The predictions are ill-sorted.\n",
      "  warnings.warn(\n"
     ]
    },
    {
     "name": "stdout",
     "output_type": "stream",
     "text": [
      "0.1\n",
      "0.10032362459546926\n"
     ]
    },
    {
     "name": "stderr",
     "output_type": "stream",
     "text": [
      "/Users/larsvanderlaan/repos/VennCalibration/myenv2/lib/python3.13/site-packages/mapie/utils.py:620: UserWarning: WARNING: The predictions are ill-sorted.\n",
      "  warnings.warn(\n",
      "/Users/larsvanderlaan/repos/VennCalibration/myenv2/lib/python3.13/site-packages/mapie/utils.py:620: UserWarning: WARNING: The predictions are ill-sorted.\n",
      "  warnings.warn(\n"
     ]
    },
    {
     "name": "stdout",
     "output_type": "stream",
     "text": [
      "0.1\n",
      "0.10032362459546926\n"
     ]
    },
    {
     "name": "stderr",
     "output_type": "stream",
     "text": [
      "/Users/larsvanderlaan/repos/VennCalibration/myenv2/lib/python3.13/site-packages/mapie/utils.py:620: UserWarning: WARNING: The predictions are ill-sorted.\n",
      "  warnings.warn(\n",
      "/Users/larsvanderlaan/repos/VennCalibration/myenv2/lib/python3.13/site-packages/mapie/utils.py:620: UserWarning: WARNING: The predictions are ill-sorted.\n",
      "  warnings.warn(\n"
     ]
    },
    {
     "name": "stdout",
     "output_type": "stream",
     "text": [
      "0.1\n",
      "0.10032362459546926\n"
     ]
    },
    {
     "name": "stderr",
     "output_type": "stream",
     "text": [
      "/Users/larsvanderlaan/repos/VennCalibration/myenv2/lib/python3.13/site-packages/mapie/utils.py:620: UserWarning: WARNING: The predictions are ill-sorted.\n",
      "  warnings.warn(\n"
     ]
    },
    {
     "name": "stdout",
     "output_type": "stream",
     "text": [
      "0.1\n",
      "0.10032362459546926\n"
     ]
    },
    {
     "name": "stderr",
     "output_type": "stream",
     "text": [
      "/Users/larsvanderlaan/repos/VennCalibration/myenv2/lib/python3.13/site-packages/mapie/utils.py:620: UserWarning: WARNING: The predictions are ill-sorted.\n",
      "  warnings.warn(\n",
      "/Users/larsvanderlaan/repos/VennCalibration/myenv2/lib/python3.13/site-packages/mapie/utils.py:620: UserWarning: WARNING: The predictions are ill-sorted.\n",
      "  warnings.warn(\n"
     ]
    },
    {
     "name": "stdout",
     "output_type": "stream",
     "text": [
      "0.1\n",
      "0.10032362459546926\n"
     ]
    },
    {
     "name": "stderr",
     "output_type": "stream",
     "text": [
      "/Users/larsvanderlaan/repos/VennCalibration/myenv2/lib/python3.13/site-packages/mapie/utils.py:620: UserWarning: WARNING: The predictions are ill-sorted.\n",
      "  warnings.warn(\n",
      "/Users/larsvanderlaan/repos/VennCalibration/myenv2/lib/python3.13/site-packages/mapie/utils.py:620: UserWarning: WARNING: The predictions are ill-sorted.\n",
      "  warnings.warn(\n"
     ]
    },
    {
     "name": "stdout",
     "output_type": "stream",
     "text": [
      "0.1\n",
      "0.10032362459546926\n"
     ]
    },
    {
     "name": "stderr",
     "output_type": "stream",
     "text": [
      "/Users/larsvanderlaan/repos/VennCalibration/myenv2/lib/python3.13/site-packages/mapie/utils.py:620: UserWarning: WARNING: The predictions are ill-sorted.\n",
      "  warnings.warn(\n",
      "/Users/larsvanderlaan/repos/VennCalibration/myenv2/lib/python3.13/site-packages/mapie/utils.py:620: UserWarning: WARNING: The predictions are ill-sorted.\n",
      "  warnings.warn(\n"
     ]
    },
    {
     "name": "stdout",
     "output_type": "stream",
     "text": [
      "0.1\n",
      "0.10355987055016182\n"
     ]
    },
    {
     "name": "stderr",
     "output_type": "stream",
     "text": [
      "/Users/larsvanderlaan/repos/VennCalibration/myenv2/lib/python3.13/site-packages/mapie/utils.py:620: UserWarning: WARNING: The predictions are ill-sorted.\n",
      "  warnings.warn(\n",
      "/Users/larsvanderlaan/repos/VennCalibration/myenv2/lib/python3.13/site-packages/mapie/utils.py:620: UserWarning: WARNING: The predictions are ill-sorted.\n",
      "  warnings.warn(\n"
     ]
    },
    {
     "name": "stdout",
     "output_type": "stream",
     "text": [
      "0.1\n",
      "0.10032362459546926\n"
     ]
    },
    {
     "name": "stderr",
     "output_type": "stream",
     "text": [
      "/Users/larsvanderlaan/repos/VennCalibration/myenv2/lib/python3.13/site-packages/mapie/utils.py:620: UserWarning: WARNING: The predictions are ill-sorted.\n",
      "  warnings.warn(\n",
      "/Users/larsvanderlaan/repos/VennCalibration/myenv2/lib/python3.13/site-packages/mapie/utils.py:620: UserWarning: WARNING: The predictions are ill-sorted.\n",
      "  warnings.warn(\n"
     ]
    },
    {
     "name": "stdout",
     "output_type": "stream",
     "text": [
      "0.1\n",
      "0.10032362459546926\n"
     ]
    },
    {
     "name": "stderr",
     "output_type": "stream",
     "text": [
      "/Users/larsvanderlaan/repos/VennCalibration/myenv2/lib/python3.13/site-packages/mapie/utils.py:620: UserWarning: WARNING: The predictions are ill-sorted.\n",
      "  warnings.warn(\n",
      "/Users/larsvanderlaan/repos/VennCalibration/myenv2/lib/python3.13/site-packages/mapie/utils.py:620: UserWarning: WARNING: The predictions are ill-sorted.\n",
      "  warnings.warn(\n"
     ]
    },
    {
     "name": "stdout",
     "output_type": "stream",
     "text": [
      "0.1\n",
      "0.10032362459546926\n"
     ]
    },
    {
     "name": "stderr",
     "output_type": "stream",
     "text": [
      "/Users/larsvanderlaan/repos/VennCalibration/myenv2/lib/python3.13/site-packages/mapie/utils.py:620: UserWarning: WARNING: The predictions are ill-sorted.\n",
      "  warnings.warn(\n",
      "/Users/larsvanderlaan/repos/VennCalibration/myenv2/lib/python3.13/site-packages/mapie/utils.py:620: UserWarning: WARNING: The predictions are ill-sorted.\n",
      "  warnings.warn(\n"
     ]
    },
    {
     "name": "stdout",
     "output_type": "stream",
     "text": [
      "0.1\n",
      "0.10032362459546926\n"
     ]
    },
    {
     "name": "stderr",
     "output_type": "stream",
     "text": [
      "/Users/larsvanderlaan/repos/VennCalibration/myenv2/lib/python3.13/site-packages/mapie/utils.py:620: UserWarning: WARNING: The predictions are ill-sorted.\n",
      "  warnings.warn(\n",
      "/Users/larsvanderlaan/repos/VennCalibration/myenv2/lib/python3.13/site-packages/mapie/utils.py:620: UserWarning: WARNING: The predictions are ill-sorted.\n",
      "  warnings.warn(\n"
     ]
    },
    {
     "name": "stdout",
     "output_type": "stream",
     "text": [
      "0.1\n",
      "0.10032362459546926\n"
     ]
    },
    {
     "name": "stderr",
     "output_type": "stream",
     "text": [
      "/Users/larsvanderlaan/repos/VennCalibration/myenv2/lib/python3.13/site-packages/mapie/utils.py:620: UserWarning: WARNING: The predictions are ill-sorted.\n",
      "  warnings.warn(\n",
      "/Users/larsvanderlaan/repos/VennCalibration/myenv2/lib/python3.13/site-packages/mapie/utils.py:620: UserWarning: WARNING: The predictions are ill-sorted.\n",
      "  warnings.warn(\n"
     ]
    },
    {
     "name": "stdout",
     "output_type": "stream",
     "text": [
      "0.1\n",
      "0.10032362459546926\n"
     ]
    },
    {
     "name": "stderr",
     "output_type": "stream",
     "text": [
      "/Users/larsvanderlaan/repos/VennCalibration/myenv2/lib/python3.13/site-packages/mapie/utils.py:620: UserWarning: WARNING: The predictions are ill-sorted.\n",
      "  warnings.warn(\n",
      "/Users/larsvanderlaan/repos/VennCalibration/myenv2/lib/python3.13/site-packages/mapie/utils.py:620: UserWarning: WARNING: The predictions are ill-sorted.\n",
      "  warnings.warn(\n"
     ]
    },
    {
     "name": "stdout",
     "output_type": "stream",
     "text": [
      "0.1\n",
      "0.10032362459546926\n"
     ]
    },
    {
     "name": "stderr",
     "output_type": "stream",
     "text": [
      "/Users/larsvanderlaan/repos/VennCalibration/myenv2/lib/python3.13/site-packages/mapie/utils.py:620: UserWarning: WARNING: The predictions are ill-sorted.\n",
      "  warnings.warn(\n",
      "/Users/larsvanderlaan/repos/VennCalibration/myenv2/lib/python3.13/site-packages/mapie/utils.py:620: UserWarning: WARNING: The predictions are ill-sorted.\n",
      "  warnings.warn(\n"
     ]
    },
    {
     "name": "stdout",
     "output_type": "stream",
     "text": [
      "0.1\n",
      "0.10032362459546926\n"
     ]
    },
    {
     "name": "stderr",
     "output_type": "stream",
     "text": [
      "/Users/larsvanderlaan/repos/VennCalibration/myenv2/lib/python3.13/site-packages/mapie/utils.py:620: UserWarning: WARNING: The predictions are ill-sorted.\n",
      "  warnings.warn(\n",
      "/Users/larsvanderlaan/repos/VennCalibration/myenv2/lib/python3.13/site-packages/mapie/utils.py:620: UserWarning: WARNING: The predictions are ill-sorted.\n",
      "  warnings.warn(\n"
     ]
    },
    {
     "name": "stdout",
     "output_type": "stream",
     "text": [
      "0.1\n",
      "0.10032362459546926\n"
     ]
    },
    {
     "name": "stderr",
     "output_type": "stream",
     "text": [
      "/Users/larsvanderlaan/repos/VennCalibration/myenv2/lib/python3.13/site-packages/mapie/utils.py:620: UserWarning: WARNING: The predictions are ill-sorted.\n",
      "  warnings.warn(\n",
      "/Users/larsvanderlaan/repos/VennCalibration/myenv2/lib/python3.13/site-packages/mapie/utils.py:620: UserWarning: WARNING: The predictions are ill-sorted.\n",
      "  warnings.warn(\n"
     ]
    },
    {
     "name": "stdout",
     "output_type": "stream",
     "text": [
      "0.1\n",
      "0.10032362459546926\n"
     ]
    },
    {
     "name": "stderr",
     "output_type": "stream",
     "text": [
      "/Users/larsvanderlaan/repos/VennCalibration/myenv2/lib/python3.13/site-packages/mapie/utils.py:620: UserWarning: WARNING: The predictions are ill-sorted.\n",
      "  warnings.warn(\n",
      "/Users/larsvanderlaan/repos/VennCalibration/myenv2/lib/python3.13/site-packages/mapie/utils.py:620: UserWarning: WARNING: The predictions are ill-sorted.\n",
      "  warnings.warn(\n"
     ]
    },
    {
     "name": "stdout",
     "output_type": "stream",
     "text": [
      "0.1\n",
      "0.10032362459546926\n"
     ]
    },
    {
     "name": "stderr",
     "output_type": "stream",
     "text": [
      "/Users/larsvanderlaan/repos/VennCalibration/myenv2/lib/python3.13/site-packages/mapie/utils.py:620: UserWarning: WARNING: The predictions are ill-sorted.\n",
      "  warnings.warn(\n",
      "/Users/larsvanderlaan/repos/VennCalibration/myenv2/lib/python3.13/site-packages/mapie/utils.py:620: UserWarning: WARNING: The predictions are ill-sorted.\n",
      "  warnings.warn(\n"
     ]
    },
    {
     "name": "stdout",
     "output_type": "stream",
     "text": [
      "0.1\n",
      "0.10032362459546926\n"
     ]
    },
    {
     "name": "stderr",
     "output_type": "stream",
     "text": [
      "/Users/larsvanderlaan/repos/VennCalibration/myenv2/lib/python3.13/site-packages/mapie/utils.py:620: UserWarning: WARNING: The predictions are ill-sorted.\n",
      "  warnings.warn(\n",
      "/Users/larsvanderlaan/repos/VennCalibration/myenv2/lib/python3.13/site-packages/mapie/utils.py:620: UserWarning: WARNING: The predictions are ill-sorted.\n",
      "  warnings.warn(\n"
     ]
    },
    {
     "name": "stdout",
     "output_type": "stream",
     "text": [
      "0.1\n",
      "0.10032362459546926\n"
     ]
    },
    {
     "name": "stderr",
     "output_type": "stream",
     "text": [
      "/Users/larsvanderlaan/repos/VennCalibration/myenv2/lib/python3.13/site-packages/mapie/utils.py:620: UserWarning: WARNING: The predictions are ill-sorted.\n",
      "  warnings.warn(\n",
      "/Users/larsvanderlaan/repos/VennCalibration/myenv2/lib/python3.13/site-packages/mapie/utils.py:620: UserWarning: WARNING: The predictions are ill-sorted.\n",
      "  warnings.warn(\n"
     ]
    },
    {
     "name": "stdout",
     "output_type": "stream",
     "text": [
      "0.1\n",
      "0.10032362459546926\n"
     ]
    },
    {
     "name": "stderr",
     "output_type": "stream",
     "text": [
      "/Users/larsvanderlaan/repos/VennCalibration/myenv2/lib/python3.13/site-packages/mapie/utils.py:620: UserWarning: WARNING: The predictions are ill-sorted.\n",
      "  warnings.warn(\n",
      "/Users/larsvanderlaan/repos/VennCalibration/myenv2/lib/python3.13/site-packages/mapie/utils.py:620: UserWarning: WARNING: The predictions are ill-sorted.\n",
      "  warnings.warn(\n"
     ]
    },
    {
     "name": "stdout",
     "output_type": "stream",
     "text": [
      "0.1\n",
      "0.10032362459546926\n"
     ]
    },
    {
     "name": "stderr",
     "output_type": "stream",
     "text": [
      "/Users/larsvanderlaan/repos/VennCalibration/myenv2/lib/python3.13/site-packages/mapie/utils.py:620: UserWarning: WARNING: The predictions are ill-sorted.\n",
      "  warnings.warn(\n",
      "/Users/larsvanderlaan/repos/VennCalibration/myenv2/lib/python3.13/site-packages/mapie/utils.py:620: UserWarning: WARNING: The predictions are ill-sorted.\n",
      "  warnings.warn(\n"
     ]
    },
    {
     "name": "stdout",
     "output_type": "stream",
     "text": [
      "0.1\n",
      "0.10032362459546926\n"
     ]
    },
    {
     "name": "stderr",
     "output_type": "stream",
     "text": [
      "/Users/larsvanderlaan/repos/VennCalibration/myenv2/lib/python3.13/site-packages/mapie/utils.py:620: UserWarning: WARNING: The predictions are ill-sorted.\n",
      "  warnings.warn(\n",
      "/Users/larsvanderlaan/repos/VennCalibration/myenv2/lib/python3.13/site-packages/mapie/utils.py:620: UserWarning: WARNING: The predictions are ill-sorted.\n",
      "  warnings.warn(\n"
     ]
    },
    {
     "name": "stdout",
     "output_type": "stream",
     "text": [
      "0.1\n",
      "0.10032362459546926\n"
     ]
    },
    {
     "name": "stderr",
     "output_type": "stream",
     "text": [
      "/Users/larsvanderlaan/repos/VennCalibration/myenv2/lib/python3.13/site-packages/mapie/utils.py:620: UserWarning: WARNING: The predictions are ill-sorted.\n",
      "  warnings.warn(\n",
      "/Users/larsvanderlaan/repos/VennCalibration/myenv2/lib/python3.13/site-packages/mapie/utils.py:620: UserWarning: WARNING: The predictions are ill-sorted.\n",
      "  warnings.warn(\n"
     ]
    },
    {
     "name": "stdout",
     "output_type": "stream",
     "text": [
      "0.1\n",
      "0.10032362459546926\n"
     ]
    },
    {
     "name": "stderr",
     "output_type": "stream",
     "text": [
      "/Users/larsvanderlaan/repos/VennCalibration/myenv2/lib/python3.13/site-packages/mapie/utils.py:620: UserWarning: WARNING: The predictions are ill-sorted.\n",
      "  warnings.warn(\n"
     ]
    },
    {
     "name": "stdout",
     "output_type": "stream",
     "text": [
      "0.1\n",
      "0.10032362459546926\n"
     ]
    },
    {
     "name": "stderr",
     "output_type": "stream",
     "text": [
      "/Users/larsvanderlaan/repos/VennCalibration/myenv2/lib/python3.13/site-packages/mapie/utils.py:620: UserWarning: WARNING: The predictions are ill-sorted.\n",
      "  warnings.warn(\n",
      "/Users/larsvanderlaan/repos/VennCalibration/myenv2/lib/python3.13/site-packages/mapie/utils.py:620: UserWarning: WARNING: The predictions are ill-sorted.\n",
      "  warnings.warn(\n"
     ]
    },
    {
     "name": "stdout",
     "output_type": "stream",
     "text": [
      "0.1\n",
      "0.10032362459546926\n"
     ]
    },
    {
     "name": "stderr",
     "output_type": "stream",
     "text": [
      "/Users/larsvanderlaan/repos/VennCalibration/myenv2/lib/python3.13/site-packages/mapie/utils.py:620: UserWarning: WARNING: The predictions are ill-sorted.\n",
      "  warnings.warn(\n",
      "/Users/larsvanderlaan/repos/VennCalibration/myenv2/lib/python3.13/site-packages/mapie/utils.py:620: UserWarning: WARNING: The predictions are ill-sorted.\n",
      "  warnings.warn(\n"
     ]
    },
    {
     "name": "stdout",
     "output_type": "stream",
     "text": [
      "0.1\n",
      "0.10032362459546926\n"
     ]
    },
    {
     "name": "stderr",
     "output_type": "stream",
     "text": [
      "/Users/larsvanderlaan/repos/VennCalibration/myenv2/lib/python3.13/site-packages/mapie/utils.py:620: UserWarning: WARNING: The predictions are ill-sorted.\n",
      "  warnings.warn(\n",
      "/Users/larsvanderlaan/repos/VennCalibration/myenv2/lib/python3.13/site-packages/mapie/utils.py:620: UserWarning: WARNING: The predictions are ill-sorted.\n",
      "  warnings.warn(\n"
     ]
    },
    {
     "name": "stdout",
     "output_type": "stream",
     "text": [
      "0.1\n",
      "0.10032362459546926\n"
     ]
    },
    {
     "name": "stderr",
     "output_type": "stream",
     "text": [
      "/Users/larsvanderlaan/repos/VennCalibration/myenv2/lib/python3.13/site-packages/mapie/utils.py:620: UserWarning: WARNING: The predictions are ill-sorted.\n",
      "  warnings.warn(\n",
      "/Users/larsvanderlaan/repos/VennCalibration/myenv2/lib/python3.13/site-packages/mapie/utils.py:620: UserWarning: WARNING: The predictions are ill-sorted.\n",
      "  warnings.warn(\n"
     ]
    },
    {
     "name": "stdout",
     "output_type": "stream",
     "text": [
      "0.1\n",
      "0.10032362459546926\n"
     ]
    },
    {
     "name": "stderr",
     "output_type": "stream",
     "text": [
      "/Users/larsvanderlaan/repos/VennCalibration/myenv2/lib/python3.13/site-packages/mapie/utils.py:620: UserWarning: WARNING: The predictions are ill-sorted.\n",
      "  warnings.warn(\n",
      "/Users/larsvanderlaan/repos/VennCalibration/myenv2/lib/python3.13/site-packages/mapie/utils.py:620: UserWarning: WARNING: The predictions are ill-sorted.\n",
      "  warnings.warn(\n"
     ]
    },
    {
     "name": "stdout",
     "output_type": "stream",
     "text": [
      "0.1\n",
      "0.10032362459546926\n"
     ]
    },
    {
     "name": "stderr",
     "output_type": "stream",
     "text": [
      "/Users/larsvanderlaan/repos/VennCalibration/myenv2/lib/python3.13/site-packages/mapie/utils.py:620: UserWarning: WARNING: The predictions are ill-sorted.\n",
      "  warnings.warn(\n"
     ]
    },
    {
     "name": "stdout",
     "output_type": "stream",
     "text": [
      "0.1\n",
      "0.10032362459546926\n"
     ]
    },
    {
     "name": "stderr",
     "output_type": "stream",
     "text": [
      "/Users/larsvanderlaan/repos/VennCalibration/myenv2/lib/python3.13/site-packages/mapie/utils.py:620: UserWarning: WARNING: The predictions are ill-sorted.\n",
      "  warnings.warn(\n",
      "/Users/larsvanderlaan/repos/VennCalibration/myenv2/lib/python3.13/site-packages/mapie/utils.py:620: UserWarning: WARNING: The predictions are ill-sorted.\n",
      "  warnings.warn(\n"
     ]
    },
    {
     "name": "stdout",
     "output_type": "stream",
     "text": [
      "0.1\n",
      "0.10032362459546926\n"
     ]
    },
    {
     "name": "stderr",
     "output_type": "stream",
     "text": [
      "/Users/larsvanderlaan/repos/VennCalibration/myenv2/lib/python3.13/site-packages/mapie/utils.py:620: UserWarning: WARNING: The predictions are ill-sorted.\n",
      "  warnings.warn(\n",
      "/Users/larsvanderlaan/repos/VennCalibration/myenv2/lib/python3.13/site-packages/mapie/utils.py:620: UserWarning: WARNING: The predictions are ill-sorted.\n",
      "  warnings.warn(\n"
     ]
    },
    {
     "name": "stdout",
     "output_type": "stream",
     "text": [
      "0.1\n",
      "0.10032362459546926\n"
     ]
    },
    {
     "name": "stderr",
     "output_type": "stream",
     "text": [
      "/Users/larsvanderlaan/repos/VennCalibration/myenv2/lib/python3.13/site-packages/mapie/utils.py:620: UserWarning: WARNING: The predictions are ill-sorted.\n",
      "  warnings.warn(\n"
     ]
    },
    {
     "name": "stdout",
     "output_type": "stream",
     "text": [
      "0.1\n",
      "0.10032362459546926\n"
     ]
    },
    {
     "name": "stderr",
     "output_type": "stream",
     "text": [
      "/Users/larsvanderlaan/repos/VennCalibration/myenv2/lib/python3.13/site-packages/mapie/utils.py:620: UserWarning: WARNING: The predictions are ill-sorted.\n",
      "  warnings.warn(\n",
      "/Users/larsvanderlaan/repos/VennCalibration/myenv2/lib/python3.13/site-packages/mapie/utils.py:620: UserWarning: WARNING: The predictions are ill-sorted.\n",
      "  warnings.warn(\n"
     ]
    },
    {
     "name": "stdout",
     "output_type": "stream",
     "text": [
      "0.1\n",
      "0.10032362459546926\n"
     ]
    },
    {
     "name": "stderr",
     "output_type": "stream",
     "text": [
      "/Users/larsvanderlaan/repos/VennCalibration/myenv2/lib/python3.13/site-packages/mapie/utils.py:620: UserWarning: WARNING: The predictions are ill-sorted.\n",
      "  warnings.warn(\n",
      "/Users/larsvanderlaan/repos/VennCalibration/myenv2/lib/python3.13/site-packages/mapie/utils.py:620: UserWarning: WARNING: The predictions are ill-sorted.\n",
      "  warnings.warn(\n"
     ]
    },
    {
     "name": "stdout",
     "output_type": "stream",
     "text": [
      "0.1\n",
      "0.10032362459546926\n"
     ]
    },
    {
     "name": "stderr",
     "output_type": "stream",
     "text": [
      "/Users/larsvanderlaan/repos/VennCalibration/myenv2/lib/python3.13/site-packages/mapie/utils.py:620: UserWarning: WARNING: The predictions are ill-sorted.\n",
      "  warnings.warn(\n",
      "/Users/larsvanderlaan/repos/VennCalibration/myenv2/lib/python3.13/site-packages/mapie/utils.py:620: UserWarning: WARNING: The predictions are ill-sorted.\n",
      "  warnings.warn(\n"
     ]
    },
    {
     "name": "stdout",
     "output_type": "stream",
     "text": [
      "0.1\n",
      "0.10032362459546926\n"
     ]
    },
    {
     "name": "stderr",
     "output_type": "stream",
     "text": [
      "/Users/larsvanderlaan/repos/VennCalibration/myenv2/lib/python3.13/site-packages/mapie/utils.py:620: UserWarning: WARNING: The predictions are ill-sorted.\n",
      "  warnings.warn(\n",
      "/Users/larsvanderlaan/repos/VennCalibration/myenv2/lib/python3.13/site-packages/mapie/utils.py:620: UserWarning: WARNING: The predictions are ill-sorted.\n",
      "  warnings.warn(\n"
     ]
    },
    {
     "name": "stdout",
     "output_type": "stream",
     "text": [
      "0.1\n",
      "0.10032362459546926\n"
     ]
    },
    {
     "name": "stderr",
     "output_type": "stream",
     "text": [
      "/Users/larsvanderlaan/repos/VennCalibration/myenv2/lib/python3.13/site-packages/mapie/utils.py:620: UserWarning: WARNING: The predictions are ill-sorted.\n",
      "  warnings.warn(\n",
      "/Users/larsvanderlaan/repos/VennCalibration/myenv2/lib/python3.13/site-packages/mapie/utils.py:620: UserWarning: WARNING: The predictions are ill-sorted.\n",
      "  warnings.warn(\n"
     ]
    },
    {
     "name": "stdout",
     "output_type": "stream",
     "text": [
      "0.1\n",
      "0.10032362459546926\n"
     ]
    },
    {
     "name": "stderr",
     "output_type": "stream",
     "text": [
      "/Users/larsvanderlaan/repos/VennCalibration/myenv2/lib/python3.13/site-packages/mapie/utils.py:620: UserWarning: WARNING: The predictions are ill-sorted.\n",
      "  warnings.warn(\n",
      "/Users/larsvanderlaan/repos/VennCalibration/myenv2/lib/python3.13/site-packages/mapie/utils.py:620: UserWarning: WARNING: The predictions are ill-sorted.\n",
      "  warnings.warn(\n"
     ]
    },
    {
     "name": "stdout",
     "output_type": "stream",
     "text": [
      "0.1\n",
      "0.10032362459546926\n"
     ]
    },
    {
     "name": "stderr",
     "output_type": "stream",
     "text": [
      "/Users/larsvanderlaan/repos/VennCalibration/myenv2/lib/python3.13/site-packages/mapie/utils.py:620: UserWarning: WARNING: The predictions are ill-sorted.\n",
      "  warnings.warn(\n",
      "/Users/larsvanderlaan/repos/VennCalibration/myenv2/lib/python3.13/site-packages/mapie/utils.py:620: UserWarning: WARNING: The predictions are ill-sorted.\n",
      "  warnings.warn(\n"
     ]
    },
    {
     "name": "stdout",
     "output_type": "stream",
     "text": [
      "0.1\n",
      "0.10032362459546926\n"
     ]
    },
    {
     "name": "stderr",
     "output_type": "stream",
     "text": [
      "/Users/larsvanderlaan/repos/VennCalibration/myenv2/lib/python3.13/site-packages/mapie/utils.py:620: UserWarning: WARNING: The predictions are ill-sorted.\n",
      "  warnings.warn(\n",
      "/Users/larsvanderlaan/repos/VennCalibration/myenv2/lib/python3.13/site-packages/mapie/utils.py:620: UserWarning: WARNING: The predictions are ill-sorted.\n",
      "  warnings.warn(\n"
     ]
    },
    {
     "name": "stdout",
     "output_type": "stream",
     "text": [
      "0.1\n",
      "0.10032362459546926\n"
     ]
    },
    {
     "name": "stderr",
     "output_type": "stream",
     "text": [
      "/Users/larsvanderlaan/repos/VennCalibration/myenv2/lib/python3.13/site-packages/mapie/utils.py:620: UserWarning: WARNING: The predictions are ill-sorted.\n",
      "  warnings.warn(\n"
     ]
    },
    {
     "name": "stdout",
     "output_type": "stream",
     "text": [
      "0.1\n",
      "0.10032362459546926\n"
     ]
    },
    {
     "name": "stderr",
     "output_type": "stream",
     "text": [
      "/Users/larsvanderlaan/repos/VennCalibration/myenv2/lib/python3.13/site-packages/mapie/utils.py:620: UserWarning: WARNING: The predictions are ill-sorted.\n",
      "  warnings.warn(\n",
      "/Users/larsvanderlaan/repos/VennCalibration/myenv2/lib/python3.13/site-packages/mapie/utils.py:620: UserWarning: WARNING: The predictions are ill-sorted.\n",
      "  warnings.warn(\n"
     ]
    },
    {
     "name": "stdout",
     "output_type": "stream",
     "text": [
      "0.1\n",
      "0.10032362459546926\n"
     ]
    },
    {
     "name": "stderr",
     "output_type": "stream",
     "text": [
      "/Users/larsvanderlaan/repos/VennCalibration/myenv2/lib/python3.13/site-packages/mapie/utils.py:620: UserWarning: WARNING: The predictions are ill-sorted.\n",
      "  warnings.warn(\n",
      "/Users/larsvanderlaan/repos/VennCalibration/myenv2/lib/python3.13/site-packages/mapie/utils.py:620: UserWarning: WARNING: The predictions are ill-sorted.\n",
      "  warnings.warn(\n"
     ]
    },
    {
     "name": "stdout",
     "output_type": "stream",
     "text": [
      "0.1\n",
      "0.10032362459546926\n"
     ]
    },
    {
     "name": "stderr",
     "output_type": "stream",
     "text": [
      "/Users/larsvanderlaan/repos/VennCalibration/myenv2/lib/python3.13/site-packages/mapie/utils.py:620: UserWarning: WARNING: The predictions are ill-sorted.\n",
      "  warnings.warn(\n",
      "/Users/larsvanderlaan/repos/VennCalibration/myenv2/lib/python3.13/site-packages/mapie/utils.py:620: UserWarning: WARNING: The predictions are ill-sorted.\n",
      "  warnings.warn(\n"
     ]
    },
    {
     "name": "stdout",
     "output_type": "stream",
     "text": [
      "0.1\n",
      "0.10032362459546926\n"
     ]
    },
    {
     "name": "stderr",
     "output_type": "stream",
     "text": [
      "/Users/larsvanderlaan/repos/VennCalibration/myenv2/lib/python3.13/site-packages/mapie/utils.py:620: UserWarning: WARNING: The predictions are ill-sorted.\n",
      "  warnings.warn(\n",
      "/Users/larsvanderlaan/repos/VennCalibration/myenv2/lib/python3.13/site-packages/mapie/utils.py:620: UserWarning: WARNING: The predictions are ill-sorted.\n",
      "  warnings.warn(\n"
     ]
    },
    {
     "name": "stdout",
     "output_type": "stream",
     "text": [
      "0.1\n",
      "0.10032362459546926\n"
     ]
    },
    {
     "name": "stderr",
     "output_type": "stream",
     "text": [
      "/Users/larsvanderlaan/repos/VennCalibration/myenv2/lib/python3.13/site-packages/mapie/utils.py:620: UserWarning: WARNING: The predictions are ill-sorted.\n",
      "  warnings.warn(\n",
      "/Users/larsvanderlaan/repos/VennCalibration/myenv2/lib/python3.13/site-packages/mapie/utils.py:620: UserWarning: WARNING: The predictions are ill-sorted.\n",
      "  warnings.warn(\n"
     ]
    },
    {
     "name": "stdout",
     "output_type": "stream",
     "text": [
      "0.1\n",
      "0.10032362459546926\n"
     ]
    },
    {
     "name": "stderr",
     "output_type": "stream",
     "text": [
      "/Users/larsvanderlaan/repos/VennCalibration/myenv2/lib/python3.13/site-packages/mapie/utils.py:620: UserWarning: WARNING: The predictions are ill-sorted.\n",
      "  warnings.warn(\n",
      "/Users/larsvanderlaan/repos/VennCalibration/myenv2/lib/python3.13/site-packages/mapie/utils.py:620: UserWarning: WARNING: The predictions are ill-sorted.\n",
      "  warnings.warn(\n"
     ]
    },
    {
     "name": "stdout",
     "output_type": "stream",
     "text": [
      "0.1\n",
      "0.10032362459546926\n"
     ]
    },
    {
     "name": "stderr",
     "output_type": "stream",
     "text": [
      "/Users/larsvanderlaan/repos/VennCalibration/myenv2/lib/python3.13/site-packages/mapie/utils.py:620: UserWarning: WARNING: The predictions are ill-sorted.\n",
      "  warnings.warn(\n",
      "/Users/larsvanderlaan/repos/VennCalibration/myenv2/lib/python3.13/site-packages/mapie/utils.py:620: UserWarning: WARNING: The predictions are ill-sorted.\n",
      "  warnings.warn(\n"
     ]
    },
    {
     "name": "stdout",
     "output_type": "stream",
     "text": [
      "0.1\n",
      "0.10032362459546926\n"
     ]
    },
    {
     "name": "stderr",
     "output_type": "stream",
     "text": [
      "/Users/larsvanderlaan/repos/VennCalibration/myenv2/lib/python3.13/site-packages/mapie/utils.py:620: UserWarning: WARNING: The predictions are ill-sorted.\n",
      "  warnings.warn(\n",
      "/Users/larsvanderlaan/repos/VennCalibration/myenv2/lib/python3.13/site-packages/mapie/utils.py:620: UserWarning: WARNING: The predictions are ill-sorted.\n",
      "  warnings.warn(\n"
     ]
    },
    {
     "name": "stdout",
     "output_type": "stream",
     "text": [
      "0.1\n",
      "0.10032362459546926\n"
     ]
    },
    {
     "name": "stderr",
     "output_type": "stream",
     "text": [
      "/Users/larsvanderlaan/repos/VennCalibration/myenv2/lib/python3.13/site-packages/mapie/utils.py:620: UserWarning: WARNING: The predictions are ill-sorted.\n",
      "  warnings.warn(\n",
      "/Users/larsvanderlaan/repos/VennCalibration/myenv2/lib/python3.13/site-packages/mapie/utils.py:620: UserWarning: WARNING: The predictions are ill-sorted.\n",
      "  warnings.warn(\n"
     ]
    },
    {
     "name": "stdout",
     "output_type": "stream",
     "text": [
      "0.1\n",
      "0.10032362459546926\n"
     ]
    },
    {
     "name": "stderr",
     "output_type": "stream",
     "text": [
      "/Users/larsvanderlaan/repos/VennCalibration/myenv2/lib/python3.13/site-packages/mapie/utils.py:620: UserWarning: WARNING: The predictions are ill-sorted.\n",
      "  warnings.warn(\n"
     ]
    },
    {
     "name": "stdout",
     "output_type": "stream",
     "text": [
      "0.1\n",
      "0.10032362459546926\n"
     ]
    },
    {
     "name": "stderr",
     "output_type": "stream",
     "text": [
      "/Users/larsvanderlaan/repos/VennCalibration/myenv2/lib/python3.13/site-packages/mapie/utils.py:620: UserWarning: WARNING: The predictions are ill-sorted.\n",
      "  warnings.warn(\n",
      "/Users/larsvanderlaan/repos/VennCalibration/myenv2/lib/python3.13/site-packages/mapie/utils.py:620: UserWarning: WARNING: The predictions are ill-sorted.\n",
      "  warnings.warn(\n"
     ]
    },
    {
     "name": "stdout",
     "output_type": "stream",
     "text": [
      "0.1\n",
      "0.10032362459546926\n"
     ]
    },
    {
     "name": "stderr",
     "output_type": "stream",
     "text": [
      "/Users/larsvanderlaan/repos/VennCalibration/myenv2/lib/python3.13/site-packages/mapie/utils.py:620: UserWarning: WARNING: The predictions are ill-sorted.\n",
      "  warnings.warn(\n",
      "/Users/larsvanderlaan/repos/VennCalibration/myenv2/lib/python3.13/site-packages/mapie/utils.py:620: UserWarning: WARNING: The predictions are ill-sorted.\n",
      "  warnings.warn(\n"
     ]
    },
    {
     "name": "stdout",
     "output_type": "stream",
     "text": [
      "0.1\n",
      "0.10032362459546926\n"
     ]
    },
    {
     "name": "stderr",
     "output_type": "stream",
     "text": [
      "/Users/larsvanderlaan/repos/VennCalibration/myenv2/lib/python3.13/site-packages/mapie/utils.py:620: UserWarning: WARNING: The predictions are ill-sorted.\n",
      "  warnings.warn(\n",
      "/Users/larsvanderlaan/repos/VennCalibration/myenv2/lib/python3.13/site-packages/mapie/utils.py:620: UserWarning: WARNING: The predictions are ill-sorted.\n",
      "  warnings.warn(\n",
      "/Users/larsvanderlaan/repos/VennCalibration/data_analysis/datasets/datasets.py:335: FutureWarning: The 'delim_whitespace' keyword in pd.read_csv is deprecated and will be removed in a future version. Use ``sep='\\s+'`` instead\n",
      "  attrib = pd.read_csv(base_path + 'communities_attributes.csv', delim_whitespace = True)\n"
     ]
    },
    {
     "name": "stdout",
     "output_type": "stream",
     "text": [
      "0.1\n",
      "0.10033444816053512\n"
     ]
    },
    {
     "name": "stderr",
     "output_type": "stream",
     "text": [
      "/Users/larsvanderlaan/repos/VennCalibration/myenv2/lib/python3.13/site-packages/mapie/utils.py:620: UserWarning: WARNING: The predictions are ill-sorted.\n",
      "  warnings.warn(\n",
      "/Users/larsvanderlaan/repos/VennCalibration/myenv2/lib/python3.13/site-packages/mapie/utils.py:620: UserWarning: WARNING: The predictions are ill-sorted.\n",
      "  warnings.warn(\n",
      "/Users/larsvanderlaan/repos/VennCalibration/data_analysis/datasets/datasets.py:335: FutureWarning: The 'delim_whitespace' keyword in pd.read_csv is deprecated and will be removed in a future version. Use ``sep='\\s+'`` instead\n",
      "  attrib = pd.read_csv(base_path + 'communities_attributes.csv', delim_whitespace = True)\n"
     ]
    },
    {
     "name": "stdout",
     "output_type": "stream",
     "text": [
      "0.1\n",
      "0.10033444816053512\n"
     ]
    },
    {
     "name": "stderr",
     "output_type": "stream",
     "text": [
      "/Users/larsvanderlaan/repos/VennCalibration/myenv2/lib/python3.13/site-packages/mapie/utils.py:620: UserWarning: WARNING: The predictions are ill-sorted.\n",
      "  warnings.warn(\n",
      "/Users/larsvanderlaan/repos/VennCalibration/data_analysis/datasets/datasets.py:335: FutureWarning: The 'delim_whitespace' keyword in pd.read_csv is deprecated and will be removed in a future version. Use ``sep='\\s+'`` instead\n",
      "  attrib = pd.read_csv(base_path + 'communities_attributes.csv', delim_whitespace = True)\n"
     ]
    },
    {
     "name": "stdout",
     "output_type": "stream",
     "text": [
      "0.1\n",
      "0.10033444816053512\n"
     ]
    },
    {
     "name": "stderr",
     "output_type": "stream",
     "text": [
      "/Users/larsvanderlaan/repos/VennCalibration/myenv2/lib/python3.13/site-packages/mapie/utils.py:620: UserWarning: WARNING: The predictions are ill-sorted.\n",
      "  warnings.warn(\n",
      "/Users/larsvanderlaan/repos/VennCalibration/data_analysis/datasets/datasets.py:335: FutureWarning: The 'delim_whitespace' keyword in pd.read_csv is deprecated and will be removed in a future version. Use ``sep='\\s+'`` instead\n",
      "  attrib = pd.read_csv(base_path + 'communities_attributes.csv', delim_whitespace = True)\n"
     ]
    },
    {
     "name": "stdout",
     "output_type": "stream",
     "text": [
      "0.1\n",
      "0.10033444816053512\n"
     ]
    },
    {
     "name": "stderr",
     "output_type": "stream",
     "text": [
      "/Users/larsvanderlaan/repos/VennCalibration/myenv2/lib/python3.13/site-packages/mapie/utils.py:620: UserWarning: WARNING: The predictions are ill-sorted.\n",
      "  warnings.warn(\n",
      "/Users/larsvanderlaan/repos/VennCalibration/data_analysis/datasets/datasets.py:335: FutureWarning: The 'delim_whitespace' keyword in pd.read_csv is deprecated and will be removed in a future version. Use ``sep='\\s+'`` instead\n",
      "  attrib = pd.read_csv(base_path + 'communities_attributes.csv', delim_whitespace = True)\n"
     ]
    },
    {
     "name": "stdout",
     "output_type": "stream",
     "text": [
      "0.1\n",
      "0.10033444816053512\n"
     ]
    },
    {
     "name": "stderr",
     "output_type": "stream",
     "text": [
      "/Users/larsvanderlaan/repos/VennCalibration/myenv2/lib/python3.13/site-packages/mapie/utils.py:620: UserWarning: WARNING: The predictions are ill-sorted.\n",
      "  warnings.warn(\n",
      "/Users/larsvanderlaan/repos/VennCalibration/data_analysis/datasets/datasets.py:335: FutureWarning: The 'delim_whitespace' keyword in pd.read_csv is deprecated and will be removed in a future version. Use ``sep='\\s+'`` instead\n",
      "  attrib = pd.read_csv(base_path + 'communities_attributes.csv', delim_whitespace = True)\n"
     ]
    },
    {
     "name": "stdout",
     "output_type": "stream",
     "text": [
      "0.1\n",
      "0.10033444816053512\n"
     ]
    },
    {
     "name": "stderr",
     "output_type": "stream",
     "text": [
      "/Users/larsvanderlaan/repos/VennCalibration/myenv2/lib/python3.13/site-packages/mapie/utils.py:620: UserWarning: WARNING: The predictions are ill-sorted.\n",
      "  warnings.warn(\n",
      "/Users/larsvanderlaan/repos/VennCalibration/myenv2/lib/python3.13/site-packages/mapie/utils.py:620: UserWarning: WARNING: The predictions are ill-sorted.\n",
      "  warnings.warn(\n",
      "/Users/larsvanderlaan/repos/VennCalibration/data_analysis/datasets/datasets.py:335: FutureWarning: The 'delim_whitespace' keyword in pd.read_csv is deprecated and will be removed in a future version. Use ``sep='\\s+'`` instead\n",
      "  attrib = pd.read_csv(base_path + 'communities_attributes.csv', delim_whitespace = True)\n"
     ]
    },
    {
     "name": "stdout",
     "output_type": "stream",
     "text": [
      "0.1\n",
      "0.10033444816053512\n"
     ]
    },
    {
     "name": "stderr",
     "output_type": "stream",
     "text": [
      "/Users/larsvanderlaan/repos/VennCalibration/myenv2/lib/python3.13/site-packages/mapie/utils.py:620: UserWarning: WARNING: The predictions are ill-sorted.\n",
      "  warnings.warn(\n",
      "/Users/larsvanderlaan/repos/VennCalibration/data_analysis/datasets/datasets.py:335: FutureWarning: The 'delim_whitespace' keyword in pd.read_csv is deprecated and will be removed in a future version. Use ``sep='\\s+'`` instead\n",
      "  attrib = pd.read_csv(base_path + 'communities_attributes.csv', delim_whitespace = True)\n"
     ]
    },
    {
     "name": "stdout",
     "output_type": "stream",
     "text": [
      "0.1\n",
      "0.10033444816053512\n"
     ]
    },
    {
     "name": "stderr",
     "output_type": "stream",
     "text": [
      "/Users/larsvanderlaan/repos/VennCalibration/myenv2/lib/python3.13/site-packages/mapie/utils.py:620: UserWarning: WARNING: The predictions are ill-sorted.\n",
      "  warnings.warn(\n",
      "/Users/larsvanderlaan/repos/VennCalibration/data_analysis/datasets/datasets.py:335: FutureWarning: The 'delim_whitespace' keyword in pd.read_csv is deprecated and will be removed in a future version. Use ``sep='\\s+'`` instead\n",
      "  attrib = pd.read_csv(base_path + 'communities_attributes.csv', delim_whitespace = True)\n"
     ]
    },
    {
     "name": "stdout",
     "output_type": "stream",
     "text": [
      "0.1\n",
      "0.10033444816053512\n"
     ]
    },
    {
     "name": "stderr",
     "output_type": "stream",
     "text": [
      "/Users/larsvanderlaan/repos/VennCalibration/myenv2/lib/python3.13/site-packages/mapie/utils.py:620: UserWarning: WARNING: The predictions are ill-sorted.\n",
      "  warnings.warn(\n",
      "/Users/larsvanderlaan/repos/VennCalibration/data_analysis/datasets/datasets.py:335: FutureWarning: The 'delim_whitespace' keyword in pd.read_csv is deprecated and will be removed in a future version. Use ``sep='\\s+'`` instead\n",
      "  attrib = pd.read_csv(base_path + 'communities_attributes.csv', delim_whitespace = True)\n"
     ]
    },
    {
     "name": "stdout",
     "output_type": "stream",
     "text": [
      "0.1\n",
      "0.10033444816053512\n"
     ]
    },
    {
     "name": "stderr",
     "output_type": "stream",
     "text": [
      "/Users/larsvanderlaan/repos/VennCalibration/myenv2/lib/python3.13/site-packages/mapie/utils.py:620: UserWarning: WARNING: The predictions are ill-sorted.\n",
      "  warnings.warn(\n",
      "/Users/larsvanderlaan/repos/VennCalibration/myenv2/lib/python3.13/site-packages/mapie/utils.py:620: UserWarning: WARNING: The predictions are ill-sorted.\n",
      "  warnings.warn(\n",
      "/Users/larsvanderlaan/repos/VennCalibration/data_analysis/datasets/datasets.py:335: FutureWarning: The 'delim_whitespace' keyword in pd.read_csv is deprecated and will be removed in a future version. Use ``sep='\\s+'`` instead\n",
      "  attrib = pd.read_csv(base_path + 'communities_attributes.csv', delim_whitespace = True)\n"
     ]
    },
    {
     "name": "stdout",
     "output_type": "stream",
     "text": [
      "0.1\n",
      "0.10033444816053512\n"
     ]
    },
    {
     "name": "stderr",
     "output_type": "stream",
     "text": [
      "/Users/larsvanderlaan/repos/VennCalibration/myenv2/lib/python3.13/site-packages/mapie/utils.py:620: UserWarning: WARNING: The predictions are ill-sorted.\n",
      "  warnings.warn(\n",
      "/Users/larsvanderlaan/repos/VennCalibration/data_analysis/datasets/datasets.py:335: FutureWarning: The 'delim_whitespace' keyword in pd.read_csv is deprecated and will be removed in a future version. Use ``sep='\\s+'`` instead\n",
      "  attrib = pd.read_csv(base_path + 'communities_attributes.csv', delim_whitespace = True)\n"
     ]
    },
    {
     "name": "stdout",
     "output_type": "stream",
     "text": [
      "0.1\n",
      "0.10033444816053512\n"
     ]
    },
    {
     "name": "stderr",
     "output_type": "stream",
     "text": [
      "/Users/larsvanderlaan/repos/VennCalibration/myenv2/lib/python3.13/site-packages/mapie/utils.py:620: UserWarning: WARNING: The predictions are ill-sorted.\n",
      "  warnings.warn(\n",
      "/Users/larsvanderlaan/repos/VennCalibration/myenv2/lib/python3.13/site-packages/mapie/utils.py:620: UserWarning: WARNING: The predictions are ill-sorted.\n",
      "  warnings.warn(\n",
      "/Users/larsvanderlaan/repos/VennCalibration/data_analysis/datasets/datasets.py:335: FutureWarning: The 'delim_whitespace' keyword in pd.read_csv is deprecated and will be removed in a future version. Use ``sep='\\s+'`` instead\n",
      "  attrib = pd.read_csv(base_path + 'communities_attributes.csv', delim_whitespace = True)\n"
     ]
    },
    {
     "name": "stdout",
     "output_type": "stream",
     "text": [
      "0.1\n",
      "0.10033444816053512\n"
     ]
    },
    {
     "name": "stderr",
     "output_type": "stream",
     "text": [
      "/Users/larsvanderlaan/repos/VennCalibration/myenv2/lib/python3.13/site-packages/mapie/utils.py:620: UserWarning: WARNING: The predictions are ill-sorted.\n",
      "  warnings.warn(\n",
      "/Users/larsvanderlaan/repos/VennCalibration/data_analysis/datasets/datasets.py:335: FutureWarning: The 'delim_whitespace' keyword in pd.read_csv is deprecated and will be removed in a future version. Use ``sep='\\s+'`` instead\n",
      "  attrib = pd.read_csv(base_path + 'communities_attributes.csv', delim_whitespace = True)\n"
     ]
    },
    {
     "name": "stdout",
     "output_type": "stream",
     "text": [
      "0.1\n",
      "0.10033444816053512\n"
     ]
    },
    {
     "name": "stderr",
     "output_type": "stream",
     "text": [
      "/Users/larsvanderlaan/repos/VennCalibration/myenv2/lib/python3.13/site-packages/mapie/utils.py:620: UserWarning: WARNING: The predictions are ill-sorted.\n",
      "  warnings.warn(\n",
      "/Users/larsvanderlaan/repos/VennCalibration/data_analysis/datasets/datasets.py:335: FutureWarning: The 'delim_whitespace' keyword in pd.read_csv is deprecated and will be removed in a future version. Use ``sep='\\s+'`` instead\n",
      "  attrib = pd.read_csv(base_path + 'communities_attributes.csv', delim_whitespace = True)\n"
     ]
    },
    {
     "name": "stdout",
     "output_type": "stream",
     "text": [
      "0.1\n",
      "0.10033444816053512\n"
     ]
    },
    {
     "name": "stderr",
     "output_type": "stream",
     "text": [
      "/Users/larsvanderlaan/repos/VennCalibration/myenv2/lib/python3.13/site-packages/mapie/utils.py:620: UserWarning: WARNING: The predictions are ill-sorted.\n",
      "  warnings.warn(\n",
      "/Users/larsvanderlaan/repos/VennCalibration/data_analysis/datasets/datasets.py:335: FutureWarning: The 'delim_whitespace' keyword in pd.read_csv is deprecated and will be removed in a future version. Use ``sep='\\s+'`` instead\n",
      "  attrib = pd.read_csv(base_path + 'communities_attributes.csv', delim_whitespace = True)\n"
     ]
    },
    {
     "name": "stdout",
     "output_type": "stream",
     "text": [
      "0.1\n",
      "0.10033444816053512\n"
     ]
    },
    {
     "name": "stderr",
     "output_type": "stream",
     "text": [
      "/Users/larsvanderlaan/repos/VennCalibration/myenv2/lib/python3.13/site-packages/mapie/utils.py:620: UserWarning: WARNING: The predictions are ill-sorted.\n",
      "  warnings.warn(\n",
      "/Users/larsvanderlaan/repos/VennCalibration/data_analysis/datasets/datasets.py:335: FutureWarning: The 'delim_whitespace' keyword in pd.read_csv is deprecated and will be removed in a future version. Use ``sep='\\s+'`` instead\n",
      "  attrib = pd.read_csv(base_path + 'communities_attributes.csv', delim_whitespace = True)\n"
     ]
    },
    {
     "name": "stdout",
     "output_type": "stream",
     "text": [
      "0.1\n",
      "0.10033444816053512\n"
     ]
    },
    {
     "name": "stderr",
     "output_type": "stream",
     "text": [
      "/Users/larsvanderlaan/repos/VennCalibration/myenv2/lib/python3.13/site-packages/mapie/utils.py:620: UserWarning: WARNING: The predictions are ill-sorted.\n",
      "  warnings.warn(\n",
      "/Users/larsvanderlaan/repos/VennCalibration/data_analysis/datasets/datasets.py:335: FutureWarning: The 'delim_whitespace' keyword in pd.read_csv is deprecated and will be removed in a future version. Use ``sep='\\s+'`` instead\n",
      "  attrib = pd.read_csv(base_path + 'communities_attributes.csv', delim_whitespace = True)\n"
     ]
    },
    {
     "name": "stdout",
     "output_type": "stream",
     "text": [
      "0.1\n",
      "0.10033444816053512\n"
     ]
    },
    {
     "name": "stderr",
     "output_type": "stream",
     "text": [
      "/Users/larsvanderlaan/repos/VennCalibration/myenv2/lib/python3.13/site-packages/mapie/utils.py:620: UserWarning: WARNING: The predictions are ill-sorted.\n",
      "  warnings.warn(\n",
      "/Users/larsvanderlaan/repos/VennCalibration/data_analysis/datasets/datasets.py:335: FutureWarning: The 'delim_whitespace' keyword in pd.read_csv is deprecated and will be removed in a future version. Use ``sep='\\s+'`` instead\n",
      "  attrib = pd.read_csv(base_path + 'communities_attributes.csv', delim_whitespace = True)\n"
     ]
    },
    {
     "name": "stdout",
     "output_type": "stream",
     "text": [
      "0.1\n",
      "0.10033444816053512\n"
     ]
    },
    {
     "name": "stderr",
     "output_type": "stream",
     "text": [
      "/Users/larsvanderlaan/repos/VennCalibration/myenv2/lib/python3.13/site-packages/mapie/utils.py:620: UserWarning: WARNING: The predictions are ill-sorted.\n",
      "  warnings.warn(\n",
      "/Users/larsvanderlaan/repos/VennCalibration/myenv2/lib/python3.13/site-packages/mapie/utils.py:620: UserWarning: WARNING: The predictions are ill-sorted.\n",
      "  warnings.warn(\n",
      "/Users/larsvanderlaan/repos/VennCalibration/data_analysis/datasets/datasets.py:335: FutureWarning: The 'delim_whitespace' keyword in pd.read_csv is deprecated and will be removed in a future version. Use ``sep='\\s+'`` instead\n",
      "  attrib = pd.read_csv(base_path + 'communities_attributes.csv', delim_whitespace = True)\n"
     ]
    },
    {
     "name": "stdout",
     "output_type": "stream",
     "text": [
      "0.1\n",
      "0.10033444816053512\n"
     ]
    },
    {
     "name": "stderr",
     "output_type": "stream",
     "text": [
      "/Users/larsvanderlaan/repos/VennCalibration/myenv2/lib/python3.13/site-packages/mapie/utils.py:620: UserWarning: WARNING: The predictions are ill-sorted.\n",
      "  warnings.warn(\n",
      "/Users/larsvanderlaan/repos/VennCalibration/myenv2/lib/python3.13/site-packages/mapie/utils.py:620: UserWarning: WARNING: The predictions are ill-sorted.\n",
      "  warnings.warn(\n",
      "/Users/larsvanderlaan/repos/VennCalibration/data_analysis/datasets/datasets.py:335: FutureWarning: The 'delim_whitespace' keyword in pd.read_csv is deprecated and will be removed in a future version. Use ``sep='\\s+'`` instead\n",
      "  attrib = pd.read_csv(base_path + 'communities_attributes.csv', delim_whitespace = True)\n"
     ]
    },
    {
     "name": "stdout",
     "output_type": "stream",
     "text": [
      "0.1\n",
      "0.10033444816053512\n"
     ]
    },
    {
     "name": "stderr",
     "output_type": "stream",
     "text": [
      "/Users/larsvanderlaan/repos/VennCalibration/myenv2/lib/python3.13/site-packages/mapie/utils.py:620: UserWarning: WARNING: The predictions are ill-sorted.\n",
      "  warnings.warn(\n",
      "/Users/larsvanderlaan/repos/VennCalibration/data_analysis/datasets/datasets.py:335: FutureWarning: The 'delim_whitespace' keyword in pd.read_csv is deprecated and will be removed in a future version. Use ``sep='\\s+'`` instead\n",
      "  attrib = pd.read_csv(base_path + 'communities_attributes.csv', delim_whitespace = True)\n"
     ]
    },
    {
     "name": "stdout",
     "output_type": "stream",
     "text": [
      "0.1\n",
      "0.10033444816053512\n"
     ]
    },
    {
     "name": "stderr",
     "output_type": "stream",
     "text": [
      "/Users/larsvanderlaan/repos/VennCalibration/myenv2/lib/python3.13/site-packages/mapie/utils.py:620: UserWarning: WARNING: The predictions are ill-sorted.\n",
      "  warnings.warn(\n",
      "/Users/larsvanderlaan/repos/VennCalibration/data_analysis/datasets/datasets.py:335: FutureWarning: The 'delim_whitespace' keyword in pd.read_csv is deprecated and will be removed in a future version. Use ``sep='\\s+'`` instead\n",
      "  attrib = pd.read_csv(base_path + 'communities_attributes.csv', delim_whitespace = True)\n"
     ]
    },
    {
     "name": "stdout",
     "output_type": "stream",
     "text": [
      "0.1\n",
      "0.10033444816053512\n"
     ]
    },
    {
     "name": "stderr",
     "output_type": "stream",
     "text": [
      "/Users/larsvanderlaan/repos/VennCalibration/data_analysis/datasets/datasets.py:335: FutureWarning: The 'delim_whitespace' keyword in pd.read_csv is deprecated and will be removed in a future version. Use ``sep='\\s+'`` instead\n",
      "  attrib = pd.read_csv(base_path + 'communities_attributes.csv', delim_whitespace = True)\n"
     ]
    },
    {
     "name": "stdout",
     "output_type": "stream",
     "text": [
      "0.1\n",
      "0.10033444816053512\n"
     ]
    },
    {
     "name": "stderr",
     "output_type": "stream",
     "text": [
      "/Users/larsvanderlaan/repos/VennCalibration/myenv2/lib/python3.13/site-packages/mapie/utils.py:620: UserWarning: WARNING: The predictions are ill-sorted.\n",
      "  warnings.warn(\n",
      "/Users/larsvanderlaan/repos/VennCalibration/data_analysis/datasets/datasets.py:335: FutureWarning: The 'delim_whitespace' keyword in pd.read_csv is deprecated and will be removed in a future version. Use ``sep='\\s+'`` instead\n",
      "  attrib = pd.read_csv(base_path + 'communities_attributes.csv', delim_whitespace = True)\n"
     ]
    },
    {
     "name": "stdout",
     "output_type": "stream",
     "text": [
      "0.1\n",
      "0.10033444816053512\n"
     ]
    },
    {
     "name": "stderr",
     "output_type": "stream",
     "text": [
      "/Users/larsvanderlaan/repos/VennCalibration/myenv2/lib/python3.13/site-packages/mapie/utils.py:620: UserWarning: WARNING: The predictions are ill-sorted.\n",
      "  warnings.warn(\n",
      "/Users/larsvanderlaan/repos/VennCalibration/myenv2/lib/python3.13/site-packages/mapie/utils.py:620: UserWarning: WARNING: The predictions are ill-sorted.\n",
      "  warnings.warn(\n",
      "/Users/larsvanderlaan/repos/VennCalibration/data_analysis/datasets/datasets.py:335: FutureWarning: The 'delim_whitespace' keyword in pd.read_csv is deprecated and will be removed in a future version. Use ``sep='\\s+'`` instead\n",
      "  attrib = pd.read_csv(base_path + 'communities_attributes.csv', delim_whitespace = True)\n"
     ]
    },
    {
     "name": "stdout",
     "output_type": "stream",
     "text": [
      "0.1\n",
      "0.10033444816053512\n"
     ]
    },
    {
     "name": "stderr",
     "output_type": "stream",
     "text": [
      "/Users/larsvanderlaan/repos/VennCalibration/myenv2/lib/python3.13/site-packages/mapie/utils.py:620: UserWarning: WARNING: The predictions are ill-sorted.\n",
      "  warnings.warn(\n",
      "/Users/larsvanderlaan/repos/VennCalibration/data_analysis/datasets/datasets.py:335: FutureWarning: The 'delim_whitespace' keyword in pd.read_csv is deprecated and will be removed in a future version. Use ``sep='\\s+'`` instead\n",
      "  attrib = pd.read_csv(base_path + 'communities_attributes.csv', delim_whitespace = True)\n"
     ]
    },
    {
     "name": "stdout",
     "output_type": "stream",
     "text": [
      "0.1\n",
      "0.10033444816053512\n"
     ]
    },
    {
     "name": "stderr",
     "output_type": "stream",
     "text": [
      "/Users/larsvanderlaan/repos/VennCalibration/myenv2/lib/python3.13/site-packages/mapie/utils.py:620: UserWarning: WARNING: The predictions are ill-sorted.\n",
      "  warnings.warn(\n",
      "/Users/larsvanderlaan/repos/VennCalibration/data_analysis/datasets/datasets.py:335: FutureWarning: The 'delim_whitespace' keyword in pd.read_csv is deprecated and will be removed in a future version. Use ``sep='\\s+'`` instead\n",
      "  attrib = pd.read_csv(base_path + 'communities_attributes.csv', delim_whitespace = True)\n"
     ]
    },
    {
     "name": "stdout",
     "output_type": "stream",
     "text": [
      "0.1\n",
      "0.10033444816053512\n"
     ]
    },
    {
     "name": "stderr",
     "output_type": "stream",
     "text": [
      "/Users/larsvanderlaan/repos/VennCalibration/data_analysis/datasets/datasets.py:335: FutureWarning: The 'delim_whitespace' keyword in pd.read_csv is deprecated and will be removed in a future version. Use ``sep='\\s+'`` instead\n",
      "  attrib = pd.read_csv(base_path + 'communities_attributes.csv', delim_whitespace = True)\n"
     ]
    },
    {
     "name": "stdout",
     "output_type": "stream",
     "text": [
      "0.1\n",
      "0.10033444816053512\n"
     ]
    },
    {
     "name": "stderr",
     "output_type": "stream",
     "text": [
      "/Users/larsvanderlaan/repos/VennCalibration/myenv2/lib/python3.13/site-packages/mapie/utils.py:620: UserWarning: WARNING: The predictions are ill-sorted.\n",
      "  warnings.warn(\n",
      "/Users/larsvanderlaan/repos/VennCalibration/data_analysis/datasets/datasets.py:335: FutureWarning: The 'delim_whitespace' keyword in pd.read_csv is deprecated and will be removed in a future version. Use ``sep='\\s+'`` instead\n",
      "  attrib = pd.read_csv(base_path + 'communities_attributes.csv', delim_whitespace = True)\n"
     ]
    },
    {
     "name": "stdout",
     "output_type": "stream",
     "text": [
      "0.1\n",
      "0.10033444816053512\n"
     ]
    },
    {
     "name": "stderr",
     "output_type": "stream",
     "text": [
      "/Users/larsvanderlaan/repos/VennCalibration/myenv2/lib/python3.13/site-packages/mapie/utils.py:620: UserWarning: WARNING: The predictions are ill-sorted.\n",
      "  warnings.warn(\n",
      "/Users/larsvanderlaan/repos/VennCalibration/data_analysis/datasets/datasets.py:335: FutureWarning: The 'delim_whitespace' keyword in pd.read_csv is deprecated and will be removed in a future version. Use ``sep='\\s+'`` instead\n",
      "  attrib = pd.read_csv(base_path + 'communities_attributes.csv', delim_whitespace = True)\n"
     ]
    },
    {
     "name": "stdout",
     "output_type": "stream",
     "text": [
      "0.1\n",
      "0.10033444816053512\n"
     ]
    },
    {
     "name": "stderr",
     "output_type": "stream",
     "text": [
      "/Users/larsvanderlaan/repos/VennCalibration/myenv2/lib/python3.13/site-packages/mapie/utils.py:620: UserWarning: WARNING: The predictions are ill-sorted.\n",
      "  warnings.warn(\n",
      "/Users/larsvanderlaan/repos/VennCalibration/data_analysis/datasets/datasets.py:335: FutureWarning: The 'delim_whitespace' keyword in pd.read_csv is deprecated and will be removed in a future version. Use ``sep='\\s+'`` instead\n",
      "  attrib = pd.read_csv(base_path + 'communities_attributes.csv', delim_whitespace = True)\n"
     ]
    },
    {
     "name": "stdout",
     "output_type": "stream",
     "text": [
      "0.1\n",
      "0.10033444816053512\n"
     ]
    },
    {
     "name": "stderr",
     "output_type": "stream",
     "text": [
      "/Users/larsvanderlaan/repos/VennCalibration/myenv2/lib/python3.13/site-packages/mapie/utils.py:620: UserWarning: WARNING: The predictions are ill-sorted.\n",
      "  warnings.warn(\n",
      "/Users/larsvanderlaan/repos/VennCalibration/data_analysis/datasets/datasets.py:335: FutureWarning: The 'delim_whitespace' keyword in pd.read_csv is deprecated and will be removed in a future version. Use ``sep='\\s+'`` instead\n",
      "  attrib = pd.read_csv(base_path + 'communities_attributes.csv', delim_whitespace = True)\n"
     ]
    },
    {
     "name": "stdout",
     "output_type": "stream",
     "text": [
      "0.1\n",
      "0.10033444816053512\n"
     ]
    },
    {
     "name": "stderr",
     "output_type": "stream",
     "text": [
      "/Users/larsvanderlaan/repos/VennCalibration/myenv2/lib/python3.13/site-packages/mapie/utils.py:620: UserWarning: WARNING: The predictions are ill-sorted.\n",
      "  warnings.warn(\n",
      "/Users/larsvanderlaan/repos/VennCalibration/myenv2/lib/python3.13/site-packages/mapie/utils.py:620: UserWarning: WARNING: The predictions are ill-sorted.\n",
      "  warnings.warn(\n",
      "/Users/larsvanderlaan/repos/VennCalibration/data_analysis/datasets/datasets.py:335: FutureWarning: The 'delim_whitespace' keyword in pd.read_csv is deprecated and will be removed in a future version. Use ``sep='\\s+'`` instead\n",
      "  attrib = pd.read_csv(base_path + 'communities_attributes.csv', delim_whitespace = True)\n"
     ]
    },
    {
     "name": "stdout",
     "output_type": "stream",
     "text": [
      "0.1\n",
      "0.10033444816053512\n"
     ]
    },
    {
     "name": "stderr",
     "output_type": "stream",
     "text": [
      "/Users/larsvanderlaan/repos/VennCalibration/myenv2/lib/python3.13/site-packages/mapie/utils.py:620: UserWarning: WARNING: The predictions are ill-sorted.\n",
      "  warnings.warn(\n",
      "/Users/larsvanderlaan/repos/VennCalibration/data_analysis/datasets/datasets.py:335: FutureWarning: The 'delim_whitespace' keyword in pd.read_csv is deprecated and will be removed in a future version. Use ``sep='\\s+'`` instead\n",
      "  attrib = pd.read_csv(base_path + 'communities_attributes.csv', delim_whitespace = True)\n"
     ]
    },
    {
     "name": "stdout",
     "output_type": "stream",
     "text": [
      "0.1\n",
      "0.10033444816053512\n"
     ]
    },
    {
     "name": "stderr",
     "output_type": "stream",
     "text": [
      "/Users/larsvanderlaan/repos/VennCalibration/myenv2/lib/python3.13/site-packages/mapie/utils.py:620: UserWarning: WARNING: The predictions are ill-sorted.\n",
      "  warnings.warn(\n",
      "/Users/larsvanderlaan/repos/VennCalibration/data_analysis/datasets/datasets.py:335: FutureWarning: The 'delim_whitespace' keyword in pd.read_csv is deprecated and will be removed in a future version. Use ``sep='\\s+'`` instead\n",
      "  attrib = pd.read_csv(base_path + 'communities_attributes.csv', delim_whitespace = True)\n"
     ]
    },
    {
     "name": "stdout",
     "output_type": "stream",
     "text": [
      "0.1\n",
      "0.10033444816053512\n"
     ]
    },
    {
     "name": "stderr",
     "output_type": "stream",
     "text": [
      "/Users/larsvanderlaan/repos/VennCalibration/myenv2/lib/python3.13/site-packages/mapie/utils.py:620: UserWarning: WARNING: The predictions are ill-sorted.\n",
      "  warnings.warn(\n",
      "/Users/larsvanderlaan/repos/VennCalibration/data_analysis/datasets/datasets.py:335: FutureWarning: The 'delim_whitespace' keyword in pd.read_csv is deprecated and will be removed in a future version. Use ``sep='\\s+'`` instead\n",
      "  attrib = pd.read_csv(base_path + 'communities_attributes.csv', delim_whitespace = True)\n"
     ]
    },
    {
     "name": "stdout",
     "output_type": "stream",
     "text": [
      "0.1\n",
      "0.10033444816053512\n"
     ]
    },
    {
     "name": "stderr",
     "output_type": "stream",
     "text": [
      "/Users/larsvanderlaan/repos/VennCalibration/myenv2/lib/python3.13/site-packages/mapie/utils.py:620: UserWarning: WARNING: The predictions are ill-sorted.\n",
      "  warnings.warn(\n",
      "/Users/larsvanderlaan/repos/VennCalibration/data_analysis/datasets/datasets.py:335: FutureWarning: The 'delim_whitespace' keyword in pd.read_csv is deprecated and will be removed in a future version. Use ``sep='\\s+'`` instead\n",
      "  attrib = pd.read_csv(base_path + 'communities_attributes.csv', delim_whitespace = True)\n"
     ]
    },
    {
     "name": "stdout",
     "output_type": "stream",
     "text": [
      "0.1\n",
      "0.10033444816053512\n"
     ]
    },
    {
     "name": "stderr",
     "output_type": "stream",
     "text": [
      "/Users/larsvanderlaan/repos/VennCalibration/myenv2/lib/python3.13/site-packages/mapie/utils.py:620: UserWarning: WARNING: The predictions are ill-sorted.\n",
      "  warnings.warn(\n",
      "/Users/larsvanderlaan/repos/VennCalibration/myenv2/lib/python3.13/site-packages/mapie/utils.py:620: UserWarning: WARNING: The predictions are ill-sorted.\n",
      "  warnings.warn(\n",
      "/Users/larsvanderlaan/repos/VennCalibration/data_analysis/datasets/datasets.py:335: FutureWarning: The 'delim_whitespace' keyword in pd.read_csv is deprecated and will be removed in a future version. Use ``sep='\\s+'`` instead\n",
      "  attrib = pd.read_csv(base_path + 'communities_attributes.csv', delim_whitespace = True)\n"
     ]
    },
    {
     "name": "stdout",
     "output_type": "stream",
     "text": [
      "0.1\n",
      "0.10033444816053512\n"
     ]
    },
    {
     "name": "stderr",
     "output_type": "stream",
     "text": [
      "/Users/larsvanderlaan/repos/VennCalibration/myenv2/lib/python3.13/site-packages/mapie/utils.py:620: UserWarning: WARNING: The predictions are ill-sorted.\n",
      "  warnings.warn(\n",
      "/Users/larsvanderlaan/repos/VennCalibration/data_analysis/datasets/datasets.py:335: FutureWarning: The 'delim_whitespace' keyword in pd.read_csv is deprecated and will be removed in a future version. Use ``sep='\\s+'`` instead\n",
      "  attrib = pd.read_csv(base_path + 'communities_attributes.csv', delim_whitespace = True)\n"
     ]
    },
    {
     "name": "stdout",
     "output_type": "stream",
     "text": [
      "0.1\n",
      "0.10033444816053512\n"
     ]
    },
    {
     "name": "stderr",
     "output_type": "stream",
     "text": [
      "/Users/larsvanderlaan/repos/VennCalibration/data_analysis/datasets/datasets.py:335: FutureWarning: The 'delim_whitespace' keyword in pd.read_csv is deprecated and will be removed in a future version. Use ``sep='\\s+'`` instead\n",
      "  attrib = pd.read_csv(base_path + 'communities_attributes.csv', delim_whitespace = True)\n"
     ]
    },
    {
     "name": "stdout",
     "output_type": "stream",
     "text": [
      "0.1\n",
      "0.10033444816053512\n"
     ]
    },
    {
     "name": "stderr",
     "output_type": "stream",
     "text": [
      "/Users/larsvanderlaan/repos/VennCalibration/myenv2/lib/python3.13/site-packages/mapie/utils.py:620: UserWarning: WARNING: The predictions are ill-sorted.\n",
      "  warnings.warn(\n",
      "/Users/larsvanderlaan/repos/VennCalibration/data_analysis/datasets/datasets.py:335: FutureWarning: The 'delim_whitespace' keyword in pd.read_csv is deprecated and will be removed in a future version. Use ``sep='\\s+'`` instead\n",
      "  attrib = pd.read_csv(base_path + 'communities_attributes.csv', delim_whitespace = True)\n"
     ]
    },
    {
     "name": "stdout",
     "output_type": "stream",
     "text": [
      "0.1\n",
      "0.10033444816053512\n"
     ]
    },
    {
     "name": "stderr",
     "output_type": "stream",
     "text": [
      "/Users/larsvanderlaan/repos/VennCalibration/myenv2/lib/python3.13/site-packages/mapie/utils.py:620: UserWarning: WARNING: The predictions are ill-sorted.\n",
      "  warnings.warn(\n",
      "/Users/larsvanderlaan/repos/VennCalibration/data_analysis/datasets/datasets.py:335: FutureWarning: The 'delim_whitespace' keyword in pd.read_csv is deprecated and will be removed in a future version. Use ``sep='\\s+'`` instead\n",
      "  attrib = pd.read_csv(base_path + 'communities_attributes.csv', delim_whitespace = True)\n"
     ]
    },
    {
     "name": "stdout",
     "output_type": "stream",
     "text": [
      "0.1\n",
      "0.10033444816053512\n"
     ]
    },
    {
     "name": "stderr",
     "output_type": "stream",
     "text": [
      "/Users/larsvanderlaan/repos/VennCalibration/myenv2/lib/python3.13/site-packages/mapie/utils.py:620: UserWarning: WARNING: The predictions are ill-sorted.\n",
      "  warnings.warn(\n",
      "/Users/larsvanderlaan/repos/VennCalibration/myenv2/lib/python3.13/site-packages/mapie/utils.py:620: UserWarning: WARNING: The predictions are ill-sorted.\n",
      "  warnings.warn(\n",
      "/Users/larsvanderlaan/repos/VennCalibration/data_analysis/datasets/datasets.py:335: FutureWarning: The 'delim_whitespace' keyword in pd.read_csv is deprecated and will be removed in a future version. Use ``sep='\\s+'`` instead\n",
      "  attrib = pd.read_csv(base_path + 'communities_attributes.csv', delim_whitespace = True)\n"
     ]
    },
    {
     "name": "stdout",
     "output_type": "stream",
     "text": [
      "0.1\n",
      "0.10033444816053512\n"
     ]
    },
    {
     "name": "stderr",
     "output_type": "stream",
     "text": [
      "/Users/larsvanderlaan/repos/VennCalibration/myenv2/lib/python3.13/site-packages/mapie/utils.py:620: UserWarning: WARNING: The predictions are ill-sorted.\n",
      "  warnings.warn(\n",
      "/Users/larsvanderlaan/repos/VennCalibration/myenv2/lib/python3.13/site-packages/mapie/utils.py:620: UserWarning: WARNING: The predictions are ill-sorted.\n",
      "  warnings.warn(\n",
      "/Users/larsvanderlaan/repos/VennCalibration/data_analysis/datasets/datasets.py:335: FutureWarning: The 'delim_whitespace' keyword in pd.read_csv is deprecated and will be removed in a future version. Use ``sep='\\s+'`` instead\n",
      "  attrib = pd.read_csv(base_path + 'communities_attributes.csv', delim_whitespace = True)\n"
     ]
    },
    {
     "name": "stdout",
     "output_type": "stream",
     "text": [
      "0.1\n",
      "0.10033444816053512\n"
     ]
    },
    {
     "name": "stderr",
     "output_type": "stream",
     "text": [
      "/Users/larsvanderlaan/repos/VennCalibration/myenv2/lib/python3.13/site-packages/mapie/utils.py:620: UserWarning: WARNING: The predictions are ill-sorted.\n",
      "  warnings.warn(\n",
      "/Users/larsvanderlaan/repos/VennCalibration/data_analysis/datasets/datasets.py:335: FutureWarning: The 'delim_whitespace' keyword in pd.read_csv is deprecated and will be removed in a future version. Use ``sep='\\s+'`` instead\n",
      "  attrib = pd.read_csv(base_path + 'communities_attributes.csv', delim_whitespace = True)\n"
     ]
    },
    {
     "name": "stdout",
     "output_type": "stream",
     "text": [
      "0.1\n",
      "0.10033444816053512\n"
     ]
    },
    {
     "name": "stderr",
     "output_type": "stream",
     "text": [
      "/Users/larsvanderlaan/repos/VennCalibration/myenv2/lib/python3.13/site-packages/mapie/utils.py:620: UserWarning: WARNING: The predictions are ill-sorted.\n",
      "  warnings.warn(\n",
      "/Users/larsvanderlaan/repos/VennCalibration/data_analysis/datasets/datasets.py:335: FutureWarning: The 'delim_whitespace' keyword in pd.read_csv is deprecated and will be removed in a future version. Use ``sep='\\s+'`` instead\n",
      "  attrib = pd.read_csv(base_path + 'communities_attributes.csv', delim_whitespace = True)\n"
     ]
    },
    {
     "name": "stdout",
     "output_type": "stream",
     "text": [
      "0.1\n",
      "0.10033444816053512\n"
     ]
    },
    {
     "name": "stderr",
     "output_type": "stream",
     "text": [
      "/Users/larsvanderlaan/repos/VennCalibration/myenv2/lib/python3.13/site-packages/mapie/utils.py:620: UserWarning: WARNING: The predictions are ill-sorted.\n",
      "  warnings.warn(\n",
      "/Users/larsvanderlaan/repos/VennCalibration/data_analysis/datasets/datasets.py:335: FutureWarning: The 'delim_whitespace' keyword in pd.read_csv is deprecated and will be removed in a future version. Use ``sep='\\s+'`` instead\n",
      "  attrib = pd.read_csv(base_path + 'communities_attributes.csv', delim_whitespace = True)\n"
     ]
    },
    {
     "name": "stdout",
     "output_type": "stream",
     "text": [
      "0.1\n",
      "0.10033444816053512\n"
     ]
    },
    {
     "name": "stderr",
     "output_type": "stream",
     "text": [
      "/Users/larsvanderlaan/repos/VennCalibration/myenv2/lib/python3.13/site-packages/mapie/utils.py:620: UserWarning: WARNING: The predictions are ill-sorted.\n",
      "  warnings.warn(\n",
      "/Users/larsvanderlaan/repos/VennCalibration/data_analysis/datasets/datasets.py:335: FutureWarning: The 'delim_whitespace' keyword in pd.read_csv is deprecated and will be removed in a future version. Use ``sep='\\s+'`` instead\n",
      "  attrib = pd.read_csv(base_path + 'communities_attributes.csv', delim_whitespace = True)\n"
     ]
    },
    {
     "name": "stdout",
     "output_type": "stream",
     "text": [
      "0.1\n",
      "0.10033444816053512\n"
     ]
    },
    {
     "name": "stderr",
     "output_type": "stream",
     "text": [
      "/Users/larsvanderlaan/repos/VennCalibration/myenv2/lib/python3.13/site-packages/mapie/utils.py:620: UserWarning: WARNING: The predictions are ill-sorted.\n",
      "  warnings.warn(\n",
      "/Users/larsvanderlaan/repos/VennCalibration/myenv2/lib/python3.13/site-packages/mapie/utils.py:620: UserWarning: WARNING: The predictions are ill-sorted.\n",
      "  warnings.warn(\n",
      "/Users/larsvanderlaan/repos/VennCalibration/data_analysis/datasets/datasets.py:335: FutureWarning: The 'delim_whitespace' keyword in pd.read_csv is deprecated and will be removed in a future version. Use ``sep='\\s+'`` instead\n",
      "  attrib = pd.read_csv(base_path + 'communities_attributes.csv', delim_whitespace = True)\n"
     ]
    },
    {
     "name": "stdout",
     "output_type": "stream",
     "text": [
      "0.1\n",
      "0.10033444816053512\n"
     ]
    },
    {
     "name": "stderr",
     "output_type": "stream",
     "text": [
      "/Users/larsvanderlaan/repos/VennCalibration/myenv2/lib/python3.13/site-packages/mapie/utils.py:620: UserWarning: WARNING: The predictions are ill-sorted.\n",
      "  warnings.warn(\n",
      "/Users/larsvanderlaan/repos/VennCalibration/myenv2/lib/python3.13/site-packages/mapie/utils.py:620: UserWarning: WARNING: The predictions are ill-sorted.\n",
      "  warnings.warn(\n",
      "/Users/larsvanderlaan/repos/VennCalibration/data_analysis/datasets/datasets.py:335: FutureWarning: The 'delim_whitespace' keyword in pd.read_csv is deprecated and will be removed in a future version. Use ``sep='\\s+'`` instead\n",
      "  attrib = pd.read_csv(base_path + 'communities_attributes.csv', delim_whitespace = True)\n"
     ]
    },
    {
     "name": "stdout",
     "output_type": "stream",
     "text": [
      "0.1\n",
      "0.10033444816053512\n"
     ]
    },
    {
     "name": "stderr",
     "output_type": "stream",
     "text": [
      "/Users/larsvanderlaan/repos/VennCalibration/myenv2/lib/python3.13/site-packages/mapie/utils.py:620: UserWarning: WARNING: The predictions are ill-sorted.\n",
      "  warnings.warn(\n",
      "/Users/larsvanderlaan/repos/VennCalibration/myenv2/lib/python3.13/site-packages/mapie/utils.py:620: UserWarning: WARNING: The predictions are ill-sorted.\n",
      "  warnings.warn(\n",
      "/Users/larsvanderlaan/repos/VennCalibration/data_analysis/datasets/datasets.py:335: FutureWarning: The 'delim_whitespace' keyword in pd.read_csv is deprecated and will be removed in a future version. Use ``sep='\\s+'`` instead\n",
      "  attrib = pd.read_csv(base_path + 'communities_attributes.csv', delim_whitespace = True)\n"
     ]
    },
    {
     "name": "stdout",
     "output_type": "stream",
     "text": [
      "0.1\n",
      "0.10033444816053512\n"
     ]
    },
    {
     "name": "stderr",
     "output_type": "stream",
     "text": [
      "/Users/larsvanderlaan/repos/VennCalibration/myenv2/lib/python3.13/site-packages/mapie/utils.py:620: UserWarning: WARNING: The predictions are ill-sorted.\n",
      "  warnings.warn(\n",
      "/Users/larsvanderlaan/repos/VennCalibration/myenv2/lib/python3.13/site-packages/mapie/utils.py:620: UserWarning: WARNING: The predictions are ill-sorted.\n",
      "  warnings.warn(\n",
      "/Users/larsvanderlaan/repos/VennCalibration/data_analysis/datasets/datasets.py:335: FutureWarning: The 'delim_whitespace' keyword in pd.read_csv is deprecated and will be removed in a future version. Use ``sep='\\s+'`` instead\n",
      "  attrib = pd.read_csv(base_path + 'communities_attributes.csv', delim_whitespace = True)\n"
     ]
    },
    {
     "name": "stdout",
     "output_type": "stream",
     "text": [
      "0.1\n",
      "0.10033444816053512\n"
     ]
    },
    {
     "name": "stderr",
     "output_type": "stream",
     "text": [
      "/Users/larsvanderlaan/repos/VennCalibration/myenv2/lib/python3.13/site-packages/mapie/utils.py:620: UserWarning: WARNING: The predictions are ill-sorted.\n",
      "  warnings.warn(\n",
      "/Users/larsvanderlaan/repos/VennCalibration/data_analysis/datasets/datasets.py:335: FutureWarning: The 'delim_whitespace' keyword in pd.read_csv is deprecated and will be removed in a future version. Use ``sep='\\s+'`` instead\n",
      "  attrib = pd.read_csv(base_path + 'communities_attributes.csv', delim_whitespace = True)\n"
     ]
    },
    {
     "name": "stdout",
     "output_type": "stream",
     "text": [
      "0.1\n",
      "0.10033444816053512\n"
     ]
    },
    {
     "name": "stderr",
     "output_type": "stream",
     "text": [
      "/Users/larsvanderlaan/repos/VennCalibration/myenv2/lib/python3.13/site-packages/mapie/utils.py:620: UserWarning: WARNING: The predictions are ill-sorted.\n",
      "  warnings.warn(\n",
      "/Users/larsvanderlaan/repos/VennCalibration/myenv2/lib/python3.13/site-packages/mapie/utils.py:620: UserWarning: WARNING: The predictions are ill-sorted.\n",
      "  warnings.warn(\n",
      "/Users/larsvanderlaan/repos/VennCalibration/data_analysis/datasets/datasets.py:335: FutureWarning: The 'delim_whitespace' keyword in pd.read_csv is deprecated and will be removed in a future version. Use ``sep='\\s+'`` instead\n",
      "  attrib = pd.read_csv(base_path + 'communities_attributes.csv', delim_whitespace = True)\n"
     ]
    },
    {
     "name": "stdout",
     "output_type": "stream",
     "text": [
      "0.1\n",
      "0.10033444816053512\n"
     ]
    },
    {
     "name": "stderr",
     "output_type": "stream",
     "text": [
      "/Users/larsvanderlaan/repos/VennCalibration/myenv2/lib/python3.13/site-packages/mapie/utils.py:620: UserWarning: WARNING: The predictions are ill-sorted.\n",
      "  warnings.warn(\n",
      "/Users/larsvanderlaan/repos/VennCalibration/myenv2/lib/python3.13/site-packages/mapie/utils.py:620: UserWarning: WARNING: The predictions are ill-sorted.\n",
      "  warnings.warn(\n",
      "/Users/larsvanderlaan/repos/VennCalibration/data_analysis/datasets/datasets.py:335: FutureWarning: The 'delim_whitespace' keyword in pd.read_csv is deprecated and will be removed in a future version. Use ``sep='\\s+'`` instead\n",
      "  attrib = pd.read_csv(base_path + 'communities_attributes.csv', delim_whitespace = True)\n"
     ]
    },
    {
     "name": "stdout",
     "output_type": "stream",
     "text": [
      "0.1\n",
      "0.10033444816053512\n"
     ]
    },
    {
     "name": "stderr",
     "output_type": "stream",
     "text": [
      "/Users/larsvanderlaan/repos/VennCalibration/myenv2/lib/python3.13/site-packages/mapie/utils.py:620: UserWarning: WARNING: The predictions are ill-sorted.\n",
      "  warnings.warn(\n",
      "/Users/larsvanderlaan/repos/VennCalibration/data_analysis/datasets/datasets.py:335: FutureWarning: The 'delim_whitespace' keyword in pd.read_csv is deprecated and will be removed in a future version. Use ``sep='\\s+'`` instead\n",
      "  attrib = pd.read_csv(base_path + 'communities_attributes.csv', delim_whitespace = True)\n"
     ]
    },
    {
     "name": "stdout",
     "output_type": "stream",
     "text": [
      "0.1\n",
      "0.10033444816053512\n"
     ]
    },
    {
     "name": "stderr",
     "output_type": "stream",
     "text": [
      "/Users/larsvanderlaan/repos/VennCalibration/myenv2/lib/python3.13/site-packages/mapie/utils.py:620: UserWarning: WARNING: The predictions are ill-sorted.\n",
      "  warnings.warn(\n",
      "/Users/larsvanderlaan/repos/VennCalibration/myenv2/lib/python3.13/site-packages/mapie/utils.py:620: UserWarning: WARNING: The predictions are ill-sorted.\n",
      "  warnings.warn(\n",
      "/Users/larsvanderlaan/repos/VennCalibration/data_analysis/datasets/datasets.py:335: FutureWarning: The 'delim_whitespace' keyword in pd.read_csv is deprecated and will be removed in a future version. Use ``sep='\\s+'`` instead\n",
      "  attrib = pd.read_csv(base_path + 'communities_attributes.csv', delim_whitespace = True)\n"
     ]
    },
    {
     "name": "stdout",
     "output_type": "stream",
     "text": [
      "0.1\n",
      "0.10033444816053512\n"
     ]
    },
    {
     "name": "stderr",
     "output_type": "stream",
     "text": [
      "/Users/larsvanderlaan/repos/VennCalibration/myenv2/lib/python3.13/site-packages/mapie/utils.py:620: UserWarning: WARNING: The predictions are ill-sorted.\n",
      "  warnings.warn(\n",
      "/Users/larsvanderlaan/repos/VennCalibration/data_analysis/datasets/datasets.py:335: FutureWarning: The 'delim_whitespace' keyword in pd.read_csv is deprecated and will be removed in a future version. Use ``sep='\\s+'`` instead\n",
      "  attrib = pd.read_csv(base_path + 'communities_attributes.csv', delim_whitespace = True)\n"
     ]
    },
    {
     "name": "stdout",
     "output_type": "stream",
     "text": [
      "0.1\n",
      "0.10033444816053512\n"
     ]
    },
    {
     "name": "stderr",
     "output_type": "stream",
     "text": [
      "/Users/larsvanderlaan/repos/VennCalibration/myenv2/lib/python3.13/site-packages/mapie/utils.py:620: UserWarning: WARNING: The predictions are ill-sorted.\n",
      "  warnings.warn(\n",
      "/Users/larsvanderlaan/repos/VennCalibration/data_analysis/datasets/datasets.py:335: FutureWarning: The 'delim_whitespace' keyword in pd.read_csv is deprecated and will be removed in a future version. Use ``sep='\\s+'`` instead\n",
      "  attrib = pd.read_csv(base_path + 'communities_attributes.csv', delim_whitespace = True)\n"
     ]
    },
    {
     "name": "stdout",
     "output_type": "stream",
     "text": [
      "0.1\n",
      "0.10033444816053512\n"
     ]
    },
    {
     "name": "stderr",
     "output_type": "stream",
     "text": [
      "/Users/larsvanderlaan/repos/VennCalibration/myenv2/lib/python3.13/site-packages/mapie/utils.py:620: UserWarning: WARNING: The predictions are ill-sorted.\n",
      "  warnings.warn(\n",
      "/Users/larsvanderlaan/repos/VennCalibration/data_analysis/datasets/datasets.py:335: FutureWarning: The 'delim_whitespace' keyword in pd.read_csv is deprecated and will be removed in a future version. Use ``sep='\\s+'`` instead\n",
      "  attrib = pd.read_csv(base_path + 'communities_attributes.csv', delim_whitespace = True)\n"
     ]
    },
    {
     "name": "stdout",
     "output_type": "stream",
     "text": [
      "0.1\n",
      "0.10033444816053512\n"
     ]
    },
    {
     "name": "stderr",
     "output_type": "stream",
     "text": [
      "/Users/larsvanderlaan/repos/VennCalibration/myenv2/lib/python3.13/site-packages/mapie/utils.py:620: UserWarning: WARNING: The predictions are ill-sorted.\n",
      "  warnings.warn(\n",
      "/Users/larsvanderlaan/repos/VennCalibration/myenv2/lib/python3.13/site-packages/mapie/utils.py:620: UserWarning: WARNING: The predictions are ill-sorted.\n",
      "  warnings.warn(\n",
      "/Users/larsvanderlaan/repos/VennCalibration/data_analysis/datasets/datasets.py:335: FutureWarning: The 'delim_whitespace' keyword in pd.read_csv is deprecated and will be removed in a future version. Use ``sep='\\s+'`` instead\n",
      "  attrib = pd.read_csv(base_path + 'communities_attributes.csv', delim_whitespace = True)\n"
     ]
    },
    {
     "name": "stdout",
     "output_type": "stream",
     "text": [
      "0.1\n",
      "0.10033444816053512\n"
     ]
    },
    {
     "name": "stderr",
     "output_type": "stream",
     "text": [
      "/Users/larsvanderlaan/repos/VennCalibration/myenv2/lib/python3.13/site-packages/mapie/utils.py:620: UserWarning: WARNING: The predictions are ill-sorted.\n",
      "  warnings.warn(\n",
      "/Users/larsvanderlaan/repos/VennCalibration/data_analysis/datasets/datasets.py:335: FutureWarning: The 'delim_whitespace' keyword in pd.read_csv is deprecated and will be removed in a future version. Use ``sep='\\s+'`` instead\n",
      "  attrib = pd.read_csv(base_path + 'communities_attributes.csv', delim_whitespace = True)\n"
     ]
    },
    {
     "name": "stdout",
     "output_type": "stream",
     "text": [
      "0.1\n",
      "0.10033444816053512\n"
     ]
    },
    {
     "name": "stderr",
     "output_type": "stream",
     "text": [
      "/Users/larsvanderlaan/repos/VennCalibration/myenv2/lib/python3.13/site-packages/mapie/utils.py:620: UserWarning: WARNING: The predictions are ill-sorted.\n",
      "  warnings.warn(\n",
      "/Users/larsvanderlaan/repos/VennCalibration/myenv2/lib/python3.13/site-packages/mapie/utils.py:620: UserWarning: WARNING: The predictions are ill-sorted.\n",
      "  warnings.warn(\n",
      "/Users/larsvanderlaan/repos/VennCalibration/data_analysis/datasets/datasets.py:335: FutureWarning: The 'delim_whitespace' keyword in pd.read_csv is deprecated and will be removed in a future version. Use ``sep='\\s+'`` instead\n",
      "  attrib = pd.read_csv(base_path + 'communities_attributes.csv', delim_whitespace = True)\n"
     ]
    },
    {
     "name": "stdout",
     "output_type": "stream",
     "text": [
      "0.1\n",
      "0.10033444816053512\n"
     ]
    },
    {
     "name": "stderr",
     "output_type": "stream",
     "text": [
      "/Users/larsvanderlaan/repos/VennCalibration/myenv2/lib/python3.13/site-packages/mapie/utils.py:620: UserWarning: WARNING: The predictions are ill-sorted.\n",
      "  warnings.warn(\n",
      "/Users/larsvanderlaan/repos/VennCalibration/data_analysis/datasets/datasets.py:335: FutureWarning: The 'delim_whitespace' keyword in pd.read_csv is deprecated and will be removed in a future version. Use ``sep='\\s+'`` instead\n",
      "  attrib = pd.read_csv(base_path + 'communities_attributes.csv', delim_whitespace = True)\n"
     ]
    },
    {
     "name": "stdout",
     "output_type": "stream",
     "text": [
      "0.1\n",
      "0.10033444816053512\n"
     ]
    },
    {
     "name": "stderr",
     "output_type": "stream",
     "text": [
      "/Users/larsvanderlaan/repos/VennCalibration/myenv2/lib/python3.13/site-packages/mapie/utils.py:620: UserWarning: WARNING: The predictions are ill-sorted.\n",
      "  warnings.warn(\n",
      "/Users/larsvanderlaan/repos/VennCalibration/data_analysis/datasets/datasets.py:335: FutureWarning: The 'delim_whitespace' keyword in pd.read_csv is deprecated and will be removed in a future version. Use ``sep='\\s+'`` instead\n",
      "  attrib = pd.read_csv(base_path + 'communities_attributes.csv', delim_whitespace = True)\n"
     ]
    },
    {
     "name": "stdout",
     "output_type": "stream",
     "text": [
      "0.1\n",
      "0.10033444816053512\n"
     ]
    },
    {
     "name": "stderr",
     "output_type": "stream",
     "text": [
      "/Users/larsvanderlaan/repos/VennCalibration/myenv2/lib/python3.13/site-packages/mapie/utils.py:620: UserWarning: WARNING: The predictions are ill-sorted.\n",
      "  warnings.warn(\n",
      "/Users/larsvanderlaan/repos/VennCalibration/data_analysis/datasets/datasets.py:335: FutureWarning: The 'delim_whitespace' keyword in pd.read_csv is deprecated and will be removed in a future version. Use ``sep='\\s+'`` instead\n",
      "  attrib = pd.read_csv(base_path + 'communities_attributes.csv', delim_whitespace = True)\n"
     ]
    },
    {
     "name": "stdout",
     "output_type": "stream",
     "text": [
      "0.1\n",
      "0.10033444816053512\n"
     ]
    },
    {
     "name": "stderr",
     "output_type": "stream",
     "text": [
      "/Users/larsvanderlaan/repos/VennCalibration/myenv2/lib/python3.13/site-packages/mapie/utils.py:620: UserWarning: WARNING: The predictions are ill-sorted.\n",
      "  warnings.warn(\n",
      "/Users/larsvanderlaan/repos/VennCalibration/data_analysis/datasets/datasets.py:335: FutureWarning: The 'delim_whitespace' keyword in pd.read_csv is deprecated and will be removed in a future version. Use ``sep='\\s+'`` instead\n",
      "  attrib = pd.read_csv(base_path + 'communities_attributes.csv', delim_whitespace = True)\n"
     ]
    },
    {
     "name": "stdout",
     "output_type": "stream",
     "text": [
      "0.1\n",
      "0.10033444816053512\n"
     ]
    },
    {
     "name": "stderr",
     "output_type": "stream",
     "text": [
      "/Users/larsvanderlaan/repos/VennCalibration/myenv2/lib/python3.13/site-packages/mapie/utils.py:620: UserWarning: WARNING: The predictions are ill-sorted.\n",
      "  warnings.warn(\n",
      "/Users/larsvanderlaan/repos/VennCalibration/myenv2/lib/python3.13/site-packages/mapie/utils.py:620: UserWarning: WARNING: The predictions are ill-sorted.\n",
      "  warnings.warn(\n",
      "/Users/larsvanderlaan/repos/VennCalibration/data_analysis/datasets/datasets.py:335: FutureWarning: The 'delim_whitespace' keyword in pd.read_csv is deprecated and will be removed in a future version. Use ``sep='\\s+'`` instead\n",
      "  attrib = pd.read_csv(base_path + 'communities_attributes.csv', delim_whitespace = True)\n"
     ]
    },
    {
     "name": "stdout",
     "output_type": "stream",
     "text": [
      "0.1\n",
      "0.10033444816053512\n"
     ]
    },
    {
     "name": "stderr",
     "output_type": "stream",
     "text": [
      "/Users/larsvanderlaan/repos/VennCalibration/myenv2/lib/python3.13/site-packages/mapie/utils.py:620: UserWarning: WARNING: The predictions are ill-sorted.\n",
      "  warnings.warn(\n",
      "/Users/larsvanderlaan/repos/VennCalibration/data_analysis/datasets/datasets.py:335: FutureWarning: The 'delim_whitespace' keyword in pd.read_csv is deprecated and will be removed in a future version. Use ``sep='\\s+'`` instead\n",
      "  attrib = pd.read_csv(base_path + 'communities_attributes.csv', delim_whitespace = True)\n"
     ]
    },
    {
     "name": "stdout",
     "output_type": "stream",
     "text": [
      "0.1\n",
      "0.10033444816053512\n"
     ]
    },
    {
     "name": "stderr",
     "output_type": "stream",
     "text": [
      "/Users/larsvanderlaan/repos/VennCalibration/myenv2/lib/python3.13/site-packages/mapie/utils.py:620: UserWarning: WARNING: The predictions are ill-sorted.\n",
      "  warnings.warn(\n",
      "/Users/larsvanderlaan/repos/VennCalibration/data_analysis/datasets/datasets.py:335: FutureWarning: The 'delim_whitespace' keyword in pd.read_csv is deprecated and will be removed in a future version. Use ``sep='\\s+'`` instead\n",
      "  attrib = pd.read_csv(base_path + 'communities_attributes.csv', delim_whitespace = True)\n"
     ]
    },
    {
     "name": "stdout",
     "output_type": "stream",
     "text": [
      "0.1\n",
      "0.10033444816053512\n"
     ]
    },
    {
     "name": "stderr",
     "output_type": "stream",
     "text": [
      "/Users/larsvanderlaan/repos/VennCalibration/myenv2/lib/python3.13/site-packages/mapie/utils.py:620: UserWarning: WARNING: The predictions are ill-sorted.\n",
      "  warnings.warn(\n",
      "/Users/larsvanderlaan/repos/VennCalibration/data_analysis/datasets/datasets.py:335: FutureWarning: The 'delim_whitespace' keyword in pd.read_csv is deprecated and will be removed in a future version. Use ``sep='\\s+'`` instead\n",
      "  attrib = pd.read_csv(base_path + 'communities_attributes.csv', delim_whitespace = True)\n"
     ]
    },
    {
     "name": "stdout",
     "output_type": "stream",
     "text": [
      "0.1\n",
      "0.10033444816053512\n"
     ]
    },
    {
     "name": "stderr",
     "output_type": "stream",
     "text": [
      "/Users/larsvanderlaan/repos/VennCalibration/myenv2/lib/python3.13/site-packages/mapie/utils.py:620: UserWarning: WARNING: The predictions are ill-sorted.\n",
      "  warnings.warn(\n",
      "/Users/larsvanderlaan/repos/VennCalibration/myenv2/lib/python3.13/site-packages/mapie/utils.py:620: UserWarning: WARNING: The predictions are ill-sorted.\n",
      "  warnings.warn(\n",
      "/Users/larsvanderlaan/repos/VennCalibration/data_analysis/datasets/datasets.py:335: FutureWarning: The 'delim_whitespace' keyword in pd.read_csv is deprecated and will be removed in a future version. Use ``sep='\\s+'`` instead\n",
      "  attrib = pd.read_csv(base_path + 'communities_attributes.csv', delim_whitespace = True)\n"
     ]
    },
    {
     "name": "stdout",
     "output_type": "stream",
     "text": [
      "0.1\n",
      "0.10033444816053512\n"
     ]
    },
    {
     "name": "stderr",
     "output_type": "stream",
     "text": [
      "/Users/larsvanderlaan/repos/VennCalibration/myenv2/lib/python3.13/site-packages/mapie/utils.py:620: UserWarning: WARNING: The predictions are ill-sorted.\n",
      "  warnings.warn(\n",
      "/Users/larsvanderlaan/repos/VennCalibration/myenv2/lib/python3.13/site-packages/mapie/utils.py:620: UserWarning: WARNING: The predictions are ill-sorted.\n",
      "  warnings.warn(\n",
      "/Users/larsvanderlaan/repos/VennCalibration/data_analysis/datasets/datasets.py:335: FutureWarning: The 'delim_whitespace' keyword in pd.read_csv is deprecated and will be removed in a future version. Use ``sep='\\s+'`` instead\n",
      "  attrib = pd.read_csv(base_path + 'communities_attributes.csv', delim_whitespace = True)\n"
     ]
    },
    {
     "name": "stdout",
     "output_type": "stream",
     "text": [
      "0.1\n",
      "0.10033444816053512\n"
     ]
    },
    {
     "name": "stderr",
     "output_type": "stream",
     "text": [
      "/Users/larsvanderlaan/repos/VennCalibration/myenv2/lib/python3.13/site-packages/mapie/utils.py:620: UserWarning: WARNING: The predictions are ill-sorted.\n",
      "  warnings.warn(\n",
      "/Users/larsvanderlaan/repos/VennCalibration/data_analysis/datasets/datasets.py:335: FutureWarning: The 'delim_whitespace' keyword in pd.read_csv is deprecated and will be removed in a future version. Use ``sep='\\s+'`` instead\n",
      "  attrib = pd.read_csv(base_path + 'communities_attributes.csv', delim_whitespace = True)\n"
     ]
    },
    {
     "name": "stdout",
     "output_type": "stream",
     "text": [
      "0.1\n",
      "0.10033444816053512\n"
     ]
    },
    {
     "name": "stderr",
     "output_type": "stream",
     "text": [
      "/Users/larsvanderlaan/repos/VennCalibration/myenv2/lib/python3.13/site-packages/mapie/utils.py:620: UserWarning: WARNING: The predictions are ill-sorted.\n",
      "  warnings.warn(\n",
      "/Users/larsvanderlaan/repos/VennCalibration/myenv2/lib/python3.13/site-packages/mapie/utils.py:620: UserWarning: WARNING: The predictions are ill-sorted.\n",
      "  warnings.warn(\n",
      "/Users/larsvanderlaan/repos/VennCalibration/data_analysis/datasets/datasets.py:335: FutureWarning: The 'delim_whitespace' keyword in pd.read_csv is deprecated and will be removed in a future version. Use ``sep='\\s+'`` instead\n",
      "  attrib = pd.read_csv(base_path + 'communities_attributes.csv', delim_whitespace = True)\n"
     ]
    },
    {
     "name": "stdout",
     "output_type": "stream",
     "text": [
      "0.1\n",
      "0.10033444816053512\n"
     ]
    },
    {
     "name": "stderr",
     "output_type": "stream",
     "text": [
      "/Users/larsvanderlaan/repos/VennCalibration/myenv2/lib/python3.13/site-packages/mapie/utils.py:620: UserWarning: WARNING: The predictions are ill-sorted.\n",
      "  warnings.warn(\n",
      "/Users/larsvanderlaan/repos/VennCalibration/myenv2/lib/python3.13/site-packages/mapie/utils.py:620: UserWarning: WARNING: The predictions are ill-sorted.\n",
      "  warnings.warn(\n",
      "/Users/larsvanderlaan/repos/VennCalibration/data_analysis/datasets/datasets.py:335: FutureWarning: The 'delim_whitespace' keyword in pd.read_csv is deprecated and will be removed in a future version. Use ``sep='\\s+'`` instead\n",
      "  attrib = pd.read_csv(base_path + 'communities_attributes.csv', delim_whitespace = True)\n"
     ]
    },
    {
     "name": "stdout",
     "output_type": "stream",
     "text": [
      "0.1\n",
      "0.10033444816053512\n"
     ]
    },
    {
     "name": "stderr",
     "output_type": "stream",
     "text": [
      "/Users/larsvanderlaan/repos/VennCalibration/myenv2/lib/python3.13/site-packages/mapie/utils.py:620: UserWarning: WARNING: The predictions are ill-sorted.\n",
      "  warnings.warn(\n",
      "/Users/larsvanderlaan/repos/VennCalibration/data_analysis/datasets/datasets.py:335: FutureWarning: The 'delim_whitespace' keyword in pd.read_csv is deprecated and will be removed in a future version. Use ``sep='\\s+'`` instead\n",
      "  attrib = pd.read_csv(base_path + 'communities_attributes.csv', delim_whitespace = True)\n"
     ]
    },
    {
     "name": "stdout",
     "output_type": "stream",
     "text": [
      "0.1\n",
      "0.10033444816053512\n"
     ]
    },
    {
     "name": "stderr",
     "output_type": "stream",
     "text": [
      "/Users/larsvanderlaan/repos/VennCalibration/myenv2/lib/python3.13/site-packages/mapie/utils.py:620: UserWarning: WARNING: The predictions are ill-sorted.\n",
      "  warnings.warn(\n",
      "/Users/larsvanderlaan/repos/VennCalibration/myenv2/lib/python3.13/site-packages/mapie/utils.py:620: UserWarning: WARNING: The predictions are ill-sorted.\n",
      "  warnings.warn(\n",
      "/Users/larsvanderlaan/repos/VennCalibration/data_analysis/datasets/datasets.py:335: FutureWarning: The 'delim_whitespace' keyword in pd.read_csv is deprecated and will be removed in a future version. Use ``sep='\\s+'`` instead\n",
      "  attrib = pd.read_csv(base_path + 'communities_attributes.csv', delim_whitespace = True)\n"
     ]
    },
    {
     "name": "stdout",
     "output_type": "stream",
     "text": [
      "0.1\n",
      "0.10033444816053512\n"
     ]
    },
    {
     "name": "stderr",
     "output_type": "stream",
     "text": [
      "/Users/larsvanderlaan/repos/VennCalibration/myenv2/lib/python3.13/site-packages/mapie/utils.py:620: UserWarning: WARNING: The predictions are ill-sorted.\n",
      "  warnings.warn(\n",
      "/Users/larsvanderlaan/repos/VennCalibration/data_analysis/datasets/datasets.py:335: FutureWarning: The 'delim_whitespace' keyword in pd.read_csv is deprecated and will be removed in a future version. Use ``sep='\\s+'`` instead\n",
      "  attrib = pd.read_csv(base_path + 'communities_attributes.csv', delim_whitespace = True)\n"
     ]
    },
    {
     "name": "stdout",
     "output_type": "stream",
     "text": [
      "0.1\n",
      "0.10033444816053512\n"
     ]
    },
    {
     "name": "stderr",
     "output_type": "stream",
     "text": [
      "/Users/larsvanderlaan/repos/VennCalibration/myenv2/lib/python3.13/site-packages/mapie/utils.py:620: UserWarning: WARNING: The predictions are ill-sorted.\n",
      "  warnings.warn(\n",
      "/Users/larsvanderlaan/repos/VennCalibration/data_analysis/datasets/datasets.py:335: FutureWarning: The 'delim_whitespace' keyword in pd.read_csv is deprecated and will be removed in a future version. Use ``sep='\\s+'`` instead\n",
      "  attrib = pd.read_csv(base_path + 'communities_attributes.csv', delim_whitespace = True)\n"
     ]
    },
    {
     "name": "stdout",
     "output_type": "stream",
     "text": [
      "0.1\n",
      "0.10033444816053512\n"
     ]
    },
    {
     "name": "stderr",
     "output_type": "stream",
     "text": [
      "/Users/larsvanderlaan/repos/VennCalibration/myenv2/lib/python3.13/site-packages/mapie/utils.py:620: UserWarning: WARNING: The predictions are ill-sorted.\n",
      "  warnings.warn(\n",
      "/Users/larsvanderlaan/repos/VennCalibration/data_analysis/datasets/datasets.py:335: FutureWarning: The 'delim_whitespace' keyword in pd.read_csv is deprecated and will be removed in a future version. Use ``sep='\\s+'`` instead\n",
      "  attrib = pd.read_csv(base_path + 'communities_attributes.csv', delim_whitespace = True)\n"
     ]
    },
    {
     "name": "stdout",
     "output_type": "stream",
     "text": [
      "0.1\n",
      "0.10033444816053512\n"
     ]
    },
    {
     "name": "stderr",
     "output_type": "stream",
     "text": [
      "/Users/larsvanderlaan/repos/VennCalibration/myenv2/lib/python3.13/site-packages/mapie/utils.py:620: UserWarning: WARNING: The predictions are ill-sorted.\n",
      "  warnings.warn(\n",
      "/Users/larsvanderlaan/repos/VennCalibration/myenv2/lib/python3.13/site-packages/mapie/utils.py:620: UserWarning: WARNING: The predictions are ill-sorted.\n",
      "  warnings.warn(\n",
      "/Users/larsvanderlaan/repos/VennCalibration/data_analysis/datasets/datasets.py:335: FutureWarning: The 'delim_whitespace' keyword in pd.read_csv is deprecated and will be removed in a future version. Use ``sep='\\s+'`` instead\n",
      "  attrib = pd.read_csv(base_path + 'communities_attributes.csv', delim_whitespace = True)\n"
     ]
    },
    {
     "name": "stdout",
     "output_type": "stream",
     "text": [
      "0.1\n",
      "0.10033444816053512\n"
     ]
    },
    {
     "name": "stderr",
     "output_type": "stream",
     "text": [
      "/Users/larsvanderlaan/repos/VennCalibration/myenv2/lib/python3.13/site-packages/mapie/utils.py:620: UserWarning: WARNING: The predictions are ill-sorted.\n",
      "  warnings.warn(\n",
      "/Users/larsvanderlaan/repos/VennCalibration/data_analysis/datasets/datasets.py:335: FutureWarning: The 'delim_whitespace' keyword in pd.read_csv is deprecated and will be removed in a future version. Use ``sep='\\s+'`` instead\n",
      "  attrib = pd.read_csv(base_path + 'communities_attributes.csv', delim_whitespace = True)\n"
     ]
    },
    {
     "name": "stdout",
     "output_type": "stream",
     "text": [
      "0.1\n",
      "0.10033444816053512\n"
     ]
    },
    {
     "name": "stderr",
     "output_type": "stream",
     "text": [
      "/Users/larsvanderlaan/repos/VennCalibration/myenv2/lib/python3.13/site-packages/mapie/utils.py:620: UserWarning: WARNING: The predictions are ill-sorted.\n",
      "  warnings.warn(\n",
      "/Users/larsvanderlaan/repos/VennCalibration/myenv2/lib/python3.13/site-packages/mapie/utils.py:620: UserWarning: WARNING: The predictions are ill-sorted.\n",
      "  warnings.warn(\n",
      "/Users/larsvanderlaan/repos/VennCalibration/data_analysis/datasets/datasets.py:335: FutureWarning: The 'delim_whitespace' keyword in pd.read_csv is deprecated and will be removed in a future version. Use ``sep='\\s+'`` instead\n",
      "  attrib = pd.read_csv(base_path + 'communities_attributes.csv', delim_whitespace = True)\n"
     ]
    },
    {
     "name": "stdout",
     "output_type": "stream",
     "text": [
      "0.1\n",
      "0.10033444816053512\n"
     ]
    },
    {
     "name": "stderr",
     "output_type": "stream",
     "text": [
      "/Users/larsvanderlaan/repos/VennCalibration/myenv2/lib/python3.13/site-packages/mapie/utils.py:620: UserWarning: WARNING: The predictions are ill-sorted.\n",
      "  warnings.warn(\n",
      "/Users/larsvanderlaan/repos/VennCalibration/myenv2/lib/python3.13/site-packages/mapie/utils.py:620: UserWarning: WARNING: The predictions are ill-sorted.\n",
      "  warnings.warn(\n",
      "/Users/larsvanderlaan/repos/VennCalibration/data_analysis/datasets/datasets.py:335: FutureWarning: The 'delim_whitespace' keyword in pd.read_csv is deprecated and will be removed in a future version. Use ``sep='\\s+'`` instead\n",
      "  attrib = pd.read_csv(base_path + 'communities_attributes.csv', delim_whitespace = True)\n"
     ]
    },
    {
     "name": "stdout",
     "output_type": "stream",
     "text": [
      "0.1\n",
      "0.10033444816053512\n"
     ]
    },
    {
     "name": "stderr",
     "output_type": "stream",
     "text": [
      "/Users/larsvanderlaan/repos/VennCalibration/myenv2/lib/python3.13/site-packages/mapie/utils.py:620: UserWarning: WARNING: The predictions are ill-sorted.\n",
      "  warnings.warn(\n",
      "/Users/larsvanderlaan/repos/VennCalibration/myenv2/lib/python3.13/site-packages/mapie/utils.py:620: UserWarning: WARNING: The predictions are ill-sorted.\n",
      "  warnings.warn(\n",
      "/Users/larsvanderlaan/repos/VennCalibration/data_analysis/datasets/datasets.py:335: FutureWarning: The 'delim_whitespace' keyword in pd.read_csv is deprecated and will be removed in a future version. Use ``sep='\\s+'`` instead\n",
      "  attrib = pd.read_csv(base_path + 'communities_attributes.csv', delim_whitespace = True)\n"
     ]
    },
    {
     "name": "stdout",
     "output_type": "stream",
     "text": [
      "0.1\n",
      "0.10033444816053512\n"
     ]
    },
    {
     "name": "stderr",
     "output_type": "stream",
     "text": [
      "/Users/larsvanderlaan/repos/VennCalibration/myenv2/lib/python3.13/site-packages/mapie/utils.py:620: UserWarning: WARNING: The predictions are ill-sorted.\n",
      "  warnings.warn(\n",
      "/Users/larsvanderlaan/repos/VennCalibration/data_analysis/datasets/datasets.py:335: FutureWarning: The 'delim_whitespace' keyword in pd.read_csv is deprecated and will be removed in a future version. Use ``sep='\\s+'`` instead\n",
      "  attrib = pd.read_csv(base_path + 'communities_attributes.csv', delim_whitespace = True)\n"
     ]
    },
    {
     "name": "stdout",
     "output_type": "stream",
     "text": [
      "0.1\n",
      "0.10033444816053512\n"
     ]
    },
    {
     "name": "stderr",
     "output_type": "stream",
     "text": [
      "/Users/larsvanderlaan/repos/VennCalibration/myenv2/lib/python3.13/site-packages/mapie/utils.py:620: UserWarning: WARNING: The predictions are ill-sorted.\n",
      "  warnings.warn(\n",
      "/Users/larsvanderlaan/repos/VennCalibration/myenv2/lib/python3.13/site-packages/mapie/utils.py:620: UserWarning: WARNING: The predictions are ill-sorted.\n",
      "  warnings.warn(\n",
      "/Users/larsvanderlaan/repos/VennCalibration/data_analysis/datasets/datasets.py:335: FutureWarning: The 'delim_whitespace' keyword in pd.read_csv is deprecated and will be removed in a future version. Use ``sep='\\s+'`` instead\n",
      "  attrib = pd.read_csv(base_path + 'communities_attributes.csv', delim_whitespace = True)\n"
     ]
    },
    {
     "name": "stdout",
     "output_type": "stream",
     "text": [
      "0.1\n",
      "0.10033444816053512\n"
     ]
    },
    {
     "name": "stderr",
     "output_type": "stream",
     "text": [
      "/Users/larsvanderlaan/repos/VennCalibration/myenv2/lib/python3.13/site-packages/mapie/utils.py:620: UserWarning: WARNING: The predictions are ill-sorted.\n",
      "  warnings.warn(\n",
      "/Users/larsvanderlaan/repos/VennCalibration/data_analysis/datasets/datasets.py:335: FutureWarning: The 'delim_whitespace' keyword in pd.read_csv is deprecated and will be removed in a future version. Use ``sep='\\s+'`` instead\n",
      "  attrib = pd.read_csv(base_path + 'communities_attributes.csv', delim_whitespace = True)\n"
     ]
    },
    {
     "name": "stdout",
     "output_type": "stream",
     "text": [
      "0.1\n",
      "0.10033444816053512\n"
     ]
    },
    {
     "name": "stderr",
     "output_type": "stream",
     "text": [
      "/Users/larsvanderlaan/repos/VennCalibration/myenv2/lib/python3.13/site-packages/mapie/utils.py:620: UserWarning: WARNING: The predictions are ill-sorted.\n",
      "  warnings.warn(\n",
      "/Users/larsvanderlaan/repos/VennCalibration/data_analysis/datasets/datasets.py:335: FutureWarning: The 'delim_whitespace' keyword in pd.read_csv is deprecated and will be removed in a future version. Use ``sep='\\s+'`` instead\n",
      "  attrib = pd.read_csv(base_path + 'communities_attributes.csv', delim_whitespace = True)\n"
     ]
    },
    {
     "name": "stdout",
     "output_type": "stream",
     "text": [
      "0.1\n",
      "0.10033444816053512\n"
     ]
    },
    {
     "name": "stderr",
     "output_type": "stream",
     "text": [
      "/Users/larsvanderlaan/repos/VennCalibration/myenv2/lib/python3.13/site-packages/mapie/utils.py:620: UserWarning: WARNING: The predictions are ill-sorted.\n",
      "  warnings.warn(\n",
      "/Users/larsvanderlaan/repos/VennCalibration/myenv2/lib/python3.13/site-packages/mapie/utils.py:620: UserWarning: WARNING: The predictions are ill-sorted.\n",
      "  warnings.warn(\n",
      "/Users/larsvanderlaan/repos/VennCalibration/data_analysis/datasets/datasets.py:335: FutureWarning: The 'delim_whitespace' keyword in pd.read_csv is deprecated and will be removed in a future version. Use ``sep='\\s+'`` instead\n",
      "  attrib = pd.read_csv(base_path + 'communities_attributes.csv', delim_whitespace = True)\n"
     ]
    },
    {
     "name": "stdout",
     "output_type": "stream",
     "text": [
      "0.1\n",
      "0.10033444816053512\n"
     ]
    },
    {
     "name": "stderr",
     "output_type": "stream",
     "text": [
      "/Users/larsvanderlaan/repos/VennCalibration/myenv2/lib/python3.13/site-packages/mapie/utils.py:620: UserWarning: WARNING: The predictions are ill-sorted.\n",
      "  warnings.warn(\n",
      "/Users/larsvanderlaan/repos/VennCalibration/data_analysis/datasets/datasets.py:335: FutureWarning: The 'delim_whitespace' keyword in pd.read_csv is deprecated and will be removed in a future version. Use ``sep='\\s+'`` instead\n",
      "  attrib = pd.read_csv(base_path + 'communities_attributes.csv', delim_whitespace = True)\n"
     ]
    },
    {
     "name": "stdout",
     "output_type": "stream",
     "text": [
      "0.1\n",
      "0.10033444816053512\n"
     ]
    },
    {
     "name": "stderr",
     "output_type": "stream",
     "text": [
      "/Users/larsvanderlaan/repos/VennCalibration/data_analysis/datasets/datasets.py:335: FutureWarning: The 'delim_whitespace' keyword in pd.read_csv is deprecated and will be removed in a future version. Use ``sep='\\s+'`` instead\n",
      "  attrib = pd.read_csv(base_path + 'communities_attributes.csv', delim_whitespace = True)\n"
     ]
    },
    {
     "name": "stdout",
     "output_type": "stream",
     "text": [
      "0.1\n",
      "0.10033444816053512\n"
     ]
    },
    {
     "name": "stderr",
     "output_type": "stream",
     "text": [
      "/Users/larsvanderlaan/repos/VennCalibration/myenv2/lib/python3.13/site-packages/mapie/utils.py:620: UserWarning: WARNING: The predictions are ill-sorted.\n",
      "  warnings.warn(\n",
      "/Users/larsvanderlaan/repos/VennCalibration/data_analysis/datasets/datasets.py:335: FutureWarning: The 'delim_whitespace' keyword in pd.read_csv is deprecated and will be removed in a future version. Use ``sep='\\s+'`` instead\n",
      "  attrib = pd.read_csv(base_path + 'communities_attributes.csv', delim_whitespace = True)\n"
     ]
    },
    {
     "name": "stdout",
     "output_type": "stream",
     "text": [
      "0.1\n",
      "0.10033444816053512\n"
     ]
    },
    {
     "name": "stderr",
     "output_type": "stream",
     "text": [
      "/Users/larsvanderlaan/repos/VennCalibration/myenv2/lib/python3.13/site-packages/mapie/utils.py:620: UserWarning: WARNING: The predictions are ill-sorted.\n",
      "  warnings.warn(\n",
      "/Users/larsvanderlaan/repos/VennCalibration/data_analysis/datasets/datasets.py:335: FutureWarning: The 'delim_whitespace' keyword in pd.read_csv is deprecated and will be removed in a future version. Use ``sep='\\s+'`` instead\n",
      "  attrib = pd.read_csv(base_path + 'communities_attributes.csv', delim_whitespace = True)\n"
     ]
    },
    {
     "name": "stdout",
     "output_type": "stream",
     "text": [
      "0.1\n",
      "0.10033444816053512\n"
     ]
    },
    {
     "name": "stderr",
     "output_type": "stream",
     "text": [
      "/Users/larsvanderlaan/repos/VennCalibration/myenv2/lib/python3.13/site-packages/mapie/utils.py:620: UserWarning: WARNING: The predictions are ill-sorted.\n",
      "  warnings.warn(\n",
      "/Users/larsvanderlaan/repos/VennCalibration/myenv2/lib/python3.13/site-packages/mapie/utils.py:620: UserWarning: WARNING: The predictions are ill-sorted.\n",
      "  warnings.warn(\n",
      "/Users/larsvanderlaan/repos/VennCalibration/data_analysis/datasets/datasets.py:335: FutureWarning: The 'delim_whitespace' keyword in pd.read_csv is deprecated and will be removed in a future version. Use ``sep='\\s+'`` instead\n",
      "  attrib = pd.read_csv(base_path + 'communities_attributes.csv', delim_whitespace = True)\n"
     ]
    },
    {
     "name": "stdout",
     "output_type": "stream",
     "text": [
      "0.1\n",
      "0.10033444816053512\n"
     ]
    },
    {
     "name": "stderr",
     "output_type": "stream",
     "text": [
      "/Users/larsvanderlaan/repos/VennCalibration/myenv2/lib/python3.13/site-packages/mapie/utils.py:620: UserWarning: WARNING: The predictions are ill-sorted.\n",
      "  warnings.warn(\n",
      "/Users/larsvanderlaan/repos/VennCalibration/myenv2/lib/python3.13/site-packages/mapie/utils.py:620: UserWarning: WARNING: The predictions are ill-sorted.\n",
      "  warnings.warn(\n",
      "/Users/larsvanderlaan/repos/VennCalibration/data_analysis/datasets/datasets.py:335: FutureWarning: The 'delim_whitespace' keyword in pd.read_csv is deprecated and will be removed in a future version. Use ``sep='\\s+'`` instead\n",
      "  attrib = pd.read_csv(base_path + 'communities_attributes.csv', delim_whitespace = True)\n"
     ]
    },
    {
     "name": "stdout",
     "output_type": "stream",
     "text": [
      "0.1\n",
      "0.10033444816053512\n"
     ]
    },
    {
     "name": "stderr",
     "output_type": "stream",
     "text": [
      "/Users/larsvanderlaan/repos/VennCalibration/myenv2/lib/python3.13/site-packages/mapie/utils.py:620: UserWarning: WARNING: The predictions are ill-sorted.\n",
      "  warnings.warn(\n",
      "/Users/larsvanderlaan/repos/VennCalibration/myenv2/lib/python3.13/site-packages/mapie/utils.py:620: UserWarning: WARNING: The predictions are ill-sorted.\n",
      "  warnings.warn(\n",
      "/Users/larsvanderlaan/repos/VennCalibration/data_analysis/datasets/datasets.py:335: FutureWarning: The 'delim_whitespace' keyword in pd.read_csv is deprecated and will be removed in a future version. Use ``sep='\\s+'`` instead\n",
      "  attrib = pd.read_csv(base_path + 'communities_attributes.csv', delim_whitespace = True)\n"
     ]
    },
    {
     "name": "stdout",
     "output_type": "stream",
     "text": [
      "0.1\n",
      "0.10033444816053512\n"
     ]
    },
    {
     "name": "stderr",
     "output_type": "stream",
     "text": [
      "/Users/larsvanderlaan/repos/VennCalibration/myenv2/lib/python3.13/site-packages/mapie/utils.py:620: UserWarning: WARNING: The predictions are ill-sorted.\n",
      "  warnings.warn(\n",
      "/Users/larsvanderlaan/repos/VennCalibration/data_analysis/datasets/datasets.py:335: FutureWarning: The 'delim_whitespace' keyword in pd.read_csv is deprecated and will be removed in a future version. Use ``sep='\\s+'`` instead\n",
      "  attrib = pd.read_csv(base_path + 'communities_attributes.csv', delim_whitespace = True)\n"
     ]
    },
    {
     "name": "stdout",
     "output_type": "stream",
     "text": [
      "0.1\n",
      "0.10033444816053512\n"
     ]
    },
    {
     "name": "stderr",
     "output_type": "stream",
     "text": [
      "/Users/larsvanderlaan/repos/VennCalibration/myenv2/lib/python3.13/site-packages/mapie/utils.py:620: UserWarning: WARNING: The predictions are ill-sorted.\n",
      "  warnings.warn(\n",
      "/Users/larsvanderlaan/repos/VennCalibration/myenv2/lib/python3.13/site-packages/mapie/utils.py:620: UserWarning: WARNING: The predictions are ill-sorted.\n",
      "  warnings.warn(\n"
     ]
    }
   ],
   "source": [
    "path = \"data_analysis/datasets/\"\n",
    "data_name = \"community\"\n",
    "\n",
    "import numpy as np\n",
    "import pandas as pd\n",
    "\n",
    "def run_dataset(data_name):\n",
    "    log_transform_y = (data_name == \"meps_21\")\n",
    " \n",
    "    seed = 42\n",
    "    np.random.seed(seed)\n",
    "    num_reps = 100\n",
    "    random_states = np.random.randint(0, 1e6, size=num_reps).tolist()\n",
    "    # average over 10 data splits\n",
    "    dfs = [run_conformal_analysis(data_name, path, log_transform_y = log_transform_y, random_state = state) for state in random_states]\n",
    "\n",
    "\n",
    "    # Combine dataframes with iteration metadata\n",
    "    combined_df = pd.concat(\n",
    "        [df.assign(iter=i + 1) for i, df in enumerate(dfs)], ignore_index=True\n",
    "    )\n",
    "\n",
    "    methods = [\"Uncalibrated\", \"Venn-Abers\",  \"Marginal\", \"CQR (symmetric)\", \"CQR\", \"Venn-Mondrian (5 bins)\", \"Venn-Mondrian (10 bins)\"]\n",
    "\n",
    "    # Create a list to store results\n",
    "    results = []\n",
    "\n",
    "    for method in methods:\n",
    "        df_sub = combined_df[combined_df['Method'] == method]\n",
    "        marginal_coverage = np.nanmean(pd.to_numeric(df_sub['Coverage (marginal)'], errors='coerce').values)\n",
    "        marginal_width = np.nanmean(pd.to_numeric(df_sub['Average Width'], errors='coerce').values)\n",
    "        conditional_calibration_error = np.nanmean(pd.to_numeric(df_sub['Calibration Error'], errors='coerce').values)\n",
    "    \n",
    "        # Append the results to the list\n",
    "        results.append({\n",
    "            \"Method\": method,\n",
    "            \"Marginal Coverage\": marginal_coverage,\n",
    "            \"Average Width\": marginal_width,\n",
    "            \"Conditional Calibration Error\": conditional_calibration_error\n",
    "        })\n",
    "\n",
    "    # Convert the results list into a DataFrame\n",
    "    results_df = pd.DataFrame(results)\n",
    "    return results_df\n",
    "\n",
    "results = [run_dataset(data_name) for data_name in ['bike', 'bio', 'star', 'meps_21', 'concrete', 'community']]"
   ]
  },
  {
   "cell_type": "code",
   "execution_count": 23,
   "id": "accf600f-0bfc-40c3-a49f-3d51d6573e02",
   "metadata": {},
   "outputs": [
    {
     "name": "stdout",
     "output_type": "stream",
     "text": [
      "\\begin{tabular}{lrrrl}\n",
      "\\toprule\n",
      "Method & Marginal Coverage & Average Width & Conditional Calibration Error & dataset \\\\\n",
      "\\midrule\n",
      "Uncalibrated & 0.812940 & 83.069000 & 0.106437 & bike \\\\\n",
      "Venn-Abers & 0.896600 & 104.159000 & 0.019467 & bike \\\\\n",
      "Marginal & 0.898150 & 139.560000 & 0.100827 & bike \\\\\n",
      "CQR (symmetric) & 0.898870 & 98.318000 & 0.030863 & bike \\\\\n",
      "CQR & 0.901090 & 130.510000 & 0.021049 & bike \\\\\n",
      "Venn-Mondrian (5 bins) & 0.901390 & 99.048000 & 0.032657 & bike \\\\\n",
      "Venn-Mondrian (10 bins) & 0.900480 & 102.728000 & 0.022104 & bike \\\\\n",
      "Uncalibrated & 0.848590 & 12.101000 & 0.088233 & bio \\\\\n",
      "Venn-Abers & 0.898360 & 14.186000 & 0.016546 & bio \\\\\n",
      "Marginal & 0.899160 & 14.865000 & 0.052835 & bio \\\\\n",
      "CQR (symmetric) & 0.899750 & 13.915000 & 0.020485 & bio \\\\\n",
      "CQR & 0.899770 & 13.894000 & 0.018678 & bio \\\\\n",
      "Venn-Mondrian (5 bins) & 0.900350 & 14.165000 & 0.024948 & bio \\\\\n",
      "Venn-Mondrian (10 bins) & 0.900750 & 14.428000 & 0.020175 & bio \\\\\n",
      "Uncalibrated & 0.798780 & 615.540000 & 0.108731 & star \\\\\n",
      "Venn-Abers & 0.898570 & 783.090000 & 0.024040 & star \\\\\n",
      "Marginal & 0.898350 & 778.180000 & 0.020283 & star \\\\\n",
      "CQR (symmetric) & 0.897550 & 780.630000 & 0.026102 & star \\\\\n",
      "CQR & 0.901080 & 794.060000 & 0.020045 & star \\\\\n",
      "Venn-Mondrian (5 bins) & 0.893990 & 774.750000 & 0.023470 & star \\\\\n",
      "Venn-Mondrian (10 bins) & 0.888830 & 769.260000 & 0.027550 & star \\\\\n",
      "Uncalibrated & 0.856690 & 2.391000 & 0.053465 & meps_21 \\\\\n",
      "Venn-Abers & 0.899430 & 2.755000 & 0.017990 & meps_21 \\\\\n",
      "Marginal & 0.899910 & 2.866400 & 0.052319 & meps_21 \\\\\n",
      "CQR (symmetric) & 0.900430 & 2.725800 & 0.020466 & meps_21 \\\\\n",
      "CQR & 0.915450 & 2.476500 & 0.018260 & meps_21 \\\\\n",
      "Venn-Mondrian (5 bins) & 0.900620 & 2.746200 & 0.026305 & meps_21 \\\\\n",
      "Venn-Mondrian (10 bins) & 0.899760 & 2.758900 & 0.022024 & meps_21 \\\\\n",
      "Uncalibrated & 0.706340 & 9.359100 & 0.203856 & concrete \\\\\n",
      "Venn-Abers & 0.899430 & 16.595000 & 0.034507 & concrete \\\\\n",
      "Marginal & 0.898440 & 17.963000 & 0.057487 & concrete \\\\\n",
      "CQR (symmetric) & 0.899360 & 16.319000 & 0.036584 & concrete \\\\\n",
      "CQR & 0.904730 & 24.654000 & 0.033410 & concrete \\\\\n",
      "Venn-Mondrian (5 bins) & 0.888690 & 16.283000 & 0.044057 & concrete \\\\\n",
      "Venn-Mondrian (10 bins) & 0.877330 & 15.942000 & 0.049375 & concrete \\\\\n",
      "Uncalibrated & 0.738640 & 0.216950 & 0.169890 & community \\\\\n",
      "Venn-Abers & 0.897840 & 0.399930 & 0.028245 & community \\\\\n",
      "Marginal & 0.897210 & 0.456900 & 0.058211 & community \\\\\n",
      "CQR (symmetric) & 0.898760 & 0.374900 & 0.031158 & community \\\\\n",
      "CQR & 0.902160 & 0.368730 & 0.033881 & community \\\\\n",
      "Venn-Mondrian (5 bins) & 0.896200 & 0.377490 & 0.029514 & community \\\\\n",
      "Venn-Mondrian (10 bins) & 0.891710 & 0.384160 & 0.029953 & community \\\\\n",
      "\\bottomrule\n",
      "\\end{tabular}\n",
      "\n"
     ]
    },
    {
     "data": {
      "text/html": [
       "<div>\n",
       "<style scoped>\n",
       "    .dataframe tbody tr th:only-of-type {\n",
       "        vertical-align: middle;\n",
       "    }\n",
       "\n",
       "    .dataframe tbody tr th {\n",
       "        vertical-align: top;\n",
       "    }\n",
       "\n",
       "    .dataframe thead th {\n",
       "        text-align: right;\n",
       "    }\n",
       "</style>\n",
       "<table border=\"1\" class=\"dataframe\">\n",
       "  <thead>\n",
       "    <tr style=\"text-align: right;\">\n",
       "      <th></th>\n",
       "      <th>Method</th>\n",
       "      <th>Marginal Coverage</th>\n",
       "      <th>Average Width</th>\n",
       "      <th>Conditional Calibration Error</th>\n",
       "      <th>dataset</th>\n",
       "    </tr>\n",
       "  </thead>\n",
       "  <tbody>\n",
       "    <tr>\n",
       "      <th>0</th>\n",
       "      <td>Uncalibrated</td>\n",
       "      <td>0.81294</td>\n",
       "      <td>83.06900</td>\n",
       "      <td>0.106437</td>\n",
       "      <td>bike</td>\n",
       "    </tr>\n",
       "    <tr>\n",
       "      <th>1</th>\n",
       "      <td>Venn-Abers</td>\n",
       "      <td>0.89660</td>\n",
       "      <td>104.15900</td>\n",
       "      <td>0.019467</td>\n",
       "      <td>bike</td>\n",
       "    </tr>\n",
       "    <tr>\n",
       "      <th>2</th>\n",
       "      <td>Marginal</td>\n",
       "      <td>0.89815</td>\n",
       "      <td>139.56000</td>\n",
       "      <td>0.100827</td>\n",
       "      <td>bike</td>\n",
       "    </tr>\n",
       "    <tr>\n",
       "      <th>3</th>\n",
       "      <td>CQR (symmetric)</td>\n",
       "      <td>0.89887</td>\n",
       "      <td>98.31800</td>\n",
       "      <td>0.030863</td>\n",
       "      <td>bike</td>\n",
       "    </tr>\n",
       "    <tr>\n",
       "      <th>4</th>\n",
       "      <td>CQR</td>\n",
       "      <td>0.90109</td>\n",
       "      <td>130.51000</td>\n",
       "      <td>0.021049</td>\n",
       "      <td>bike</td>\n",
       "    </tr>\n",
       "    <tr>\n",
       "      <th>5</th>\n",
       "      <td>Venn-Mondrian (5 bins)</td>\n",
       "      <td>0.90139</td>\n",
       "      <td>99.04800</td>\n",
       "      <td>0.032657</td>\n",
       "      <td>bike</td>\n",
       "    </tr>\n",
       "    <tr>\n",
       "      <th>6</th>\n",
       "      <td>Venn-Mondrian (10 bins)</td>\n",
       "      <td>0.90048</td>\n",
       "      <td>102.72800</td>\n",
       "      <td>0.022104</td>\n",
       "      <td>bike</td>\n",
       "    </tr>\n",
       "    <tr>\n",
       "      <th>7</th>\n",
       "      <td>Uncalibrated</td>\n",
       "      <td>0.84859</td>\n",
       "      <td>12.10100</td>\n",
       "      <td>0.088233</td>\n",
       "      <td>bio</td>\n",
       "    </tr>\n",
       "    <tr>\n",
       "      <th>8</th>\n",
       "      <td>Venn-Abers</td>\n",
       "      <td>0.89836</td>\n",
       "      <td>14.18600</td>\n",
       "      <td>0.016546</td>\n",
       "      <td>bio</td>\n",
       "    </tr>\n",
       "    <tr>\n",
       "      <th>9</th>\n",
       "      <td>Marginal</td>\n",
       "      <td>0.89916</td>\n",
       "      <td>14.86500</td>\n",
       "      <td>0.052835</td>\n",
       "      <td>bio</td>\n",
       "    </tr>\n",
       "    <tr>\n",
       "      <th>10</th>\n",
       "      <td>CQR (symmetric)</td>\n",
       "      <td>0.89975</td>\n",
       "      <td>13.91500</td>\n",
       "      <td>0.020485</td>\n",
       "      <td>bio</td>\n",
       "    </tr>\n",
       "    <tr>\n",
       "      <th>11</th>\n",
       "      <td>CQR</td>\n",
       "      <td>0.89977</td>\n",
       "      <td>13.89400</td>\n",
       "      <td>0.018678</td>\n",
       "      <td>bio</td>\n",
       "    </tr>\n",
       "    <tr>\n",
       "      <th>12</th>\n",
       "      <td>Venn-Mondrian (5 bins)</td>\n",
       "      <td>0.90035</td>\n",
       "      <td>14.16500</td>\n",
       "      <td>0.024948</td>\n",
       "      <td>bio</td>\n",
       "    </tr>\n",
       "    <tr>\n",
       "      <th>13</th>\n",
       "      <td>Venn-Mondrian (10 bins)</td>\n",
       "      <td>0.90075</td>\n",
       "      <td>14.42800</td>\n",
       "      <td>0.020175</td>\n",
       "      <td>bio</td>\n",
       "    </tr>\n",
       "    <tr>\n",
       "      <th>14</th>\n",
       "      <td>Uncalibrated</td>\n",
       "      <td>0.79878</td>\n",
       "      <td>615.54000</td>\n",
       "      <td>0.108731</td>\n",
       "      <td>star</td>\n",
       "    </tr>\n",
       "    <tr>\n",
       "      <th>15</th>\n",
       "      <td>Venn-Abers</td>\n",
       "      <td>0.89857</td>\n",
       "      <td>783.09000</td>\n",
       "      <td>0.024040</td>\n",
       "      <td>star</td>\n",
       "    </tr>\n",
       "    <tr>\n",
       "      <th>16</th>\n",
       "      <td>Marginal</td>\n",
       "      <td>0.89835</td>\n",
       "      <td>778.18000</td>\n",
       "      <td>0.020283</td>\n",
       "      <td>star</td>\n",
       "    </tr>\n",
       "    <tr>\n",
       "      <th>17</th>\n",
       "      <td>CQR (symmetric)</td>\n",
       "      <td>0.89755</td>\n",
       "      <td>780.63000</td>\n",
       "      <td>0.026102</td>\n",
       "      <td>star</td>\n",
       "    </tr>\n",
       "    <tr>\n",
       "      <th>18</th>\n",
       "      <td>CQR</td>\n",
       "      <td>0.90108</td>\n",
       "      <td>794.06000</td>\n",
       "      <td>0.020045</td>\n",
       "      <td>star</td>\n",
       "    </tr>\n",
       "    <tr>\n",
       "      <th>19</th>\n",
       "      <td>Venn-Mondrian (5 bins)</td>\n",
       "      <td>0.89399</td>\n",
       "      <td>774.75000</td>\n",
       "      <td>0.023470</td>\n",
       "      <td>star</td>\n",
       "    </tr>\n",
       "    <tr>\n",
       "      <th>20</th>\n",
       "      <td>Venn-Mondrian (10 bins)</td>\n",
       "      <td>0.88883</td>\n",
       "      <td>769.26000</td>\n",
       "      <td>0.027550</td>\n",
       "      <td>star</td>\n",
       "    </tr>\n",
       "    <tr>\n",
       "      <th>21</th>\n",
       "      <td>Uncalibrated</td>\n",
       "      <td>0.85669</td>\n",
       "      <td>2.39100</td>\n",
       "      <td>0.053465</td>\n",
       "      <td>meps_21</td>\n",
       "    </tr>\n",
       "    <tr>\n",
       "      <th>22</th>\n",
       "      <td>Venn-Abers</td>\n",
       "      <td>0.89943</td>\n",
       "      <td>2.75500</td>\n",
       "      <td>0.017990</td>\n",
       "      <td>meps_21</td>\n",
       "    </tr>\n",
       "    <tr>\n",
       "      <th>23</th>\n",
       "      <td>Marginal</td>\n",
       "      <td>0.89991</td>\n",
       "      <td>2.86640</td>\n",
       "      <td>0.052319</td>\n",
       "      <td>meps_21</td>\n",
       "    </tr>\n",
       "    <tr>\n",
       "      <th>24</th>\n",
       "      <td>CQR (symmetric)</td>\n",
       "      <td>0.90043</td>\n",
       "      <td>2.72580</td>\n",
       "      <td>0.020466</td>\n",
       "      <td>meps_21</td>\n",
       "    </tr>\n",
       "    <tr>\n",
       "      <th>25</th>\n",
       "      <td>CQR</td>\n",
       "      <td>0.91545</td>\n",
       "      <td>2.47650</td>\n",
       "      <td>0.018260</td>\n",
       "      <td>meps_21</td>\n",
       "    </tr>\n",
       "    <tr>\n",
       "      <th>26</th>\n",
       "      <td>Venn-Mondrian (5 bins)</td>\n",
       "      <td>0.90062</td>\n",
       "      <td>2.74620</td>\n",
       "      <td>0.026305</td>\n",
       "      <td>meps_21</td>\n",
       "    </tr>\n",
       "    <tr>\n",
       "      <th>27</th>\n",
       "      <td>Venn-Mondrian (10 bins)</td>\n",
       "      <td>0.89976</td>\n",
       "      <td>2.75890</td>\n",
       "      <td>0.022024</td>\n",
       "      <td>meps_21</td>\n",
       "    </tr>\n",
       "    <tr>\n",
       "      <th>28</th>\n",
       "      <td>Uncalibrated</td>\n",
       "      <td>0.70634</td>\n",
       "      <td>9.35910</td>\n",
       "      <td>0.203856</td>\n",
       "      <td>concrete</td>\n",
       "    </tr>\n",
       "    <tr>\n",
       "      <th>29</th>\n",
       "      <td>Venn-Abers</td>\n",
       "      <td>0.89943</td>\n",
       "      <td>16.59500</td>\n",
       "      <td>0.034507</td>\n",
       "      <td>concrete</td>\n",
       "    </tr>\n",
       "    <tr>\n",
       "      <th>30</th>\n",
       "      <td>Marginal</td>\n",
       "      <td>0.89844</td>\n",
       "      <td>17.96300</td>\n",
       "      <td>0.057487</td>\n",
       "      <td>concrete</td>\n",
       "    </tr>\n",
       "    <tr>\n",
       "      <th>31</th>\n",
       "      <td>CQR (symmetric)</td>\n",
       "      <td>0.89936</td>\n",
       "      <td>16.31900</td>\n",
       "      <td>0.036584</td>\n",
       "      <td>concrete</td>\n",
       "    </tr>\n",
       "    <tr>\n",
       "      <th>32</th>\n",
       "      <td>CQR</td>\n",
       "      <td>0.90473</td>\n",
       "      <td>24.65400</td>\n",
       "      <td>0.033410</td>\n",
       "      <td>concrete</td>\n",
       "    </tr>\n",
       "    <tr>\n",
       "      <th>33</th>\n",
       "      <td>Venn-Mondrian (5 bins)</td>\n",
       "      <td>0.88869</td>\n",
       "      <td>16.28300</td>\n",
       "      <td>0.044057</td>\n",
       "      <td>concrete</td>\n",
       "    </tr>\n",
       "    <tr>\n",
       "      <th>34</th>\n",
       "      <td>Venn-Mondrian (10 bins)</td>\n",
       "      <td>0.87733</td>\n",
       "      <td>15.94200</td>\n",
       "      <td>0.049375</td>\n",
       "      <td>concrete</td>\n",
       "    </tr>\n",
       "    <tr>\n",
       "      <th>35</th>\n",
       "      <td>Uncalibrated</td>\n",
       "      <td>0.73864</td>\n",
       "      <td>0.21695</td>\n",
       "      <td>0.169890</td>\n",
       "      <td>community</td>\n",
       "    </tr>\n",
       "    <tr>\n",
       "      <th>36</th>\n",
       "      <td>Venn-Abers</td>\n",
       "      <td>0.89784</td>\n",
       "      <td>0.39993</td>\n",
       "      <td>0.028245</td>\n",
       "      <td>community</td>\n",
       "    </tr>\n",
       "    <tr>\n",
       "      <th>37</th>\n",
       "      <td>Marginal</td>\n",
       "      <td>0.89721</td>\n",
       "      <td>0.45690</td>\n",
       "      <td>0.058211</td>\n",
       "      <td>community</td>\n",
       "    </tr>\n",
       "    <tr>\n",
       "      <th>38</th>\n",
       "      <td>CQR (symmetric)</td>\n",
       "      <td>0.89876</td>\n",
       "      <td>0.37490</td>\n",
       "      <td>0.031158</td>\n",
       "      <td>community</td>\n",
       "    </tr>\n",
       "    <tr>\n",
       "      <th>39</th>\n",
       "      <td>CQR</td>\n",
       "      <td>0.90216</td>\n",
       "      <td>0.36873</td>\n",
       "      <td>0.033881</td>\n",
       "      <td>community</td>\n",
       "    </tr>\n",
       "    <tr>\n",
       "      <th>40</th>\n",
       "      <td>Venn-Mondrian (5 bins)</td>\n",
       "      <td>0.89620</td>\n",
       "      <td>0.37749</td>\n",
       "      <td>0.029514</td>\n",
       "      <td>community</td>\n",
       "    </tr>\n",
       "    <tr>\n",
       "      <th>41</th>\n",
       "      <td>Venn-Mondrian (10 bins)</td>\n",
       "      <td>0.89171</td>\n",
       "      <td>0.38416</td>\n",
       "      <td>0.029953</td>\n",
       "      <td>community</td>\n",
       "    </tr>\n",
       "  </tbody>\n",
       "</table>\n",
       "</div>"
      ],
      "text/plain": [
       "                     Method  Marginal Coverage  Average Width  \\\n",
       "0              Uncalibrated            0.81294       83.06900   \n",
       "1                Venn-Abers            0.89660      104.15900   \n",
       "2                  Marginal            0.89815      139.56000   \n",
       "3           CQR (symmetric)            0.89887       98.31800   \n",
       "4                       CQR            0.90109      130.51000   \n",
       "5    Venn-Mondrian (5 bins)            0.90139       99.04800   \n",
       "6   Venn-Mondrian (10 bins)            0.90048      102.72800   \n",
       "7              Uncalibrated            0.84859       12.10100   \n",
       "8                Venn-Abers            0.89836       14.18600   \n",
       "9                  Marginal            0.89916       14.86500   \n",
       "10          CQR (symmetric)            0.89975       13.91500   \n",
       "11                      CQR            0.89977       13.89400   \n",
       "12   Venn-Mondrian (5 bins)            0.90035       14.16500   \n",
       "13  Venn-Mondrian (10 bins)            0.90075       14.42800   \n",
       "14             Uncalibrated            0.79878      615.54000   \n",
       "15               Venn-Abers            0.89857      783.09000   \n",
       "16                 Marginal            0.89835      778.18000   \n",
       "17          CQR (symmetric)            0.89755      780.63000   \n",
       "18                      CQR            0.90108      794.06000   \n",
       "19   Venn-Mondrian (5 bins)            0.89399      774.75000   \n",
       "20  Venn-Mondrian (10 bins)            0.88883      769.26000   \n",
       "21             Uncalibrated            0.85669        2.39100   \n",
       "22               Venn-Abers            0.89943        2.75500   \n",
       "23                 Marginal            0.89991        2.86640   \n",
       "24          CQR (symmetric)            0.90043        2.72580   \n",
       "25                      CQR            0.91545        2.47650   \n",
       "26   Venn-Mondrian (5 bins)            0.90062        2.74620   \n",
       "27  Venn-Mondrian (10 bins)            0.89976        2.75890   \n",
       "28             Uncalibrated            0.70634        9.35910   \n",
       "29               Venn-Abers            0.89943       16.59500   \n",
       "30                 Marginal            0.89844       17.96300   \n",
       "31          CQR (symmetric)            0.89936       16.31900   \n",
       "32                      CQR            0.90473       24.65400   \n",
       "33   Venn-Mondrian (5 bins)            0.88869       16.28300   \n",
       "34  Venn-Mondrian (10 bins)            0.87733       15.94200   \n",
       "35             Uncalibrated            0.73864        0.21695   \n",
       "36               Venn-Abers            0.89784        0.39993   \n",
       "37                 Marginal            0.89721        0.45690   \n",
       "38          CQR (symmetric)            0.89876        0.37490   \n",
       "39                      CQR            0.90216        0.36873   \n",
       "40   Venn-Mondrian (5 bins)            0.89620        0.37749   \n",
       "41  Venn-Mondrian (10 bins)            0.89171        0.38416   \n",
       "\n",
       "    Conditional Calibration Error    dataset  \n",
       "0                        0.106437       bike  \n",
       "1                        0.019467       bike  \n",
       "2                        0.100827       bike  \n",
       "3                        0.030863       bike  \n",
       "4                        0.021049       bike  \n",
       "5                        0.032657       bike  \n",
       "6                        0.022104       bike  \n",
       "7                        0.088233        bio  \n",
       "8                        0.016546        bio  \n",
       "9                        0.052835        bio  \n",
       "10                       0.020485        bio  \n",
       "11                       0.018678        bio  \n",
       "12                       0.024948        bio  \n",
       "13                       0.020175        bio  \n",
       "14                       0.108731       star  \n",
       "15                       0.024040       star  \n",
       "16                       0.020283       star  \n",
       "17                       0.026102       star  \n",
       "18                       0.020045       star  \n",
       "19                       0.023470       star  \n",
       "20                       0.027550       star  \n",
       "21                       0.053465    meps_21  \n",
       "22                       0.017990    meps_21  \n",
       "23                       0.052319    meps_21  \n",
       "24                       0.020466    meps_21  \n",
       "25                       0.018260    meps_21  \n",
       "26                       0.026305    meps_21  \n",
       "27                       0.022024    meps_21  \n",
       "28                       0.203856   concrete  \n",
       "29                       0.034507   concrete  \n",
       "30                       0.057487   concrete  \n",
       "31                       0.036584   concrete  \n",
       "32                       0.033410   concrete  \n",
       "33                       0.044057   concrete  \n",
       "34                       0.049375   concrete  \n",
       "35                       0.169890  community  \n",
       "36                       0.028245  community  \n",
       "37                       0.058211  community  \n",
       "38                       0.031158  community  \n",
       "39                       0.033881  community  \n",
       "40                       0.029514  community  \n",
       "41                       0.029953  community  "
      ]
     },
     "execution_count": 23,
     "metadata": {},
     "output_type": "execute_result"
    }
   ],
   "source": [
    "datasets = ['bike', 'bio', 'star', 'meps_21', 'concrete', 'community']\n",
    "\n",
    "\n",
    "all_results = pd.concat(\n",
    "    [result.assign(dataset=data_name) for result, data_name in zip(results, datasets)],\n",
    "    ignore_index=True\n",
    ")\n",
    "\n",
    "latex_code = all_results.to_latex(index=False)\n",
    "\n",
    "# Print or save the LaTeX code\n",
    "print(latex_code)\n",
    "all_results"
   ]
  },
  {
   "cell_type": "code",
   "execution_count": null,
   "id": "ce8b6b0d-62a2-4197-837f-7460212d309e",
   "metadata": {},
   "outputs": [],
   "source": []
  }
 ],
 "metadata": {
  "kernelspec": {
   "display_name": "Python (myenv2)",
   "language": "python",
   "name": "myenv2"
  },
  "language_info": {
   "codemirror_mode": {
    "name": "ipython",
    "version": 3
   },
   "file_extension": ".py",
   "mimetype": "text/x-python",
   "name": "python",
   "nbconvert_exporter": "python",
   "pygments_lexer": "ipython3",
   "version": "3.13.0"
  }
 },
 "nbformat": 4,
 "nbformat_minor": 5
}

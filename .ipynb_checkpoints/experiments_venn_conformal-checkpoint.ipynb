{
 "cells": [
  {
   "cell_type": "code",
   "execution_count": 1,
   "id": "ccd3f183-09b2-46cf-af37-6627600de161",
   "metadata": {
    "collapsed": true,
    "jupyter": {
     "outputs_hidden": true,
     "source_hidden": true
    },
    "scrolled": true
   },
   "outputs": [
    {
     "name": "stdout",
     "output_type": "stream",
     "text": [
      "Requirement already satisfied: numpy in /usr/local/Cellar/jupyterlab/4.2.3/libexec/lib/python3.12/site-packages (1.26.4)\n",
      "Collecting numpy\n",
      "  Using cached numpy-2.1.1-cp312-cp312-macosx_14_0_x86_64.whl.metadata (60 kB)\n",
      "Requirement already satisfied: torch in /usr/local/Cellar/jupyterlab/4.2.3/libexec/lib/python3.12/site-packages (2.2.2)\n",
      "Requirement already satisfied: filelock in /usr/local/Cellar/jupyterlab/4.2.3/libexec/lib/python3.12/site-packages (from torch) (3.15.4)\n",
      "Requirement already satisfied: typing-extensions>=4.8.0 in /usr/local/Cellar/jupyterlab/4.2.3/libexec/lib/python3.12/site-packages (from torch) (4.12.2)\n",
      "Requirement already satisfied: sympy in /usr/local/Cellar/jupyterlab/4.2.3/libexec/lib/python3.12/site-packages (from torch) (1.13.2)\n",
      "Requirement already satisfied: networkx in /usr/local/Cellar/jupyterlab/4.2.3/libexec/lib/python3.12/site-packages (from torch) (3.3)\n",
      "Requirement already satisfied: jinja2 in /usr/local/Cellar/jupyterlab/4.2.3/libexec/lib/python3.12/site-packages (from torch) (3.1.4)\n",
      "Requirement already satisfied: fsspec in /usr/local/Cellar/jupyterlab/4.2.3/libexec/lib/python3.12/site-packages (from torch) (2024.6.1)\n",
      "Requirement already satisfied: MarkupSafe>=2.0 in /usr/local/Cellar/jupyterlab/4.2.3/libexec/lib/python3.12/site-packages (from jinja2->torch) (2.1.5)\n",
      "Requirement already satisfied: mpmath<1.4,>=1.1.0 in /usr/local/Cellar/jupyterlab/4.2.3/libexec/lib/python3.12/site-packages (from sympy->torch) (1.3.0)\n",
      "Using cached numpy-2.1.1-cp312-cp312-macosx_14_0_x86_64.whl (6.6 MB)\n",
      "Installing collected packages: numpy\n",
      "  Attempting uninstall: numpy\n",
      "    Found existing installation: numpy 1.26.4\n",
      "    Uninstalling numpy-1.26.4:\n",
      "      Successfully uninstalled numpy-1.26.4\n"
     ]
    },
    {
     "name": "stderr",
     "output_type": "stream",
     "text": [
      "\u001b[31mERROR: pip's dependency resolver does not currently take into account all the packages that are installed. This behaviour is the source of the following dependency conflicts.\n",
      "scipy 1.11.4 requires numpy<1.28.0,>=1.21.6, but you have numpy 2.1.1 which is incompatible.\u001b[0m\u001b[31m\n",
      "\u001b[0m"
     ]
    },
    {
     "name": "stdout",
     "output_type": "stream",
     "text": [
      "Successfully installed numpy-2.1.1\n",
      "Requirement already satisfied: pandas in /usr/local/Cellar/jupyterlab/4.2.3/libexec/lib/python3.12/site-packages (2.2.2)\n",
      "Requirement already satisfied: numpy>=1.26.0 in /usr/local/Cellar/jupyterlab/4.2.3/libexec/lib/python3.12/site-packages (from pandas) (2.1.1)\n",
      "Requirement already satisfied: python-dateutil>=2.8.2 in /usr/local/Cellar/jupyterlab/4.2.3/libexec/lib/python3.12/site-packages (from pandas) (2.9.0.post0)\n",
      "Requirement already satisfied: pytz>=2020.1 in /usr/local/Cellar/jupyterlab/4.2.3/libexec/lib/python3.12/site-packages (from pandas) (2024.1)\n",
      "Requirement already satisfied: tzdata>=2022.7 in /usr/local/Cellar/jupyterlab/4.2.3/libexec/lib/python3.12/site-packages (from pandas) (2024.1)\n",
      "Requirement already satisfied: six>=1.5 in /usr/local/Cellar/jupyterlab/4.2.3/libexec/lib/python3.12/site-packages (from python-dateutil>=2.8.2->pandas) (1.16.0)\n",
      "Requirement already satisfied: scikit-learn in /usr/local/Cellar/jupyterlab/4.2.3/libexec/lib/python3.12/site-packages (1.5.1)\n",
      "Requirement already satisfied: numpy>=1.19.5 in /usr/local/Cellar/jupyterlab/4.2.3/libexec/lib/python3.12/site-packages (from scikit-learn) (2.1.1)\n",
      "Requirement already satisfied: scipy>=1.6.0 in /usr/local/Cellar/jupyterlab/4.2.3/libexec/lib/python3.12/site-packages (from scikit-learn) (1.11.4)\n",
      "Requirement already satisfied: joblib>=1.2.0 in /usr/local/Cellar/jupyterlab/4.2.3/libexec/lib/python3.12/site-packages (from scikit-learn) (1.4.2)\n",
      "Requirement already satisfied: threadpoolctl>=3.1.0 in /usr/local/Cellar/jupyterlab/4.2.3/libexec/lib/python3.12/site-packages (from scikit-learn) (3.5.0)\n",
      "Collecting numpy>=1.19.5 (from scikit-learn)\n",
      "  Using cached numpy-1.26.4-cp312-cp312-macosx_10_9_x86_64.whl.metadata (61 kB)\n",
      "Using cached numpy-1.26.4-cp312-cp312-macosx_10_9_x86_64.whl (20.3 MB)\n",
      "Installing collected packages: numpy\n",
      "  Attempting uninstall: numpy\n",
      "    Found existing installation: numpy 2.1.1\n",
      "    Uninstalling numpy-2.1.1:\n",
      "      Successfully uninstalled numpy-2.1.1\n"
     ]
    },
    {
     "name": "stderr",
     "output_type": "stream",
     "text": [
      "\u001b[31mERROR: pip's dependency resolver does not currently take into account all the packages that are installed. This behaviour is the source of the following dependency conflicts.\n",
      "sklearn-quantile 0.1.0 requires numpy>=2, but you have numpy 1.26.4 which is incompatible.\u001b[0m\u001b[31m\n",
      "\u001b[0m"
     ]
    },
    {
     "name": "stdout",
     "output_type": "stream",
     "text": [
      "Successfully installed numpy-1.26.4\n",
      "Requirement already satisfied: matplotlib in /usr/local/Cellar/jupyterlab/4.2.3/libexec/lib/python3.12/site-packages (3.9.1.post1)\n",
      "Requirement already satisfied: contourpy>=1.0.1 in /usr/local/Cellar/jupyterlab/4.2.3/libexec/lib/python3.12/site-packages (from matplotlib) (1.2.1)\n",
      "Requirement already satisfied: cycler>=0.10 in /usr/local/Cellar/jupyterlab/4.2.3/libexec/lib/python3.12/site-packages (from matplotlib) (0.12.1)\n",
      "Requirement already satisfied: fonttools>=4.22.0 in /usr/local/Cellar/jupyterlab/4.2.3/libexec/lib/python3.12/site-packages (from matplotlib) (4.53.1)\n",
      "Requirement already satisfied: kiwisolver>=1.3.1 in /usr/local/Cellar/jupyterlab/4.2.3/libexec/lib/python3.12/site-packages (from matplotlib) (1.4.5)\n",
      "Requirement already satisfied: numpy>=1.23 in /usr/local/Cellar/jupyterlab/4.2.3/libexec/lib/python3.12/site-packages (from matplotlib) (1.26.4)\n",
      "Requirement already satisfied: packaging>=20.0 in /usr/local/Cellar/jupyterlab/4.2.3/libexec/lib/python3.12/site-packages (from matplotlib) (24.1)\n",
      "Requirement already satisfied: pillow>=8 in /usr/local/Cellar/jupyterlab/4.2.3/libexec/lib/python3.12/site-packages (from matplotlib) (10.4.0)\n",
      "Requirement already satisfied: pyparsing>=2.3.1 in /usr/local/Cellar/jupyterlab/4.2.3/libexec/lib/python3.12/site-packages (from matplotlib) (3.1.2)\n",
      "Requirement already satisfied: python-dateutil>=2.7 in /usr/local/Cellar/jupyterlab/4.2.3/libexec/lib/python3.12/site-packages (from matplotlib) (2.9.0.post0)\n",
      "Requirement already satisfied: six>=1.5 in /usr/local/Cellar/jupyterlab/4.2.3/libexec/lib/python3.12/site-packages (from python-dateutil>=2.7->matplotlib) (1.16.0)\n",
      "Requirement already satisfied: xgboost in /usr/local/lib/python3.12/site-packages (2.1.0)\n",
      "Requirement already satisfied: numpy in /usr/local/Cellar/jupyterlab/4.2.3/libexec/lib/python3.12/site-packages (from xgboost) (1.26.4)\n",
      "Requirement already satisfied: scipy in /usr/local/Cellar/jupyterlab/4.2.3/libexec/lib/python3.12/site-packages (from xgboost) (1.11.4)\n",
      "Requirement already satisfied: statsmodels in /usr/local/Cellar/jupyterlab/4.2.3/libexec/lib/python3.12/site-packages (0.14.2)\n",
      "Requirement already satisfied: numpy>=1.22.3 in /usr/local/Cellar/jupyterlab/4.2.3/libexec/lib/python3.12/site-packages (from statsmodels) (1.26.4)\n",
      "Requirement already satisfied: scipy!=1.9.2,>=1.8 in /usr/local/Cellar/jupyterlab/4.2.3/libexec/lib/python3.12/site-packages (from statsmodels) (1.11.4)\n",
      "Requirement already satisfied: pandas!=2.1.0,>=1.4 in /usr/local/Cellar/jupyterlab/4.2.3/libexec/lib/python3.12/site-packages (from statsmodels) (2.2.2)\n",
      "Requirement already satisfied: patsy>=0.5.6 in /usr/local/Cellar/jupyterlab/4.2.3/libexec/lib/python3.12/site-packages (from statsmodels) (0.5.6)\n",
      "Requirement already satisfied: packaging>=21.3 in /usr/local/Cellar/jupyterlab/4.2.3/libexec/lib/python3.12/site-packages (from statsmodels) (24.1)\n",
      "Requirement already satisfied: python-dateutil>=2.8.2 in /usr/local/Cellar/jupyterlab/4.2.3/libexec/lib/python3.12/site-packages (from pandas!=2.1.0,>=1.4->statsmodels) (2.9.0.post0)\n",
      "Requirement already satisfied: pytz>=2020.1 in /usr/local/Cellar/jupyterlab/4.2.3/libexec/lib/python3.12/site-packages (from pandas!=2.1.0,>=1.4->statsmodels) (2024.1)\n",
      "Requirement already satisfied: tzdata>=2022.7 in /usr/local/Cellar/jupyterlab/4.2.3/libexec/lib/python3.12/site-packages (from pandas!=2.1.0,>=1.4->statsmodels) (2024.1)\n",
      "Requirement already satisfied: six in /usr/local/Cellar/jupyterlab/4.2.3/libexec/lib/python3.12/site-packages (from patsy>=0.5.6->statsmodels) (1.16.0)\n",
      "Requirement already satisfied: cvxpy in /usr/local/Cellar/jupyterlab/4.2.3/libexec/lib/python3.12/site-packages (1.5.2)\n",
      "Requirement already satisfied: osqp>=0.6.2 in /usr/local/Cellar/jupyterlab/4.2.3/libexec/lib/python3.12/site-packages (from cvxpy) (0.6.7.post1)\n",
      "Requirement already satisfied: ecos>=2 in /usr/local/Cellar/jupyterlab/4.2.3/libexec/lib/python3.12/site-packages (from cvxpy) (2.0.14)\n",
      "Requirement already satisfied: clarabel>=0.5.0 in /usr/local/Cellar/jupyterlab/4.2.3/libexec/lib/python3.12/site-packages (from cvxpy) (0.9.0)\n",
      "Requirement already satisfied: scs>=3.2.4.post1 in /usr/local/Cellar/jupyterlab/4.2.3/libexec/lib/python3.12/site-packages (from cvxpy) (3.2.6)\n",
      "Requirement already satisfied: numpy>=1.15 in /usr/local/Cellar/jupyterlab/4.2.3/libexec/lib/python3.12/site-packages (from cvxpy) (1.26.4)\n",
      "Requirement already satisfied: scipy>=1.1.0 in /usr/local/Cellar/jupyterlab/4.2.3/libexec/lib/python3.12/site-packages (from cvxpy) (1.11.4)\n",
      "Requirement already satisfied: qdldl in /usr/local/Cellar/jupyterlab/4.2.3/libexec/lib/python3.12/site-packages (from osqp>=0.6.2->cvxpy) (0.1.7.post4)\n",
      "Requirement already satisfied: Mapie in /usr/local/Cellar/jupyterlab/4.2.3/libexec/lib/python3.12/site-packages (0.8.6)\n",
      "Requirement already satisfied: scikit-learn in /usr/local/Cellar/jupyterlab/4.2.3/libexec/lib/python3.12/site-packages (from Mapie) (1.5.1)\n",
      "Requirement already satisfied: scipy in /usr/local/Cellar/jupyterlab/4.2.3/libexec/lib/python3.12/site-packages (from Mapie) (1.11.4)\n",
      "Requirement already satisfied: numpy>=1.21 in /usr/local/Cellar/jupyterlab/4.2.3/libexec/lib/python3.12/site-packages (from Mapie) (1.26.4)\n",
      "Requirement already satisfied: packaging in /usr/local/Cellar/jupyterlab/4.2.3/libexec/lib/python3.12/site-packages (from Mapie) (24.1)\n",
      "Requirement already satisfied: joblib>=1.2.0 in /usr/local/Cellar/jupyterlab/4.2.3/libexec/lib/python3.12/site-packages (from scikit-learn->Mapie) (1.4.2)\n",
      "Requirement already satisfied: threadpoolctl>=3.1.0 in /usr/local/Cellar/jupyterlab/4.2.3/libexec/lib/python3.12/site-packages (from scikit-learn->Mapie) (3.5.0)\n"
     ]
    }
   ],
   "source": [
    "\n",
    "import subprocess\n",
    "import sys\n",
    " \n",
    "\n",
    "\n",
    "def install(package):\n",
    "    subprocess.check_call([sys.executable, \"-m\", \"pip\", \"install\", package])\n",
    "\n",
    " \n",
    "subprocess.check_call([sys.executable, \"-m\", \"pip\", \"install\", \"--upgrade\", \"numpy\", \"torch\"])\n",
    " \n",
    "install(\"pandas\")\n",
    "install(\"scikit-learn\")\n",
    "install(\"matplotlib\")\n",
    "install(\"xgboost\")\n",
    "install(\"statsmodels\")\n",
    "install(\"cvxpy\")\n",
    "install(\"Mapie\")"
   ]
  },
  {
   "cell_type": "code",
   "execution_count": 13,
   "id": "24066623-7f13-4d9b-b483-327829f1a74e",
   "metadata": {},
   "outputs": [],
   "source": [
    "import xgboost as xgb\n",
    "from sklearn.model_selection import GridSearchCV, train_test_split\n",
    "from sklearn.datasets import make_regression\n",
    "from sklearn.metrics import mean_squared_error\n",
    "import os \n",
    "import matplotlib.pyplot as plt\n",
    "import numpy as np\n",
    "import pandas as pd\n",
    "import math\n",
    "import random\n",
    "from data_analysis.data_analysis_utils import *\n",
    "\n",
    "\n",
    "from data_analysis.datasets.datasets import GetDataset\n",
    "\n",
    "\n",
    "from VennCalibration.VennQuantilePredictor import *\n",
    "from VennCalibration.quantile_regression import *\n",
    "from VennCalibration.CQR import *\n",
    "\n",
    "\n",
    "def prepare_data(data_name, base_path, random_state=3, p_train=0.5, p_cal=0.3, log_transform_y = False):\n",
    "    \"\"\"\n",
    "    Load data, preprocess features, and split into train, calibration, and test sets.\n",
    "\n",
    "    Parameters:\n",
    "    - filepath (str): Path to the CSV file containing the data.\n",
    "    - random_state (int): Seed used by the random number generator for reproducibility.\n",
    "    - p_train (float): Proportion of data to be used for training.\n",
    "    - p_cal (float): Proportion of data to be used for calibration.\n",
    "    - p_test (float): Proportion of data to be used for testing.\n",
    "    - response_column (str): Name of the column to be used as the response variable.\n",
    "\n",
    "    Returns:\n",
    "    - X_train (np.ndarray): Features for the training set.\n",
    "    - y_train (np.ndarray): Response for the training set.\n",
    "    - X_cal (np.ndarray): Features for the calibration set.\n",
    "    - y_cal (np.ndarray): Response for the calibration set.\n",
    "    - X_test (np.ndarray): Features for the test set.\n",
    "    - y_test (np.ndarray): Response for the test set.\n",
    "    \"\"\"\n",
    "\n",
    "    p_test= 1 - p_train -p_cal\n",
    "    # Load data\n",
    "    X,y = GetDataset(data_name , base_path)\n",
    "    y = np.array(y).reshape(-1)\n",
    "\n",
    "\n",
    "    if log_transform_y:\n",
    "      y = np.log(1 + y)\n",
    "\n",
    "    # Split data into train, calibration, and test sets\n",
    "    X_train, X_test, y_train, y_test = train_test_split(X, y, test_size=1 - p_train, random_state=random_state)\n",
    "    X_cal, X_test, y_cal, y_test = train_test_split(X_test, y_test, test_size=p_test / (p_cal + p_test), random_state=random_state)\n",
    "\n",
    "    return X_train, y_train, X_cal, y_cal, X_test, y_test\n",
    "\n",
    "\n",
    "\n",
    "\n",
    "\n",
    "def run_conformal_analysis(data_name, base_path, random_state=10, p_train=0.5, p_cal=0.3, alpha = 0.1, log_transform_y = False):\n",
    "\n",
    "    # Import external utilities (make sure this module is available in your path)\n",
    "\n",
    "\n",
    "\n",
    "    X_train, y_train, X_cal, y_cal, X_test, y_test = prepare_data(data_name, \n",
    "                                                                  base_path,\n",
    "        random_state=random_state,\n",
    "        p_train=p_train, p_cal=p_cal,\n",
    "        log_transform_y=log_transform_y)\n",
    "\n",
    "\n",
    "\n",
    "    # venn prediction\n",
    "    predictor_venn, VQP = conformal_venn_prediction(X_train, y_train, X_cal, y_cal, alpha = alpha, return_model = True)\n",
    "    y_median_venn, interval_venn, threshold_venn = predictor_venn(X_test)\n",
    "    quantile_uncalibrated = VQP.predict_score_quantile(X_test, calibrate=False)\n",
    "    quantile_uncalibrated_cal = VQP.predict_score_quantile(X_cal, calibrate=False)\n",
    "\n",
    "    interval_uncalibrated = np.vstack([y_median_venn - quantile_uncalibrated, y_median_venn + quantile_uncalibrated]).T\n",
    "\n",
    "    y_median_cal, _, _ = predictor_venn(X_cal)\n",
    "    \n",
    "\n",
    "    def CQR_symmetric(quantile_uncalibrated_cal, y_median_cal, y_cal, alpha):\n",
    "        n = len(y_cal)  # Number of calibration samples\n",
    "        # Adjust alpha for finite sample size\n",
    "        print(alpha)\n",
    "        alpha_adjusted = alpha * (1 + 1 / n)\n",
    "        # Compute the adjustment term\n",
    "        adjustments = np.abs(y_median_cal - y_cal) - quantile_uncalibrated_cal\n",
    "        adjustment_term = np.quantile(adjustments, 1 - alpha_adjusted)\n",
    "        print(np.mean(quantile_uncalibrated_cal + adjustment_term <= np.abs(y_median_cal - y_cal)))\n",
    "        return adjustment_term\n",
    "    adjustment_term = CQR_symmetric(quantile_uncalibrated_cal, y_median_cal, y_cal, alpha)\n",
    "    interval_cqr_symmetric = np.vstack([y_median_venn - quantile_uncalibrated - adjustment_term, y_median_venn + quantile_uncalibrated + adjustment_term]).T\n",
    " \n",
    "\n",
    "    # Mondrian venn prediction with 10 bins\n",
    "    predictor_mondrian = conformal_venn_prediction(X_train, y_train, X_cal, y_cal, alpha = alpha, quantile_calibrator = quantile_calibrator_histogram, calibrator_params = {\"num_bin\" : 5})\n",
    "    _, interval_mondrian_5, _ = predictor_mondrian(X_test)\n",
    "\n",
    "    predictor_mondrian = conformal_venn_prediction(X_train, y_train, X_cal, y_cal, alpha = alpha, quantile_calibrator = quantile_calibrator_histogram, calibrator_params = {\"num_bin\" : 10})\n",
    "    _, interval_mondrian_10, _ = predictor_mondrian(X_test)\n",
    "    \n",
    "    # CQR baseline\n",
    "    predictor_cqr = CQR(X_train, y_train, X_cal, y_cal, alpha = alpha)\n",
    "    _, interval_cqr = predictor_cqr(X_test) \n",
    "\n",
    "\n",
    "    # Compute unconditional CP\n",
    "    predictor_marginal = conformal_venn_prediction(X_train, y_train, X_cal, y_cal, alpha = alpha, quantile_calibrator = quantile_calibrator_histogram, calibrator_params = {\"num_bin\" : 1})\n",
    "    _, intervals_uncond, _ = predictor_marginal(X_test)\n",
    "\n",
    " \n",
    "    results = {\n",
    "        \"Method\": [],\n",
    "        \"Coverage (marginal)\": [],\n",
    "        \"Average Width\": [],\n",
    "        \"Calibration Error\": [],\n",
    "        \"coverage_by_bin\": [],\n",
    "        \"weights_by_bin\": []\n",
    "    }\n",
    "    names = [\"Uncalibrated\", \"Venn-Abers\",  \"Marginal\", \"CQR (symmetric)\", \"CQR\", \"Venn-Mondrian (5 bins)\", \"Venn-Mondrian (10 bins)\"]\n",
    "    methods = [interval_uncalibrated, interval_venn, intervals_uncond, interval_cqr_symmetric, interval_cqr, interval_mondrian_5, interval_mondrian_10]\n",
    "\n",
    "    for method, name in zip(methods, names):\n",
    "\n",
    "        # marginal coverage\n",
    "        marginal_coverage, width = compute_coverage(method, y_test, boolean=None)\n",
    "        \n",
    "        # coverage by bin\n",
    "        coverage_info_by_bin = calculate_coverage_in_bins(threshold_venn, method, y_test)\n",
    "        bin_ids = np.array([item[0] for item in coverage_info_by_bin]).reshape(-1)\n",
    "        weights_by_bin = np.mean([np.mean(threshold_venn == bin_id)  for bin_id in bin_ids])\n",
    "        weights_by_bin = weights_by_bin / np.mean(weights_by_bin)\n",
    "        coverage_by_bin = np.array([item[2] for item in coverage_info_by_bin]).reshape(-1)\n",
    "        calibration_error = np.mean(weights_by_bin * (np.maximum((1 - alpha) - coverage_by_bin, 0) )) \n",
    "        \n",
    "        results[\"Method\"].append(name)\n",
    "        results[\"Coverage (marginal)\"].append(np.mean(marginal_coverage))\n",
    "        results[\"Average Width\"].append(np.mean(width))\n",
    "        results[\"Calibration Error\"].append(np.mean(calibration_error))\n",
    "        results[\"coverage_by_bin\"].append(coverage_info_by_bin)\n",
    "        results[\"weights_by_bin\"].append(weights_by_bin)\n",
    "\n",
    "    df = pd.DataFrame(results)\n",
    "    df = df.map(lambda x: float(f\"{x:.3g}\") if isinstance(x, (int, float)) else x)\n",
    "    df = df.map(lambda x: f'{x:g}' if isinstance(x, (int, float)) else x)\n",
    "\n",
    "    return df\n",
    "    \n",
    "    # Output the table in LaTeX format\n",
    "     \n",
    "    #print(df.to_latex(index=False))\n",
    "\n",
    "    \n",
    " "
   ]
  },
  {
   "cell_type": "code",
   "execution_count": null,
   "id": "326c487a-f755-4a8e-9017-83e67d9e8223",
   "metadata": {
    "scrolled": true
   },
   "outputs": [
    {
     "name": "stdout",
     "output_type": "stream",
     "text": [
      "0.1\n",
      "0.1001531393568147\n"
     ]
    },
    {
     "name": "stderr",
     "output_type": "stream",
     "text": [
      "/Users/larsvanderlaan/repos/VennCalibration/myenv2/lib/python3.13/site-packages/mapie/utils.py:620: UserWarning: WARNING: The predictions are ill-sorted.\n",
      "  warnings.warn(\n",
      "/Users/larsvanderlaan/repos/VennCalibration/myenv2/lib/python3.13/site-packages/mapie/utils.py:620: UserWarning: WARNING: The predictions are ill-sorted.\n",
      "  warnings.warn(\n"
     ]
    },
    {
     "name": "stdout",
     "output_type": "stream",
     "text": [
      "0.1\n",
      "0.1001531393568147\n"
     ]
    },
    {
     "name": "stderr",
     "output_type": "stream",
     "text": [
      "/Users/larsvanderlaan/repos/VennCalibration/myenv2/lib/python3.13/site-packages/mapie/utils.py:620: UserWarning: WARNING: The predictions are ill-sorted.\n",
      "  warnings.warn(\n",
      "/Users/larsvanderlaan/repos/VennCalibration/myenv2/lib/python3.13/site-packages/mapie/utils.py:620: UserWarning: WARNING: The predictions are ill-sorted.\n",
      "  warnings.warn(\n"
     ]
    },
    {
     "name": "stdout",
     "output_type": "stream",
     "text": [
      "0.1\n",
      "0.1001531393568147\n"
     ]
    },
    {
     "name": "stderr",
     "output_type": "stream",
     "text": [
      "/Users/larsvanderlaan/repos/VennCalibration/myenv2/lib/python3.13/site-packages/mapie/utils.py:620: UserWarning: WARNING: The predictions are ill-sorted.\n",
      "  warnings.warn(\n",
      "/Users/larsvanderlaan/repos/VennCalibration/myenv2/lib/python3.13/site-packages/mapie/utils.py:620: UserWarning: WARNING: The predictions are ill-sorted.\n",
      "  warnings.warn(\n"
     ]
    },
    {
     "name": "stdout",
     "output_type": "stream",
     "text": [
      "0.1\n",
      "0.1001531393568147\n"
     ]
    },
    {
     "name": "stderr",
     "output_type": "stream",
     "text": [
      "/Users/larsvanderlaan/repos/VennCalibration/myenv2/lib/python3.13/site-packages/mapie/utils.py:620: UserWarning: WARNING: The predictions are ill-sorted.\n",
      "  warnings.warn(\n",
      "/Users/larsvanderlaan/repos/VennCalibration/myenv2/lib/python3.13/site-packages/mapie/utils.py:620: UserWarning: WARNING: The predictions are ill-sorted.\n",
      "  warnings.warn(\n"
     ]
    },
    {
     "name": "stdout",
     "output_type": "stream",
     "text": [
      "0.1\n",
      "0.1001531393568147\n"
     ]
    },
    {
     "name": "stderr",
     "output_type": "stream",
     "text": [
      "/Users/larsvanderlaan/repos/VennCalibration/myenv2/lib/python3.13/site-packages/mapie/utils.py:620: UserWarning: WARNING: The predictions are ill-sorted.\n",
      "  warnings.warn(\n",
      "/Users/larsvanderlaan/repos/VennCalibration/myenv2/lib/python3.13/site-packages/mapie/utils.py:620: UserWarning: WARNING: The predictions are ill-sorted.\n",
      "  warnings.warn(\n"
     ]
    },
    {
     "name": "stdout",
     "output_type": "stream",
     "text": [
      "0.1\n",
      "0.1001531393568147\n"
     ]
    },
    {
     "name": "stderr",
     "output_type": "stream",
     "text": [
      "/Users/larsvanderlaan/repos/VennCalibration/myenv2/lib/python3.13/site-packages/mapie/utils.py:620: UserWarning: WARNING: The predictions are ill-sorted.\n",
      "  warnings.warn(\n",
      "/Users/larsvanderlaan/repos/VennCalibration/myenv2/lib/python3.13/site-packages/mapie/utils.py:620: UserWarning: WARNING: The predictions are ill-sorted.\n",
      "  warnings.warn(\n"
     ]
    },
    {
     "name": "stdout",
     "output_type": "stream",
     "text": [
      "0.1\n",
      "0.1001531393568147\n"
     ]
    },
    {
     "name": "stderr",
     "output_type": "stream",
     "text": [
      "/Users/larsvanderlaan/repos/VennCalibration/myenv2/lib/python3.13/site-packages/mapie/utils.py:620: UserWarning: WARNING: The predictions are ill-sorted.\n",
      "  warnings.warn(\n",
      "/Users/larsvanderlaan/repos/VennCalibration/myenv2/lib/python3.13/site-packages/mapie/utils.py:620: UserWarning: WARNING: The predictions are ill-sorted.\n",
      "  warnings.warn(\n"
     ]
    },
    {
     "name": "stdout",
     "output_type": "stream",
     "text": [
      "0.1\n",
      "0.1001531393568147\n"
     ]
    },
    {
     "name": "stderr",
     "output_type": "stream",
     "text": [
      "/Users/larsvanderlaan/repos/VennCalibration/myenv2/lib/python3.13/site-packages/mapie/utils.py:620: UserWarning: WARNING: The predictions are ill-sorted.\n",
      "  warnings.warn(\n",
      "/Users/larsvanderlaan/repos/VennCalibration/myenv2/lib/python3.13/site-packages/mapie/utils.py:620: UserWarning: WARNING: The predictions are ill-sorted.\n",
      "  warnings.warn(\n"
     ]
    },
    {
     "name": "stdout",
     "output_type": "stream",
     "text": [
      "0.1\n",
      "0.1001531393568147\n"
     ]
    },
    {
     "name": "stderr",
     "output_type": "stream",
     "text": [
      "/Users/larsvanderlaan/repos/VennCalibration/myenv2/lib/python3.13/site-packages/mapie/utils.py:620: UserWarning: WARNING: The predictions are ill-sorted.\n",
      "  warnings.warn(\n",
      "/Users/larsvanderlaan/repos/VennCalibration/myenv2/lib/python3.13/site-packages/mapie/utils.py:620: UserWarning: WARNING: The predictions are ill-sorted.\n",
      "  warnings.warn(\n"
     ]
    },
    {
     "name": "stdout",
     "output_type": "stream",
     "text": [
      "0.1\n",
      "0.1001531393568147\n"
     ]
    },
    {
     "name": "stderr",
     "output_type": "stream",
     "text": [
      "/Users/larsvanderlaan/repos/VennCalibration/myenv2/lib/python3.13/site-packages/mapie/utils.py:620: UserWarning: WARNING: The predictions are ill-sorted.\n",
      "  warnings.warn(\n",
      "/Users/larsvanderlaan/repos/VennCalibration/myenv2/lib/python3.13/site-packages/mapie/utils.py:620: UserWarning: WARNING: The predictions are ill-sorted.\n",
      "  warnings.warn(\n"
     ]
    },
    {
     "name": "stdout",
     "output_type": "stream",
     "text": [
      "0.1\n",
      "0.1001531393568147\n"
     ]
    },
    {
     "name": "stderr",
     "output_type": "stream",
     "text": [
      "/Users/larsvanderlaan/repos/VennCalibration/myenv2/lib/python3.13/site-packages/mapie/utils.py:620: UserWarning: WARNING: The predictions are ill-sorted.\n",
      "  warnings.warn(\n",
      "/Users/larsvanderlaan/repos/VennCalibration/myenv2/lib/python3.13/site-packages/mapie/utils.py:620: UserWarning: WARNING: The predictions are ill-sorted.\n",
      "  warnings.warn(\n"
     ]
    },
    {
     "name": "stdout",
     "output_type": "stream",
     "text": [
      "0.1\n",
      "0.1001531393568147\n"
     ]
    },
    {
     "name": "stderr",
     "output_type": "stream",
     "text": [
      "/Users/larsvanderlaan/repos/VennCalibration/myenv2/lib/python3.13/site-packages/mapie/utils.py:620: UserWarning: WARNING: The predictions are ill-sorted.\n",
      "  warnings.warn(\n",
      "/Users/larsvanderlaan/repos/VennCalibration/myenv2/lib/python3.13/site-packages/mapie/utils.py:620: UserWarning: WARNING: The predictions are ill-sorted.\n",
      "  warnings.warn(\n"
     ]
    },
    {
     "name": "stdout",
     "output_type": "stream",
     "text": [
      "0.1\n",
      "0.1001531393568147\n"
     ]
    },
    {
     "name": "stderr",
     "output_type": "stream",
     "text": [
      "/Users/larsvanderlaan/repos/VennCalibration/myenv2/lib/python3.13/site-packages/mapie/utils.py:620: UserWarning: WARNING: The predictions are ill-sorted.\n",
      "  warnings.warn(\n",
      "/Users/larsvanderlaan/repos/VennCalibration/myenv2/lib/python3.13/site-packages/mapie/utils.py:620: UserWarning: WARNING: The predictions are ill-sorted.\n",
      "  warnings.warn(\n"
     ]
    },
    {
     "name": "stdout",
     "output_type": "stream",
     "text": [
      "0.1\n",
      "0.1001531393568147\n"
     ]
    },
    {
     "name": "stderr",
     "output_type": "stream",
     "text": [
      "/Users/larsvanderlaan/repos/VennCalibration/myenv2/lib/python3.13/site-packages/mapie/utils.py:620: UserWarning: WARNING: The predictions are ill-sorted.\n",
      "  warnings.warn(\n",
      "/Users/larsvanderlaan/repos/VennCalibration/myenv2/lib/python3.13/site-packages/mapie/utils.py:620: UserWarning: WARNING: The predictions are ill-sorted.\n",
      "  warnings.warn(\n"
     ]
    },
    {
     "name": "stdout",
     "output_type": "stream",
     "text": [
      "0.1\n",
      "0.1001531393568147\n"
     ]
    },
    {
     "name": "stderr",
     "output_type": "stream",
     "text": [
      "/Users/larsvanderlaan/repos/VennCalibration/myenv2/lib/python3.13/site-packages/mapie/utils.py:620: UserWarning: WARNING: The predictions are ill-sorted.\n",
      "  warnings.warn(\n",
      "/Users/larsvanderlaan/repos/VennCalibration/myenv2/lib/python3.13/site-packages/mapie/utils.py:620: UserWarning: WARNING: The predictions are ill-sorted.\n",
      "  warnings.warn(\n"
     ]
    },
    {
     "name": "stdout",
     "output_type": "stream",
     "text": [
      "0.1\n",
      "0.1001531393568147\n"
     ]
    },
    {
     "name": "stderr",
     "output_type": "stream",
     "text": [
      "/Users/larsvanderlaan/repos/VennCalibration/myenv2/lib/python3.13/site-packages/mapie/utils.py:620: UserWarning: WARNING: The predictions are ill-sorted.\n",
      "  warnings.warn(\n",
      "/Users/larsvanderlaan/repos/VennCalibration/myenv2/lib/python3.13/site-packages/mapie/utils.py:620: UserWarning: WARNING: The predictions are ill-sorted.\n",
      "  warnings.warn(\n"
     ]
    },
    {
     "name": "stdout",
     "output_type": "stream",
     "text": [
      "0.1\n",
      "0.1001531393568147\n"
     ]
    },
    {
     "name": "stderr",
     "output_type": "stream",
     "text": [
      "/Users/larsvanderlaan/repos/VennCalibration/myenv2/lib/python3.13/site-packages/mapie/utils.py:620: UserWarning: WARNING: The predictions are ill-sorted.\n",
      "  warnings.warn(\n",
      "/Users/larsvanderlaan/repos/VennCalibration/myenv2/lib/python3.13/site-packages/mapie/utils.py:620: UserWarning: WARNING: The predictions are ill-sorted.\n",
      "  warnings.warn(\n"
     ]
    },
    {
     "name": "stdout",
     "output_type": "stream",
     "text": [
      "0.1\n",
      "0.1001531393568147\n"
     ]
    },
    {
     "name": "stderr",
     "output_type": "stream",
     "text": [
      "/Users/larsvanderlaan/repos/VennCalibration/myenv2/lib/python3.13/site-packages/mapie/utils.py:620: UserWarning: WARNING: The predictions are ill-sorted.\n",
      "  warnings.warn(\n",
      "/Users/larsvanderlaan/repos/VennCalibration/myenv2/lib/python3.13/site-packages/mapie/utils.py:620: UserWarning: WARNING: The predictions are ill-sorted.\n",
      "  warnings.warn(\n"
     ]
    },
    {
     "name": "stdout",
     "output_type": "stream",
     "text": [
      "0.1\n",
      "0.1001531393568147\n"
     ]
    },
    {
     "name": "stderr",
     "output_type": "stream",
     "text": [
      "/Users/larsvanderlaan/repos/VennCalibration/myenv2/lib/python3.13/site-packages/mapie/utils.py:620: UserWarning: WARNING: The predictions are ill-sorted.\n",
      "  warnings.warn(\n",
      "/Users/larsvanderlaan/repos/VennCalibration/myenv2/lib/python3.13/site-packages/mapie/utils.py:620: UserWarning: WARNING: The predictions are ill-sorted.\n",
      "  warnings.warn(\n"
     ]
    },
    {
     "name": "stdout",
     "output_type": "stream",
     "text": [
      "0.1\n",
      "0.1001531393568147\n"
     ]
    },
    {
     "name": "stderr",
     "output_type": "stream",
     "text": [
      "/Users/larsvanderlaan/repos/VennCalibration/myenv2/lib/python3.13/site-packages/mapie/utils.py:620: UserWarning: WARNING: The predictions are ill-sorted.\n",
      "  warnings.warn(\n",
      "/Users/larsvanderlaan/repos/VennCalibration/myenv2/lib/python3.13/site-packages/mapie/utils.py:620: UserWarning: WARNING: The predictions are ill-sorted.\n",
      "  warnings.warn(\n"
     ]
    },
    {
     "name": "stdout",
     "output_type": "stream",
     "text": [
      "0.1\n",
      "0.1001531393568147\n"
     ]
    },
    {
     "name": "stderr",
     "output_type": "stream",
     "text": [
      "/Users/larsvanderlaan/repos/VennCalibration/myenv2/lib/python3.13/site-packages/mapie/utils.py:620: UserWarning: WARNING: The predictions are ill-sorted.\n",
      "  warnings.warn(\n",
      "/Users/larsvanderlaan/repos/VennCalibration/myenv2/lib/python3.13/site-packages/mapie/utils.py:620: UserWarning: WARNING: The predictions are ill-sorted.\n",
      "  warnings.warn(\n"
     ]
    },
    {
     "name": "stdout",
     "output_type": "stream",
     "text": [
      "0.1\n",
      "0.1001531393568147\n"
     ]
    },
    {
     "name": "stderr",
     "output_type": "stream",
     "text": [
      "/Users/larsvanderlaan/repos/VennCalibration/myenv2/lib/python3.13/site-packages/mapie/utils.py:620: UserWarning: WARNING: The predictions are ill-sorted.\n",
      "  warnings.warn(\n",
      "/Users/larsvanderlaan/repos/VennCalibration/myenv2/lib/python3.13/site-packages/mapie/utils.py:620: UserWarning: WARNING: The predictions are ill-sorted.\n",
      "  warnings.warn(\n"
     ]
    },
    {
     "name": "stdout",
     "output_type": "stream",
     "text": [
      "0.1\n",
      "0.1001531393568147\n"
     ]
    },
    {
     "name": "stderr",
     "output_type": "stream",
     "text": [
      "/Users/larsvanderlaan/repos/VennCalibration/myenv2/lib/python3.13/site-packages/mapie/utils.py:620: UserWarning: WARNING: The predictions are ill-sorted.\n",
      "  warnings.warn(\n",
      "/Users/larsvanderlaan/repos/VennCalibration/myenv2/lib/python3.13/site-packages/mapie/utils.py:620: UserWarning: WARNING: The predictions are ill-sorted.\n",
      "  warnings.warn(\n"
     ]
    },
    {
     "name": "stdout",
     "output_type": "stream",
     "text": [
      "0.1\n",
      "0.1001531393568147\n"
     ]
    },
    {
     "name": "stderr",
     "output_type": "stream",
     "text": [
      "/Users/larsvanderlaan/repos/VennCalibration/myenv2/lib/python3.13/site-packages/mapie/utils.py:620: UserWarning: WARNING: The predictions are ill-sorted.\n",
      "  warnings.warn(\n",
      "/Users/larsvanderlaan/repos/VennCalibration/myenv2/lib/python3.13/site-packages/mapie/utils.py:620: UserWarning: WARNING: The predictions are ill-sorted.\n",
      "  warnings.warn(\n"
     ]
    },
    {
     "name": "stdout",
     "output_type": "stream",
     "text": [
      "0.1\n",
      "0.1001531393568147\n"
     ]
    },
    {
     "name": "stderr",
     "output_type": "stream",
     "text": [
      "/Users/larsvanderlaan/repos/VennCalibration/myenv2/lib/python3.13/site-packages/mapie/utils.py:620: UserWarning: WARNING: The predictions are ill-sorted.\n",
      "  warnings.warn(\n",
      "/Users/larsvanderlaan/repos/VennCalibration/myenv2/lib/python3.13/site-packages/mapie/utils.py:620: UserWarning: WARNING: The predictions are ill-sorted.\n",
      "  warnings.warn(\n"
     ]
    },
    {
     "name": "stdout",
     "output_type": "stream",
     "text": [
      "0.1\n",
      "0.1001531393568147\n"
     ]
    },
    {
     "name": "stderr",
     "output_type": "stream",
     "text": [
      "/Users/larsvanderlaan/repos/VennCalibration/myenv2/lib/python3.13/site-packages/mapie/utils.py:620: UserWarning: WARNING: The predictions are ill-sorted.\n",
      "  warnings.warn(\n",
      "/Users/larsvanderlaan/repos/VennCalibration/myenv2/lib/python3.13/site-packages/mapie/utils.py:620: UserWarning: WARNING: The predictions are ill-sorted.\n",
      "  warnings.warn(\n"
     ]
    },
    {
     "name": "stdout",
     "output_type": "stream",
     "text": [
      "0.1\n",
      "0.1001531393568147\n"
     ]
    },
    {
     "name": "stderr",
     "output_type": "stream",
     "text": [
      "/Users/larsvanderlaan/repos/VennCalibration/myenv2/lib/python3.13/site-packages/mapie/utils.py:620: UserWarning: WARNING: The predictions are ill-sorted.\n",
      "  warnings.warn(\n",
      "/Users/larsvanderlaan/repos/VennCalibration/myenv2/lib/python3.13/site-packages/mapie/utils.py:620: UserWarning: WARNING: The predictions are ill-sorted.\n",
      "  warnings.warn(\n"
     ]
    },
    {
     "name": "stdout",
     "output_type": "stream",
     "text": [
      "0.1\n",
      "0.1001531393568147\n"
     ]
    },
    {
     "name": "stderr",
     "output_type": "stream",
     "text": [
      "/Users/larsvanderlaan/repos/VennCalibration/myenv2/lib/python3.13/site-packages/mapie/utils.py:620: UserWarning: WARNING: The predictions are ill-sorted.\n",
      "  warnings.warn(\n",
      "/Users/larsvanderlaan/repos/VennCalibration/myenv2/lib/python3.13/site-packages/mapie/utils.py:620: UserWarning: WARNING: The predictions are ill-sorted.\n",
      "  warnings.warn(\n"
     ]
    },
    {
     "name": "stdout",
     "output_type": "stream",
     "text": [
      "0.1\n",
      "0.1001531393568147\n"
     ]
    },
    {
     "name": "stderr",
     "output_type": "stream",
     "text": [
      "/Users/larsvanderlaan/repos/VennCalibration/myenv2/lib/python3.13/site-packages/mapie/utils.py:620: UserWarning: WARNING: The predictions are ill-sorted.\n",
      "  warnings.warn(\n",
      "/Users/larsvanderlaan/repos/VennCalibration/myenv2/lib/python3.13/site-packages/mapie/utils.py:620: UserWarning: WARNING: The predictions are ill-sorted.\n",
      "  warnings.warn(\n"
     ]
    },
    {
     "name": "stdout",
     "output_type": "stream",
     "text": [
      "0.1\n",
      "0.1001531393568147\n"
     ]
    },
    {
     "name": "stderr",
     "output_type": "stream",
     "text": [
      "/Users/larsvanderlaan/repos/VennCalibration/myenv2/lib/python3.13/site-packages/mapie/utils.py:620: UserWarning: WARNING: The predictions are ill-sorted.\n",
      "  warnings.warn(\n",
      "/Users/larsvanderlaan/repos/VennCalibration/myenv2/lib/python3.13/site-packages/mapie/utils.py:620: UserWarning: WARNING: The predictions are ill-sorted.\n",
      "  warnings.warn(\n"
     ]
    },
    {
     "name": "stdout",
     "output_type": "stream",
     "text": [
      "0.1\n",
      "0.1001531393568147\n"
     ]
    },
    {
     "name": "stderr",
     "output_type": "stream",
     "text": [
      "/Users/larsvanderlaan/repos/VennCalibration/myenv2/lib/python3.13/site-packages/mapie/utils.py:620: UserWarning: WARNING: The predictions are ill-sorted.\n",
      "  warnings.warn(\n",
      "/Users/larsvanderlaan/repos/VennCalibration/myenv2/lib/python3.13/site-packages/mapie/utils.py:620: UserWarning: WARNING: The predictions are ill-sorted.\n",
      "  warnings.warn(\n"
     ]
    },
    {
     "name": "stdout",
     "output_type": "stream",
     "text": [
      "0.1\n",
      "0.1001531393568147\n"
     ]
    },
    {
     "name": "stderr",
     "output_type": "stream",
     "text": [
      "/Users/larsvanderlaan/repos/VennCalibration/myenv2/lib/python3.13/site-packages/mapie/utils.py:620: UserWarning: WARNING: The predictions are ill-sorted.\n",
      "  warnings.warn(\n",
      "/Users/larsvanderlaan/repos/VennCalibration/myenv2/lib/python3.13/site-packages/mapie/utils.py:620: UserWarning: WARNING: The predictions are ill-sorted.\n",
      "  warnings.warn(\n"
     ]
    },
    {
     "name": "stdout",
     "output_type": "stream",
     "text": [
      "0.1\n",
      "0.1001531393568147\n"
     ]
    },
    {
     "name": "stderr",
     "output_type": "stream",
     "text": [
      "/Users/larsvanderlaan/repos/VennCalibration/myenv2/lib/python3.13/site-packages/mapie/utils.py:620: UserWarning: WARNING: The predictions are ill-sorted.\n",
      "  warnings.warn(\n",
      "/Users/larsvanderlaan/repos/VennCalibration/myenv2/lib/python3.13/site-packages/mapie/utils.py:620: UserWarning: WARNING: The predictions are ill-sorted.\n",
      "  warnings.warn(\n"
     ]
    },
    {
     "name": "stdout",
     "output_type": "stream",
     "text": [
      "0.1\n",
      "0.1001531393568147\n"
     ]
    },
    {
     "name": "stderr",
     "output_type": "stream",
     "text": [
      "/Users/larsvanderlaan/repos/VennCalibration/myenv2/lib/python3.13/site-packages/mapie/utils.py:620: UserWarning: WARNING: The predictions are ill-sorted.\n",
      "  warnings.warn(\n",
      "/Users/larsvanderlaan/repos/VennCalibration/myenv2/lib/python3.13/site-packages/mapie/utils.py:620: UserWarning: WARNING: The predictions are ill-sorted.\n",
      "  warnings.warn(\n"
     ]
    },
    {
     "name": "stdout",
     "output_type": "stream",
     "text": [
      "0.1\n",
      "0.1001531393568147\n"
     ]
    },
    {
     "name": "stderr",
     "output_type": "stream",
     "text": [
      "/Users/larsvanderlaan/repos/VennCalibration/myenv2/lib/python3.13/site-packages/mapie/utils.py:620: UserWarning: WARNING: The predictions are ill-sorted.\n",
      "  warnings.warn(\n",
      "/Users/larsvanderlaan/repos/VennCalibration/myenv2/lib/python3.13/site-packages/mapie/utils.py:620: UserWarning: WARNING: The predictions are ill-sorted.\n",
      "  warnings.warn(\n"
     ]
    },
    {
     "name": "stdout",
     "output_type": "stream",
     "text": [
      "0.1\n",
      "0.1001531393568147\n"
     ]
    },
    {
     "name": "stderr",
     "output_type": "stream",
     "text": [
      "/Users/larsvanderlaan/repos/VennCalibration/myenv2/lib/python3.13/site-packages/mapie/utils.py:620: UserWarning: WARNING: The predictions are ill-sorted.\n",
      "  warnings.warn(\n",
      "/Users/larsvanderlaan/repos/VennCalibration/myenv2/lib/python3.13/site-packages/mapie/utils.py:620: UserWarning: WARNING: The predictions are ill-sorted.\n",
      "  warnings.warn(\n"
     ]
    },
    {
     "name": "stdout",
     "output_type": "stream",
     "text": [
      "0.1\n",
      "0.1001531393568147\n"
     ]
    },
    {
     "name": "stderr",
     "output_type": "stream",
     "text": [
      "/Users/larsvanderlaan/repos/VennCalibration/myenv2/lib/python3.13/site-packages/mapie/utils.py:620: UserWarning: WARNING: The predictions are ill-sorted.\n",
      "  warnings.warn(\n",
      "/Users/larsvanderlaan/repos/VennCalibration/myenv2/lib/python3.13/site-packages/mapie/utils.py:620: UserWarning: WARNING: The predictions are ill-sorted.\n",
      "  warnings.warn(\n"
     ]
    },
    {
     "name": "stdout",
     "output_type": "stream",
     "text": [
      "0.1\n",
      "0.1001531393568147\n"
     ]
    },
    {
     "name": "stderr",
     "output_type": "stream",
     "text": [
      "/Users/larsvanderlaan/repos/VennCalibration/myenv2/lib/python3.13/site-packages/mapie/utils.py:620: UserWarning: WARNING: The predictions are ill-sorted.\n",
      "  warnings.warn(\n",
      "/Users/larsvanderlaan/repos/VennCalibration/myenv2/lib/python3.13/site-packages/mapie/utils.py:620: UserWarning: WARNING: The predictions are ill-sorted.\n",
      "  warnings.warn(\n"
     ]
    },
    {
     "name": "stdout",
     "output_type": "stream",
     "text": [
      "0.1\n",
      "0.1001531393568147\n"
     ]
    },
    {
     "name": "stderr",
     "output_type": "stream",
     "text": [
      "/Users/larsvanderlaan/repos/VennCalibration/myenv2/lib/python3.13/site-packages/mapie/utils.py:620: UserWarning: WARNING: The predictions are ill-sorted.\n",
      "  warnings.warn(\n",
      "/Users/larsvanderlaan/repos/VennCalibration/myenv2/lib/python3.13/site-packages/mapie/utils.py:620: UserWarning: WARNING: The predictions are ill-sorted.\n",
      "  warnings.warn(\n"
     ]
    },
    {
     "name": "stdout",
     "output_type": "stream",
     "text": [
      "0.1\n",
      "0.1001531393568147\n"
     ]
    },
    {
     "name": "stderr",
     "output_type": "stream",
     "text": [
      "/Users/larsvanderlaan/repos/VennCalibration/myenv2/lib/python3.13/site-packages/mapie/utils.py:620: UserWarning: WARNING: The predictions are ill-sorted.\n",
      "  warnings.warn(\n",
      "/Users/larsvanderlaan/repos/VennCalibration/myenv2/lib/python3.13/site-packages/mapie/utils.py:620: UserWarning: WARNING: The predictions are ill-sorted.\n",
      "  warnings.warn(\n"
     ]
    },
    {
     "name": "stdout",
     "output_type": "stream",
     "text": [
      "0.1\n",
      "0.1001531393568147\n"
     ]
    },
    {
     "name": "stderr",
     "output_type": "stream",
     "text": [
      "/Users/larsvanderlaan/repos/VennCalibration/myenv2/lib/python3.13/site-packages/mapie/utils.py:620: UserWarning: WARNING: The predictions are ill-sorted.\n",
      "  warnings.warn(\n",
      "/Users/larsvanderlaan/repos/VennCalibration/myenv2/lib/python3.13/site-packages/mapie/utils.py:620: UserWarning: WARNING: The predictions are ill-sorted.\n",
      "  warnings.warn(\n"
     ]
    },
    {
     "name": "stdout",
     "output_type": "stream",
     "text": [
      "0.1\n",
      "0.1001531393568147\n"
     ]
    },
    {
     "name": "stderr",
     "output_type": "stream",
     "text": [
      "/Users/larsvanderlaan/repos/VennCalibration/myenv2/lib/python3.13/site-packages/mapie/utils.py:620: UserWarning: WARNING: The predictions are ill-sorted.\n",
      "  warnings.warn(\n",
      "/Users/larsvanderlaan/repos/VennCalibration/myenv2/lib/python3.13/site-packages/mapie/utils.py:620: UserWarning: WARNING: The predictions are ill-sorted.\n",
      "  warnings.warn(\n"
     ]
    },
    {
     "name": "stdout",
     "output_type": "stream",
     "text": [
      "0.1\n",
      "0.1001531393568147\n"
     ]
    },
    {
     "name": "stderr",
     "output_type": "stream",
     "text": [
      "/Users/larsvanderlaan/repos/VennCalibration/myenv2/lib/python3.13/site-packages/mapie/utils.py:620: UserWarning: WARNING: The predictions are ill-sorted.\n",
      "  warnings.warn(\n",
      "/Users/larsvanderlaan/repos/VennCalibration/myenv2/lib/python3.13/site-packages/mapie/utils.py:620: UserWarning: WARNING: The predictions are ill-sorted.\n",
      "  warnings.warn(\n"
     ]
    },
    {
     "name": "stdout",
     "output_type": "stream",
     "text": [
      "0.1\n",
      "0.1001531393568147\n"
     ]
    },
    {
     "name": "stderr",
     "output_type": "stream",
     "text": [
      "/Users/larsvanderlaan/repos/VennCalibration/myenv2/lib/python3.13/site-packages/mapie/utils.py:620: UserWarning: WARNING: The predictions are ill-sorted.\n",
      "  warnings.warn(\n",
      "/Users/larsvanderlaan/repos/VennCalibration/myenv2/lib/python3.13/site-packages/mapie/utils.py:620: UserWarning: WARNING: The predictions are ill-sorted.\n",
      "  warnings.warn(\n"
     ]
    },
    {
     "name": "stdout",
     "output_type": "stream",
     "text": [
      "0.1\n",
      "0.1001531393568147\n"
     ]
    },
    {
     "name": "stderr",
     "output_type": "stream",
     "text": [
      "/Users/larsvanderlaan/repos/VennCalibration/myenv2/lib/python3.13/site-packages/mapie/utils.py:620: UserWarning: WARNING: The predictions are ill-sorted.\n",
      "  warnings.warn(\n",
      "/Users/larsvanderlaan/repos/VennCalibration/myenv2/lib/python3.13/site-packages/mapie/utils.py:620: UserWarning: WARNING: The predictions are ill-sorted.\n",
      "  warnings.warn(\n"
     ]
    },
    {
     "name": "stdout",
     "output_type": "stream",
     "text": [
      "0.1\n",
      "0.1001531393568147\n"
     ]
    },
    {
     "name": "stderr",
     "output_type": "stream",
     "text": [
      "/Users/larsvanderlaan/repos/VennCalibration/myenv2/lib/python3.13/site-packages/mapie/utils.py:620: UserWarning: WARNING: The predictions are ill-sorted.\n",
      "  warnings.warn(\n",
      "/Users/larsvanderlaan/repos/VennCalibration/myenv2/lib/python3.13/site-packages/mapie/utils.py:620: UserWarning: WARNING: The predictions are ill-sorted.\n",
      "  warnings.warn(\n"
     ]
    },
    {
     "name": "stdout",
     "output_type": "stream",
     "text": [
      "0.1\n",
      "0.1001531393568147\n"
     ]
    },
    {
     "name": "stderr",
     "output_type": "stream",
     "text": [
      "/Users/larsvanderlaan/repos/VennCalibration/myenv2/lib/python3.13/site-packages/mapie/utils.py:620: UserWarning: WARNING: The predictions are ill-sorted.\n",
      "  warnings.warn(\n",
      "/Users/larsvanderlaan/repos/VennCalibration/myenv2/lib/python3.13/site-packages/mapie/utils.py:620: UserWarning: WARNING: The predictions are ill-sorted.\n",
      "  warnings.warn(\n"
     ]
    },
    {
     "name": "stdout",
     "output_type": "stream",
     "text": [
      "0.1\n",
      "0.1001531393568147\n"
     ]
    },
    {
     "name": "stderr",
     "output_type": "stream",
     "text": [
      "/Users/larsvanderlaan/repos/VennCalibration/myenv2/lib/python3.13/site-packages/mapie/utils.py:620: UserWarning: WARNING: The predictions are ill-sorted.\n",
      "  warnings.warn(\n",
      "/Users/larsvanderlaan/repos/VennCalibration/myenv2/lib/python3.13/site-packages/mapie/utils.py:620: UserWarning: WARNING: The predictions are ill-sorted.\n",
      "  warnings.warn(\n"
     ]
    },
    {
     "name": "stdout",
     "output_type": "stream",
     "text": [
      "0.1\n",
      "0.1001531393568147\n"
     ]
    },
    {
     "name": "stderr",
     "output_type": "stream",
     "text": [
      "/Users/larsvanderlaan/repos/VennCalibration/myenv2/lib/python3.13/site-packages/mapie/utils.py:620: UserWarning: WARNING: The predictions are ill-sorted.\n",
      "  warnings.warn(\n",
      "/Users/larsvanderlaan/repos/VennCalibration/myenv2/lib/python3.13/site-packages/mapie/utils.py:620: UserWarning: WARNING: The predictions are ill-sorted.\n",
      "  warnings.warn(\n"
     ]
    },
    {
     "name": "stdout",
     "output_type": "stream",
     "text": [
      "0.1\n",
      "0.1001531393568147\n"
     ]
    },
    {
     "name": "stderr",
     "output_type": "stream",
     "text": [
      "/Users/larsvanderlaan/repos/VennCalibration/myenv2/lib/python3.13/site-packages/mapie/utils.py:620: UserWarning: WARNING: The predictions are ill-sorted.\n",
      "  warnings.warn(\n",
      "/Users/larsvanderlaan/repos/VennCalibration/myenv2/lib/python3.13/site-packages/mapie/utils.py:620: UserWarning: WARNING: The predictions are ill-sorted.\n",
      "  warnings.warn(\n"
     ]
    }
   ],
   "source": [
    "path = \"data_analysis/datasets/\"\n",
    "data_name = \"community\"\n",
    "\n",
    "import numpy as np\n",
    "import pandas as pd\n",
    "\n",
    "def run_dataset(data_name):\n",
    "    log_transform_y = (data_name == \"meps_21\")\n",
    " \n",
    "    seed = 42\n",
    "    np.random.seed(seed)\n",
    "    num_reps = 100\n",
    "    random_states = np.random.randint(0, 1e6, size=num_reps).tolist()\n",
    "    # average over 10 data splits\n",
    "    dfs = [run_conformal_analysis(data_name, path, log_transform_y = log_transform_y, random_state = state) for state in random_states]\n",
    "\n",
    "\n",
    "    # Combine dataframes with iteration metadata\n",
    "    combined_df = pd.concat(\n",
    "        [df.assign(iter=i + 1) for i, df in enumerate(dfs)], ignore_index=True\n",
    "    )\n",
    "\n",
    "    methods = [\"Venn-Abers\", \"Marginal\", \"CQR\", \"Venn-Mondrian (5 bins)\", \"Venn-Mondrian (10 bins)\"]\n",
    "\n",
    "    # Create a list to store results\n",
    "    results = []\n",
    "\n",
    "    for method in methods:\n",
    "        df_sub = combined_df[combined_df['Method'] == method]\n",
    "        marginal_coverage = np.nanmean(pd.to_numeric(df_sub['Coverage (marginal)'], errors='coerce').values)\n",
    "        marginal_width = np.nanmean(pd.to_numeric(df_sub['Average Width'], errors='coerce').values)\n",
    "        conditional_calibration_error = np.nanmean(pd.to_numeric(df_sub['Calibration Error'], errors='coerce').values)\n",
    "    \n",
    "        # Append the results to the list\n",
    "        results.append({\n",
    "            \"Method\": method,\n",
    "            \"Marginal Coverage\": marginal_coverage,\n",
    "            \"Average Width\": marginal_width,\n",
    "            \"Conditional Calibration Error\": conditional_calibration_error\n",
    "        })\n",
    "\n",
    "    # Convert the results list into a DataFrame\n",
    "    results_df = pd.DataFrame(results)\n",
    "    return results_df\n",
    "\n",
    "results = [run_dataset(data_name) for data_name in ['bike', 'bio', 'star', 'meps_21', 'concrete', 'community']]"
   ]
  },
  {
   "cell_type": "code",
   "execution_count": 121,
   "id": "accf600f-0bfc-40c3-a49f-3d51d6573e02",
   "metadata": {},
   "outputs": [
    {
     "name": "stdout",
     "output_type": "stream",
     "text": [
      "\\begin{tabular}{lrrrl}\n",
      "\\toprule\n",
      "Method & Marginal Coverage & Average Width & Conditional Calibration Error & dataset \\\\\n",
      "\\midrule\n",
      "Venn-Abers & 0.897388 & 103.410800 & 0.018918 & bike \\\\\n",
      "Marginal & 0.898648 & 138.976000 & 0.102084 & bike \\\\\n",
      "CQR & 0.900764 & 126.368000 & 0.021169 & bike \\\\\n",
      "Venn-Mondrian (5 bins) & 0.902116 & 98.627200 & 0.033142 & bike \\\\\n",
      "Venn-Mondrian (10 bins) & 0.901516 & 101.106000 & 0.021698 & bike \\\\\n",
      "Venn-Abers & 0.898268 & 14.199200 & 0.016939 & bio \\\\\n",
      "Marginal & 0.898972 & 14.870800 & 0.054065 & bio \\\\\n",
      "CQR & 0.900088 & 13.703200 & 0.016397 & bio \\\\\n",
      "Venn-Mondrian (5 bins) & 0.900652 & 14.147200 & 0.025688 & bio \\\\\n",
      "Venn-Mondrian (10 bins) & 0.900828 & 14.402000 & 0.020453 & bio \\\\\n",
      "Venn-Abers & 0.899732 & 783.756000 & 0.023447 & star \\\\\n",
      "Marginal & 0.899176 & 778.960000 & 0.019836 & star \\\\\n",
      "CQR & 0.901600 & 793.168000 & 0.020425 & star \\\\\n",
      "Venn-Mondrian (5 bins) & 0.894612 & 773.192000 & 0.022948 & star \\\\\n",
      "Venn-Mondrian (10 bins) & 0.890184 & 768.672000 & 0.026004 & star \\\\\n",
      "Venn-Abers & 0.898424 & 2.748360 & 0.017377 & meps_21 \\\\\n",
      "Marginal & 0.898856 & 2.863920 & 0.053583 & meps_21 \\\\\n",
      "CQR & 0.917564 & 2.481400 & 0.014974 & meps_21 \\\\\n",
      "Venn-Mondrian (5 bins) & 0.899768 & 2.735520 & 0.025745 & meps_21 \\\\\n",
      "Venn-Mondrian (10 bins) & 0.898992 & 2.747840 & 0.021210 & meps_21 \\\\\n",
      "Venn-Abers & 0.897984 & 16.415200 & 0.034375 & concrete \\\\\n",
      "Marginal & 0.896608 & 17.799600 & 0.054756 & concrete \\\\\n",
      "CQR & 0.901748 & 23.047200 & 0.032478 & concrete \\\\\n",
      "Venn-Mondrian (5 bins) & 0.887812 & 16.129600 & 0.041412 & concrete \\\\\n",
      "Venn-Mondrian (10 bins) & 0.876460 & 15.852000 & 0.046081 & concrete \\\\\n",
      "Venn-Abers & 0.898800 & 0.390892 & 0.028807 & community \\\\\n",
      "Marginal & 0.898956 & 0.459944 & 0.056806 & community \\\\\n",
      "CQR & 0.901944 & 0.352656 & 0.026691 & community \\\\\n",
      "Venn-Mondrian (5 bins) & 0.896664 & 0.382788 & 0.030285 & community \\\\\n",
      "Venn-Mondrian (10 bins) & 0.891212 & 0.378164 & 0.032473 & community \\\\\n",
      "\\bottomrule\n",
      "\\end{tabular}\n",
      "\n",
      "hi\n"
     ]
    }
   ],
   "source": [
    "datasets = ['bike', 'bio', 'star', 'meps_21', 'concrete', 'community']\n",
    "\n",
    "\n",
    "all_results = pd.concat(\n",
    "    [result.assign(dataset=data_name) for result, data_name in zip(results, datasets)],\n",
    "    ignore_index=True\n",
    ")\n",
    "\n",
    "latex_code = all_results.to_latex(index=False)\n",
    "\n",
    "# Print or save the LaTeX code\n",
    "print(latex_code)\n",
    "print(\"hi\")"
   ]
  },
  {
   "cell_type": "code",
   "execution_count": null,
   "id": "ce8b6b0d-62a2-4197-837f-7460212d309e",
   "metadata": {},
   "outputs": [],
   "source": []
  }
 ],
 "metadata": {
  "kernelspec": {
   "display_name": "Python (myenv2)",
   "language": "python",
   "name": "myenv2"
  },
  "language_info": {
   "codemirror_mode": {
    "name": "ipython",
    "version": 3
   },
   "file_extension": ".py",
   "mimetype": "text/x-python",
   "name": "python",
   "nbconvert_exporter": "python",
   "pygments_lexer": "ipython3",
   "version": "3.13.0"
  }
 },
 "nbformat": 4,
 "nbformat_minor": 5
}
